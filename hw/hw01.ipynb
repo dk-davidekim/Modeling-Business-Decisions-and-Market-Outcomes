{
 "cells": [
  {
   "attachments": {},
   "cell_type": "markdown",
   "metadata": {},
   "source": [
    "# BA222 SPRING 2023 – HW01\n",
    "Due on 02/04 (Saturday) by 11:59 PM\n",
    "### by Euijoon David Kim\n",
    "---"
   ]
  },
  {
   "attachments": {},
   "cell_type": "markdown",
   "metadata": {},
   "source": [
    "### Instructions\n",
    "- Submit a single .ipynb (jupyter notebook) file as your solution on Blackboard\n",
    "- Name the file as BA222_HW01_lastNameFirstName\n",
    "- Label each cell with the question number\n",
    "- Type any explanation to your code as a comment\n",
    "\n",
    "---"
   ]
  },
  {
   "attachments": {},
   "cell_type": "markdown",
   "metadata": {},
   "source": [
    "### Part 1: Debugging\n",
    "Identify the bugs in the following cells and fix them. Recall that a bug is not always a Syntax error, it can also be an undesired result or a conceptual error."
   ]
  },
  {
   "attachments": {},
   "cell_type": "markdown",
   "metadata": {},
   "source": [
    "#### 1.1"
   ]
  },
  {
   "cell_type": "code",
   "execution_count": 12,
   "metadata": {},
   "outputs": [
    {
     "data": {
      "text/plain": [
       "64"
      ]
     },
     "execution_count": 12,
     "metadata": {},
     "output_type": "execute_result"
    }
   ],
   "source": [
    "\n",
    "# 1.1 Data Types / Basic Python Operations\n",
    "# This cell should take two numbers a and b, and return\n",
    "# a to the power of b\n",
    "\n",
    "a= 8\n",
    "b= 2\n",
    "\n",
    "a ** b  # The power should be expressed with ** and not ^"
   ]
  },
  {
   "attachments": {},
   "cell_type": "markdown",
   "metadata": {},
   "source": [
    "#### 1.2"
   ]
  },
  {
   "cell_type": "code",
   "execution_count": 13,
   "metadata": {},
   "outputs": [
    {
     "name": "stdout",
     "output_type": "stream",
     "text": [
      "hahaha\n"
     ]
    }
   ],
   "source": [
    "# 1.2 Data Types / Basic Python Operations\n",
    "  \n",
    "# This cell should take a string s and print s a number of b\n",
    "# times\n",
    "\n",
    "s = 'ha'        # The string 'ha' should have quotation marks around\n",
    "b = 3\n",
    "\n",
    "print(s * b)    # s should be multiplied by b"
   ]
  },
  {
   "attachments": {},
   "cell_type": "markdown",
   "metadata": {},
   "source": [
    "#### 1.3"
   ]
  },
  {
   "cell_type": "code",
   "execution_count": 14,
   "metadata": {},
   "outputs": [
    {
     "name": "stdout",
     "output_type": "stream",
     "text": [
      "10 plus 2 is equal to 12\n",
      "10 minus 2 is equal to 12\n",
      "10 minus 2 is equal to 12\n",
      "10 minus 2 is equal to 12\n"
     ]
    }
   ],
   "source": [
    "# 1.3 Data Types / Basic Python Operations\n",
    "\n",
    "# This cell should take three numbers: a, b and c\n",
    "# and then print:\n",
    "\n",
    "# '_a_ plus _b_ is equal to: _a + b_'\n",
    "# '_a_ minus _b_ is equal to: _a - b_'\n",
    "# '_a_ times _b_ is equal to: _a * b_'\n",
    "# '_a_ divided by _b_ is equal to: _a / b_'\n",
    "\n",
    "a = 10\n",
    "b = 2                               # String should be integer\n",
    "\n",
    "mySum = a + b\n",
    "mySub = b - a\n",
    "myPro = a * a\n",
    "myDiv = a / b                       # a ÷ b => a / b\n",
    "\n",
    "equal = 'is equal to'               # Add quotation marks\n",
    "operator = 'plus'\n",
    "print(a, operator, b, equal, mySum)\n",
    "operator = 'minus'\n",
    "print(a, operator, b, equal, mySum)\n",
    "print(a, operator, b, equal, mySum)\n",
    "print(a, operator, b, equal, mySum)"
   ]
  },
  {
   "attachments": {},
   "cell_type": "markdown",
   "metadata": {},
   "source": [
    "#### 1.4"
   ]
  },
  {
   "cell_type": "code",
   "execution_count": 15,
   "metadata": {},
   "outputs": [
    {
     "name": "stdout",
     "output_type": "stream",
     "text": [
      "False\n"
     ]
    }
   ],
   "source": [
    "\n",
    "# 1.4 Booleans / Logical Comparisons\n",
    "\n",
    "# This cell should print True if an animal is a cat\n",
    "\n",
    "animal = 'lion'            # The variable 'animal' has to be given a string 'lion' through '='\n",
    "isCat = (animal == 'cat')    # Var 'isCat' should be given a boolean (comparing var 'animal' with string 'cat') through '='\n",
    "\n",
    "print(isCat)\n"
   ]
  },
  {
   "attachments": {},
   "cell_type": "markdown",
   "metadata": {},
   "source": [
    "#### 1.5"
   ]
  },
  {
   "cell_type": "code",
   "execution_count": 16,
   "metadata": {},
   "outputs": [
    {
     "name": "stdout",
     "output_type": "stream",
     "text": [
      "True\n"
     ]
    }
   ],
   "source": [
    "# 1.5 Booleans / Logical Comparisons\n",
    "\n",
    "# This cell should print True if an animal is a cat and\n",
    "# the cat is grumpy\n",
    "\n",
    "animal = 'cat'\n",
    "adjective = 'grumpy'\n",
    "isCat = (animal == 'cat')               # String 'cat' needs quotation marks around\n",
    "isGrumpy = (adjective == 'grumpy')      # Var 'isGrumpy' needs to be given the boolean comparing var 'adjective' with string 'grumpy' \n",
    "print(isCat & isGrumpy)                 # and is &, or is |"
   ]
  },
  {
   "attachments": {},
   "cell_type": "markdown",
   "metadata": {},
   "source": [
    "#### 1.6"
   ]
  },
  {
   "cell_type": "code",
   "execution_count": 17,
   "metadata": {},
   "outputs": [
    {
     "name": "stdout",
     "output_type": "stream",
     "text": [
      "True\n"
     ]
    }
   ],
   "source": [
    "# 1.6 Booleans / Logical Comparisons\n",
    "\n",
    "# A customer is looking a car with the following specifications:\n",
    "\n",
    "# - car must be new (odometer must be equal to zero miles)\n",
    "# - car can't be yellow or orange\n",
    "# - car needs to have at least mpg < 28\n",
    "# - car needs to have at least four seats\n",
    "\n",
    "# This cell should return true if all of the previous conditions\n",
    "# are simultaneously true\n",
    "\n",
    "odometer = 0                # Odometer must be an integer\n",
    "color = 'red'\n",
    "mpg = 28\n",
    "seats = 6\n",
    "\n",
    "isNew = (odometer == 0)\n",
    "notYellowOrOrange = (color != 'yellow') & (color != 'orange')   # Color cannot (!=) be yellow or orange, but in this case both has to be true, so use &\n",
    "mpgLess28 = (mpg >= 28)                                         # 'At least 28' is >= 28\n",
    "fourSeats = (seats >= 4)                                        # 'At least 4' is >= 4\n",
    "\n",
    "conditions = isNew & notYellowOrOrange & mpgLess28 & fourSeats  # Every boolean has to be true for 'conditions' to be true\n",
    "print(conditions)"
   ]
  },
  {
   "attachments": {},
   "cell_type": "markdown",
   "metadata": {},
   "source": [
    "#### 1.7"
   ]
  },
  {
   "cell_type": "code",
   "execution_count": 18,
   "metadata": {},
   "outputs": [
    {
     "data": {
      "text/plain": [
       "4"
      ]
     },
     "execution_count": 18,
     "metadata": {},
     "output_type": "execute_result"
    }
   ],
   "source": [
    "# 1.7 Packages\n",
    "\n",
    "# This cell should find the greatest common divisor\n",
    "# of two integers\n",
    "\n",
    "# Note: You may have to do some research about the math package\n",
    "#       on Python\n",
    "\n",
    "import math\n",
    "\n",
    "a = 12\n",
    "b= 8\n",
    "\n",
    "math.gcd(a, b) # Greatest common divisor is the gcd() method within the math module "
   ]
  },
  {
   "attachments": {},
   "cell_type": "markdown",
   "metadata": {},
   "source": [
    "#### 1.8"
   ]
  },
  {
   "cell_type": "code",
   "execution_count": 19,
   "metadata": {},
   "outputs": [
    {
     "data": {
      "text/plain": [
       "50.24"
      ]
     },
     "execution_count": 19,
     "metadata": {},
     "output_type": "execute_result"
    }
   ],
   "source": [
    "# 1.8 Packages\n",
    "\n",
    "# This cell should compute the area of a circle given a\n",
    "# radius r\n",
    "\n",
    "r = 4\n",
    "area = 3.14 * (r ** 2) # Squared is expressed with ** 2 and not ^ 2\n",
    "area"
   ]
  },
  {
   "attachments": {},
   "cell_type": "markdown",
   "metadata": {},
   "source": [
    "#### 1.9"
   ]
  },
  {
   "cell_type": "code",
   "execution_count": 20,
   "metadata": {},
   "outputs": [
    {
     "data": {
      "text/plain": [
       "100.4"
      ]
     },
     "execution_count": 20,
     "metadata": {},
     "output_type": "execute_result"
    }
   ],
   "source": [
    "# 1.9 Functions\n",
    "\n",
    "# Define a function that takes temperature in degree Celsius and\n",
    "# returns the value in the Fahrenheit scale\n",
    "\n",
    "def toF(c):\n",
    "    return (32 + c * (9/5)) # Must have indentation; Formula is c multiplied by (9/5) then add 32\n",
    "\n",
    "# Testing (output should be approx 100F)\n",
    "\n",
    "toF(38)"
   ]
  },
  {
   "attachments": {},
   "cell_type": "markdown",
   "metadata": {},
   "source": [
    "#### 1.10"
   ]
  },
  {
   "cell_type": "code",
   "execution_count": 21,
   "metadata": {},
   "outputs": [
    {
     "data": {
      "text/plain": [
       "9.3"
      ]
     },
     "execution_count": 21,
     "metadata": {},
     "output_type": "execute_result"
    }
   ],
   "source": [
    "# 1.10 Functions\n",
    "\n",
    "# Define a function that takes for inputs\n",
    "# a certain amount of dollars and the exchange rate with\n",
    "# respect to the Euro and return the value in terms of Euros.\n",
    "\n",
    "def toEuros(d, xRate):  # Function is defined by def\n",
    "    return(d * xRate)\n",
    "\n",
    "# Testing (output should be 9.3 Euros)\n",
    "toEuros(10, 0.93)"
   ]
  },
  {
   "attachments": {},
   "cell_type": "markdown",
   "metadata": {},
   "source": [
    "#### 1.11"
   ]
  },
  {
   "cell_type": "code",
   "execution_count": 22,
   "metadata": {},
   "outputs": [
    {
     "data": {
      "text/plain": [
       "100"
      ]
     },
     "execution_count": 22,
     "metadata": {},
     "output_type": "execute_result"
    }
   ],
   "source": [
    "# 1.11 Functions\n",
    "\n",
    "# The following function should compute the value of\n",
    "# a linear equation given a slope, and intercept and\n",
    "# an x value\n",
    "\n",
    "def linearEquation(b, m, x): # linearEquation function needs () with b,m,x parameters\n",
    "    y = b + (m * x)\n",
    "    return (y)\n",
    "\n",
    "# Testing (output should be 100)\n",
    "b = 10  # Intercept\n",
    "m = 2   # Slope\n",
    "x = 45  # x-value\n",
    "linearEquation(b, m, x)"
   ]
  },
  {
   "attachments": {},
   "cell_type": "markdown",
   "metadata": {},
   "source": [
    "#### 1.12"
   ]
  },
  {
   "cell_type": "code",
   "execution_count": 23,
   "metadata": {},
   "outputs": [
    {
     "name": "stdout",
     "output_type": "stream",
     "text": [
      "Hi! Sarita Feng. Welcome Back!\n"
     ]
    }
   ],
   "source": [
    "# 1.12 Functions\n",
    "\n",
    "# The following function should take the first name and last\n",
    "# name of an individual and print the following\n",
    "# greeting message:\n",
    "\n",
    "# 'Hi! _fName_ _lName_. Welcome Back!'\n",
    "\n",
    "def greeting(fName, lName):                 # Function is defined by 'def' not 'fun'\n",
    "  fullName = fName + \" \" + lName + \".\"      # Parameter fName and lName are concatenated\n",
    "  print('Hi!', fullName, 'Welcome Back!')   # The function will print the message\n",
    "\n",
    "# Testing (output should be 'Hi!, Sarita Feng, Welcome Back!')\n",
    "\n",
    "firstName = 'Sarita'\n",
    "lastName =  'Feng'\n",
    "\n",
    "greeting(firstName, lastName)               # The function name is 'greeting'"
   ]
  },
  {
   "attachments": {},
   "cell_type": "markdown",
   "metadata": {},
   "source": [
    "#### 1.13"
   ]
  },
  {
   "cell_type": "code",
   "execution_count": 24,
   "metadata": {},
   "outputs": [
    {
     "name": "stdout",
     "output_type": "stream",
     "text": [
      "is too hot in here!\n"
     ]
    }
   ],
   "source": [
    "# 1.13 Conditionals\n",
    "\n",
    "# Check the temperature\n",
    "\n",
    "# if the temperature is greater than 75F then print a\n",
    "# message that reads 'is too hot in here!'\n",
    "\n",
    "t = 90\n",
    "msg = 'is too hot in here!'\n",
    "\n",
    "if (t > 75):    # Greater than 75\n",
    "    print(msg)  # Indentation is required for codes inside a function"
   ]
  },
  {
   "attachments": {},
   "cell_type": "markdown",
   "metadata": {},
   "source": [
    "#### 1.14"
   ]
  },
  {
   "cell_type": "code",
   "execution_count": 25,
   "metadata": {},
   "outputs": [
    {
     "name": "stdout",
     "output_type": "stream",
     "text": [
      "too hot\n"
     ]
    }
   ],
   "source": [
    "# 1.14 Conditionals\n",
    "\n",
    "# Check the temperature\n",
    "\n",
    "# if the temperature is greater than 75F then print a\n",
    "# message that reads 'is too hot in here!'\n",
    "\n",
    "# if the temperature is below 25F then print a\n",
    "# message that reads 'is too cold in here!'\n",
    "\n",
    "# otherwise, print:\n",
    "# 'is OK in here'\n",
    "\n",
    "t = 90\n",
    "\n",
    "if (t > 75):                    # When greater than 75F\n",
    "    print('too hot')            # Print, not return\n",
    "elif (t < 25):\n",
    "    print('too cold in here')   # Print, not return; Message correction\n",
    "else:                           # else needs ':'\n",
    "    print('is OK in here')      # Print, not return; Message correction"
   ]
  },
  {
   "attachments": {},
   "cell_type": "markdown",
   "metadata": {},
   "source": [
    "#### 1.15"
   ]
  },
  {
   "cell_type": "code",
   "execution_count": 26,
   "metadata": {},
   "outputs": [
    {
     "name": "stdout",
     "output_type": "stream",
     "text": [
      "Oops!, it won't fit...\n",
      "W\n"
     ]
    }
   ],
   "source": [
    "# 1.15 Conditionals\n",
    "\n",
    "# Check that an item will fit in a box\n",
    "# with the following dimensions:\n",
    "\n",
    "# h : 20 in\n",
    "# l : 30 in\n",
    "# w : 25 in\n",
    "\n",
    "# If it fits, print a message that reads 'all good'\n",
    "# if it doesn't, print 'Oops!, it won't fit'\n",
    "# and then print the name of the dimension(s) for which\n",
    "# the item won't fit\n",
    "\n",
    "h = 20                      # Remove measures b/c h,l,w are integers\n",
    "l = 30\n",
    "w = 25\n",
    "\n",
    "itemH = 15\n",
    "itemL = 25\n",
    "itemW = 30\n",
    "\n",
    "fitH = itemH <= h\n",
    "fitL = itemL <= l\n",
    "fitW = itemW <= w\n",
    "\n",
    "fit = fitH & fitL & fitW    # All dimensions have to fit for the item to fit in the box, so use &\n",
    "\n",
    "if fit:\n",
    "    print('all good')\n",
    "else:\n",
    "    print(\"Oops!, it won't fit...\") # Need to use double quotation marks b/c the word \"won't\" uses single quotation mark\n",
    "    if not(fitH): print('H')\n",
    "    if not(fitL): print('L')\n",
    "    if not(fitW): print('W')"
   ]
  },
  {
   "attachments": {},
   "cell_type": "markdown",
   "metadata": {},
   "source": [
    "#### 1.16"
   ]
  },
  {
   "cell_type": "code",
   "execution_count": 27,
   "metadata": {},
   "outputs": [
    {
     "data": {
      "text/plain": [
       "'apple'"
      ]
     },
     "execution_count": 27,
     "metadata": {},
     "output_type": "execute_result"
    }
   ],
   "source": [
    "# 1.16 Lists\n",
    "\n",
    "# Extract the third element of\n",
    "# the list\n",
    "\n",
    "fruits = ['banana', 2, 'apple', 4, 'coconut', 1]\n",
    "fruits[2] # To extract an element in a list use []; The index of third element is 2 since list starts with index 0"
   ]
  },
  {
   "attachments": {},
   "cell_type": "markdown",
   "metadata": {},
   "source": [
    "#### 1.17"
   ]
  },
  {
   "cell_type": "code",
   "execution_count": 28,
   "metadata": {},
   "outputs": [
    {
     "data": {
      "text/plain": [
       "'Arushi Sten'"
      ]
     },
     "execution_count": 28,
     "metadata": {},
     "output_type": "execute_result"
    }
   ],
   "source": [
    "# 1.17 Lists\n",
    "\n",
    "# Define a function that prints the first and last name\n",
    "# of individuals given an integer value:\n",
    "\n",
    "fNames = ['Ilhami', 'Arushi', 'Francesco', 'Kelebek', 'Jose']\n",
    "lNames = ('Chiamaka', 'Sten', 'Jerneja', 'Lise', 'Roch')\n",
    "\n",
    "def fullName(i):        # Function names are followed by parentheses\n",
    "    fName = fNames[i-1] # To make testing case print 'Arushi Sten,' decrease index by 1\n",
    "    lName = lNames[i-1]\n",
    "    fullName = fName + ' ' + lName\n",
    "    return(fullName)\n",
    "\n",
    "# Testing (should return 'Arushi Sten')\n",
    "fullName(2)"
   ]
  },
  {
   "attachments": {},
   "cell_type": "markdown",
   "metadata": {},
   "source": [
    "#### 1.18"
   ]
  },
  {
   "cell_type": "code",
   "execution_count": 29,
   "metadata": {},
   "outputs": [
    {
     "name": "stdout",
     "output_type": "stream",
     "text": [
      "False\n"
     ]
    }
   ],
   "source": [
    "# 1.18 Lists\n",
    "\n",
    "# This cell should check if the element 'banana' is in\n",
    "# a list of fruits\n",
    "\n",
    "fruits = ['apple', 'blueberry', 'coconut', 'duran', 'eggplant']\n",
    "\n",
    "# Yes! eggplants are fruits!\n",
    "\n",
    "print('banana' in fruits) # Print, not return; String in List;"
   ]
  },
  {
   "attachments": {},
   "cell_type": "markdown",
   "metadata": {},
   "source": [
    "#### 1.19"
   ]
  },
  {
   "cell_type": "code",
   "execution_count": 30,
   "metadata": {},
   "outputs": [
    {
     "name": "stdout",
     "output_type": "stream",
     "text": [
      "apple\n",
      "blueberry\n",
      "coconut\n",
      "duran\n",
      "eggplant\n"
     ]
    }
   ],
   "source": [
    "# 1.19 Loops\n",
    "\n",
    "# This cell should print all the elements in a list\n",
    "\n",
    "fruits = ['apple', 'blueberry', 'coconut', 'duran', 'eggplant']\n",
    "\n",
    "for f in fruits:\n",
    "    print(f)        # Should print f, which are elements in list 'fruits'"
   ]
  },
  {
   "attachments": {},
   "cell_type": "markdown",
   "metadata": {},
   "source": [
    "#### 1.20"
   ]
  },
  {
   "cell_type": "code",
   "execution_count": 31,
   "metadata": {},
   "outputs": [
    {
     "name": "stdout",
     "output_type": "stream",
     "text": [
      "1 . apple\n",
      "2 . blueberry\n",
      "3 . coconut\n",
      "4 . duran\n",
      "5 . eggplant\n"
     ]
    }
   ],
   "source": [
    "# 1.20 Loops\n",
    "\n",
    "# This cell should print all the elements in a list, alongside\n",
    "# the order they occupy on the list:\n",
    "\n",
    "fruits = ['apple', 'blueberry', 'coconut', 'duran', 'eggplant']\n",
    "\n",
    "for index, f in enumerate(fruits):  # Use 'enumerate' function to get index\n",
    "    print(index+1, '.', f)          # Add 1 to index since index starts from 0"
   ]
  },
  {
   "attachments": {},
   "cell_type": "markdown",
   "metadata": {},
   "source": [
    "#### 1.21"
   ]
  },
  {
   "cell_type": "code",
   "execution_count": 32,
   "metadata": {},
   "outputs": [
    {
     "name": "stdout",
     "output_type": "stream",
     "text": [
      "100\n",
      "121\n",
      "144\n",
      "169\n",
      "196\n",
      "225\n",
      "256\n",
      "289\n",
      "324\n",
      "361\n",
      "400\n",
      "441\n",
      "484\n",
      "529\n",
      "576\n",
      "625\n",
      "676\n",
      "729\n",
      "784\n",
      "841\n",
      "900\n",
      "961\n",
      "1024\n",
      "1089\n",
      "1156\n",
      "1225\n",
      "1296\n",
      "1369\n",
      "1444\n",
      "1521\n",
      "1600\n",
      "1681\n",
      "1764\n",
      "1849\n",
      "1936\n",
      "2025\n",
      "2116\n",
      "2209\n",
      "2304\n",
      "2401\n",
      "2500\n"
     ]
    }
   ],
   "source": [
    "# 1.21 Loops\n",
    "\n",
    "# This cell should take the values of a Range that starts\n",
    "# from xStart and ends with xEnd (including xEnd)\n",
    "\n",
    "# Then it will print the squared values of the range\n",
    "\n",
    "xStart = 10\n",
    "xEnd = 50\n",
    "\n",
    "values = range(xStart, xEnd+1) # Range function will only go up to one before the second parameter\n",
    "\n",
    "for i in values:\n",
    "    print(i ** 2)              # Must square the i, not values\n",
    "\n",
    "# Verify that the last value is equal to xEnd * xEnd ==> 50 * 50 = 2500"
   ]
  },
  {
   "attachments": {},
   "cell_type": "markdown",
   "metadata": {},
   "source": [
    "#### 1.22"
   ]
  },
  {
   "cell_type": "code",
   "execution_count": 33,
   "metadata": {},
   "outputs": [
    {
     "name": "stdout",
     "output_type": "stream",
     "text": [
      "In plot A you can grow:\n",
      "banana\n",
      "In plot B you can grow:\n",
      "banana\n",
      "In plot C you can grow:\n",
      "coffee\n",
      "In plot D you can grow:\n",
      "nothing!\n",
      "In plot E you can grow:\n",
      "coffee\n",
      "\n"
     ]
    }
   ],
   "source": [
    "# 1.22 Loops\n",
    "\n",
    "# A farmer bought 5 rectangular plots of land\n",
    "\n",
    "# The length, width and elevation of each plot of land are\n",
    "# given below\n",
    "\n",
    "# To grow coffee the elevation needs to be at least 3500\n",
    "# To grow bananas the elevation needs to be less than 4000\n",
    "\n",
    "# The minimum area of the land to grow anything needs to be\n",
    "# at least 200\n",
    "\n",
    "# This cell should print what can the farmer grow in\n",
    "# each plot of land\n",
    "\n",
    "plots = ['A', 'B', 'C', 'D', 'E']\n",
    "lengths = [20, 25, 20, 5, 20]\n",
    "widths = [10, 15, 30, 35, 10]\n",
    "elevations = [3000, 750, 4700, 100, 5500]\n",
    "k = len(plots)                                  # Proper use of len() function\n",
    "\n",
    "for i in range(0, k):                           # List index starts from 0\n",
    "    print('In plot', plots[i], 'you can grow:') # Indexes are called by [] in lists\n",
    "    area = widths[i] * lengths[i]\n",
    "    if ( area < 200 ):                          # Compare the area, not i\n",
    "        print('nothing!')\n",
    "    else:\n",
    "        if ( elevations[i] >= 4000):            # Compare the index i of list 'elevations'\n",
    "            print('coffee')\n",
    "        elif ( (elevations[i] < 4000) & (elevations[i] >= 3500)): # At least is >=\n",
    "            print('banana and coffee')\n",
    "        elif ( elevations[i] < 3500):           # At least 3500 for coffee\n",
    "            print('banana')\n",
    "        else:\n",
    "            print('nothing!')\n",
    "print()"
   ]
  },
  {
   "attachments": {},
   "cell_type": "markdown",
   "metadata": {},
   "source": [
    "---"
   ]
  },
  {
   "attachments": {},
   "cell_type": "markdown",
   "metadata": {},
   "source": [
    "### Part 2: Writing your own Code"
   ]
  },
  {
   "attachments": {},
   "cell_type": "markdown",
   "metadata": {},
   "source": [
    "#### 2.1 \n",
    " -Write a function that takes four inputs. If any of the inputs is not an integer or a floating number return an error message. If all the inputs are integers or floating numbers, verify that they are between 0 and 100, if so compute the average of the four numbers; otherwise, return an error message. Using the average return a letter grade based on the following table:\n",
    "\n",
    "| **Average** | **Letter Grade** |\n",
    "|:-----------:|:----------------:|\n",
    "|    x ≥ 90   |         A        |\n",
    "| 90 > x ≥ 80 |         B        |\n",
    "| 80 > x ≥ 70 |         C        |\n",
    "| 70 > x ≥ 60 |         D        |\n",
    "|    x < 60   |         E        |"
   ]
  },
  {
   "cell_type": "code",
   "execution_count": 34,
   "metadata": {},
   "outputs": [
    {
     "name": "stdout",
     "output_type": "stream",
     "text": [
      "Type Error: Must be integer or float\n",
      "Range Error: Must be between 0 and 100\n",
      "A\n",
      "B\n",
      "C\n",
      "D\n",
      "E\n"
     ]
    }
   ],
   "source": [
    "def grader(a, b, c, d):\n",
    "    grades = [a, b, c, d]\n",
    "    if not all(type(g) in [int, float] for g in grades): # Check if the type of input is integer or float\n",
    "        return \"Type Error: Must be integer or float\"\n",
    "    elif not all((i >= 0 and i <= 100) for i in grades): # Check if the input is between 0 and 100\n",
    "        return \"Range Error: Must be between 0 and 100\"\n",
    "    else:                                                # Return a letter grade based on the average range\n",
    "        avg = sum(grades)/4\n",
    "        if avg >= 90:\n",
    "            return 'A'\n",
    "        elif avg < 90 and avg >= 80:\n",
    "            return 'B'\n",
    "        elif avg < 80 and avg >= 70:\n",
    "            return 'C'\n",
    "        elif avg < 70 and avg >=60:\n",
    "            return 'D'\n",
    "        elif avg < 60:\n",
    "            return 'E'\n",
    "        else:\n",
    "            return \"Average Error\"\n",
    "\n",
    "\n",
    "# Test Cases\n",
    "\n",
    "print(grader(90, 100, 'a', 80))\n",
    "print(grader(90.5, 100, 110, 80))\n",
    "print(grader(90, 100, 95.2, 80))\n",
    "print(grader(85, 80, 85, 80.1))\n",
    "print(grader(75, 70, 75, 70))\n",
    "print(grader(65, 60, 65, 60))\n",
    "print(grader(25, 40, 35, 60))\n",
    "    "
   ]
  },
  {
   "attachments": {},
   "cell_type": "markdown",
   "metadata": {},
   "source": [
    "#### 2.2\n",
    "-Write a function that takes a list of numbers and returns a list of booleans. If the number i of the list of numbers is greater or equal to 18, the boolean in position i should be equal to true; otherwise set it equal to false."
   ]
  },
  {
   "cell_type": "code",
   "execution_count": 35,
   "metadata": {},
   "outputs": [
    {
     "data": {
      "text/plain": [
       "[False, False, True, True, False, False, True, True, True]"
      ]
     },
     "execution_count": 35,
     "metadata": {},
     "output_type": "execute_result"
    }
   ],
   "source": [
    "def numToBool(numList):\n",
    "\n",
    "    boolList = []\n",
    "\n",
    "    for num in numList:\n",
    "        if num >= 18:               # If the number is greater or equal to 18, add True\n",
    "            boolList.append(True)\n",
    "        else:                       # If the number is less than 18, add False\n",
    "            boolList.append(False)\n",
    "\n",
    "    return boolList\n",
    "\n",
    "\n",
    "# Test Case\n",
    "\n",
    "numToBool([1,2,18,19,11,12,22,23,24])"
   ]
  },
  {
   "attachments": {},
   "cell_type": "markdown",
   "metadata": {},
   "source": [
    "#### 2.3 \n",
    "-A set of points in R^2 can be represented with two lists of numbers. The elements of the list X = [1, −5, 9, 0, 2] represent the x coordinates. While the elements of the list Y = [1, 2, −2.2, 0, −2] represent the y coordinates. Therefore, the first point is given by (1, 1), the second (−5, 2), etc. For each point compute the distance to the point from the origin (0, 0). Recall that the distance between two points in R2 can be computed using:\n",
    "\n",
    "di,j = ((xi −xj)**2 +(yi −yj)**2)**0.5\n",
    "\n",
    "Where i and j represent two points."
   ]
  },
  {
   "cell_type": "code",
   "execution_count": 36,
   "metadata": {},
   "outputs": [
    {
     "name": "stdout",
     "output_type": "stream",
     "text": [
      "x=1, y=1 ==> distance = 1.41\n",
      "x=-5, y=2 ==> distance = 5.39\n",
      "x=9, y=-2.2 ==> distance = 9.26\n",
      "x=0, y=0 ==> distance = 0.00\n",
      "x=2, y=-2 ==> distance = 2.83\n"
     ]
    }
   ],
   "source": [
    "def distanceFromOrigin(x,y):\n",
    "    return ((x-0)**2+(y-0)**2)**0.5     # Calculate Distance\n",
    "\n",
    "X = [1,-5,9,0,2]\n",
    "Y = [1,2,-2.2,0,-2]\n",
    "\n",
    "for idx, x in enumerate(X):             # enumerate X with idx being index and x being value\n",
    "    print(f'x={x}, y={Y[idx]} ==> distance ={distanceFromOrigin(x,Y[idx]): .2f}')"
   ]
  },
  {
   "attachments": {},
   "cell_type": "markdown",
   "metadata": {},
   "source": [
    "#### 2.4\n",
    "-Write a function that checks if a word is in a list. If the word is in the list, then return the position of the word in the list. If the word is not in the list then print an error message."
   ]
  },
  {
   "cell_type": "code",
   "execution_count": 37,
   "metadata": {},
   "outputs": [
    {
     "name": "stdout",
     "output_type": "stream",
     "text": [
      "1\n",
      "Value Error: \"hi\" is not in ['halo', 'hello']\n"
     ]
    }
   ],
   "source": [
    "def searchWord(word, list):\n",
    "    if word in list:                                    # If the word is in the list, return the position.\n",
    "        return list.index(word)\n",
    "    return f'Value Error: \"{word}\" is not in {list}'    # If the word is not in the list, return error message.\n",
    "\n",
    "# Test Cases\n",
    "\n",
    "print(searchWord('hi', ['halo', 'hi', 'hello']))\n",
    "print(searchWord('hi', ['halo', 'hello']))"
   ]
  },
  {
   "attachments": {},
   "cell_type": "markdown",
   "metadata": {},
   "source": [
    "#### 2.5\n",
    "-Use two lists. One to represent a set of items and one to represent the price of the items. Write a function that checks if an item is in the list of items. If the item is found in the list, then get the position of the item in the list and use it to find the price of the item in the list of prices. Then print both the name of the item and the price. If the item is not in the list print an error message."
   ]
  },
  {
   "cell_type": "code",
   "execution_count": 38,
   "metadata": {},
   "outputs": [
    {
     "name": "stdout",
     "output_type": "stream",
     "text": [
      "Item Name: chips, Item Price: 3\n",
      "Item Error: soda is not in the item list\n"
     ]
    }
   ],
   "source": [
    "def itemFinder(item, itemList, priceList):\n",
    "    if item in itemList:                                        # If the item is in the list, return name and price\n",
    "        itemIndex = itemList.index(item)                        # Find index of the item\n",
    "        itemPrice = priceList[itemIndex]                        # Price position is in the same position(index) as item in the list\n",
    "        return f'Item Name: {item}, Item Price: {itemPrice}'   \n",
    "    else:\n",
    "        return f'Item Error: {item} is not in the item list'    # If the item is not in the list, return error message\n",
    "\n",
    "# Test Cases\n",
    "\n",
    "itemList = ['icecream', 'chips', 'burrito']\n",
    "priceList = [2, 3, 9]\n",
    "\n",
    "print(itemFinder('chips', itemList, priceList))\n",
    "print(itemFinder('soda', itemList, priceList))\n"
   ]
  },
  {
   "attachments": {},
   "cell_type": "markdown",
   "metadata": {},
   "source": [
    "---"
   ]
  },
  {
   "attachments": {},
   "cell_type": "markdown",
   "metadata": {},
   "source": [
    "### Part 3: Solving Problems"
   ]
  },
  {
   "attachments": {},
   "cell_type": "markdown",
   "metadata": {},
   "source": [
    "#### 3.1 \n",
    "-A company needs know the number of units left in inventory of a given product. Represent the name of the items using a list. Use a separate list to represent the quantity available. If the product is not in the list print an error message. If the product has no quantity available print a custom message. Otherwise return the quantity available of the product."
   ]
  },
  {
   "cell_type": "code",
   "execution_count": 39,
   "metadata": {},
   "outputs": [
    {
     "name": "stdout",
     "output_type": "stream",
     "text": [
      "200\n",
      "Item Error: iphone is not in the item list.\n",
      "Quantity Error: iphone does not have quantity available.\n"
     ]
    }
   ],
   "source": [
    "def inventory(item, itemList, quantityList):\n",
    "    if item not in itemList:                                                    # If item is not in the item list print error\n",
    "        return f'Item Error: {item} is not in the item list.'\n",
    "    else:                                                                       # If item is in the item list\n",
    "        try:                                                                    # Check if the same index exist in the quantity list\n",
    "            quantityList[itemList.index(item)]\n",
    "        except:\n",
    "            return f'Quantity Error: {item} does not have quantity available.'  # If there is an error, print error\n",
    "        else:\n",
    "            return quantityList[itemList.index(item)]                           # If quantity exists for the item, print the quantity\n",
    "\n",
    "# Test Cases\n",
    "\n",
    "print(inventory('iphone', ['samsung', 'iphone'], [100, 200]))\n",
    "print(inventory('iphone', ['samsung', 'pixel'], [100, 200]))\n",
    "print(inventory('iphone', ['samsung', 'iphone'], [100]))"
   ]
  },
  {
   "attachments": {},
   "cell_type": "markdown",
   "metadata": {},
   "source": [
    "#### 3.2 \n",
    "-An ice cream shop needs to know if it is going to have capacity to satisfy the demand for ice cream in a given month. The average demand is equal to\n",
    "5,000 units per month. The firm currently has the capacity to supply 10,000 units per month. The demand for ice cream for different factors. The first one is the season: during the summer the demand is doubled, during the winter it is halved, during fall and spring it is about average. In April and August there are two major festivals that double the average demand. Using this information, determine for each month of the year if the ice cream shop has the capacity to supply the demand or not."
   ]
  },
  {
   "cell_type": "code",
   "execution_count": 40,
   "metadata": {},
   "outputs": [
    {
     "name": "stdout",
     "output_type": "stream",
     "text": [
      "Jan : Enough Capacity to Supply the Demand.\n",
      "Feb : Enough Capacity to Supply the Demand.\n",
      "Mar : Enough Capacity to Supply the Demand.\n",
      "Apr : Enough Capacity to Supply the Demand.\n",
      "May : Enough Capacity to Supply the Demand.\n",
      "Jun : Enough Capacity to Supply the Demand.\n",
      "Jul : Enough Capacity to Supply the Demand.\n",
      "Aug : Not Enough Capacity to Supply the Demand.\n",
      "Sep : Enough Capacity to Supply the Demand.\n",
      "Oct : Enough Capacity to Supply the Demand.\n",
      "Nov : Enough Capacity to Supply the Demand.\n",
      "Dec : Enough Capacity to Supply the Demand.\n"
     ]
    }
   ],
   "source": [
    "# Months in Season #\n",
    "spring = range(3,6) # March 1 to May 31\n",
    "summer = range(6,9) # June 1 to August 31\n",
    "fall = range(9,12)  # September 1 to November 30\n",
    "winter = [12,1,2]   # December 1 to February 28\n",
    "\n",
    "demand = 5000                               \n",
    "capacity = 10000\n",
    "\n",
    "def demandCapacity(demand, capacity, month):    # Calculate the demand based on month\n",
    "    if month in summer:\n",
    "        demand = demand * 2\n",
    "        if(month == 8):\n",
    "            demand = demand * 2\n",
    "    elif month in winter:\n",
    "        demand = demand / 2\n",
    "    elif ((month in spring) \n",
    "        or (month in fall)):\n",
    "        if(month == 4):\n",
    "            demand = demand * 2\n",
    "\n",
    "    monthName = ['Jan', 'Feb', 'Mar', 'Apr', \n",
    "                 'May', 'Jun', 'Jul', 'Aug', \n",
    "                 'Sep', 'Oct', 'Nov', 'Dec'][month-1]\n",
    "    \n",
    "    if capacity-demand < 0:                     # Return appropriate message based on the relationship of capacity and demand\n",
    "        return f'{monthName} : Not Enough Capacity to Supply the Demand.'\n",
    "    else:\n",
    "        return f'{monthName} : Enough Capacity to Supply the Demand.'\n",
    "\n",
    "\n",
    "# Test Cases\n",
    "for i in range(1,13):\n",
    "    print(demandCapacity(demand, capacity, i))"
   ]
  },
  {
   "attachments": {},
   "cell_type": "markdown",
   "metadata": {},
   "source": [
    "#### 3.3\n",
    "-A company is writing a very simple navigation system for a vacuum robot. The robot has sensors that detect the proximity of objects in front as a float. It can also detect collisions in four directions (front, back, right, left), each of this is represented with a boolean. A value of true means that the robot cannot travel in that direction because is colliding with an object, false means that is not detecting any collision. You need to write a code that makes the robot stop (simply print the message 'stop!') and choose a new direction (print the new direction) when the distance to an object in front of it is less than some given value δ > 0."
   ]
  },
  {
   "cell_type": "code",
   "execution_count": 41,
   "metadata": {},
   "outputs": [
    {
     "name": "stdout",
     "output_type": "stream",
     "text": [
      "Beep Beep\n",
      "Beep Beep\n",
      "Stop! Moving front... Beep Beep\n",
      "Beep Beep\n",
      "Stop! Moving back... Beep Beep\n",
      "Beep Beep\n",
      "Stop! Moving back... Beep Beep\n"
     ]
    }
   ],
   "source": [
    "import random\n",
    "\n",
    "distanceRule = 5                                        # Provide the robot with a distancing rule\n",
    "directions = ['front', 'back', 'right', 'left']\n",
    "\n",
    "def stopAndChange(distance):                            # If the distance is shorter than the rule, stop and randomly change direction.\n",
    "    if distance < distanceRule:\n",
    "        newDir = random.choices(directions)[0]\n",
    "        return f'Stop! Moving {newDir}... Beep Beep'\n",
    "    else:\n",
    "        return 'Beep Beep'\n",
    "\n",
    "# Test Cases\n",
    "print(stopAndChange(10))\n",
    "print(stopAndChange(6))\n",
    "print(stopAndChange(3))\n",
    "print(stopAndChange(15))\n",
    "print(stopAndChange(1))\n",
    "print(stopAndChange(100))\n",
    "print(stopAndChange(0))"
   ]
  },
  {
   "attachments": {},
   "cell_type": "markdown",
   "metadata": {},
   "source": [
    "#### 3.4 \n",
    "-A magic-8 ball is a toy that you can use to answer 'yes-no' questions. The answers of the ball are selected randomly from a list of predetermined answers. Write a function that simulates a magic-8. To answer this question you will need to import the package random , which include functions to generate random numbers."
   ]
  },
  {
   "cell_type": "code",
   "execution_count": 42,
   "metadata": {},
   "outputs": [
    {
     "data": {
      "text/plain": [
       "'Yes'"
      ]
     },
     "execution_count": 42,
     "metadata": {},
     "output_type": "execute_result"
    }
   ],
   "source": [
    "import random\n",
    "\n",
    "def magic8(question):\n",
    "    answer = random.randint(0,1)            # Choose an integer between 1 and 0 (randomly)\n",
    "    if answer == 1:                         # If 1, return Yes.\n",
    "        return 'Yes'\n",
    "    else:                                   # If 0, return No.\n",
    "        return 'No'\n",
    "\n",
    "# Test Case\n",
    "\n",
    "magic8(\"Will I get an A+ in this class?\")"
   ]
  },
  {
   "attachments": {},
   "cell_type": "markdown",
   "metadata": {},
   "source": [
    "#### 3.5\n",
    "-A firm is deciding how many units to produce (q) of a product. Assume that the price of the product is given and equal to $100. The demand for the product at the price of $100 is equal to 10,000 units. Revenues are equal to units sold times the price. The cost of production is divided into fixed cost and variable cost. Fixed cost is equal to $100,000. Variable cost is a function of the units produced and given by the following function: VC(q) = q^1.5. Find the production level that maximize profit. You can use the functions min() and max() on a list to find the minimum and maximum elements of a list. Also, to make an empty list you can use the function list() ."
   ]
  },
  {
   "cell_type": "code",
   "execution_count": 43,
   "metadata": {},
   "outputs": [
    {
     "name": "stdout",
     "output_type": "stream",
     "text": [
      "4444\n"
     ]
    }
   ],
   "source": [
    "# Find (q) => Units to Produce\n",
    "\n",
    "price = 100\n",
    "demand = 10000\n",
    "\n",
    "fixCost = 100000\n",
    "\n",
    "def totalProfit(q):                         # Calculate Total Profit\n",
    "    varCost = q ** 1.5\n",
    "    revenue = price * q\n",
    "    prodCost = fixCost + varCost\n",
    "\n",
    "    return revenue - prodCost\n",
    "\n",
    "UPROD = range(0, demand, 1)                 # Range of number of units to produce (0 to demand)\n",
    "profit = list()                             # Empty list for profits\n",
    "\n",
    "for u in UPROD:                             # For all range, calculate the profit and add it to the list\n",
    "    profit.append(totalProfit(u))\n",
    "\n",
    "print(UPROD[profit.index(max(profit))])     # Print the unit that maximizes profit\n"
   ]
  },
  {
   "attachments": {},
   "cell_type": "markdown",
   "metadata": {},
   "source": [
    "---"
   ]
  }
 ],
 "metadata": {
  "kernelspec": {
   "display_name": "base",
   "language": "python",
   "name": "python3"
  },
  "language_info": {
   "codemirror_mode": {
    "name": "ipython",
    "version": 3
   },
   "file_extension": ".py",
   "mimetype": "text/x-python",
   "name": "python",
   "nbconvert_exporter": "python",
   "pygments_lexer": "ipython3",
   "version": "3.9.15 | packaged by conda-forge | (main, Nov 22 2022, 08:52:10) \n[Clang 14.0.6 ]"
  },
  "orig_nbformat": 4,
  "vscode": {
   "interpreter": {
    "hash": "8f807fda92f20a86fe0cf9a7fb20f5cc46478756bf29c3db068708b68d71bcd3"
   }
  }
 },
 "nbformat": 4,
 "nbformat_minor": 2
}
