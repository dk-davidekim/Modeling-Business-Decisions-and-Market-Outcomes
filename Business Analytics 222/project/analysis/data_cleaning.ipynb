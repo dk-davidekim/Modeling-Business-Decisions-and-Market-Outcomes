{
 "cells": [
  {
   "cell_type": "code",
   "execution_count": 2,
   "metadata": {},
   "outputs": [],
   "source": [
    "import pandas as pd\n",
    "import numpy as np\n",
    "import seaborn as sns\n",
    "import matplotlib.pyplot as plt\n",
    "import scipy.stats as stats"
   ]
  },
  {
   "cell_type": "code",
   "execution_count": 74,
   "metadata": {},
   "outputs": [],
   "source": [
    "pd.set_option('display.max_columns',None)"
   ]
  },
  {
   "cell_type": "code",
   "execution_count": 3,
   "metadata": {},
   "outputs": [
    {
     "data": {
      "text/html": [
       "<div>\n",
       "<style scoped>\n",
       "    .dataframe tbody tr th:only-of-type {\n",
       "        vertical-align: middle;\n",
       "    }\n",
       "\n",
       "    .dataframe tbody tr th {\n",
       "        vertical-align: top;\n",
       "    }\n",
       "\n",
       "    .dataframe thead th {\n",
       "        text-align: right;\n",
       "    }\n",
       "</style>\n",
       "<table border=\"1\" class=\"dataframe\">\n",
       "  <thead>\n",
       "    <tr style=\"text-align: right;\">\n",
       "      <th></th>\n",
       "      <th>StartDate</th>\n",
       "      <th>EndDate</th>\n",
       "      <th>Status</th>\n",
       "      <th>IPAddress</th>\n",
       "      <th>Progress</th>\n",
       "      <th>Duration (in seconds)</th>\n",
       "      <th>Finished</th>\n",
       "      <th>RecordedDate</th>\n",
       "      <th>ResponseId</th>\n",
       "      <th>RecipientLastName</th>\n",
       "      <th>...</th>\n",
       "      <th>Q9_2</th>\n",
       "      <th>Q9_3</th>\n",
       "      <th>Q9_4</th>\n",
       "      <th>Q9_5</th>\n",
       "      <th>Q10</th>\n",
       "      <th>Q11</th>\n",
       "      <th>Q12</th>\n",
       "      <th>Q13</th>\n",
       "      <th>Q14_1</th>\n",
       "      <th>Q15</th>\n",
       "    </tr>\n",
       "  </thead>\n",
       "  <tbody>\n",
       "    <tr>\n",
       "      <th>0</th>\n",
       "      <td>Start Date</td>\n",
       "      <td>End Date</td>\n",
       "      <td>Response Type</td>\n",
       "      <td>IP Address</td>\n",
       "      <td>Progress</td>\n",
       "      <td>Duration (in seconds)</td>\n",
       "      <td>Finished</td>\n",
       "      <td>Recorded Date</td>\n",
       "      <td>Response ID</td>\n",
       "      <td>Recipient Last Name</td>\n",
       "      <td>...</td>\n",
       "      <td>Attributes - Brand Reputation</td>\n",
       "      <td>Attributes - Health Benefit</td>\n",
       "      <td>Attributes - Caffeine Content</td>\n",
       "      <td>Attributes - Price</td>\n",
       "      <td>Platforms</td>\n",
       "      <td>Units</td>\n",
       "      <td>Purpose</td>\n",
       "      <td>MottoPrice</td>\n",
       "      <td>MottoLikelihood - Likelihood of Switching</td>\n",
       "      <td>MottoFlavor</td>\n",
       "    </tr>\n",
       "    <tr>\n",
       "      <th>1</th>\n",
       "      <td>{\"ImportId\":\"startDate\",\"timeZone\":\"America/De...</td>\n",
       "      <td>{\"ImportId\":\"endDate\",\"timeZone\":\"America/Denv...</td>\n",
       "      <td>{\"ImportId\":\"status\"}</td>\n",
       "      <td>{\"ImportId\":\"ipAddress\"}</td>\n",
       "      <td>{\"ImportId\":\"progress\"}</td>\n",
       "      <td>{\"ImportId\":\"duration\"}</td>\n",
       "      <td>{\"ImportId\":\"finished\"}</td>\n",
       "      <td>{\"ImportId\":\"recordedDate\",\"timeZone\":\"America...</td>\n",
       "      <td>{\"ImportId\":\"_recordId\"}</td>\n",
       "      <td>{\"ImportId\":\"recipientLastName\"}</td>\n",
       "      <td>...</td>\n",
       "      <td>{\"ImportId\":\"QID29_2\"}</td>\n",
       "      <td>{\"ImportId\":\"QID29_3\"}</td>\n",
       "      <td>{\"ImportId\":\"QID29_10\"}</td>\n",
       "      <td>{\"ImportId\":\"QID29_11\"}</td>\n",
       "      <td>{\"ImportId\":\"QID30\"}</td>\n",
       "      <td>{\"ImportId\":\"QID31\"}</td>\n",
       "      <td>{\"ImportId\":\"QID32\"}</td>\n",
       "      <td>{\"ImportId\":\"QID42_TEXT\"}</td>\n",
       "      <td>{\"ImportId\":\"QID33_1\"}</td>\n",
       "      <td>{\"ImportId\":\"QID34\"}</td>\n",
       "    </tr>\n",
       "    <tr>\n",
       "      <th>2</th>\n",
       "      <td>2023-04-15 13:21:28</td>\n",
       "      <td>2023-04-15 13:23:49</td>\n",
       "      <td>IP Address</td>\n",
       "      <td>174.196.202.163</td>\n",
       "      <td>100</td>\n",
       "      <td>141</td>\n",
       "      <td>True</td>\n",
       "      <td>2023-04-15 13:23:49</td>\n",
       "      <td>R_UEENeM2ghM5uKK5</td>\n",
       "      <td>NaN</td>\n",
       "      <td>...</td>\n",
       "      <td>4</td>\n",
       "      <td>5</td>\n",
       "      <td>3</td>\n",
       "      <td>0</td>\n",
       "      <td>In-Store Ads</td>\n",
       "      <td>Per Unit</td>\n",
       "      <td>Refreshment</td>\n",
       "      <td>4</td>\n",
       "      <td>7</td>\n",
       "      <td>Matcha</td>\n",
       "    </tr>\n",
       "    <tr>\n",
       "      <th>3</th>\n",
       "      <td>2023-04-15 13:24:16</td>\n",
       "      <td>2023-04-15 13:27:24</td>\n",
       "      <td>IP Address</td>\n",
       "      <td>107.77.225.125</td>\n",
       "      <td>100</td>\n",
       "      <td>187</td>\n",
       "      <td>True</td>\n",
       "      <td>2023-04-15 13:27:25</td>\n",
       "      <td>R_AzdTD7ACCdSVCTv</td>\n",
       "      <td>NaN</td>\n",
       "      <td>...</td>\n",
       "      <td>1</td>\n",
       "      <td>0</td>\n",
       "      <td>1</td>\n",
       "      <td>3</td>\n",
       "      <td>Word of Mouth</td>\n",
       "      <td>Bulk</td>\n",
       "      <td>Refreshment</td>\n",
       "      <td>0</td>\n",
       "      <td>0</td>\n",
       "      <td>Rooibos</td>\n",
       "    </tr>\n",
       "    <tr>\n",
       "      <th>4</th>\n",
       "      <td>2023-04-15 13:24:08</td>\n",
       "      <td>2023-04-15 13:28:14</td>\n",
       "      <td>IP Address</td>\n",
       "      <td>185.216.201.85</td>\n",
       "      <td>100</td>\n",
       "      <td>246</td>\n",
       "      <td>True</td>\n",
       "      <td>2023-04-15 13:28:15</td>\n",
       "      <td>R_2642Y0EiU2ABVzi</td>\n",
       "      <td>NaN</td>\n",
       "      <td>...</td>\n",
       "      <td>3</td>\n",
       "      <td>4</td>\n",
       "      <td>4</td>\n",
       "      <td>4</td>\n",
       "      <td>Word of Mouth</td>\n",
       "      <td>Per Unit</td>\n",
       "      <td>Refreshment</td>\n",
       "      <td>2</td>\n",
       "      <td>8</td>\n",
       "      <td>Matcha</td>\n",
       "    </tr>\n",
       "    <tr>\n",
       "      <th>...</th>\n",
       "      <td>...</td>\n",
       "      <td>...</td>\n",
       "      <td>...</td>\n",
       "      <td>...</td>\n",
       "      <td>...</td>\n",
       "      <td>...</td>\n",
       "      <td>...</td>\n",
       "      <td>...</td>\n",
       "      <td>...</td>\n",
       "      <td>...</td>\n",
       "      <td>...</td>\n",
       "      <td>...</td>\n",
       "      <td>...</td>\n",
       "      <td>...</td>\n",
       "      <td>...</td>\n",
       "      <td>...</td>\n",
       "      <td>...</td>\n",
       "      <td>...</td>\n",
       "      <td>...</td>\n",
       "      <td>...</td>\n",
       "      <td>...</td>\n",
       "    </tr>\n",
       "    <tr>\n",
       "      <th>104</th>\n",
       "      <td>2023-04-23 13:35:07</td>\n",
       "      <td>2023-04-23 13:36:37</td>\n",
       "      <td>IP Address</td>\n",
       "      <td>128.197.29.224</td>\n",
       "      <td>100</td>\n",
       "      <td>89</td>\n",
       "      <td>True</td>\n",
       "      <td>2023-04-23 13:36:37</td>\n",
       "      <td>R_3lQDroR045aAk6M</td>\n",
       "      <td>NaN</td>\n",
       "      <td>...</td>\n",
       "      <td>3</td>\n",
       "      <td>3</td>\n",
       "      <td>5</td>\n",
       "      <td>1</td>\n",
       "      <td>In-Store Ads</td>\n",
       "      <td>Per Unit</td>\n",
       "      <td>Energy Boost</td>\n",
       "      <td>$5</td>\n",
       "      <td>3</td>\n",
       "      <td>Matcha</td>\n",
       "    </tr>\n",
       "    <tr>\n",
       "      <th>105</th>\n",
       "      <td>2023-04-23 13:34:41</td>\n",
       "      <td>2023-04-23 13:36:56</td>\n",
       "      <td>IP Address</td>\n",
       "      <td>128.197.29.236</td>\n",
       "      <td>100</td>\n",
       "      <td>135</td>\n",
       "      <td>True</td>\n",
       "      <td>2023-04-23 13:36:56</td>\n",
       "      <td>R_3KPE06VqIEladT4</td>\n",
       "      <td>NaN</td>\n",
       "      <td>...</td>\n",
       "      <td>5</td>\n",
       "      <td>5</td>\n",
       "      <td>4</td>\n",
       "      <td>4</td>\n",
       "      <td>In-Store Ads</td>\n",
       "      <td>Per Unit</td>\n",
       "      <td>Refreshment</td>\n",
       "      <td>3</td>\n",
       "      <td>7</td>\n",
       "      <td>Matcha</td>\n",
       "    </tr>\n",
       "    <tr>\n",
       "      <th>106</th>\n",
       "      <td>2023-04-23 13:35:03</td>\n",
       "      <td>2023-04-23 13:37:12</td>\n",
       "      <td>IP Address</td>\n",
       "      <td>128.197.29.238</td>\n",
       "      <td>100</td>\n",
       "      <td>128</td>\n",
       "      <td>True</td>\n",
       "      <td>2023-04-23 13:37:13</td>\n",
       "      <td>R_3lyPQPa7kP0tEis</td>\n",
       "      <td>NaN</td>\n",
       "      <td>...</td>\n",
       "      <td>3</td>\n",
       "      <td>4</td>\n",
       "      <td>0</td>\n",
       "      <td>0</td>\n",
       "      <td>Word of Mouth</td>\n",
       "      <td>Per Unit</td>\n",
       "      <td>Refreshment</td>\n",
       "      <td>4</td>\n",
       "      <td>9</td>\n",
       "      <td>Matcha</td>\n",
       "    </tr>\n",
       "    <tr>\n",
       "      <th>107</th>\n",
       "      <td>2023-04-23 13:34:09</td>\n",
       "      <td>2023-04-23 13:37:58</td>\n",
       "      <td>IP Address</td>\n",
       "      <td>128.197.29.255</td>\n",
       "      <td>100</td>\n",
       "      <td>229</td>\n",
       "      <td>True</td>\n",
       "      <td>2023-04-23 13:37:59</td>\n",
       "      <td>R_3qD4xaOcxjG2EXM</td>\n",
       "      <td>NaN</td>\n",
       "      <td>...</td>\n",
       "      <td>5</td>\n",
       "      <td>4</td>\n",
       "      <td>4</td>\n",
       "      <td>4</td>\n",
       "      <td>Word of Mouth</td>\n",
       "      <td>Bulk</td>\n",
       "      <td>Refreshment</td>\n",
       "      <td>5</td>\n",
       "      <td>8</td>\n",
       "      <td>Matcha</td>\n",
       "    </tr>\n",
       "    <tr>\n",
       "      <th>108</th>\n",
       "      <td>2023-04-23 14:00:08</td>\n",
       "      <td>2023-04-23 14:03:03</td>\n",
       "      <td>IP Address</td>\n",
       "      <td>128.197.29.228</td>\n",
       "      <td>100</td>\n",
       "      <td>175</td>\n",
       "      <td>True</td>\n",
       "      <td>2023-04-23 14:03:04</td>\n",
       "      <td>R_31QRAtBU3ck1VSG</td>\n",
       "      <td>NaN</td>\n",
       "      <td>...</td>\n",
       "      <td>3</td>\n",
       "      <td>4</td>\n",
       "      <td>3</td>\n",
       "      <td>3</td>\n",
       "      <td>Word of Mouth</td>\n",
       "      <td>Per Unit</td>\n",
       "      <td>Refreshment</td>\n",
       "      <td>3.5</td>\n",
       "      <td>7</td>\n",
       "      <td>Matcha</td>\n",
       "    </tr>\n",
       "  </tbody>\n",
       "</table>\n",
       "<p>109 rows × 43 columns</p>\n",
       "</div>"
      ],
      "text/plain": [
       "                                             StartDate  \\\n",
       "0                                           Start Date   \n",
       "1    {\"ImportId\":\"startDate\",\"timeZone\":\"America/De...   \n",
       "2                                  2023-04-15 13:21:28   \n",
       "3                                  2023-04-15 13:24:16   \n",
       "4                                  2023-04-15 13:24:08   \n",
       "..                                                 ...   \n",
       "104                                2023-04-23 13:35:07   \n",
       "105                                2023-04-23 13:34:41   \n",
       "106                                2023-04-23 13:35:03   \n",
       "107                                2023-04-23 13:34:09   \n",
       "108                                2023-04-23 14:00:08   \n",
       "\n",
       "                                               EndDate                 Status  \\\n",
       "0                                             End Date          Response Type   \n",
       "1    {\"ImportId\":\"endDate\",\"timeZone\":\"America/Denv...  {\"ImportId\":\"status\"}   \n",
       "2                                  2023-04-15 13:23:49             IP Address   \n",
       "3                                  2023-04-15 13:27:24             IP Address   \n",
       "4                                  2023-04-15 13:28:14             IP Address   \n",
       "..                                                 ...                    ...   \n",
       "104                                2023-04-23 13:36:37             IP Address   \n",
       "105                                2023-04-23 13:36:56             IP Address   \n",
       "106                                2023-04-23 13:37:12             IP Address   \n",
       "107                                2023-04-23 13:37:58             IP Address   \n",
       "108                                2023-04-23 14:03:03             IP Address   \n",
       "\n",
       "                    IPAddress                 Progress  \\\n",
       "0                  IP Address                 Progress   \n",
       "1    {\"ImportId\":\"ipAddress\"}  {\"ImportId\":\"progress\"}   \n",
       "2             174.196.202.163                      100   \n",
       "3              107.77.225.125                      100   \n",
       "4              185.216.201.85                      100   \n",
       "..                        ...                      ...   \n",
       "104            128.197.29.224                      100   \n",
       "105            128.197.29.236                      100   \n",
       "106            128.197.29.238                      100   \n",
       "107            128.197.29.255                      100   \n",
       "108            128.197.29.228                      100   \n",
       "\n",
       "       Duration (in seconds)                 Finished  \\\n",
       "0      Duration (in seconds)                 Finished   \n",
       "1    {\"ImportId\":\"duration\"}  {\"ImportId\":\"finished\"}   \n",
       "2                        141                     True   \n",
       "3                        187                     True   \n",
       "4                        246                     True   \n",
       "..                       ...                      ...   \n",
       "104                       89                     True   \n",
       "105                      135                     True   \n",
       "106                      128                     True   \n",
       "107                      229                     True   \n",
       "108                      175                     True   \n",
       "\n",
       "                                          RecordedDate  \\\n",
       "0                                        Recorded Date   \n",
       "1    {\"ImportId\":\"recordedDate\",\"timeZone\":\"America...   \n",
       "2                                  2023-04-15 13:23:49   \n",
       "3                                  2023-04-15 13:27:25   \n",
       "4                                  2023-04-15 13:28:15   \n",
       "..                                                 ...   \n",
       "104                                2023-04-23 13:36:37   \n",
       "105                                2023-04-23 13:36:56   \n",
       "106                                2023-04-23 13:37:13   \n",
       "107                                2023-04-23 13:37:59   \n",
       "108                                2023-04-23 14:03:04   \n",
       "\n",
       "                   ResponseId                 RecipientLastName  ...  \\\n",
       "0                 Response ID               Recipient Last Name  ...   \n",
       "1    {\"ImportId\":\"_recordId\"}  {\"ImportId\":\"recipientLastName\"}  ...   \n",
       "2           R_UEENeM2ghM5uKK5                               NaN  ...   \n",
       "3           R_AzdTD7ACCdSVCTv                               NaN  ...   \n",
       "4           R_2642Y0EiU2ABVzi                               NaN  ...   \n",
       "..                        ...                               ...  ...   \n",
       "104         R_3lQDroR045aAk6M                               NaN  ...   \n",
       "105         R_3KPE06VqIEladT4                               NaN  ...   \n",
       "106         R_3lyPQPa7kP0tEis                               NaN  ...   \n",
       "107         R_3qD4xaOcxjG2EXM                               NaN  ...   \n",
       "108         R_31QRAtBU3ck1VSG                               NaN  ...   \n",
       "\n",
       "                              Q9_2                         Q9_3  \\\n",
       "0    Attributes - Brand Reputation  Attributes - Health Benefit   \n",
       "1           {\"ImportId\":\"QID29_2\"}       {\"ImportId\":\"QID29_3\"}   \n",
       "2                                4                            5   \n",
       "3                                1                            0   \n",
       "4                                3                            4   \n",
       "..                             ...                          ...   \n",
       "104                              3                            3   \n",
       "105                              5                            5   \n",
       "106                              3                            4   \n",
       "107                              5                            4   \n",
       "108                              3                            4   \n",
       "\n",
       "                              Q9_4                     Q9_5  \\\n",
       "0    Attributes - Caffeine Content       Attributes - Price   \n",
       "1          {\"ImportId\":\"QID29_10\"}  {\"ImportId\":\"QID29_11\"}   \n",
       "2                                3                        0   \n",
       "3                                1                        3   \n",
       "4                                4                        4   \n",
       "..                             ...                      ...   \n",
       "104                              5                        1   \n",
       "105                              4                        4   \n",
       "106                              0                        0   \n",
       "107                              4                        4   \n",
       "108                              3                        3   \n",
       "\n",
       "                      Q10                   Q11                   Q12  \\\n",
       "0               Platforms                 Units               Purpose   \n",
       "1    {\"ImportId\":\"QID30\"}  {\"ImportId\":\"QID31\"}  {\"ImportId\":\"QID32\"}   \n",
       "2            In-Store Ads              Per Unit           Refreshment   \n",
       "3           Word of Mouth                  Bulk           Refreshment   \n",
       "4           Word of Mouth              Per Unit           Refreshment   \n",
       "..                    ...                   ...                   ...   \n",
       "104          In-Store Ads              Per Unit          Energy Boost   \n",
       "105          In-Store Ads              Per Unit           Refreshment   \n",
       "106         Word of Mouth              Per Unit           Refreshment   \n",
       "107         Word of Mouth                  Bulk           Refreshment   \n",
       "108         Word of Mouth              Per Unit           Refreshment   \n",
       "\n",
       "                           Q13                                      Q14_1  \\\n",
       "0                   MottoPrice  MottoLikelihood - Likelihood of Switching   \n",
       "1    {\"ImportId\":\"QID42_TEXT\"}                     {\"ImportId\":\"QID33_1\"}   \n",
       "2                            4                                          7   \n",
       "3                            0                                          0   \n",
       "4                            2                                          8   \n",
       "..                         ...                                        ...   \n",
       "104                         $5                                          3   \n",
       "105                          3                                          7   \n",
       "106                          4                                          9   \n",
       "107                          5                                          8   \n",
       "108                        3.5                                          7   \n",
       "\n",
       "                      Q15  \n",
       "0             MottoFlavor  \n",
       "1    {\"ImportId\":\"QID34\"}  \n",
       "2                  Matcha  \n",
       "3                 Rooibos  \n",
       "4                  Matcha  \n",
       "..                    ...  \n",
       "104                Matcha  \n",
       "105                Matcha  \n",
       "106                Matcha  \n",
       "107                Matcha  \n",
       "108                Matcha  \n",
       "\n",
       "[109 rows x 43 columns]"
      ]
     },
     "execution_count": 3,
     "metadata": {},
     "output_type": "execute_result"
    }
   ],
   "source": [
    "df = pd.read_csv('data/raw_data.csv')\n",
    "df"
   ]
  },
  {
   "cell_type": "code",
   "execution_count": 4,
   "metadata": {},
   "outputs": [
    {
     "data": {
      "text/plain": [
       "Index(['StartDate', 'EndDate', 'Status', 'IPAddress', 'Progress',\n",
       "       'Duration (in seconds)', 'Finished', 'RecordedDate', 'ResponseId',\n",
       "       'RecipientLastName', 'RecipientFirstName', 'RecipientEmail',\n",
       "       'ExternalReference', 'LocationLatitude', 'LocationLongitude',\n",
       "       'DistributionChannel', 'UserLanguage', 'Q1', 'Q2', 'Q3', 'Q4', 'Q5_1',\n",
       "       'Q5_2', 'Q5_3', 'Q5_4', 'Q5_5', 'Q5_6', 'Q5_7', 'Q5_8', 'Q6', 'Q7_1',\n",
       "       'Q8', 'Q9_1', 'Q9_2', 'Q9_3', 'Q9_4', 'Q9_5', 'Q10', 'Q11', 'Q12',\n",
       "       'Q13', 'Q14_1', 'Q15'],\n",
       "      dtype='object')"
      ]
     },
     "execution_count": 4,
     "metadata": {},
     "output_type": "execute_result"
    }
   ],
   "source": [
    "df.columns"
   ]
  },
  {
   "cell_type": "code",
   "execution_count": 5,
   "metadata": {},
   "outputs": [],
   "source": [
    "df.drop(columns=['StartDate', 'EndDate', 'Status', 'IPAddress', 'Progress',\n",
    "       'Duration (in seconds)', 'Finished', 'RecordedDate',\n",
    "       'RecipientLastName', 'RecipientFirstName', 'RecipientEmail',\n",
    "       'ExternalReference', 'LocationLatitude', 'LocationLongitude',\n",
    "       'DistributionChannel', 'UserLanguage'], inplace=True)"
   ]
  },
  {
   "cell_type": "code",
   "execution_count": 6,
   "metadata": {},
   "outputs": [
    {
     "data": {
      "text/html": [
       "<div>\n",
       "<style scoped>\n",
       "    .dataframe tbody tr th:only-of-type {\n",
       "        vertical-align: middle;\n",
       "    }\n",
       "\n",
       "    .dataframe tbody tr th {\n",
       "        vertical-align: top;\n",
       "    }\n",
       "\n",
       "    .dataframe thead th {\n",
       "        text-align: right;\n",
       "    }\n",
       "</style>\n",
       "<table border=\"1\" class=\"dataframe\">\n",
       "  <thead>\n",
       "    <tr style=\"text-align: right;\">\n",
       "      <th></th>\n",
       "      <th>ResponseId</th>\n",
       "      <th>Q1</th>\n",
       "      <th>Q2</th>\n",
       "      <th>Q3</th>\n",
       "      <th>Q4</th>\n",
       "      <th>Q5_1</th>\n",
       "      <th>Q5_2</th>\n",
       "      <th>Q5_3</th>\n",
       "      <th>Q5_4</th>\n",
       "      <th>Q5_5</th>\n",
       "      <th>...</th>\n",
       "      <th>Q9_2</th>\n",
       "      <th>Q9_3</th>\n",
       "      <th>Q9_4</th>\n",
       "      <th>Q9_5</th>\n",
       "      <th>Q10</th>\n",
       "      <th>Q11</th>\n",
       "      <th>Q12</th>\n",
       "      <th>Q13</th>\n",
       "      <th>Q14_1</th>\n",
       "      <th>Q15</th>\n",
       "    </tr>\n",
       "  </thead>\n",
       "  <tbody>\n",
       "    <tr>\n",
       "      <th>0</th>\n",
       "      <td>Response ID</td>\n",
       "      <td>Gender</td>\n",
       "      <td>Age</td>\n",
       "      <td>Income</td>\n",
       "      <td>Exercise</td>\n",
       "      <td>BeverageTypePreference - Coffee</td>\n",
       "      <td>BeverageTypePreference - Tea</td>\n",
       "      <td>BeverageTypePreference - Soda</td>\n",
       "      <td>BeverageTypePreference - Milk</td>\n",
       "      <td>BeverageTypePreference - Juice</td>\n",
       "      <td>...</td>\n",
       "      <td>Attributes - Brand Reputation</td>\n",
       "      <td>Attributes - Health Benefit</td>\n",
       "      <td>Attributes - Caffeine Content</td>\n",
       "      <td>Attributes - Price</td>\n",
       "      <td>Platforms</td>\n",
       "      <td>Units</td>\n",
       "      <td>Purpose</td>\n",
       "      <td>MottoPrice</td>\n",
       "      <td>MottoLikelihood - Likelihood of Switching</td>\n",
       "      <td>MottoFlavor</td>\n",
       "    </tr>\n",
       "    <tr>\n",
       "      <th>1</th>\n",
       "      <td>{\"ImportId\":\"_recordId\"}</td>\n",
       "      <td>{\"ImportId\":\"QID20\"}</td>\n",
       "      <td>{\"ImportId\":\"QID21_TEXT\"}</td>\n",
       "      <td>{\"ImportId\":\"QID23\"}</td>\n",
       "      <td>{\"ImportId\":\"QID24\"}</td>\n",
       "      <td>{\"ImportId\":\"QID25_4\"}</td>\n",
       "      <td>{\"ImportId\":\"QID25_5\"}</td>\n",
       "      <td>{\"ImportId\":\"QID25_6\"}</td>\n",
       "      <td>{\"ImportId\":\"QID25_7\"}</td>\n",
       "      <td>{\"ImportId\":\"QID25_8\"}</td>\n",
       "      <td>...</td>\n",
       "      <td>{\"ImportId\":\"QID29_2\"}</td>\n",
       "      <td>{\"ImportId\":\"QID29_3\"}</td>\n",
       "      <td>{\"ImportId\":\"QID29_10\"}</td>\n",
       "      <td>{\"ImportId\":\"QID29_11\"}</td>\n",
       "      <td>{\"ImportId\":\"QID30\"}</td>\n",
       "      <td>{\"ImportId\":\"QID31\"}</td>\n",
       "      <td>{\"ImportId\":\"QID32\"}</td>\n",
       "      <td>{\"ImportId\":\"QID42_TEXT\"}</td>\n",
       "      <td>{\"ImportId\":\"QID33_1\"}</td>\n",
       "      <td>{\"ImportId\":\"QID34\"}</td>\n",
       "    </tr>\n",
       "    <tr>\n",
       "      <th>2</th>\n",
       "      <td>R_UEENeM2ghM5uKK5</td>\n",
       "      <td>Male</td>\n",
       "      <td>24</td>\n",
       "      <td>&gt; $150,000 USD</td>\n",
       "      <td>4-6</td>\n",
       "      <td>4</td>\n",
       "      <td>5</td>\n",
       "      <td>1</td>\n",
       "      <td>1</td>\n",
       "      <td>2</td>\n",
       "      <td>...</td>\n",
       "      <td>4</td>\n",
       "      <td>5</td>\n",
       "      <td>3</td>\n",
       "      <td>0</td>\n",
       "      <td>In-Store Ads</td>\n",
       "      <td>Per Unit</td>\n",
       "      <td>Refreshment</td>\n",
       "      <td>4</td>\n",
       "      <td>7</td>\n",
       "      <td>Matcha</td>\n",
       "    </tr>\n",
       "    <tr>\n",
       "      <th>3</th>\n",
       "      <td>R_AzdTD7ACCdSVCTv</td>\n",
       "      <td>Male</td>\n",
       "      <td>23</td>\n",
       "      <td>$50,000 to $100,000 USD</td>\n",
       "      <td>1-3</td>\n",
       "      <td>2</td>\n",
       "      <td>1</td>\n",
       "      <td>5</td>\n",
       "      <td>3</td>\n",
       "      <td>4</td>\n",
       "      <td>...</td>\n",
       "      <td>1</td>\n",
       "      <td>0</td>\n",
       "      <td>1</td>\n",
       "      <td>3</td>\n",
       "      <td>Word of Mouth</td>\n",
       "      <td>Bulk</td>\n",
       "      <td>Refreshment</td>\n",
       "      <td>0</td>\n",
       "      <td>0</td>\n",
       "      <td>Rooibos</td>\n",
       "    </tr>\n",
       "    <tr>\n",
       "      <th>4</th>\n",
       "      <td>R_2642Y0EiU2ABVzi</td>\n",
       "      <td>Male</td>\n",
       "      <td>24</td>\n",
       "      <td>$100,000 to $150,000 USD</td>\n",
       "      <td>1-3</td>\n",
       "      <td>2</td>\n",
       "      <td>3</td>\n",
       "      <td>4</td>\n",
       "      <td>1</td>\n",
       "      <td>4</td>\n",
       "      <td>...</td>\n",
       "      <td>3</td>\n",
       "      <td>4</td>\n",
       "      <td>4</td>\n",
       "      <td>4</td>\n",
       "      <td>Word of Mouth</td>\n",
       "      <td>Per Unit</td>\n",
       "      <td>Refreshment</td>\n",
       "      <td>2</td>\n",
       "      <td>8</td>\n",
       "      <td>Matcha</td>\n",
       "    </tr>\n",
       "  </tbody>\n",
       "</table>\n",
       "<p>5 rows × 27 columns</p>\n",
       "</div>"
      ],
      "text/plain": [
       "                 ResponseId                    Q1                         Q2  \\\n",
       "0               Response ID                Gender                        Age   \n",
       "1  {\"ImportId\":\"_recordId\"}  {\"ImportId\":\"QID20\"}  {\"ImportId\":\"QID21_TEXT\"}   \n",
       "2         R_UEENeM2ghM5uKK5                  Male                         24   \n",
       "3         R_AzdTD7ACCdSVCTv                  Male                         23   \n",
       "4         R_2642Y0EiU2ABVzi                  Male                         24   \n",
       "\n",
       "                         Q3                    Q4  \\\n",
       "0                    Income              Exercise   \n",
       "1      {\"ImportId\":\"QID23\"}  {\"ImportId\":\"QID24\"}   \n",
       "2            > $150,000 USD                   4-6   \n",
       "3   $50,000 to $100,000 USD                   1-3   \n",
       "4  $100,000 to $150,000 USD                   1-3   \n",
       "\n",
       "                              Q5_1                          Q5_2  \\\n",
       "0  BeverageTypePreference - Coffee  BeverageTypePreference - Tea   \n",
       "1           {\"ImportId\":\"QID25_4\"}        {\"ImportId\":\"QID25_5\"}   \n",
       "2                                4                             5   \n",
       "3                                2                             1   \n",
       "4                                2                             3   \n",
       "\n",
       "                            Q5_3                           Q5_4  \\\n",
       "0  BeverageTypePreference - Soda  BeverageTypePreference - Milk   \n",
       "1         {\"ImportId\":\"QID25_6\"}         {\"ImportId\":\"QID25_7\"}   \n",
       "2                              1                              1   \n",
       "3                              5                              3   \n",
       "4                              4                              1   \n",
       "\n",
       "                             Q5_5  ...                           Q9_2  \\\n",
       "0  BeverageTypePreference - Juice  ...  Attributes - Brand Reputation   \n",
       "1          {\"ImportId\":\"QID25_8\"}  ...         {\"ImportId\":\"QID29_2\"}   \n",
       "2                               2  ...                              4   \n",
       "3                               4  ...                              1   \n",
       "4                               4  ...                              3   \n",
       "\n",
       "                          Q9_3                           Q9_4  \\\n",
       "0  Attributes - Health Benefit  Attributes - Caffeine Content   \n",
       "1       {\"ImportId\":\"QID29_3\"}        {\"ImportId\":\"QID29_10\"}   \n",
       "2                            5                              3   \n",
       "3                            0                              1   \n",
       "4                            4                              4   \n",
       "\n",
       "                      Q9_5                   Q10                   Q11  \\\n",
       "0       Attributes - Price             Platforms                 Units   \n",
       "1  {\"ImportId\":\"QID29_11\"}  {\"ImportId\":\"QID30\"}  {\"ImportId\":\"QID31\"}   \n",
       "2                        0          In-Store Ads              Per Unit   \n",
       "3                        3         Word of Mouth                  Bulk   \n",
       "4                        4         Word of Mouth              Per Unit   \n",
       "\n",
       "                    Q12                        Q13  \\\n",
       "0               Purpose                 MottoPrice   \n",
       "1  {\"ImportId\":\"QID32\"}  {\"ImportId\":\"QID42_TEXT\"}   \n",
       "2           Refreshment                          4   \n",
       "3           Refreshment                          0   \n",
       "4           Refreshment                          2   \n",
       "\n",
       "                                       Q14_1                   Q15  \n",
       "0  MottoLikelihood - Likelihood of Switching           MottoFlavor  \n",
       "1                     {\"ImportId\":\"QID33_1\"}  {\"ImportId\":\"QID34\"}  \n",
       "2                                          7                Matcha  \n",
       "3                                          0               Rooibos  \n",
       "4                                          8                Matcha  \n",
       "\n",
       "[5 rows x 27 columns]"
      ]
     },
     "execution_count": 6,
     "metadata": {},
     "output_type": "execute_result"
    }
   ],
   "source": [
    "df.head()"
   ]
  },
  {
   "cell_type": "code",
   "execution_count": 7,
   "metadata": {},
   "outputs": [],
   "source": [
    "columns_name = ['ID', 'Gender', 'Age', 'Income', 'Exercise', 'Coffee',\n",
    "                'Tea', 'Soda', 'Milk', 'Juice', 'EnergyDrink', 'SparklingWater',\n",
    "                'Alcohol', 'Purchase_Location', 'Ingredients_Quality', 'Consumption',\n",
    "                'Taste', 'Brand_Reputation', 'Health_Benefit', 'Caffeine_Content', 'Price',\n",
    "                'Platforms', 'Units', 'Purpose', 'Motto_Price', 'Motto_Likelihood', 'Motto_Flavor']"
   ]
  },
  {
   "cell_type": "code",
   "execution_count": 71,
   "metadata": {},
   "outputs": [
    {
     "data": {
      "text/plain": [
       "27"
      ]
     },
     "execution_count": 71,
     "metadata": {},
     "output_type": "execute_result"
    }
   ],
   "source": [
    "columns_name.__len__()"
   ]
  },
  {
   "cell_type": "code",
   "execution_count": 75,
   "metadata": {},
   "outputs": [
    {
     "data": {
      "text/html": [
       "<div>\n",
       "<style scoped>\n",
       "    .dataframe tbody tr th:only-of-type {\n",
       "        vertical-align: middle;\n",
       "    }\n",
       "\n",
       "    .dataframe tbody tr th {\n",
       "        vertical-align: top;\n",
       "    }\n",
       "\n",
       "    .dataframe thead th {\n",
       "        text-align: right;\n",
       "    }\n",
       "</style>\n",
       "<table border=\"1\" class=\"dataframe\">\n",
       "  <thead>\n",
       "    <tr style=\"text-align: right;\">\n",
       "      <th></th>\n",
       "      <th>ID</th>\n",
       "      <th>Gender</th>\n",
       "      <th>Age</th>\n",
       "      <th>Income</th>\n",
       "      <th>Exercise</th>\n",
       "      <th>Coffee</th>\n",
       "      <th>Tea</th>\n",
       "      <th>Soda</th>\n",
       "      <th>Milk</th>\n",
       "      <th>Juice</th>\n",
       "      <th>EnergyDrink</th>\n",
       "      <th>SparklingWater</th>\n",
       "      <th>Alcohol</th>\n",
       "      <th>Purchase_Location</th>\n",
       "      <th>Ingredients_Quality</th>\n",
       "      <th>Consumption</th>\n",
       "      <th>Taste</th>\n",
       "      <th>Brand_Reputation</th>\n",
       "      <th>Health_Benefit</th>\n",
       "      <th>Caffeine_Content</th>\n",
       "      <th>Price</th>\n",
       "      <th>Platforms</th>\n",
       "      <th>Units</th>\n",
       "      <th>Purpose</th>\n",
       "      <th>Motto_Price</th>\n",
       "      <th>Motto_Likelihood</th>\n",
       "      <th>Motto_Flavor</th>\n",
       "    </tr>\n",
       "  </thead>\n",
       "  <tbody>\n",
       "    <tr>\n",
       "      <th>2</th>\n",
       "      <td>R_UEENeM2ghM5uKK5</td>\n",
       "      <td>Male</td>\n",
       "      <td>24</td>\n",
       "      <td>&gt;150,000</td>\n",
       "      <td>4-6</td>\n",
       "      <td>4</td>\n",
       "      <td>5</td>\n",
       "      <td>1</td>\n",
       "      <td>1</td>\n",
       "      <td>2</td>\n",
       "      <td>1</td>\n",
       "      <td>5</td>\n",
       "      <td>1</td>\n",
       "      <td>Convenience Stores</td>\n",
       "      <td>5</td>\n",
       "      <td>2</td>\n",
       "      <td>4</td>\n",
       "      <td>4</td>\n",
       "      <td>5</td>\n",
       "      <td>3</td>\n",
       "      <td>0</td>\n",
       "      <td>In-Store Ads</td>\n",
       "      <td>Per Unit</td>\n",
       "      <td>Refreshment</td>\n",
       "      <td>4.0</td>\n",
       "      <td>7</td>\n",
       "      <td>Matcha</td>\n",
       "    </tr>\n",
       "    <tr>\n",
       "      <th>3</th>\n",
       "      <td>R_AzdTD7ACCdSVCTv</td>\n",
       "      <td>Male</td>\n",
       "      <td>23</td>\n",
       "      <td>50,000-100,000</td>\n",
       "      <td>1-3</td>\n",
       "      <td>2</td>\n",
       "      <td>1</td>\n",
       "      <td>5</td>\n",
       "      <td>3</td>\n",
       "      <td>4</td>\n",
       "      <td>2</td>\n",
       "      <td>2</td>\n",
       "      <td>2</td>\n",
       "      <td>Restaurants/Cafes</td>\n",
       "      <td>4</td>\n",
       "      <td>1</td>\n",
       "      <td>5</td>\n",
       "      <td>1</td>\n",
       "      <td>0</td>\n",
       "      <td>1</td>\n",
       "      <td>3</td>\n",
       "      <td>Word of Mouth</td>\n",
       "      <td>Bulk</td>\n",
       "      <td>Refreshment</td>\n",
       "      <td>0.0</td>\n",
       "      <td>0</td>\n",
       "      <td>Rooibos</td>\n",
       "    </tr>\n",
       "    <tr>\n",
       "      <th>4</th>\n",
       "      <td>R_2642Y0EiU2ABVzi</td>\n",
       "      <td>Male</td>\n",
       "      <td>24</td>\n",
       "      <td>100,000-150,000</td>\n",
       "      <td>1-3</td>\n",
       "      <td>2</td>\n",
       "      <td>3</td>\n",
       "      <td>4</td>\n",
       "      <td>1</td>\n",
       "      <td>4</td>\n",
       "      <td>3</td>\n",
       "      <td>3</td>\n",
       "      <td>3</td>\n",
       "      <td>Restaurants/Cafes</td>\n",
       "      <td>3</td>\n",
       "      <td>0</td>\n",
       "      <td>4</td>\n",
       "      <td>3</td>\n",
       "      <td>4</td>\n",
       "      <td>4</td>\n",
       "      <td>4</td>\n",
       "      <td>Word of Mouth</td>\n",
       "      <td>Per Unit</td>\n",
       "      <td>Refreshment</td>\n",
       "      <td>2.0</td>\n",
       "      <td>8</td>\n",
       "      <td>Matcha</td>\n",
       "    </tr>\n",
       "    <tr>\n",
       "      <th>5</th>\n",
       "      <td>R_1ONMulo6dpFaq04</td>\n",
       "      <td>Male</td>\n",
       "      <td>26</td>\n",
       "      <td>&lt;50,000</td>\n",
       "      <td>0</td>\n",
       "      <td>2</td>\n",
       "      <td>4</td>\n",
       "      <td>1</td>\n",
       "      <td>5</td>\n",
       "      <td>2</td>\n",
       "      <td>5</td>\n",
       "      <td>5</td>\n",
       "      <td>5</td>\n",
       "      <td>Online</td>\n",
       "      <td>4</td>\n",
       "      <td>2</td>\n",
       "      <td>4</td>\n",
       "      <td>1</td>\n",
       "      <td>5</td>\n",
       "      <td>5</td>\n",
       "      <td>1</td>\n",
       "      <td>Instagram</td>\n",
       "      <td>Per Unit</td>\n",
       "      <td>Increased Focus</td>\n",
       "      <td>6.0</td>\n",
       "      <td>7</td>\n",
       "      <td>Matcha</td>\n",
       "    </tr>\n",
       "    <tr>\n",
       "      <th>6</th>\n",
       "      <td>R_1lo8HoT9csBWOxP</td>\n",
       "      <td>Female</td>\n",
       "      <td>24</td>\n",
       "      <td>100,000-150,000</td>\n",
       "      <td>1-3</td>\n",
       "      <td>2</td>\n",
       "      <td>3</td>\n",
       "      <td>1</td>\n",
       "      <td>2</td>\n",
       "      <td>3</td>\n",
       "      <td>1</td>\n",
       "      <td>5</td>\n",
       "      <td>5</td>\n",
       "      <td>Convenience Stores</td>\n",
       "      <td>5</td>\n",
       "      <td>1</td>\n",
       "      <td>4</td>\n",
       "      <td>1</td>\n",
       "      <td>5</td>\n",
       "      <td>5</td>\n",
       "      <td>3</td>\n",
       "      <td>Word of Mouth</td>\n",
       "      <td>Per Unit</td>\n",
       "      <td>Increased Focus</td>\n",
       "      <td>6.5</td>\n",
       "      <td>7</td>\n",
       "      <td>Matcha</td>\n",
       "    </tr>\n",
       "  </tbody>\n",
       "</table>\n",
       "</div>"
      ],
      "text/plain": [
       "                  ID  Gender  Age           Income Exercise  Coffee  Tea  \\\n",
       "2  R_UEENeM2ghM5uKK5    Male   24         >150,000      4-6       4    5   \n",
       "3  R_AzdTD7ACCdSVCTv    Male   23   50,000-100,000      1-3       2    1   \n",
       "4  R_2642Y0EiU2ABVzi    Male   24  100,000-150,000      1-3       2    3   \n",
       "5  R_1ONMulo6dpFaq04    Male   26          <50,000        0       2    4   \n",
       "6  R_1lo8HoT9csBWOxP  Female   24  100,000-150,000      1-3       2    3   \n",
       "\n",
       "   Soda  Milk  Juice  EnergyDrink  SparklingWater  Alcohol  \\\n",
       "2     1     1      2            1               5        1   \n",
       "3     5     3      4            2               2        2   \n",
       "4     4     1      4            3               3        3   \n",
       "5     1     5      2            5               5        5   \n",
       "6     1     2      3            1               5        5   \n",
       "\n",
       "    Purchase_Location  Ingredients_Quality  Consumption  Taste  \\\n",
       "2  Convenience Stores                    5            2      4   \n",
       "3   Restaurants/Cafes                    4            1      5   \n",
       "4   Restaurants/Cafes                    3            0      4   \n",
       "5              Online                    4            2      4   \n",
       "6  Convenience Stores                    5            1      4   \n",
       "\n",
       "   Brand_Reputation  Health_Benefit  Caffeine_Content  Price      Platforms  \\\n",
       "2                 4               5                 3      0   In-Store Ads   \n",
       "3                 1               0                 1      3  Word of Mouth   \n",
       "4                 3               4                 4      4  Word of Mouth   \n",
       "5                 1               5                 5      1      Instagram   \n",
       "6                 1               5                 5      3  Word of Mouth   \n",
       "\n",
       "      Units          Purpose  Motto_Price  Motto_Likelihood Motto_Flavor  \n",
       "2  Per Unit      Refreshment          4.0                 7       Matcha  \n",
       "3      Bulk      Refreshment          0.0                 0      Rooibos  \n",
       "4  Per Unit      Refreshment          2.0                 8       Matcha  \n",
       "5  Per Unit  Increased Focus          6.0                 7       Matcha  \n",
       "6  Per Unit  Increased Focus          6.5                 7       Matcha  "
      ]
     },
     "execution_count": 75,
     "metadata": {},
     "output_type": "execute_result"
    }
   ],
   "source": [
    "df.columns = columns_name\n",
    "df.head()"
   ]
  },
  {
   "cell_type": "code",
   "execution_count": 9,
   "metadata": {},
   "outputs": [],
   "source": [
    "df.drop([0,1], inplace=True)"
   ]
  },
  {
   "cell_type": "code",
   "execution_count": 10,
   "metadata": {},
   "outputs": [
    {
     "data": {
      "text/plain": [
       "(107, 27)"
      ]
     },
     "execution_count": 10,
     "metadata": {},
     "output_type": "execute_result"
    }
   ],
   "source": [
    "df.shape"
   ]
  },
  {
   "attachments": {},
   "cell_type": "markdown",
   "metadata": {},
   "source": [
    "---\n",
    "Null Values"
   ]
  },
  {
   "cell_type": "code",
   "execution_count": 11,
   "metadata": {},
   "outputs": [
    {
     "data": {
      "text/plain": [
       "ID                     0\n",
       "Gender                 0\n",
       "Age                    0\n",
       "Income                 0\n",
       "Exercise               0\n",
       "Coffee                 2\n",
       "Tea                    2\n",
       "Soda                   2\n",
       "Milk                   2\n",
       "Juice                  2\n",
       "EnergyDrink            2\n",
       "SparklingWater         2\n",
       "Alcohol                2\n",
       "Purchase_Location      2\n",
       "Ingredients_Quality    2\n",
       "Consumption            2\n",
       "Taste                  2\n",
       "Brand_Reputation       2\n",
       "Health_Benefit         2\n",
       "Caffeine_Content       2\n",
       "Price                  2\n",
       "Platforms              2\n",
       "Units                  2\n",
       "Purpose                2\n",
       "Motto_Price            2\n",
       "Motto_Likelihood       2\n",
       "Motto_Flavor           2\n",
       "dtype: int64"
      ]
     },
     "execution_count": 11,
     "metadata": {},
     "output_type": "execute_result"
    }
   ],
   "source": [
    "df.isnull().sum()"
   ]
  },
  {
   "cell_type": "code",
   "execution_count": 12,
   "metadata": {},
   "outputs": [
    {
     "data": {
      "text/html": [
       "<div>\n",
       "<style scoped>\n",
       "    .dataframe tbody tr th:only-of-type {\n",
       "        vertical-align: middle;\n",
       "    }\n",
       "\n",
       "    .dataframe tbody tr th {\n",
       "        vertical-align: top;\n",
       "    }\n",
       "\n",
       "    .dataframe thead th {\n",
       "        text-align: right;\n",
       "    }\n",
       "</style>\n",
       "<table border=\"1\" class=\"dataframe\">\n",
       "  <thead>\n",
       "    <tr style=\"text-align: right;\">\n",
       "      <th></th>\n",
       "      <th>ID</th>\n",
       "      <th>Gender</th>\n",
       "      <th>Age</th>\n",
       "      <th>Income</th>\n",
       "      <th>Exercise</th>\n",
       "      <th>Coffee</th>\n",
       "      <th>Tea</th>\n",
       "      <th>Soda</th>\n",
       "      <th>Milk</th>\n",
       "      <th>Juice</th>\n",
       "      <th>...</th>\n",
       "      <th>Brand_Reputation</th>\n",
       "      <th>Health_Benefit</th>\n",
       "      <th>Caffeine_Content</th>\n",
       "      <th>Price</th>\n",
       "      <th>Platforms</th>\n",
       "      <th>Units</th>\n",
       "      <th>Purpose</th>\n",
       "      <th>Motto_Price</th>\n",
       "      <th>Motto_Likelihood</th>\n",
       "      <th>Motto_Flavor</th>\n",
       "    </tr>\n",
       "  </thead>\n",
       "  <tbody>\n",
       "    <tr>\n",
       "      <th>10</th>\n",
       "      <td>R_31HL3P6iG2OqdZg</td>\n",
       "      <td>Female</td>\n",
       "      <td>19</td>\n",
       "      <td>$100,000 to $150,000 USD</td>\n",
       "      <td>1-3</td>\n",
       "      <td>NaN</td>\n",
       "      <td>NaN</td>\n",
       "      <td>NaN</td>\n",
       "      <td>NaN</td>\n",
       "      <td>NaN</td>\n",
       "      <td>...</td>\n",
       "      <td>NaN</td>\n",
       "      <td>NaN</td>\n",
       "      <td>NaN</td>\n",
       "      <td>NaN</td>\n",
       "      <td>NaN</td>\n",
       "      <td>NaN</td>\n",
       "      <td>NaN</td>\n",
       "      <td>NaN</td>\n",
       "      <td>NaN</td>\n",
       "      <td>NaN</td>\n",
       "    </tr>\n",
       "    <tr>\n",
       "      <th>27</th>\n",
       "      <td>R_9FTkVJ1U2W3760N</td>\n",
       "      <td>Non-Binary</td>\n",
       "      <td>19</td>\n",
       "      <td>$50,000 to $100,000 USD</td>\n",
       "      <td>1-3</td>\n",
       "      <td>NaN</td>\n",
       "      <td>NaN</td>\n",
       "      <td>NaN</td>\n",
       "      <td>NaN</td>\n",
       "      <td>NaN</td>\n",
       "      <td>...</td>\n",
       "      <td>NaN</td>\n",
       "      <td>NaN</td>\n",
       "      <td>NaN</td>\n",
       "      <td>NaN</td>\n",
       "      <td>NaN</td>\n",
       "      <td>NaN</td>\n",
       "      <td>NaN</td>\n",
       "      <td>NaN</td>\n",
       "      <td>NaN</td>\n",
       "      <td>NaN</td>\n",
       "    </tr>\n",
       "  </tbody>\n",
       "</table>\n",
       "<p>2 rows × 27 columns</p>\n",
       "</div>"
      ],
      "text/plain": [
       "                   ID      Gender Age                    Income Exercise  \\\n",
       "10  R_31HL3P6iG2OqdZg      Female  19  $100,000 to $150,000 USD      1-3   \n",
       "27  R_9FTkVJ1U2W3760N  Non-Binary  19   $50,000 to $100,000 USD      1-3   \n",
       "\n",
       "   Coffee  Tea Soda Milk Juice  ... Brand_Reputation Health_Benefit  \\\n",
       "10    NaN  NaN  NaN  NaN   NaN  ...              NaN            NaN   \n",
       "27    NaN  NaN  NaN  NaN   NaN  ...              NaN            NaN   \n",
       "\n",
       "   Caffeine_Content Price Platforms Units Purpose Motto_Price  \\\n",
       "10              NaN   NaN       NaN   NaN     NaN         NaN   \n",
       "27              NaN   NaN       NaN   NaN     NaN         NaN   \n",
       "\n",
       "   Motto_Likelihood Motto_Flavor  \n",
       "10              NaN          NaN  \n",
       "27              NaN          NaN  \n",
       "\n",
       "[2 rows x 27 columns]"
      ]
     },
     "execution_count": 12,
     "metadata": {},
     "output_type": "execute_result"
    }
   ],
   "source": [
    "df.loc[df.Coffee.isnull()]"
   ]
  },
  {
   "cell_type": "code",
   "execution_count": 13,
   "metadata": {},
   "outputs": [
    {
     "data": {
      "text/html": [
       "<div>\n",
       "<style scoped>\n",
       "    .dataframe tbody tr th:only-of-type {\n",
       "        vertical-align: middle;\n",
       "    }\n",
       "\n",
       "    .dataframe tbody tr th {\n",
       "        vertical-align: top;\n",
       "    }\n",
       "\n",
       "    .dataframe thead th {\n",
       "        text-align: right;\n",
       "    }\n",
       "</style>\n",
       "<table border=\"1\" class=\"dataframe\">\n",
       "  <thead>\n",
       "    <tr style=\"text-align: right;\">\n",
       "      <th></th>\n",
       "      <th>ID</th>\n",
       "      <th>Gender</th>\n",
       "      <th>Age</th>\n",
       "      <th>Income</th>\n",
       "      <th>Exercise</th>\n",
       "      <th>Coffee</th>\n",
       "      <th>Tea</th>\n",
       "      <th>Soda</th>\n",
       "      <th>Milk</th>\n",
       "      <th>Juice</th>\n",
       "      <th>...</th>\n",
       "      <th>Brand_Reputation</th>\n",
       "      <th>Health_Benefit</th>\n",
       "      <th>Caffeine_Content</th>\n",
       "      <th>Price</th>\n",
       "      <th>Platforms</th>\n",
       "      <th>Units</th>\n",
       "      <th>Purpose</th>\n",
       "      <th>Motto_Price</th>\n",
       "      <th>Motto_Likelihood</th>\n",
       "      <th>Motto_Flavor</th>\n",
       "    </tr>\n",
       "  </thead>\n",
       "  <tbody>\n",
       "    <tr>\n",
       "      <th>10</th>\n",
       "      <td>R_31HL3P6iG2OqdZg</td>\n",
       "      <td>Female</td>\n",
       "      <td>19</td>\n",
       "      <td>$100,000 to $150,000 USD</td>\n",
       "      <td>1-3</td>\n",
       "      <td>NaN</td>\n",
       "      <td>NaN</td>\n",
       "      <td>NaN</td>\n",
       "      <td>NaN</td>\n",
       "      <td>NaN</td>\n",
       "      <td>...</td>\n",
       "      <td>NaN</td>\n",
       "      <td>NaN</td>\n",
       "      <td>NaN</td>\n",
       "      <td>NaN</td>\n",
       "      <td>NaN</td>\n",
       "      <td>NaN</td>\n",
       "      <td>NaN</td>\n",
       "      <td>NaN</td>\n",
       "      <td>NaN</td>\n",
       "      <td>NaN</td>\n",
       "    </tr>\n",
       "    <tr>\n",
       "      <th>27</th>\n",
       "      <td>R_9FTkVJ1U2W3760N</td>\n",
       "      <td>Non-Binary</td>\n",
       "      <td>19</td>\n",
       "      <td>$50,000 to $100,000 USD</td>\n",
       "      <td>1-3</td>\n",
       "      <td>NaN</td>\n",
       "      <td>NaN</td>\n",
       "      <td>NaN</td>\n",
       "      <td>NaN</td>\n",
       "      <td>NaN</td>\n",
       "      <td>...</td>\n",
       "      <td>NaN</td>\n",
       "      <td>NaN</td>\n",
       "      <td>NaN</td>\n",
       "      <td>NaN</td>\n",
       "      <td>NaN</td>\n",
       "      <td>NaN</td>\n",
       "      <td>NaN</td>\n",
       "      <td>NaN</td>\n",
       "      <td>NaN</td>\n",
       "      <td>NaN</td>\n",
       "    </tr>\n",
       "  </tbody>\n",
       "</table>\n",
       "<p>2 rows × 27 columns</p>\n",
       "</div>"
      ],
      "text/plain": [
       "                   ID      Gender Age                    Income Exercise  \\\n",
       "10  R_31HL3P6iG2OqdZg      Female  19  $100,000 to $150,000 USD      1-3   \n",
       "27  R_9FTkVJ1U2W3760N  Non-Binary  19   $50,000 to $100,000 USD      1-3   \n",
       "\n",
       "   Coffee  Tea Soda Milk Juice  ... Brand_Reputation Health_Benefit  \\\n",
       "10    NaN  NaN  NaN  NaN   NaN  ...              NaN            NaN   \n",
       "27    NaN  NaN  NaN  NaN   NaN  ...              NaN            NaN   \n",
       "\n",
       "   Caffeine_Content Price Platforms Units Purpose Motto_Price  \\\n",
       "10              NaN   NaN       NaN   NaN     NaN         NaN   \n",
       "27              NaN   NaN       NaN   NaN     NaN         NaN   \n",
       "\n",
       "   Motto_Likelihood Motto_Flavor  \n",
       "10              NaN          NaN  \n",
       "27              NaN          NaN  \n",
       "\n",
       "[2 rows x 27 columns]"
      ]
     },
     "execution_count": 13,
     "metadata": {},
     "output_type": "execute_result"
    }
   ],
   "source": [
    "df.loc[df.Motto_Flavor.isnull()]"
   ]
  },
  {
   "cell_type": "code",
   "execution_count": 14,
   "metadata": {},
   "outputs": [],
   "source": [
    "# Drop two rows with null values\n",
    "\n",
    "df.dropna(inplace=True)"
   ]
  },
  {
   "cell_type": "code",
   "execution_count": 15,
   "metadata": {},
   "outputs": [
    {
     "data": {
      "text/plain": [
       "0"
      ]
     },
     "execution_count": 15,
     "metadata": {},
     "output_type": "execute_result"
    }
   ],
   "source": [
    "df.isnull().sum().sum()"
   ]
  },
  {
   "cell_type": "code",
   "execution_count": 73,
   "metadata": {},
   "outputs": [
    {
     "data": {
      "text/plain": [
       "0"
      ]
     },
     "execution_count": 73,
     "metadata": {},
     "output_type": "execute_result"
    }
   ],
   "source": [
    "df.duplicated().sum()"
   ]
  },
  {
   "attachments": {},
   "cell_type": "markdown",
   "metadata": {},
   "source": [
    "---\n",
    "\n",
    "Gender"
   ]
  },
  {
   "cell_type": "code",
   "execution_count": 16,
   "metadata": {},
   "outputs": [
    {
     "data": {
      "text/plain": [
       "Female                  59\n",
       "Male                    43\n",
       "Non-Binary               2\n",
       "Prefer Not to Answer     1\n",
       "Name: Gender, dtype: int64"
      ]
     },
     "execution_count": 16,
     "metadata": {},
     "output_type": "execute_result"
    }
   ],
   "source": [
    "df.Gender.value_counts()"
   ]
  },
  {
   "cell_type": "code",
   "execution_count": 17,
   "metadata": {},
   "outputs": [
    {
     "data": {
      "text/html": [
       "<div>\n",
       "<style scoped>\n",
       "    .dataframe tbody tr th:only-of-type {\n",
       "        vertical-align: middle;\n",
       "    }\n",
       "\n",
       "    .dataframe tbody tr th {\n",
       "        vertical-align: top;\n",
       "    }\n",
       "\n",
       "    .dataframe thead th {\n",
       "        text-align: right;\n",
       "    }\n",
       "</style>\n",
       "<table border=\"1\" class=\"dataframe\">\n",
       "  <thead>\n",
       "    <tr style=\"text-align: right;\">\n",
       "      <th></th>\n",
       "      <th>ID</th>\n",
       "      <th>Gender</th>\n",
       "      <th>Age</th>\n",
       "      <th>Income</th>\n",
       "      <th>Exercise</th>\n",
       "      <th>Coffee</th>\n",
       "      <th>Tea</th>\n",
       "      <th>Soda</th>\n",
       "      <th>Milk</th>\n",
       "      <th>Juice</th>\n",
       "      <th>...</th>\n",
       "      <th>Brand_Reputation</th>\n",
       "      <th>Health_Benefit</th>\n",
       "      <th>Caffeine_Content</th>\n",
       "      <th>Price</th>\n",
       "      <th>Platforms</th>\n",
       "      <th>Units</th>\n",
       "      <th>Purpose</th>\n",
       "      <th>Motto_Price</th>\n",
       "      <th>Motto_Likelihood</th>\n",
       "      <th>Motto_Flavor</th>\n",
       "    </tr>\n",
       "  </thead>\n",
       "  <tbody>\n",
       "    <tr>\n",
       "      <th>23</th>\n",
       "      <td>R_3iQHG3iy8UgvtNn</td>\n",
       "      <td>Prefer Not to Answer</td>\n",
       "      <td>22</td>\n",
       "      <td>$50,000 to $100,000 USD</td>\n",
       "      <td>1-3</td>\n",
       "      <td>4</td>\n",
       "      <td>5</td>\n",
       "      <td>2</td>\n",
       "      <td>2</td>\n",
       "      <td>3</td>\n",
       "      <td>...</td>\n",
       "      <td>4</td>\n",
       "      <td>4</td>\n",
       "      <td>1</td>\n",
       "      <td>4</td>\n",
       "      <td>Word of Mouth</td>\n",
       "      <td>Per Unit</td>\n",
       "      <td>Refreshment</td>\n",
       "      <td>7</td>\n",
       "      <td>7</td>\n",
       "      <td>Matcha</td>\n",
       "    </tr>\n",
       "    <tr>\n",
       "      <th>73</th>\n",
       "      <td>R_1rOk2qfmLT4Fiji</td>\n",
       "      <td>Non-Binary</td>\n",
       "      <td>18</td>\n",
       "      <td>&gt; $150,000 USD</td>\n",
       "      <td>0</td>\n",
       "      <td>1</td>\n",
       "      <td>1</td>\n",
       "      <td>5</td>\n",
       "      <td>1</td>\n",
       "      <td>5</td>\n",
       "      <td>...</td>\n",
       "      <td>4</td>\n",
       "      <td>4</td>\n",
       "      <td>4</td>\n",
       "      <td>4</td>\n",
       "      <td>Word of Mouth</td>\n",
       "      <td>Bulk</td>\n",
       "      <td>Increased Focus</td>\n",
       "      <td>12</td>\n",
       "      <td>10</td>\n",
       "      <td>Matcha</td>\n",
       "    </tr>\n",
       "    <tr>\n",
       "      <th>103</th>\n",
       "      <td>R_3EXf8i9JI7ovBVN</td>\n",
       "      <td>Non-Binary</td>\n",
       "      <td>19</td>\n",
       "      <td>&gt; $150,000 USD</td>\n",
       "      <td>4-6</td>\n",
       "      <td>3</td>\n",
       "      <td>4</td>\n",
       "      <td>2</td>\n",
       "      <td>4</td>\n",
       "      <td>4</td>\n",
       "      <td>...</td>\n",
       "      <td>4</td>\n",
       "      <td>3</td>\n",
       "      <td>1</td>\n",
       "      <td>5</td>\n",
       "      <td>Word of Mouth</td>\n",
       "      <td>Per Unit</td>\n",
       "      <td>Refreshment</td>\n",
       "      <td>3</td>\n",
       "      <td>9</td>\n",
       "      <td>Matcha</td>\n",
       "    </tr>\n",
       "  </tbody>\n",
       "</table>\n",
       "<p>3 rows × 27 columns</p>\n",
       "</div>"
      ],
      "text/plain": [
       "                    ID                Gender Age                   Income  \\\n",
       "23   R_3iQHG3iy8UgvtNn  Prefer Not to Answer  22  $50,000 to $100,000 USD   \n",
       "73   R_1rOk2qfmLT4Fiji            Non-Binary  18           > $150,000 USD   \n",
       "103  R_3EXf8i9JI7ovBVN            Non-Binary  19           > $150,000 USD   \n",
       "\n",
       "    Exercise Coffee Tea Soda Milk Juice  ... Brand_Reputation Health_Benefit  \\\n",
       "23       1-3      4   5    2    2     3  ...                4              4   \n",
       "73         0      1   1    5    1     5  ...                4              4   \n",
       "103      4-6      3   4    2    4     4  ...                4              3   \n",
       "\n",
       "    Caffeine_Content Price      Platforms     Units          Purpose  \\\n",
       "23                 1     4  Word of Mouth  Per Unit      Refreshment   \n",
       "73                 4     4  Word of Mouth      Bulk  Increased Focus   \n",
       "103                1     5  Word of Mouth  Per Unit      Refreshment   \n",
       "\n",
       "    Motto_Price Motto_Likelihood Motto_Flavor  \n",
       "23            7                7       Matcha  \n",
       "73           12               10       Matcha  \n",
       "103           3                9       Matcha  \n",
       "\n",
       "[3 rows x 27 columns]"
      ]
     },
     "execution_count": 17,
     "metadata": {},
     "output_type": "execute_result"
    }
   ],
   "source": [
    "df.loc[df.Gender.isin(['Non-Binary', 'Prefer Not to Answer'])]"
   ]
  },
  {
   "cell_type": "code",
   "execution_count": 18,
   "metadata": {},
   "outputs": [],
   "source": [
    "df.drop([23,73,103], inplace=True)"
   ]
  },
  {
   "cell_type": "code",
   "execution_count": 19,
   "metadata": {},
   "outputs": [
    {
     "data": {
      "text/plain": [
       "Female    59\n",
       "Male      43\n",
       "Name: Gender, dtype: int64"
      ]
     },
     "execution_count": 19,
     "metadata": {},
     "output_type": "execute_result"
    }
   ],
   "source": [
    "df.Gender.value_counts()"
   ]
  },
  {
   "attachments": {},
   "cell_type": "markdown",
   "metadata": {},
   "source": [
    "---\n",
    "\n",
    "Age"
   ]
  },
  {
   "cell_type": "code",
   "execution_count": 20,
   "metadata": {},
   "outputs": [],
   "source": [
    "df.Age = df.Age.astype(int)"
   ]
  },
  {
   "cell_type": "code",
   "execution_count": 21,
   "metadata": {},
   "outputs": [
    {
     "data": {
      "text/plain": [
       "16     1\n",
       "17     1\n",
       "18    10\n",
       "19    19\n",
       "20    29\n",
       "21    16\n",
       "22     7\n",
       "23     5\n",
       "24     5\n",
       "25     2\n",
       "26     3\n",
       "29     2\n",
       "31     1\n",
       "38     1\n",
       "Name: Age, dtype: int64"
      ]
     },
     "execution_count": 21,
     "metadata": {},
     "output_type": "execute_result"
    }
   ],
   "source": [
    "df.Age.value_counts().sort_index()"
   ]
  },
  {
   "attachments": {},
   "cell_type": "markdown",
   "metadata": {},
   "source": [
    "---\n",
    "\n",
    "Income"
   ]
  },
  {
   "cell_type": "code",
   "execution_count": 22,
   "metadata": {},
   "outputs": [
    {
     "data": {
      "text/plain": [
       "$100,000 to $150,000 USD    17\n",
       "$50,000 to $100,000 USD     27\n",
       "< $50,000 USD               32\n",
       "> $150,000 USD              26\n",
       "Name: Income, dtype: int64"
      ]
     },
     "execution_count": 22,
     "metadata": {},
     "output_type": "execute_result"
    }
   ],
   "source": [
    "df.Income.value_counts().sort_index()"
   ]
  },
  {
   "cell_type": "code",
   "execution_count": 23,
   "metadata": {},
   "outputs": [],
   "source": [
    "df.Income = df.Income.map(lambda x : '100,000-150,000' if x==\"$100,000 to $150,000 USD\"\n",
    "                  else ('50,000-100,000' if x=='$50,000 to $100,000 USD'\n",
    "                  else ('<50,000' if x=='< $50,000 USD'\n",
    "                  else ('>150,000' if x=='> $150,000 USD'\n",
    "                  else x\n",
    "                  )))).astype(str)"
   ]
  },
  {
   "cell_type": "code",
   "execution_count": 24,
   "metadata": {},
   "outputs": [
    {
     "data": {
      "text/plain": [
       "100,000-150,000    17\n",
       "50,000-100,000     27\n",
       "<50,000            32\n",
       ">150,000           26\n",
       "Name: Income, dtype: int64"
      ]
     },
     "execution_count": 24,
     "metadata": {},
     "output_type": "execute_result"
    }
   ],
   "source": [
    "df.Income.value_counts().sort_index()"
   ]
  },
  {
   "attachments": {},
   "cell_type": "markdown",
   "metadata": {},
   "source": [
    "---\n",
    "Exercise"
   ]
  },
  {
   "cell_type": "code",
   "execution_count": 25,
   "metadata": {},
   "outputs": [
    {
     "data": {
      "text/plain": [
       "0      16\n",
       "1-3    52\n",
       "4-6    32\n",
       "7+      2\n",
       "Name: Exercise, dtype: int64"
      ]
     },
     "execution_count": 25,
     "metadata": {},
     "output_type": "execute_result"
    }
   ],
   "source": [
    "df.Exercise.value_counts().sort_index()"
   ]
  },
  {
   "attachments": {},
   "cell_type": "markdown",
   "metadata": {},
   "source": [
    "---\n",
    "\n",
    "Preference"
   ]
  },
  {
   "cell_type": "code",
   "execution_count": 26,
   "metadata": {},
   "outputs": [],
   "source": [
    "df.Coffee = df.Coffee.astype(int)\n",
    "df.Tea = df.Tea.astype(int)\n",
    "df.Soda = df.Soda.astype(int)\n",
    "df.Milk = df.Milk.astype(int)\n",
    "df.Juice = df.Juice.astype(int)\n",
    "df.EnergyDrink = df.EnergyDrink.astype(int)\n",
    "df.SparklingWater = df.SparklingWater.astype(int)\n",
    "df.Alcohol = df.Alcohol.astype(int)\n"
   ]
  },
  {
   "cell_type": "code",
   "execution_count": 27,
   "metadata": {},
   "outputs": [
    {
     "data": {
      "text/plain": [
       "1    21\n",
       "2    19\n",
       "3     8\n",
       "4    23\n",
       "5    31\n",
       "Name: Coffee, dtype: int64"
      ]
     },
     "execution_count": 27,
     "metadata": {},
     "output_type": "execute_result"
    }
   ],
   "source": [
    "df.Coffee.value_counts().sort_index()"
   ]
  },
  {
   "cell_type": "code",
   "execution_count": 28,
   "metadata": {},
   "outputs": [
    {
     "data": {
      "text/plain": [
       "1    13\n",
       "2    12\n",
       "3    21\n",
       "4    42\n",
       "5    14\n",
       "Name: Tea, dtype: int64"
      ]
     },
     "execution_count": 28,
     "metadata": {},
     "output_type": "execute_result"
    }
   ],
   "source": [
    "df.Tea.value_counts().sort_index()"
   ]
  },
  {
   "cell_type": "code",
   "execution_count": 29,
   "metadata": {},
   "outputs": [
    {
     "data": {
      "text/plain": [
       "1    28\n",
       "2    24\n",
       "3    24\n",
       "4    17\n",
       "5     9\n",
       "Name: Soda, dtype: int64"
      ]
     },
     "execution_count": 29,
     "metadata": {},
     "output_type": "execute_result"
    }
   ],
   "source": [
    "df.Soda.value_counts().sort_index()"
   ]
  },
  {
   "cell_type": "code",
   "execution_count": 30,
   "metadata": {},
   "outputs": [
    {
     "data": {
      "text/plain": [
       "1    30\n",
       "2    30\n",
       "3    24\n",
       "4     9\n",
       "5     9\n",
       "Name: Milk, dtype: int64"
      ]
     },
     "execution_count": 30,
     "metadata": {},
     "output_type": "execute_result"
    }
   ],
   "source": [
    "df.Milk.value_counts().sort_index()"
   ]
  },
  {
   "cell_type": "code",
   "execution_count": 31,
   "metadata": {},
   "outputs": [
    {
     "data": {
      "text/plain": [
       "1    10\n",
       "2    19\n",
       "3    26\n",
       "4    26\n",
       "5    21\n",
       "Name: Juice, dtype: int64"
      ]
     },
     "execution_count": 31,
     "metadata": {},
     "output_type": "execute_result"
    }
   ],
   "source": [
    "df.Juice.value_counts().sort_index()"
   ]
  },
  {
   "cell_type": "code",
   "execution_count": 32,
   "metadata": {},
   "outputs": [
    {
     "data": {
      "text/plain": [
       "1    40\n",
       "2    25\n",
       "3    13\n",
       "4    18\n",
       "5     6\n",
       "Name: EnergyDrink, dtype: int64"
      ]
     },
     "execution_count": 32,
     "metadata": {},
     "output_type": "execute_result"
    }
   ],
   "source": [
    "df.EnergyDrink.value_counts().sort_index()"
   ]
  },
  {
   "cell_type": "code",
   "execution_count": 33,
   "metadata": {},
   "outputs": [
    {
     "data": {
      "text/plain": [
       "1    37\n",
       "2    22\n",
       "3    24\n",
       "4     8\n",
       "5    11\n",
       "Name: SparklingWater, dtype: int64"
      ]
     },
     "execution_count": 33,
     "metadata": {},
     "output_type": "execute_result"
    }
   ],
   "source": [
    "df.SparklingWater.value_counts().sort_index()"
   ]
  },
  {
   "cell_type": "code",
   "execution_count": 34,
   "metadata": {},
   "outputs": [
    {
     "data": {
      "text/plain": [
       "1    21\n",
       "2    24\n",
       "3    28\n",
       "4    15\n",
       "5    14\n",
       "Name: Alcohol, dtype: int64"
      ]
     },
     "execution_count": 34,
     "metadata": {},
     "output_type": "execute_result"
    }
   ],
   "source": [
    "df.Alcohol.value_counts().sort_index()"
   ]
  },
  {
   "attachments": {},
   "cell_type": "markdown",
   "metadata": {},
   "source": [
    "---\n",
    "\n",
    "Purchase Location"
   ]
  },
  {
   "cell_type": "code",
   "execution_count": 35,
   "metadata": {},
   "outputs": [
    {
     "data": {
      "text/plain": [
       "Convenience Stores    58\n",
       "Online                 5\n",
       "Restaurants/Cafes     21\n",
       "Supermarkets          18\n",
       "Name: Purchase_Location, dtype: int64"
      ]
     },
     "execution_count": 35,
     "metadata": {},
     "output_type": "execute_result"
    }
   ],
   "source": [
    "df.Purchase_Location.value_counts().sort_index()"
   ]
  },
  {
   "attachments": {},
   "cell_type": "markdown",
   "metadata": {},
   "source": [
    "---\n",
    "\n",
    "Ingredients Quality"
   ]
  },
  {
   "cell_type": "code",
   "execution_count": 36,
   "metadata": {},
   "outputs": [],
   "source": [
    "df.Ingredients_Quality = df.Ingredients_Quality.astype(int)"
   ]
  },
  {
   "cell_type": "code",
   "execution_count": 37,
   "metadata": {},
   "outputs": [
    {
     "data": {
      "text/plain": [
       "0     5\n",
       "1    18\n",
       "3    27\n",
       "4    36\n",
       "5    16\n",
       "Name: Ingredients_Quality, dtype: int64"
      ]
     },
     "execution_count": 37,
     "metadata": {},
     "output_type": "execute_result"
    }
   ],
   "source": [
    "df.Ingredients_Quality.value_counts().sort_index()"
   ]
  },
  {
   "attachments": {},
   "cell_type": "markdown",
   "metadata": {},
   "source": [
    "---\n",
    "\n",
    "Daily Consumption"
   ]
  },
  {
   "cell_type": "code",
   "execution_count": 38,
   "metadata": {},
   "outputs": [
    {
     "data": {
      "text/plain": [
       "0          8\n",
       "0.16       1\n",
       "1         30\n",
       "1-2        3\n",
       "1.5 oz     1\n",
       "10         1\n",
       "2         31\n",
       "2-3        2\n",
       "3         17\n",
       "4          4\n",
       "5          3\n",
       "6          1\n",
       "Name: Consumption, dtype: int64"
      ]
     },
     "execution_count": 38,
     "metadata": {},
     "output_type": "execute_result"
    }
   ],
   "source": [
    "df.Consumption.value_counts().sort_index()"
   ]
  },
  {
   "cell_type": "code",
   "execution_count": 39,
   "metadata": {},
   "outputs": [],
   "source": [
    "df.Consumption = df.Consumption.map(lambda x : '0' if ((x=='0.16') or (x=='1.5 oz')) else ('2' if x=='1-2' else ('3' if x=='2-3' else x))).astype(int)"
   ]
  },
  {
   "cell_type": "code",
   "execution_count": 40,
   "metadata": {},
   "outputs": [
    {
     "data": {
      "text/plain": [
       "0     10\n",
       "1     30\n",
       "2     34\n",
       "3     19\n",
       "4      4\n",
       "5      3\n",
       "6      1\n",
       "10     1\n",
       "Name: Consumption, dtype: int64"
      ]
     },
     "execution_count": 40,
     "metadata": {},
     "output_type": "execute_result"
    }
   ],
   "source": [
    "df.Consumption.value_counts().sort_index()"
   ]
  },
  {
   "attachments": {},
   "cell_type": "markdown",
   "metadata": {},
   "source": [
    "---\n",
    "\n",
    "Attributes"
   ]
  },
  {
   "cell_type": "code",
   "execution_count": 41,
   "metadata": {},
   "outputs": [],
   "source": [
    "df.Taste = df.Taste.astype(int)\n",
    "df.Brand_Reputation = df.Brand_Reputation.astype(int)\n",
    "df.Health_Benefit = df.Health_Benefit.astype(int)\n",
    "df.Caffeine_Content = df.Caffeine_Content.astype(int)\n",
    "df.Price = df.Price.astype(int)"
   ]
  },
  {
   "cell_type": "code",
   "execution_count": 42,
   "metadata": {},
   "outputs": [
    {
     "data": {
      "text/plain": [
       "1     1\n",
       "3     9\n",
       "4    29\n",
       "5    63\n",
       "Name: Taste, dtype: int64"
      ]
     },
     "execution_count": 42,
     "metadata": {},
     "output_type": "execute_result"
    }
   ],
   "source": [
    "df.Taste.value_counts().sort_index()"
   ]
  },
  {
   "cell_type": "code",
   "execution_count": 43,
   "metadata": {},
   "outputs": [
    {
     "data": {
      "text/plain": [
       "0     7\n",
       "1    33\n",
       "3    39\n",
       "4    18\n",
       "5     5\n",
       "Name: Brand_Reputation, dtype: int64"
      ]
     },
     "execution_count": 43,
     "metadata": {},
     "output_type": "execute_result"
    }
   ],
   "source": [
    "df.Brand_Reputation.value_counts().sort_index()"
   ]
  },
  {
   "cell_type": "code",
   "execution_count": 44,
   "metadata": {},
   "outputs": [
    {
     "data": {
      "text/plain": [
       "0     4\n",
       "1    19\n",
       "3    25\n",
       "4    36\n",
       "5    18\n",
       "Name: Health_Benefit, dtype: int64"
      ]
     },
     "execution_count": 44,
     "metadata": {},
     "output_type": "execute_result"
    }
   ],
   "source": [
    "df.Health_Benefit.value_counts().sort_index()"
   ]
  },
  {
   "cell_type": "code",
   "execution_count": 45,
   "metadata": {},
   "outputs": [
    {
     "data": {
      "text/plain": [
       "0    15\n",
       "1    11\n",
       "3    32\n",
       "4    29\n",
       "5    15\n",
       "Name: Caffeine_Content, dtype: int64"
      ]
     },
     "execution_count": 45,
     "metadata": {},
     "output_type": "execute_result"
    }
   ],
   "source": [
    "df.Caffeine_Content.value_counts().sort_index()"
   ]
  },
  {
   "cell_type": "code",
   "execution_count": 46,
   "metadata": {},
   "outputs": [
    {
     "data": {
      "text/plain": [
       "0     4\n",
       "1    16\n",
       "3    27\n",
       "4    38\n",
       "5    17\n",
       "Name: Price, dtype: int64"
      ]
     },
     "execution_count": 46,
     "metadata": {},
     "output_type": "execute_result"
    }
   ],
   "source": [
    "df.Price.value_counts().sort_index()"
   ]
  },
  {
   "attachments": {},
   "cell_type": "markdown",
   "metadata": {},
   "source": [
    "---\n",
    "\n",
    "Platforms"
   ]
  },
  {
   "cell_type": "code",
   "execution_count": 47,
   "metadata": {},
   "outputs": [
    {
     "data": {
      "text/plain": [
       "In-Store Ads     12\n",
       "Instagram        13\n",
       "TikTok           13\n",
       "Web Ads           2\n",
       "Word of Mouth    62\n",
       "Name: Platforms, dtype: int64"
      ]
     },
     "execution_count": 47,
     "metadata": {},
     "output_type": "execute_result"
    }
   ],
   "source": [
    "df.Platforms.value_counts().sort_index()"
   ]
  },
  {
   "attachments": {},
   "cell_type": "markdown",
   "metadata": {},
   "source": [
    "---\n",
    "\n",
    "Units"
   ]
  },
  {
   "cell_type": "code",
   "execution_count": 48,
   "metadata": {},
   "outputs": [
    {
     "data": {
      "text/plain": [
       "Bulk        25\n",
       "Per Unit    77\n",
       "Name: Units, dtype: int64"
      ]
     },
     "execution_count": 48,
     "metadata": {},
     "output_type": "execute_result"
    }
   ],
   "source": [
    "df.Units.value_counts().sort_index()"
   ]
  },
  {
   "attachments": {},
   "cell_type": "markdown",
   "metadata": {},
   "source": [
    "---\n",
    "Purpose"
   ]
  },
  {
   "cell_type": "code",
   "execution_count": 49,
   "metadata": {},
   "outputs": [
    {
     "data": {
      "text/plain": [
       "Alcohol Subsitute      1\n",
       "Dining Compliments    10\n",
       "Energy Boost          21\n",
       "Increased Focus       16\n",
       "Refreshment           54\n",
       "Name: Purpose, dtype: int64"
      ]
     },
     "execution_count": 49,
     "metadata": {},
     "output_type": "execute_result"
    }
   ],
   "source": [
    "df.Purpose.value_counts().sort_index()"
   ]
  },
  {
   "attachments": {},
   "cell_type": "markdown",
   "metadata": {},
   "source": [
    "---\n",
    "\n",
    "Motto Price"
   ]
  },
  {
   "cell_type": "code",
   "execution_count": 50,
   "metadata": {},
   "outputs": [
    {
     "data": {
      "text/plain": [
       "$1.5                   1\n",
       "$2                     3\n",
       "$2.5                   1\n",
       "$3                     1\n",
       "$4                     3\n",
       "$5                     1\n",
       "0                      2\n",
       "1                      5\n",
       "1.2                    1\n",
       "1.75                   1\n",
       "12                     1\n",
       "2                     11\n",
       "2 U84-89-0308          1\n",
       "2.45                   1\n",
       "2.5                    4\n",
       "2.50                   1\n",
       "2.75                   1\n",
       "3                     20\n",
       "3.5                    5\n",
       "3.50                   4\n",
       "4                     17\n",
       "5                     10\n",
       "5.7                    1\n",
       "5?                     1\n",
       "6                      1\n",
       "6.3                    1\n",
       "6.5                    1\n",
       "7                      1\n",
       "I don’t drink soda     1\n",
       "Name: Motto_Price, dtype: int64"
      ]
     },
     "execution_count": 50,
     "metadata": {},
     "output_type": "execute_result"
    }
   ],
   "source": [
    "df.Motto_Price.value_counts().sort_index()"
   ]
  },
  {
   "cell_type": "code",
   "execution_count": 51,
   "metadata": {},
   "outputs": [],
   "source": [
    "df.Motto_Price = df.Motto_Price.map(lambda x : '0' if x==\"I don’t drink soda\"\n",
    "                  else ('5' if x=='5?'\n",
    "                  else ('2' if x=='2 U84-89-0308'\n",
    "                  else ('1.5' if x=='$1.5'\n",
    "                  else ('2' if x=='$2'\n",
    "                  else ('2.5' if x=='$2.5'\n",
    "                  else ('3' if x=='$3'\n",
    "                  else ('4' if x=='$4'\n",
    "                  else ('5' if x=='$5'\n",
    "                  else x\n",
    "                  ))))))))).astype(float)"
   ]
  },
  {
   "cell_type": "code",
   "execution_count": 52,
   "metadata": {},
   "outputs": [
    {
     "data": {
      "text/plain": [
       "0.00      3\n",
       "1.00      5\n",
       "1.20      1\n",
       "1.50      1\n",
       "1.75      1\n",
       "2.00     15\n",
       "2.45      1\n",
       "2.50      6\n",
       "2.75      1\n",
       "3.00     21\n",
       "3.50      9\n",
       "4.00     20\n",
       "5.00     12\n",
       "5.70      1\n",
       "6.00      1\n",
       "6.30      1\n",
       "6.50      1\n",
       "7.00      1\n",
       "12.00     1\n",
       "Name: Motto_Price, dtype: int64"
      ]
     },
     "execution_count": 52,
     "metadata": {},
     "output_type": "execute_result"
    }
   ],
   "source": [
    "df.Motto_Price.value_counts().sort_index()"
   ]
  },
  {
   "attachments": {},
   "cell_type": "markdown",
   "metadata": {},
   "source": [
    "---\n",
    "\n",
    "Motto Likelihood"
   ]
  },
  {
   "cell_type": "code",
   "execution_count": 53,
   "metadata": {},
   "outputs": [
    {
     "data": {
      "text/plain": [
       "0      4\n",
       "1      2\n",
       "10     7\n",
       "2      7\n",
       "3     10\n",
       "4      3\n",
       "5     13\n",
       "6     10\n",
       "7     24\n",
       "8     18\n",
       "9      4\n",
       "Name: Motto_Likelihood, dtype: int64"
      ]
     },
     "execution_count": 53,
     "metadata": {},
     "output_type": "execute_result"
    }
   ],
   "source": [
    "df.Motto_Likelihood.value_counts().sort_index()"
   ]
  },
  {
   "cell_type": "code",
   "execution_count": 54,
   "metadata": {},
   "outputs": [],
   "source": [
    "df.Motto_Likelihood = df.Motto_Likelihood.astype(int)"
   ]
  },
  {
   "cell_type": "code",
   "execution_count": 55,
   "metadata": {},
   "outputs": [
    {
     "data": {
      "text/plain": [
       "0      4\n",
       "1      2\n",
       "2      7\n",
       "3     10\n",
       "4      3\n",
       "5     13\n",
       "6     10\n",
       "7     24\n",
       "8     18\n",
       "9      4\n",
       "10     7\n",
       "Name: Motto_Likelihood, dtype: int64"
      ]
     },
     "execution_count": 55,
     "metadata": {},
     "output_type": "execute_result"
    }
   ],
   "source": [
    "df.Motto_Likelihood.value_counts().sort_index()"
   ]
  },
  {
   "attachments": {},
   "cell_type": "markdown",
   "metadata": {},
   "source": [
    "---\n",
    "\n",
    "Motto Flavor"
   ]
  },
  {
   "cell_type": "code",
   "execution_count": 56,
   "metadata": {},
   "outputs": [
    {
     "data": {
      "text/plain": [
       "Matcha     71\n",
       "Rooibos    31\n",
       "Name: Motto_Flavor, dtype: int64"
      ]
     },
     "execution_count": 56,
     "metadata": {},
     "output_type": "execute_result"
    }
   ],
   "source": [
    "df.Motto_Flavor.value_counts().sort_index()"
   ]
  },
  {
   "attachments": {},
   "cell_type": "markdown",
   "metadata": {},
   "source": [
    "---\n",
    "\n",
    "INFO"
   ]
  },
  {
   "cell_type": "code",
   "execution_count": 57,
   "metadata": {},
   "outputs": [
    {
     "data": {
      "text/plain": [
       "Index(['ID', 'Gender', 'Age', 'Income', 'Exercise', 'Coffee', 'Tea', 'Soda',\n",
       "       'Milk', 'Juice', 'EnergyDrink', 'SparklingWater', 'Alcohol',\n",
       "       'Purchase_Location', 'Ingredients_Quality', 'Consumption', 'Taste',\n",
       "       'Brand_Reputation', 'Health_Benefit', 'Caffeine_Content', 'Price',\n",
       "       'Platforms', 'Units', 'Purpose', 'Motto_Price', 'Motto_Likelihood',\n",
       "       'Motto_Flavor'],\n",
       "      dtype='object')"
      ]
     },
     "execution_count": 57,
     "metadata": {},
     "output_type": "execute_result"
    }
   ],
   "source": [
    "df.columns"
   ]
  },
  {
   "cell_type": "code",
   "execution_count": 58,
   "metadata": {},
   "outputs": [
    {
     "name": "stdout",
     "output_type": "stream",
     "text": [
      "<class 'pandas.core.frame.DataFrame'>\n",
      "Int64Index: 102 entries, 2 to 108\n",
      "Data columns (total 20 columns):\n",
      " #   Column               Non-Null Count  Dtype \n",
      "---  ------               --------------  ----- \n",
      " 0   ID                   102 non-null    object\n",
      " 1   Gender               102 non-null    object\n",
      " 2   Age                  102 non-null    int64 \n",
      " 3   Income               102 non-null    object\n",
      " 4   Exercise             102 non-null    object\n",
      " 5   Coffee               102 non-null    int64 \n",
      " 6   Tea                  102 non-null    int64 \n",
      " 7   Soda                 102 non-null    int64 \n",
      " 8   Milk                 102 non-null    int64 \n",
      " 9   Juice                102 non-null    int64 \n",
      " 10  EnergyDrink          102 non-null    int64 \n",
      " 11  SparklingWater       102 non-null    int64 \n",
      " 12  Alcohol              102 non-null    int64 \n",
      " 13  Purchase_Location    102 non-null    object\n",
      " 14  Ingredients_Quality  102 non-null    int64 \n",
      " 15  Consumption          102 non-null    int64 \n",
      " 16  Taste                102 non-null    int64 \n",
      " 17  Brand_Reputation     102 non-null    int64 \n",
      " 18  Health_Benefit       102 non-null    int64 \n",
      " 19  Caffeine_Content     102 non-null    int64 \n",
      "dtypes: int64(15), object(5)\n",
      "memory usage: 16.7+ KB\n"
     ]
    }
   ],
   "source": [
    "df[['ID', 'Gender', 'Age', 'Income', 'Exercise', 'Coffee', 'Tea', 'Soda',\n",
    "       'Milk', 'Juice', 'EnergyDrink', 'SparklingWater', 'Alcohol',\n",
    "       'Purchase_Location', 'Ingredients_Quality', 'Consumption', 'Taste',\n",
    "       'Brand_Reputation', 'Health_Benefit', 'Caffeine_Content']].info()"
   ]
  },
  {
   "cell_type": "code",
   "execution_count": 59,
   "metadata": {},
   "outputs": [
    {
     "name": "stdout",
     "output_type": "stream",
     "text": [
      "<class 'pandas.core.frame.DataFrame'>\n",
      "Int64Index: 102 entries, 2 to 108\n",
      "Data columns (total 7 columns):\n",
      " #   Column            Non-Null Count  Dtype  \n",
      "---  ------            --------------  -----  \n",
      " 0   Price             102 non-null    int64  \n",
      " 1   Platforms         102 non-null    object \n",
      " 2   Units             102 non-null    object \n",
      " 3   Purpose           102 non-null    object \n",
      " 4   Motto_Price       102 non-null    float64\n",
      " 5   Motto_Likelihood  102 non-null    int64  \n",
      " 6   Motto_Flavor      102 non-null    object \n",
      "dtypes: float64(1), int64(2), object(4)\n",
      "memory usage: 6.4+ KB\n"
     ]
    }
   ],
   "source": [
    "df[['Price', 'Platforms', 'Units', 'Purpose', 'Motto_Price', 'Motto_Likelihood', 'Motto_Flavor']].info()"
   ]
  },
  {
   "attachments": {},
   "cell_type": "markdown",
   "metadata": {},
   "source": [
    "---\n",
    "\n",
    "To CSV"
   ]
  },
  {
   "cell_type": "code",
   "execution_count": 60,
   "metadata": {},
   "outputs": [
    {
     "data": {
      "text/html": [
       "<div>\n",
       "<style scoped>\n",
       "    .dataframe tbody tr th:only-of-type {\n",
       "        vertical-align: middle;\n",
       "    }\n",
       "\n",
       "    .dataframe tbody tr th {\n",
       "        vertical-align: top;\n",
       "    }\n",
       "\n",
       "    .dataframe thead th {\n",
       "        text-align: right;\n",
       "    }\n",
       "</style>\n",
       "<table border=\"1\" class=\"dataframe\">\n",
       "  <thead>\n",
       "    <tr style=\"text-align: right;\">\n",
       "      <th></th>\n",
       "      <th>ID</th>\n",
       "      <th>Gender</th>\n",
       "      <th>Age</th>\n",
       "      <th>Income</th>\n",
       "      <th>Exercise</th>\n",
       "      <th>Coffee</th>\n",
       "      <th>Tea</th>\n",
       "      <th>Soda</th>\n",
       "      <th>Milk</th>\n",
       "      <th>Juice</th>\n",
       "      <th>...</th>\n",
       "      <th>Brand_Reputation</th>\n",
       "      <th>Health_Benefit</th>\n",
       "      <th>Caffeine_Content</th>\n",
       "      <th>Price</th>\n",
       "      <th>Platforms</th>\n",
       "      <th>Units</th>\n",
       "      <th>Purpose</th>\n",
       "      <th>Motto_Price</th>\n",
       "      <th>Motto_Likelihood</th>\n",
       "      <th>Motto_Flavor</th>\n",
       "    </tr>\n",
       "  </thead>\n",
       "  <tbody>\n",
       "    <tr>\n",
       "      <th>2</th>\n",
       "      <td>R_UEENeM2ghM5uKK5</td>\n",
       "      <td>Male</td>\n",
       "      <td>24</td>\n",
       "      <td>&gt;150,000</td>\n",
       "      <td>4-6</td>\n",
       "      <td>4</td>\n",
       "      <td>5</td>\n",
       "      <td>1</td>\n",
       "      <td>1</td>\n",
       "      <td>2</td>\n",
       "      <td>...</td>\n",
       "      <td>4</td>\n",
       "      <td>5</td>\n",
       "      <td>3</td>\n",
       "      <td>0</td>\n",
       "      <td>In-Store Ads</td>\n",
       "      <td>Per Unit</td>\n",
       "      <td>Refreshment</td>\n",
       "      <td>4.0</td>\n",
       "      <td>7</td>\n",
       "      <td>Matcha</td>\n",
       "    </tr>\n",
       "    <tr>\n",
       "      <th>3</th>\n",
       "      <td>R_AzdTD7ACCdSVCTv</td>\n",
       "      <td>Male</td>\n",
       "      <td>23</td>\n",
       "      <td>50,000-100,000</td>\n",
       "      <td>1-3</td>\n",
       "      <td>2</td>\n",
       "      <td>1</td>\n",
       "      <td>5</td>\n",
       "      <td>3</td>\n",
       "      <td>4</td>\n",
       "      <td>...</td>\n",
       "      <td>1</td>\n",
       "      <td>0</td>\n",
       "      <td>1</td>\n",
       "      <td>3</td>\n",
       "      <td>Word of Mouth</td>\n",
       "      <td>Bulk</td>\n",
       "      <td>Refreshment</td>\n",
       "      <td>0.0</td>\n",
       "      <td>0</td>\n",
       "      <td>Rooibos</td>\n",
       "    </tr>\n",
       "    <tr>\n",
       "      <th>4</th>\n",
       "      <td>R_2642Y0EiU2ABVzi</td>\n",
       "      <td>Male</td>\n",
       "      <td>24</td>\n",
       "      <td>100,000-150,000</td>\n",
       "      <td>1-3</td>\n",
       "      <td>2</td>\n",
       "      <td>3</td>\n",
       "      <td>4</td>\n",
       "      <td>1</td>\n",
       "      <td>4</td>\n",
       "      <td>...</td>\n",
       "      <td>3</td>\n",
       "      <td>4</td>\n",
       "      <td>4</td>\n",
       "      <td>4</td>\n",
       "      <td>Word of Mouth</td>\n",
       "      <td>Per Unit</td>\n",
       "      <td>Refreshment</td>\n",
       "      <td>2.0</td>\n",
       "      <td>8</td>\n",
       "      <td>Matcha</td>\n",
       "    </tr>\n",
       "    <tr>\n",
       "      <th>5</th>\n",
       "      <td>R_1ONMulo6dpFaq04</td>\n",
       "      <td>Male</td>\n",
       "      <td>26</td>\n",
       "      <td>&lt;50,000</td>\n",
       "      <td>0</td>\n",
       "      <td>2</td>\n",
       "      <td>4</td>\n",
       "      <td>1</td>\n",
       "      <td>5</td>\n",
       "      <td>2</td>\n",
       "      <td>...</td>\n",
       "      <td>1</td>\n",
       "      <td>5</td>\n",
       "      <td>5</td>\n",
       "      <td>1</td>\n",
       "      <td>Instagram</td>\n",
       "      <td>Per Unit</td>\n",
       "      <td>Increased Focus</td>\n",
       "      <td>6.0</td>\n",
       "      <td>7</td>\n",
       "      <td>Matcha</td>\n",
       "    </tr>\n",
       "    <tr>\n",
       "      <th>6</th>\n",
       "      <td>R_1lo8HoT9csBWOxP</td>\n",
       "      <td>Female</td>\n",
       "      <td>24</td>\n",
       "      <td>100,000-150,000</td>\n",
       "      <td>1-3</td>\n",
       "      <td>2</td>\n",
       "      <td>3</td>\n",
       "      <td>1</td>\n",
       "      <td>2</td>\n",
       "      <td>3</td>\n",
       "      <td>...</td>\n",
       "      <td>1</td>\n",
       "      <td>5</td>\n",
       "      <td>5</td>\n",
       "      <td>3</td>\n",
       "      <td>Word of Mouth</td>\n",
       "      <td>Per Unit</td>\n",
       "      <td>Increased Focus</td>\n",
       "      <td>6.5</td>\n",
       "      <td>7</td>\n",
       "      <td>Matcha</td>\n",
       "    </tr>\n",
       "    <tr>\n",
       "      <th>...</th>\n",
       "      <td>...</td>\n",
       "      <td>...</td>\n",
       "      <td>...</td>\n",
       "      <td>...</td>\n",
       "      <td>...</td>\n",
       "      <td>...</td>\n",
       "      <td>...</td>\n",
       "      <td>...</td>\n",
       "      <td>...</td>\n",
       "      <td>...</td>\n",
       "      <td>...</td>\n",
       "      <td>...</td>\n",
       "      <td>...</td>\n",
       "      <td>...</td>\n",
       "      <td>...</td>\n",
       "      <td>...</td>\n",
       "      <td>...</td>\n",
       "      <td>...</td>\n",
       "      <td>...</td>\n",
       "      <td>...</td>\n",
       "      <td>...</td>\n",
       "    </tr>\n",
       "    <tr>\n",
       "      <th>104</th>\n",
       "      <td>R_3lQDroR045aAk6M</td>\n",
       "      <td>Female</td>\n",
       "      <td>23</td>\n",
       "      <td>&gt;150,000</td>\n",
       "      <td>4-6</td>\n",
       "      <td>4</td>\n",
       "      <td>3</td>\n",
       "      <td>3</td>\n",
       "      <td>2</td>\n",
       "      <td>2</td>\n",
       "      <td>...</td>\n",
       "      <td>3</td>\n",
       "      <td>3</td>\n",
       "      <td>5</td>\n",
       "      <td>1</td>\n",
       "      <td>In-Store Ads</td>\n",
       "      <td>Per Unit</td>\n",
       "      <td>Energy Boost</td>\n",
       "      <td>5.0</td>\n",
       "      <td>3</td>\n",
       "      <td>Matcha</td>\n",
       "    </tr>\n",
       "    <tr>\n",
       "      <th>105</th>\n",
       "      <td>R_3KPE06VqIEladT4</td>\n",
       "      <td>Female</td>\n",
       "      <td>19</td>\n",
       "      <td>50,000-100,000</td>\n",
       "      <td>1-3</td>\n",
       "      <td>4</td>\n",
       "      <td>5</td>\n",
       "      <td>2</td>\n",
       "      <td>4</td>\n",
       "      <td>4</td>\n",
       "      <td>...</td>\n",
       "      <td>5</td>\n",
       "      <td>5</td>\n",
       "      <td>4</td>\n",
       "      <td>4</td>\n",
       "      <td>In-Store Ads</td>\n",
       "      <td>Per Unit</td>\n",
       "      <td>Refreshment</td>\n",
       "      <td>3.0</td>\n",
       "      <td>7</td>\n",
       "      <td>Matcha</td>\n",
       "    </tr>\n",
       "    <tr>\n",
       "      <th>106</th>\n",
       "      <td>R_3lyPQPa7kP0tEis</td>\n",
       "      <td>Female</td>\n",
       "      <td>21</td>\n",
       "      <td>&gt;150,000</td>\n",
       "      <td>0</td>\n",
       "      <td>1</td>\n",
       "      <td>4</td>\n",
       "      <td>2</td>\n",
       "      <td>1</td>\n",
       "      <td>3</td>\n",
       "      <td>...</td>\n",
       "      <td>3</td>\n",
       "      <td>4</td>\n",
       "      <td>0</td>\n",
       "      <td>0</td>\n",
       "      <td>Word of Mouth</td>\n",
       "      <td>Per Unit</td>\n",
       "      <td>Refreshment</td>\n",
       "      <td>4.0</td>\n",
       "      <td>9</td>\n",
       "      <td>Matcha</td>\n",
       "    </tr>\n",
       "    <tr>\n",
       "      <th>107</th>\n",
       "      <td>R_3qD4xaOcxjG2EXM</td>\n",
       "      <td>Male</td>\n",
       "      <td>21</td>\n",
       "      <td>50,000-100,000</td>\n",
       "      <td>1-3</td>\n",
       "      <td>4</td>\n",
       "      <td>2</td>\n",
       "      <td>3</td>\n",
       "      <td>4</td>\n",
       "      <td>5</td>\n",
       "      <td>...</td>\n",
       "      <td>5</td>\n",
       "      <td>4</td>\n",
       "      <td>4</td>\n",
       "      <td>4</td>\n",
       "      <td>Word of Mouth</td>\n",
       "      <td>Bulk</td>\n",
       "      <td>Refreshment</td>\n",
       "      <td>5.0</td>\n",
       "      <td>8</td>\n",
       "      <td>Matcha</td>\n",
       "    </tr>\n",
       "    <tr>\n",
       "      <th>108</th>\n",
       "      <td>R_31QRAtBU3ck1VSG</td>\n",
       "      <td>Male</td>\n",
       "      <td>22</td>\n",
       "      <td>&gt;150,000</td>\n",
       "      <td>1-3</td>\n",
       "      <td>5</td>\n",
       "      <td>5</td>\n",
       "      <td>3</td>\n",
       "      <td>3</td>\n",
       "      <td>4</td>\n",
       "      <td>...</td>\n",
       "      <td>3</td>\n",
       "      <td>4</td>\n",
       "      <td>3</td>\n",
       "      <td>3</td>\n",
       "      <td>Word of Mouth</td>\n",
       "      <td>Per Unit</td>\n",
       "      <td>Refreshment</td>\n",
       "      <td>3.5</td>\n",
       "      <td>7</td>\n",
       "      <td>Matcha</td>\n",
       "    </tr>\n",
       "  </tbody>\n",
       "</table>\n",
       "<p>102 rows × 27 columns</p>\n",
       "</div>"
      ],
      "text/plain": [
       "                    ID  Gender  Age           Income Exercise  Coffee  Tea  \\\n",
       "2    R_UEENeM2ghM5uKK5    Male   24         >150,000      4-6       4    5   \n",
       "3    R_AzdTD7ACCdSVCTv    Male   23   50,000-100,000      1-3       2    1   \n",
       "4    R_2642Y0EiU2ABVzi    Male   24  100,000-150,000      1-3       2    3   \n",
       "5    R_1ONMulo6dpFaq04    Male   26          <50,000        0       2    4   \n",
       "6    R_1lo8HoT9csBWOxP  Female   24  100,000-150,000      1-3       2    3   \n",
       "..                 ...     ...  ...              ...      ...     ...  ...   \n",
       "104  R_3lQDroR045aAk6M  Female   23         >150,000      4-6       4    3   \n",
       "105  R_3KPE06VqIEladT4  Female   19   50,000-100,000      1-3       4    5   \n",
       "106  R_3lyPQPa7kP0tEis  Female   21         >150,000        0       1    4   \n",
       "107  R_3qD4xaOcxjG2EXM    Male   21   50,000-100,000      1-3       4    2   \n",
       "108  R_31QRAtBU3ck1VSG    Male   22         >150,000      1-3       5    5   \n",
       "\n",
       "     Soda  Milk  Juice  ...  Brand_Reputation  Health_Benefit  \\\n",
       "2       1     1      2  ...                 4               5   \n",
       "3       5     3      4  ...                 1               0   \n",
       "4       4     1      4  ...                 3               4   \n",
       "5       1     5      2  ...                 1               5   \n",
       "6       1     2      3  ...                 1               5   \n",
       "..    ...   ...    ...  ...               ...             ...   \n",
       "104     3     2      2  ...                 3               3   \n",
       "105     2     4      4  ...                 5               5   \n",
       "106     2     1      3  ...                 3               4   \n",
       "107     3     4      5  ...                 5               4   \n",
       "108     3     3      4  ...                 3               4   \n",
       "\n",
       "     Caffeine_Content Price      Platforms     Units          Purpose  \\\n",
       "2                   3     0   In-Store Ads  Per Unit      Refreshment   \n",
       "3                   1     3  Word of Mouth      Bulk      Refreshment   \n",
       "4                   4     4  Word of Mouth  Per Unit      Refreshment   \n",
       "5                   5     1      Instagram  Per Unit  Increased Focus   \n",
       "6                   5     3  Word of Mouth  Per Unit  Increased Focus   \n",
       "..                ...   ...            ...       ...              ...   \n",
       "104                 5     1   In-Store Ads  Per Unit     Energy Boost   \n",
       "105                 4     4   In-Store Ads  Per Unit      Refreshment   \n",
       "106                 0     0  Word of Mouth  Per Unit      Refreshment   \n",
       "107                 4     4  Word of Mouth      Bulk      Refreshment   \n",
       "108                 3     3  Word of Mouth  Per Unit      Refreshment   \n",
       "\n",
       "     Motto_Price  Motto_Likelihood  Motto_Flavor  \n",
       "2            4.0                 7        Matcha  \n",
       "3            0.0                 0       Rooibos  \n",
       "4            2.0                 8        Matcha  \n",
       "5            6.0                 7        Matcha  \n",
       "6            6.5                 7        Matcha  \n",
       "..           ...               ...           ...  \n",
       "104          5.0                 3        Matcha  \n",
       "105          3.0                 7        Matcha  \n",
       "106          4.0                 9        Matcha  \n",
       "107          5.0                 8        Matcha  \n",
       "108          3.5                 7        Matcha  \n",
       "\n",
       "[102 rows x 27 columns]"
      ]
     },
     "execution_count": 60,
     "metadata": {},
     "output_type": "execute_result"
    }
   ],
   "source": [
    "df"
   ]
  },
  {
   "cell_type": "code",
   "execution_count": 61,
   "metadata": {},
   "outputs": [],
   "source": [
    "df.to_csv('data/cleaned_data.csv', encoding=None)"
   ]
  },
  {
   "cell_type": "code",
   "execution_count": 70,
   "metadata": {},
   "outputs": [
    {
     "name": "stdout",
     "output_type": "stream",
     "text": [
      "    Motto_Likelihood\n",
      "0           0.039216\n",
      "1           0.019608\n",
      "2           0.068627\n",
      "3           0.098039\n",
      "4           0.029412\n",
      "5           0.127451\n",
      "6           0.098039\n",
      "7           0.235294\n",
      "8           0.176471\n",
      "9           0.039216\n",
      "10          0.068627\n"
     ]
    },
    {
     "data": {
      "image/png": "[encoded data removed]",
      "text/plain": [
       "<Figure size 400x400 with 1 Axes>"
      ]
     },
     "metadata": {},
     "output_type": "display_data"
    }
   ],
   "source": [
    "print(pd.DataFrame(df.Motto_Likelihood.value_counts(normalize=True).sort_index()))\n",
    "\n",
    "plt.figure(figsize=(4,4))\n",
    "sns.histplot(df.Motto_Likelihood, bins=10)\n",
    "plt.show()"
   ]
  },
  {
   "cell_type": "code",
   "execution_count": 65,
   "metadata": {},
   "outputs": [
    {
     "data": {
      "text/plain": [
       "<AxesSubplot:xlabel='Motto_Likelihood', ylabel='Count'>"
      ]
     },
     "execution_count": 65,
     "metadata": {},
     "output_type": "execute_result"
    },
    {
     "data": {
      "image/png": "[encoded data removed]",
      "text/plain": [
       "<Figure size 640x480 with 1 Axes>"
      ]
     },
     "metadata": {},
     "output_type": "display_data"
    }
   ],
   "source": [
    "sns.histplot(df.Motto_Likelihood)"
   ]
  },
  {
   "cell_type": "code",
   "execution_count": null,
   "metadata": {},
   "outputs": [],
   "source": []
  }
 ],
 "metadata": {
  "kernelspec": {
   "display_name": "base",
   "language": "python",
   "name": "python3"
  },
  "language_info": {
   "codemirror_mode": {
    "name": "ipython",
    "version": 3
   },
   "file_extension": ".py",
   "mimetype": "text/x-python",
   "name": "python",
   "nbconvert_exporter": "python",
   "pygments_lexer": "ipython3",
   "version": "3.9.15"
  },
  "orig_nbformat": 4
 },
 "nbformat": 4,
 "nbformat_minor": 2
}
