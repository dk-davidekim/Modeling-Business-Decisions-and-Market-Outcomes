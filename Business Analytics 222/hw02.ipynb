{
 "cells": [
  {
   "attachments": {},
   "cell_type": "markdown",
   "metadata": {},
   "source": [
    "# BA222 SPRING 2023 – HW02\n",
    "Due on 03/01 (Wednesday) by 11:59 PM\n",
    "### by Euijoon David Kim\n",
    "---"
   ]
  },
  {
   "attachments": {},
   "cell_type": "markdown",
   "metadata": {},
   "source": [
    "### Instructions\n",
    "- Submit a single .ipynb (jupyter notebook) file as your solution on Blackboard\n",
    "- Name the file as BA222_HW02_lastNameFirstName\n",
    "- Label each cell with the question number\n",
    "- Type any explanation to your code as a comment\n",
    "\n",
    "---\n",
    "---\n",
    "---"
   ]
  },
  {
   "attachments": {},
   "cell_type": "markdown",
   "metadata": {},
   "source": [
    "## Part 1: Basic Data Manipulation\n",
    "\n",
    "For this exercise we are going to work with the housing.csv data (you can find it on Blackboard > Course Material > Data).\n",
    "\n",
    "This data contains information of houses sold in King County, USA (which includes Seattle) between 2014 and 2015."
   ]
  },
  {
   "cell_type": "code",
   "execution_count": 1,
   "metadata": {},
   "outputs": [],
   "source": [
    "# Import Libraries\n",
    "\n",
    "import pandas as pd\n",
    "import numpy as np\n",
    "import seaborn as sns\n",
    "import matplotlib.pyplot as plt\n",
    "import scipy.stats as stats"
   ]
  },
  {
   "cell_type": "code",
   "execution_count": 2,
   "metadata": {},
   "outputs": [
    {
     "data": {
      "text/html": [
       "<div>\n",
       "<style scoped>\n",
       "    .dataframe tbody tr th:only-of-type {\n",
       "        vertical-align: middle;\n",
       "    }\n",
       "\n",
       "    .dataframe tbody tr th {\n",
       "        vertical-align: top;\n",
       "    }\n",
       "\n",
       "    .dataframe thead th {\n",
       "        text-align: right;\n",
       "    }\n",
       "</style>\n",
       "<table border=\"1\" class=\"dataframe\">\n",
       "  <thead>\n",
       "    <tr style=\"text-align: right;\">\n",
       "      <th></th>\n",
       "      <th>ID</th>\n",
       "      <th>Zip Code</th>\n",
       "      <th>Year Built</th>\n",
       "      <th>Price</th>\n",
       "      <th>Living Space (SQFT)</th>\n",
       "      <th>Lot Space (SQFT)</th>\n",
       "      <th>Bedrooms</th>\n",
       "      <th>Bathrooms</th>\n",
       "      <th>Number of Floors</th>\n",
       "      <th>Basement</th>\n",
       "      <th>Waterfront</th>\n",
       "    </tr>\n",
       "  </thead>\n",
       "  <tbody>\n",
       "    <tr>\n",
       "      <th>0</th>\n",
       "      <td>439</td>\n",
       "      <td>98115</td>\n",
       "      <td>2000</td>\n",
       "      <td>438000</td>\n",
       "      <td>1270</td>\n",
       "      <td>1372</td>\n",
       "      <td>2</td>\n",
       "      <td>2</td>\n",
       "      <td>3</td>\n",
       "      <td>No</td>\n",
       "      <td>Yes</td>\n",
       "    </tr>\n",
       "    <tr>\n",
       "      <th>1</th>\n",
       "      <td>607</td>\n",
       "      <td>98103</td>\n",
       "      <td>2000</td>\n",
       "      <td>531000</td>\n",
       "      <td>1270</td>\n",
       "      <td>1175</td>\n",
       "      <td>2</td>\n",
       "      <td>3</td>\n",
       "      <td>2</td>\n",
       "      <td>Yes</td>\n",
       "      <td>Yes</td>\n",
       "    </tr>\n",
       "    <tr>\n",
       "      <th>2</th>\n",
       "      <td>2462</td>\n",
       "      <td>98040</td>\n",
       "      <td>2000</td>\n",
       "      <td>1700000</td>\n",
       "      <td>4930</td>\n",
       "      <td>14649</td>\n",
       "      <td>5</td>\n",
       "      <td>5</td>\n",
       "      <td>2</td>\n",
       "      <td>Yes</td>\n",
       "      <td>Yes</td>\n",
       "    </tr>\n",
       "    <tr>\n",
       "      <th>3</th>\n",
       "      <td>2748</td>\n",
       "      <td>98075</td>\n",
       "      <td>2000</td>\n",
       "      <td>726000</td>\n",
       "      <td>2970</td>\n",
       "      <td>10335</td>\n",
       "      <td>5</td>\n",
       "      <td>3</td>\n",
       "      <td>2</td>\n",
       "      <td>No</td>\n",
       "      <td>Yes</td>\n",
       "    </tr>\n",
       "    <tr>\n",
       "      <th>4</th>\n",
       "      <td>2856</td>\n",
       "      <td>98122</td>\n",
       "      <td>2000</td>\n",
       "      <td>582000</td>\n",
       "      <td>1670</td>\n",
       "      <td>1189</td>\n",
       "      <td>4</td>\n",
       "      <td>3</td>\n",
       "      <td>3</td>\n",
       "      <td>Yes</td>\n",
       "      <td>Yes</td>\n",
       "    </tr>\n",
       "  </tbody>\n",
       "</table>\n",
       "</div>"
      ],
      "text/plain": [
       "     ID  Zip Code  Year Built    Price  Living Space (SQFT)  Lot Space (SQFT)  \\\n",
       "0   439     98115        2000   438000                 1270              1372   \n",
       "1   607     98103        2000   531000                 1270              1175   \n",
       "2  2462     98040        2000  1700000                 4930             14649   \n",
       "3  2748     98075        2000   726000                 2970             10335   \n",
       "4  2856     98122        2000   582000                 1670              1189   \n",
       "\n",
       "   Bedrooms  Bathrooms  Number of Floors Basement Waterfront  \n",
       "0         2          2                 3       No        Yes  \n",
       "1         2          3                 2      Yes        Yes  \n",
       "2         5          5                 2      Yes        Yes  \n",
       "3         5          3                 2       No        Yes  \n",
       "4         4          3                 3      Yes        Yes  "
      ]
     },
     "execution_count": 2,
     "metadata": {},
     "output_type": "execute_result"
    }
   ],
   "source": [
    "# Import csv file\n",
    "\n",
    "df = pd.read_csv('data/housing.csv')\n",
    "df.head()"
   ]
  },
  {
   "attachments": {},
   "cell_type": "markdown",
   "metadata": {},
   "source": [
    "---"
   ]
  },
  {
   "attachments": {},
   "cell_type": "markdown",
   "metadata": {},
   "source": [
    "##### 1. How many variables and observations are included in the data?"
   ]
  },
  {
   "cell_type": "code",
   "execution_count": 3,
   "metadata": {},
   "outputs": [
    {
     "data": {
      "text/plain": [
       "(512, 11)"
      ]
     },
     "execution_count": 3,
     "metadata": {},
     "output_type": "execute_result"
    }
   ],
   "source": [
    "# Output shape\n",
    "\n",
    "df.shape"
   ]
  },
  {
   "attachments": {},
   "cell_type": "markdown",
   "metadata": {},
   "source": [
    "##### Answer:\n",
    "\n",
    "11 Variables and 512 observations\n",
    "\n",
    "---"
   ]
  },
  {
   "attachments": {},
   "cell_type": "markdown",
   "metadata": {},
   "source": [
    "##### 2. What is the data structure and unit of observation?"
   ]
  },
  {
   "cell_type": "code",
   "execution_count": 4,
   "metadata": {},
   "outputs": [
    {
     "name": "stdout",
     "output_type": "stream",
     "text": [
      "<class 'pandas.core.frame.DataFrame'>\n",
      "RangeIndex: 512 entries, 0 to 511\n",
      "Data columns (total 11 columns):\n",
      " #   Column               Non-Null Count  Dtype \n",
      "---  ------               --------------  ----- \n",
      " 0   ID                   512 non-null    int64 \n",
      " 1   Zip Code             512 non-null    int64 \n",
      " 2   Year Built           512 non-null    int64 \n",
      " 3   Price                512 non-null    int64 \n",
      " 4   Living Space (SQFT)  512 non-null    int64 \n",
      " 5   Lot Space (SQFT)     512 non-null    int64 \n",
      " 6   Bedrooms             512 non-null    int64 \n",
      " 7   Bathrooms            512 non-null    int64 \n",
      " 8   Number of Floors     512 non-null    int64 \n",
      " 9   Basement             512 non-null    object\n",
      " 10  Waterfront           512 non-null    object\n",
      "dtypes: int64(9), object(2)\n",
      "memory usage: 44.1+ KB\n"
     ]
    }
   ],
   "source": [
    "# Output info\n",
    "\n",
    "df.info()"
   ]
  },
  {
   "attachments": {},
   "cell_type": "markdown",
   "metadata": {},
   "source": [
    "##### Answer:\n",
    "\n",
    "Data Structure: Cross-Section\n",
    "\n",
    "Unit of Observation: Integer & String object\n",
    "\n",
    "---"
   ]
  },
  {
   "attachments": {},
   "cell_type": "markdown",
   "metadata": {},
   "source": [
    "##### 3. What percentage of houses have a basement?"
   ]
  },
  {
   "cell_type": "code",
   "execution_count": 5,
   "metadata": {},
   "outputs": [
    {
     "data": {
      "text/plain": [
       "170"
      ]
     },
     "execution_count": 5,
     "metadata": {},
     "output_type": "execute_result"
    }
   ],
   "source": [
    "# Count rows that have basement\n",
    "\n",
    "withBase = df.loc[df.Basement == 'Yes', 'ID'].count()\n",
    "withBase"
   ]
  },
  {
   "cell_type": "code",
   "execution_count": 6,
   "metadata": {},
   "outputs": [
    {
     "data": {
      "text/plain": [
       "33.2"
      ]
     },
     "execution_count": 6,
     "metadata": {},
     "output_type": "execute_result"
    }
   ],
   "source": [
    "# Divide the count by the total number of rows\n",
    "\n",
    "percentage = round(withBase / df.ID.count() * 100, 2)\n",
    "percentage"
   ]
  },
  {
   "attachments": {},
   "cell_type": "markdown",
   "metadata": {},
   "source": [
    "##### Answer:\n",
    "\n",
    "33.2 %\n",
    "\n",
    "---"
   ]
  },
  {
   "attachments": {},
   "cell_type": "markdown",
   "metadata": {},
   "source": [
    "##### 4. Produce a table with the top 5 most expensive properties in the data."
   ]
  },
  {
   "cell_type": "code",
   "execution_count": 7,
   "metadata": {},
   "outputs": [
    {
     "data": {
      "text/html": [
       "<div>\n",
       "<style scoped>\n",
       "    .dataframe tbody tr th:only-of-type {\n",
       "        vertical-align: middle;\n",
       "    }\n",
       "\n",
       "    .dataframe tbody tr th {\n",
       "        vertical-align: top;\n",
       "    }\n",
       "\n",
       "    .dataframe thead th {\n",
       "        text-align: right;\n",
       "    }\n",
       "</style>\n",
       "<table border=\"1\" class=\"dataframe\">\n",
       "  <thead>\n",
       "    <tr style=\"text-align: right;\">\n",
       "      <th></th>\n",
       "      <th>ID</th>\n",
       "      <th>Zip Code</th>\n",
       "      <th>Year Built</th>\n",
       "      <th>Price</th>\n",
       "      <th>Living Space (SQFT)</th>\n",
       "      <th>Lot Space (SQFT)</th>\n",
       "      <th>Bedrooms</th>\n",
       "      <th>Bathrooms</th>\n",
       "      <th>Number of Floors</th>\n",
       "      <th>Basement</th>\n",
       "      <th>Waterfront</th>\n",
       "    </tr>\n",
       "  </thead>\n",
       "  <tbody>\n",
       "    <tr>\n",
       "      <th>373</th>\n",
       "      <td>1449</td>\n",
       "      <td>98004</td>\n",
       "      <td>2009</td>\n",
       "      <td>5350000</td>\n",
       "      <td>8000</td>\n",
       "      <td>23985</td>\n",
       "      <td>5</td>\n",
       "      <td>5</td>\n",
       "      <td>2</td>\n",
       "      <td>Yes</td>\n",
       "      <td>No</td>\n",
       "    </tr>\n",
       "    <tr>\n",
       "      <th>42</th>\n",
       "      <td>8639</td>\n",
       "      <td>98004</td>\n",
       "      <td>2001</td>\n",
       "      <td>4489000</td>\n",
       "      <td>6430</td>\n",
       "      <td>27517</td>\n",
       "      <td>4</td>\n",
       "      <td>3</td>\n",
       "      <td>2</td>\n",
       "      <td>No</td>\n",
       "      <td>No</td>\n",
       "    </tr>\n",
       "    <tr>\n",
       "      <th>468</th>\n",
       "      <td>5881</td>\n",
       "      <td>98039</td>\n",
       "      <td>2014</td>\n",
       "      <td>3418800</td>\n",
       "      <td>5450</td>\n",
       "      <td>20412</td>\n",
       "      <td>5</td>\n",
       "      <td>5</td>\n",
       "      <td>2</td>\n",
       "      <td>No</td>\n",
       "      <td>Yes</td>\n",
       "    </tr>\n",
       "    <tr>\n",
       "      <th>305</th>\n",
       "      <td>20296</td>\n",
       "      <td>98004</td>\n",
       "      <td>2007</td>\n",
       "      <td>3204000</td>\n",
       "      <td>4810</td>\n",
       "      <td>18851</td>\n",
       "      <td>4</td>\n",
       "      <td>4</td>\n",
       "      <td>2</td>\n",
       "      <td>No</td>\n",
       "      <td>Yes</td>\n",
       "    </tr>\n",
       "    <tr>\n",
       "      <th>53</th>\n",
       "      <td>301</td>\n",
       "      <td>98074</td>\n",
       "      <td>2002</td>\n",
       "      <td>3075000</td>\n",
       "      <td>4550</td>\n",
       "      <td>18641</td>\n",
       "      <td>4</td>\n",
       "      <td>5</td>\n",
       "      <td>1</td>\n",
       "      <td>Yes</td>\n",
       "      <td>No</td>\n",
       "    </tr>\n",
       "  </tbody>\n",
       "</table>\n",
       "</div>"
      ],
      "text/plain": [
       "        ID  Zip Code  Year Built    Price  Living Space (SQFT)  \\\n",
       "373   1449     98004        2009  5350000                 8000   \n",
       "42    8639     98004        2001  4489000                 6430   \n",
       "468   5881     98039        2014  3418800                 5450   \n",
       "305  20296     98004        2007  3204000                 4810   \n",
       "53     301     98074        2002  3075000                 4550   \n",
       "\n",
       "     Lot Space (SQFT)  Bedrooms  Bathrooms  Number of Floors Basement  \\\n",
       "373             23985         5          5                 2      Yes   \n",
       "42              27517         4          3                 2       No   \n",
       "468             20412         5          5                 2       No   \n",
       "305             18851         4          4                 2       No   \n",
       "53              18641         4          5                 1      Yes   \n",
       "\n",
       "    Waterfront  \n",
       "373         No  \n",
       "42          No  \n",
       "468        Yes  \n",
       "305        Yes  \n",
       "53          No  "
      ]
     },
     "execution_count": 7,
     "metadata": {},
     "output_type": "execute_result"
    }
   ],
   "source": [
    "# Sort values and get the first 5\n",
    "\n",
    "df.sort_values(by='Price', ascending=False).head()"
   ]
  },
  {
   "attachments": {},
   "cell_type": "markdown",
   "metadata": {},
   "source": [
    "##### OR"
   ]
  },
  {
   "cell_type": "code",
   "execution_count": 8,
   "metadata": {},
   "outputs": [
    {
     "data": {
      "text/html": [
       "<div>\n",
       "<style scoped>\n",
       "    .dataframe tbody tr th:only-of-type {\n",
       "        vertical-align: middle;\n",
       "    }\n",
       "\n",
       "    .dataframe tbody tr th {\n",
       "        vertical-align: top;\n",
       "    }\n",
       "\n",
       "    .dataframe thead th {\n",
       "        text-align: right;\n",
       "    }\n",
       "</style>\n",
       "<table border=\"1\" class=\"dataframe\">\n",
       "  <thead>\n",
       "    <tr style=\"text-align: right;\">\n",
       "      <th></th>\n",
       "      <th>ID</th>\n",
       "      <th>Zip Code</th>\n",
       "      <th>Year Built</th>\n",
       "      <th>Price</th>\n",
       "      <th>Living Space (SQFT)</th>\n",
       "      <th>Lot Space (SQFT)</th>\n",
       "      <th>Bedrooms</th>\n",
       "      <th>Bathrooms</th>\n",
       "      <th>Number of Floors</th>\n",
       "      <th>Basement</th>\n",
       "      <th>Waterfront</th>\n",
       "    </tr>\n",
       "  </thead>\n",
       "  <tbody>\n",
       "    <tr>\n",
       "      <th>373</th>\n",
       "      <td>1449</td>\n",
       "      <td>98004</td>\n",
       "      <td>2009</td>\n",
       "      <td>5350000</td>\n",
       "      <td>8000</td>\n",
       "      <td>23985</td>\n",
       "      <td>5</td>\n",
       "      <td>5</td>\n",
       "      <td>2</td>\n",
       "      <td>Yes</td>\n",
       "      <td>No</td>\n",
       "    </tr>\n",
       "    <tr>\n",
       "      <th>42</th>\n",
       "      <td>8639</td>\n",
       "      <td>98004</td>\n",
       "      <td>2001</td>\n",
       "      <td>4489000</td>\n",
       "      <td>6430</td>\n",
       "      <td>27517</td>\n",
       "      <td>4</td>\n",
       "      <td>3</td>\n",
       "      <td>2</td>\n",
       "      <td>No</td>\n",
       "      <td>No</td>\n",
       "    </tr>\n",
       "    <tr>\n",
       "      <th>468</th>\n",
       "      <td>5881</td>\n",
       "      <td>98039</td>\n",
       "      <td>2014</td>\n",
       "      <td>3418800</td>\n",
       "      <td>5450</td>\n",
       "      <td>20412</td>\n",
       "      <td>5</td>\n",
       "      <td>5</td>\n",
       "      <td>2</td>\n",
       "      <td>No</td>\n",
       "      <td>Yes</td>\n",
       "    </tr>\n",
       "    <tr>\n",
       "      <th>305</th>\n",
       "      <td>20296</td>\n",
       "      <td>98004</td>\n",
       "      <td>2007</td>\n",
       "      <td>3204000</td>\n",
       "      <td>4810</td>\n",
       "      <td>18851</td>\n",
       "      <td>4</td>\n",
       "      <td>4</td>\n",
       "      <td>2</td>\n",
       "      <td>No</td>\n",
       "      <td>Yes</td>\n",
       "    </tr>\n",
       "    <tr>\n",
       "      <th>53</th>\n",
       "      <td>301</td>\n",
       "      <td>98074</td>\n",
       "      <td>2002</td>\n",
       "      <td>3075000</td>\n",
       "      <td>4550</td>\n",
       "      <td>18641</td>\n",
       "      <td>4</td>\n",
       "      <td>5</td>\n",
       "      <td>1</td>\n",
       "      <td>Yes</td>\n",
       "      <td>No</td>\n",
       "    </tr>\n",
       "  </tbody>\n",
       "</table>\n",
       "</div>"
      ],
      "text/plain": [
       "        ID  Zip Code  Year Built    Price  Living Space (SQFT)  \\\n",
       "373   1449     98004        2009  5350000                 8000   \n",
       "42    8639     98004        2001  4489000                 6430   \n",
       "468   5881     98039        2014  3418800                 5450   \n",
       "305  20296     98004        2007  3204000                 4810   \n",
       "53     301     98074        2002  3075000                 4550   \n",
       "\n",
       "     Lot Space (SQFT)  Bedrooms  Bathrooms  Number of Floors Basement  \\\n",
       "373             23985         5          5                 2      Yes   \n",
       "42              27517         4          3                 2       No   \n",
       "468             20412         5          5                 2       No   \n",
       "305             18851         4          4                 2       No   \n",
       "53              18641         4          5                 1      Yes   \n",
       "\n",
       "    Waterfront  \n",
       "373         No  \n",
       "42          No  \n",
       "468        Yes  \n",
       "305        Yes  \n",
       "53          No  "
      ]
     },
     "execution_count": 8,
     "metadata": {},
     "output_type": "execute_result"
    }
   ],
   "source": [
    "# Use built-in pandas function nlargest to get the top 5\n",
    "\n",
    "df.nlargest(columns='Price',n=5)"
   ]
  },
  {
   "attachments": {},
   "cell_type": "markdown",
   "metadata": {},
   "source": [
    "---"
   ]
  },
  {
   "attachments": {},
   "cell_type": "markdown",
   "metadata": {},
   "source": [
    "##### 5. A customer is interested in knowing the price distributions of houses with the following characteristics: at least 3 bedrooms, at least 2 bathrooms, at least 2 floors, the lot and living space are not important, nor the variable waterfront. The house cannot be older than 10 years. Filter the data using this conditions and produce a relative frequency table and write a short paragraph describing the distribution of prices."
   ]
  },
  {
   "cell_type": "code",
   "execution_count": 9,
   "metadata": {},
   "outputs": [
    {
     "data": {
      "text/html": [
       "<div>\n",
       "<style scoped>\n",
       "    .dataframe tbody tr th:only-of-type {\n",
       "        vertical-align: middle;\n",
       "    }\n",
       "\n",
       "    .dataframe tbody tr th {\n",
       "        vertical-align: top;\n",
       "    }\n",
       "\n",
       "    .dataframe thead th {\n",
       "        text-align: right;\n",
       "    }\n",
       "</style>\n",
       "<table border=\"1\" class=\"dataframe\">\n",
       "  <thead>\n",
       "    <tr style=\"text-align: right;\">\n",
       "      <th></th>\n",
       "      <th>ID</th>\n",
       "      <th>Zip Code</th>\n",
       "      <th>Year Built</th>\n",
       "      <th>Price</th>\n",
       "      <th>Living Space (SQFT)</th>\n",
       "      <th>Lot Space (SQFT)</th>\n",
       "      <th>Bedrooms</th>\n",
       "      <th>Bathrooms</th>\n",
       "      <th>Number of Floors</th>\n",
       "      <th>Basement</th>\n",
       "      <th>Waterfront</th>\n",
       "    </tr>\n",
       "  </thead>\n",
       "  <tbody>\n",
       "    <tr>\n",
       "      <th>129</th>\n",
       "      <td>374</td>\n",
       "      <td>98023</td>\n",
       "      <td>2004</td>\n",
       "      <td>380000</td>\n",
       "      <td>3450</td>\n",
       "      <td>9914</td>\n",
       "      <td>5</td>\n",
       "      <td>3</td>\n",
       "      <td>2</td>\n",
       "      <td>No</td>\n",
       "      <td>No</td>\n",
       "    </tr>\n",
       "    <tr>\n",
       "      <th>130</th>\n",
       "      <td>572</td>\n",
       "      <td>98075</td>\n",
       "      <td>2004</td>\n",
       "      <td>720000</td>\n",
       "      <td>3200</td>\n",
       "      <td>7708</td>\n",
       "      <td>4</td>\n",
       "      <td>4</td>\n",
       "      <td>2</td>\n",
       "      <td>No</td>\n",
       "      <td>Yes</td>\n",
       "    </tr>\n",
       "    <tr>\n",
       "      <th>133</th>\n",
       "      <td>1743</td>\n",
       "      <td>98056</td>\n",
       "      <td>2004</td>\n",
       "      <td>445000</td>\n",
       "      <td>3880</td>\n",
       "      <td>7180</td>\n",
       "      <td>5</td>\n",
       "      <td>3</td>\n",
       "      <td>2</td>\n",
       "      <td>No</td>\n",
       "      <td>No</td>\n",
       "    </tr>\n",
       "    <tr>\n",
       "      <th>135</th>\n",
       "      <td>2143</td>\n",
       "      <td>98075</td>\n",
       "      <td>2004</td>\n",
       "      <td>765000</td>\n",
       "      <td>3010</td>\n",
       "      <td>7221</td>\n",
       "      <td>4</td>\n",
       "      <td>4</td>\n",
       "      <td>2</td>\n",
       "      <td>No</td>\n",
       "      <td>Yes</td>\n",
       "    </tr>\n",
       "    <tr>\n",
       "      <th>136</th>\n",
       "      <td>2268</td>\n",
       "      <td>98004</td>\n",
       "      <td>2004</td>\n",
       "      <td>2750000</td>\n",
       "      <td>6300</td>\n",
       "      <td>16065</td>\n",
       "      <td>5</td>\n",
       "      <td>4</td>\n",
       "      <td>2</td>\n",
       "      <td>Yes</td>\n",
       "      <td>Yes</td>\n",
       "    </tr>\n",
       "  </tbody>\n",
       "</table>\n",
       "</div>"
      ],
      "text/plain": [
       "       ID  Zip Code  Year Built    Price  Living Space (SQFT)  \\\n",
       "129   374     98023        2004   380000                 3450   \n",
       "130   572     98075        2004   720000                 3200   \n",
       "133  1743     98056        2004   445000                 3880   \n",
       "135  2143     98075        2004   765000                 3010   \n",
       "136  2268     98004        2004  2750000                 6300   \n",
       "\n",
       "     Lot Space (SQFT)  Bedrooms  Bathrooms  Number of Floors Basement  \\\n",
       "129              9914         5          3                 2       No   \n",
       "130              7708         4          4                 2       No   \n",
       "133              7180         5          3                 2       No   \n",
       "135              7221         4          4                 2       No   \n",
       "136             16065         5          4                 2      Yes   \n",
       "\n",
       "    Waterfront  \n",
       "129         No  \n",
       "130        Yes  \n",
       "133         No  \n",
       "135        Yes  \n",
       "136        Yes  "
      ]
     },
     "execution_count": 9,
     "metadata": {},
     "output_type": "execute_result"
    }
   ],
   "source": [
    "# Filter the data frame based on the characteristics\n",
    "\n",
    "filtered_df = df.loc[(df['Bedrooms'] >= 3) & (df['Bathrooms'] >= 2) & (df['Number of Floors'] >= 2) & (df['Year Built'] >= 2004)]\n",
    "filtered_df.head()"
   ]
  },
  {
   "cell_type": "code",
   "execution_count": 10,
   "metadata": {},
   "outputs": [
    {
     "data": {
      "text/plain": [
       "(204859.999, 724000.0]    0.659091\n",
       "(724000.0, 1238000.0]     0.195455\n",
       "(1238000.0, 1752000.0]    0.086364\n",
       "(1752000.0, 2266000.0]    0.018182\n",
       "(2266000.0, 2780000.0]    0.013636\n",
       "(2780000.0, 3294000.0]    0.018182\n",
       "(3294000.0, 3808000.0]    0.004545\n",
       "(3808000.0, 4322000.0]    0.000000\n",
       "(4322000.0, 4836000.0]    0.000000\n",
       "(4836000.0, 5350000.0]    0.004545\n",
       "Name: Price, dtype: float64"
      ]
     },
     "execution_count": 10,
     "metadata": {},
     "output_type": "execute_result"
    }
   ],
   "source": [
    "# Relative Frequency Table using value_counts\n",
    "\n",
    "filtered_df['Price'].value_counts(bins=10, normalize=True).sort_index()"
   ]
  },
  {
   "attachments": {},
   "cell_type": "markdown",
   "metadata": {},
   "source": [
    "##### Answer:\n",
    "\n",
    "Looking at the relative frequency table, we can assume that the distribution is skewed to the right with the mean and median towards the lower price, while the outliers belong towards the higher price.\n",
    "\n",
    "---"
   ]
  },
  {
   "attachments": {},
   "cell_type": "markdown",
   "metadata": {},
   "source": [
    "##### 6. A custumer wants to find the cheapest house located by the Waterfront. Report the ID of the house."
   ]
  },
  {
   "cell_type": "code",
   "execution_count": 11,
   "metadata": {},
   "outputs": [
    {
     "data": {
      "text/html": [
       "<div>\n",
       "<style scoped>\n",
       "    .dataframe tbody tr th:only-of-type {\n",
       "        vertical-align: middle;\n",
       "    }\n",
       "\n",
       "    .dataframe tbody tr th {\n",
       "        vertical-align: top;\n",
       "    }\n",
       "\n",
       "    .dataframe thead th {\n",
       "        text-align: right;\n",
       "    }\n",
       "</style>\n",
       "<table border=\"1\" class=\"dataframe\">\n",
       "  <thead>\n",
       "    <tr style=\"text-align: right;\">\n",
       "      <th></th>\n",
       "      <th>ID</th>\n",
       "      <th>Zip Code</th>\n",
       "      <th>Year Built</th>\n",
       "      <th>Price</th>\n",
       "      <th>Living Space (SQFT)</th>\n",
       "      <th>Lot Space (SQFT)</th>\n",
       "      <th>Bedrooms</th>\n",
       "      <th>Bathrooms</th>\n",
       "      <th>Number of Floors</th>\n",
       "      <th>Basement</th>\n",
       "      <th>Waterfront</th>\n",
       "    </tr>\n",
       "  </thead>\n",
       "  <tbody>\n",
       "    <tr>\n",
       "      <th>184</th>\n",
       "      <td>2878</td>\n",
       "      <td>98038</td>\n",
       "      <td>2005</td>\n",
       "      <td>195000</td>\n",
       "      <td>1180</td>\n",
       "      <td>2553</td>\n",
       "      <td>2</td>\n",
       "      <td>2</td>\n",
       "      <td>2</td>\n",
       "      <td>No</td>\n",
       "      <td>Yes</td>\n",
       "    </tr>\n",
       "  </tbody>\n",
       "</table>\n",
       "</div>"
      ],
      "text/plain": [
       "       ID  Zip Code  Year Built   Price  Living Space (SQFT)  \\\n",
       "184  2878     98038        2005  195000                 1180   \n",
       "\n",
       "     Lot Space (SQFT)  Bedrooms  Bathrooms  Number of Floors Basement  \\\n",
       "184              2553         2          2                 2       No   \n",
       "\n",
       "    Waterfront  \n",
       "184        Yes  "
      ]
     },
     "execution_count": 11,
     "metadata": {},
     "output_type": "execute_result"
    }
   ],
   "source": [
    "# Find rows that have 'Yes' value in Waterfront column\n",
    "# Find the smallest value for Price column\n",
    "\n",
    "df.loc[df.Waterfront == 'Yes'].nsmallest(columns='Price',n=1)"
   ]
  },
  {
   "attachments": {},
   "cell_type": "markdown",
   "metadata": {},
   "source": [
    "##### Answer:\n",
    "\n",
    "ID: 2878\n",
    "\n",
    "---"
   ]
  },
  {
   "attachments": {},
   "cell_type": "markdown",
   "metadata": {},
   "source": [
    "##### 7. A developer is interested in knowing if older house lose value over time. Group the data by Year Built and compute the average price for each year. What would you say to the developer?"
   ]
  },
  {
   "cell_type": "code",
   "execution_count": 12,
   "metadata": {},
   "outputs": [
    {
     "data": {
      "text/html": [
       "<div>\n",
       "<style scoped>\n",
       "    .dataframe tbody tr th:only-of-type {\n",
       "        vertical-align: middle;\n",
       "    }\n",
       "\n",
       "    .dataframe tbody tr th {\n",
       "        vertical-align: top;\n",
       "    }\n",
       "\n",
       "    .dataframe thead th {\n",
       "        text-align: right;\n",
       "    }\n",
       "</style>\n",
       "<table border=\"1\" class=\"dataframe\">\n",
       "  <thead>\n",
       "    <tr style=\"text-align: right;\">\n",
       "      <th></th>\n",
       "      <th>Year Built</th>\n",
       "      <th>Price</th>\n",
       "    </tr>\n",
       "  </thead>\n",
       "  <tbody>\n",
       "    <tr>\n",
       "      <th>0</th>\n",
       "      <td>2000</td>\n",
       "      <td>870120.69</td>\n",
       "    </tr>\n",
       "    <tr>\n",
       "      <th>1</th>\n",
       "      <td>2001</td>\n",
       "      <td>860333.33</td>\n",
       "    </tr>\n",
       "    <tr>\n",
       "      <th>2</th>\n",
       "      <td>2002</td>\n",
       "      <td>666677.71</td>\n",
       "    </tr>\n",
       "    <tr>\n",
       "      <th>3</th>\n",
       "      <td>2003</td>\n",
       "      <td>459300.00</td>\n",
       "    </tr>\n",
       "    <tr>\n",
       "      <th>4</th>\n",
       "      <td>2004</td>\n",
       "      <td>648196.23</td>\n",
       "    </tr>\n",
       "    <tr>\n",
       "      <th>5</th>\n",
       "      <td>2005</td>\n",
       "      <td>484279.18</td>\n",
       "    </tr>\n",
       "    <tr>\n",
       "      <th>6</th>\n",
       "      <td>2006</td>\n",
       "      <td>579311.96</td>\n",
       "    </tr>\n",
       "    <tr>\n",
       "      <th>7</th>\n",
       "      <td>2007</td>\n",
       "      <td>670318.57</td>\n",
       "    </tr>\n",
       "    <tr>\n",
       "      <th>8</th>\n",
       "      <td>2008</td>\n",
       "      <td>611440.85</td>\n",
       "    </tr>\n",
       "    <tr>\n",
       "      <th>9</th>\n",
       "      <td>2009</td>\n",
       "      <td>645743.62</td>\n",
       "    </tr>\n",
       "    <tr>\n",
       "      <th>10</th>\n",
       "      <td>2010</td>\n",
       "      <td>409199.13</td>\n",
       "    </tr>\n",
       "    <tr>\n",
       "      <th>11</th>\n",
       "      <td>2011</td>\n",
       "      <td>585495.83</td>\n",
       "    </tr>\n",
       "    <tr>\n",
       "      <th>12</th>\n",
       "      <td>2012</td>\n",
       "      <td>542041.25</td>\n",
       "    </tr>\n",
       "    <tr>\n",
       "      <th>13</th>\n",
       "      <td>2013</td>\n",
       "      <td>874728.05</td>\n",
       "    </tr>\n",
       "    <tr>\n",
       "      <th>14</th>\n",
       "      <td>2014</td>\n",
       "      <td>716172.60</td>\n",
       "    </tr>\n",
       "  </tbody>\n",
       "</table>\n",
       "</div>"
      ],
      "text/plain": [
       "    Year Built      Price\n",
       "0         2000  870120.69\n",
       "1         2001  860333.33\n",
       "2         2002  666677.71\n",
       "3         2003  459300.00\n",
       "4         2004  648196.23\n",
       "5         2005  484279.18\n",
       "6         2006  579311.96\n",
       "7         2007  670318.57\n",
       "8         2008  611440.85\n",
       "9         2009  645743.62\n",
       "10        2010  409199.13\n",
       "11        2011  585495.83\n",
       "12        2012  542041.25\n",
       "13        2013  874728.05\n",
       "14        2014  716172.60"
      ]
     },
     "execution_count": 12,
     "metadata": {},
     "output_type": "execute_result"
    }
   ],
   "source": [
    "# Group by Year Built\n",
    "\n",
    "year_group = df.groupby(['Year Built'])['Price'].mean().round(2).reset_index()\n",
    "year_group"
   ]
  },
  {
   "cell_type": "code",
   "execution_count": 13,
   "metadata": {},
   "outputs": [
    {
     "data": {
      "text/plain": [
       "<AxesSubplot:xlabel='Year Built', ylabel='Price'>"
      ]
     },
     "execution_count": 13,
     "metadata": {},
     "output_type": "execute_result"
    },
    {
     "data": {
      "image/png": "[encoded data removed]",
      "text/plain": [
       "<Figure size 1000x500 with 1 Axes>"
      ]
     },
     "metadata": {},
     "output_type": "display_data"
    }
   ],
   "source": [
    "# Plot a graph\n",
    "\n",
    "plt.figure(figsize = (10,5))\n",
    "plt.suptitle('Relationship between Price and Year Built')\n",
    "sns.barplot(x = year_group['Year Built'], y = year_group['Price'], palette='YlGnBu')"
   ]
  },
  {
   "cell_type": "code",
   "execution_count": 14,
   "metadata": {},
   "outputs": [
    {
     "data": {
      "text/plain": [
       "-0.16293585583203907"
      ]
     },
     "execution_count": 14,
     "metadata": {},
     "output_type": "execute_result"
    }
   ],
   "source": [
    "# Find correlation\n",
    "\n",
    "corr = year_group['Year Built'].corr(year_group['Price'])\n",
    "corr"
   ]
  },
  {
   "attachments": {},
   "cell_type": "markdown",
   "metadata": {},
   "source": [
    "Answer:\n",
    "\n",
    "Based on the table with price grouped by year built, the older houses did not lose value over time.\n",
    "\n",
    "---"
   ]
  },
  {
   "attachments": {},
   "cell_type": "markdown",
   "metadata": {},
   "source": [
    "##### 8. A family wants to buy a house. Banks will only lend then funds up to $500,000 to buy a house. We are going to represent the families preferences with an index. To produce an index you will have to first standardize all the numerical variables in the dataset and convert them to Z-Scores like this:\n",
    "##### Z − Score = (x − xˉ) / sx\n",
    "##### where x is the variable, xˉ is the average and sx is the standard deviation. After all variables are normalized, compute the preference index using the following formula:\n",
    "##### Preference = Bedrooms × 0.2 + Bathrooms × 0.1 + LotSpace × 0.05 + NumberofFloors × 0.05 + Waterfront × 0.05 + Basement × 0.05 + YearBuilt × 0.3\n",
    "##### For the variables Waterfront and Basement, don't compute the Z-Score, simply transform them to 0 (if no) and 1 (if yes). Report the top 5 houses according to the index that the family can afford. Report the ID and the characteristics of the houses (including price)."
   ]
  },
  {
   "cell_type": "code",
   "execution_count": 15,
   "metadata": {},
   "outputs": [
    {
     "data": {
      "text/html": [
       "<div>\n",
       "<style scoped>\n",
       "    .dataframe tbody tr th:only-of-type {\n",
       "        vertical-align: middle;\n",
       "    }\n",
       "\n",
       "    .dataframe tbody tr th {\n",
       "        vertical-align: top;\n",
       "    }\n",
       "\n",
       "    .dataframe thead th {\n",
       "        text-align: right;\n",
       "    }\n",
       "</style>\n",
       "<table border=\"1\" class=\"dataframe\">\n",
       "  <thead>\n",
       "    <tr style=\"text-align: right;\">\n",
       "      <th></th>\n",
       "      <th>ID</th>\n",
       "      <th>ZipCode</th>\n",
       "      <th>YearBuilt</th>\n",
       "      <th>Price</th>\n",
       "      <th>LivingSpace</th>\n",
       "      <th>LotSpace</th>\n",
       "      <th>Bedrooms</th>\n",
       "      <th>Bathrooms</th>\n",
       "      <th>NumberOfFloors</th>\n",
       "      <th>Basement</th>\n",
       "      <th>Waterfront</th>\n",
       "    </tr>\n",
       "  </thead>\n",
       "  <tbody>\n",
       "    <tr>\n",
       "      <th>0</th>\n",
       "      <td>439</td>\n",
       "      <td>98115</td>\n",
       "      <td>2000</td>\n",
       "      <td>438000</td>\n",
       "      <td>1270</td>\n",
       "      <td>1372</td>\n",
       "      <td>2</td>\n",
       "      <td>2</td>\n",
       "      <td>3</td>\n",
       "      <td>No</td>\n",
       "      <td>Yes</td>\n",
       "    </tr>\n",
       "    <tr>\n",
       "      <th>1</th>\n",
       "      <td>607</td>\n",
       "      <td>98103</td>\n",
       "      <td>2000</td>\n",
       "      <td>531000</td>\n",
       "      <td>1270</td>\n",
       "      <td>1175</td>\n",
       "      <td>2</td>\n",
       "      <td>3</td>\n",
       "      <td>2</td>\n",
       "      <td>Yes</td>\n",
       "      <td>Yes</td>\n",
       "    </tr>\n",
       "    <tr>\n",
       "      <th>2</th>\n",
       "      <td>2462</td>\n",
       "      <td>98040</td>\n",
       "      <td>2000</td>\n",
       "      <td>1700000</td>\n",
       "      <td>4930</td>\n",
       "      <td>14649</td>\n",
       "      <td>5</td>\n",
       "      <td>5</td>\n",
       "      <td>2</td>\n",
       "      <td>Yes</td>\n",
       "      <td>Yes</td>\n",
       "    </tr>\n",
       "    <tr>\n",
       "      <th>3</th>\n",
       "      <td>2748</td>\n",
       "      <td>98075</td>\n",
       "      <td>2000</td>\n",
       "      <td>726000</td>\n",
       "      <td>2970</td>\n",
       "      <td>10335</td>\n",
       "      <td>5</td>\n",
       "      <td>3</td>\n",
       "      <td>2</td>\n",
       "      <td>No</td>\n",
       "      <td>Yes</td>\n",
       "    </tr>\n",
       "    <tr>\n",
       "      <th>4</th>\n",
       "      <td>2856</td>\n",
       "      <td>98122</td>\n",
       "      <td>2000</td>\n",
       "      <td>582000</td>\n",
       "      <td>1670</td>\n",
       "      <td>1189</td>\n",
       "      <td>4</td>\n",
       "      <td>3</td>\n",
       "      <td>3</td>\n",
       "      <td>Yes</td>\n",
       "      <td>Yes</td>\n",
       "    </tr>\n",
       "  </tbody>\n",
       "</table>\n",
       "</div>"
      ],
      "text/plain": [
       "     ID  ZipCode  YearBuilt    Price  LivingSpace  LotSpace  Bedrooms  \\\n",
       "0   439    98115       2000   438000         1270      1372         2   \n",
       "1   607    98103       2000   531000         1270      1175         2   \n",
       "2  2462    98040       2000  1700000         4930     14649         5   \n",
       "3  2748    98075       2000   726000         2970     10335         5   \n",
       "4  2856    98122       2000   582000         1670      1189         4   \n",
       "\n",
       "   Bathrooms  NumberOfFloors Basement Waterfront  \n",
       "0          2               3       No        Yes  \n",
       "1          3               2      Yes        Yes  \n",
       "2          5               2      Yes        Yes  \n",
       "3          3               2       No        Yes  \n",
       "4          3               3      Yes        Yes  "
      ]
     },
     "execution_count": 15,
     "metadata": {},
     "output_type": "execute_result"
    }
   ],
   "source": [
    "# Rename columns for efficiency\n",
    "\n",
    "df.columns=['ID','ZipCode','YearBuilt','Price','LivingSpace','LotSpace','Bedrooms','Bathrooms','NumberOfFloors','Basement','Waterfront']\n",
    "df.head()"
   ]
  },
  {
   "cell_type": "code",
   "execution_count": 16,
   "metadata": {},
   "outputs": [],
   "source": [
    "# Define a function to calculate zscore\n",
    "\n",
    "def zscore(x, xAvg, xStd):\n",
    "    return (x-xAvg)/xStd"
   ]
  },
  {
   "cell_type": "code",
   "execution_count": 17,
   "metadata": {},
   "outputs": [],
   "source": [
    "# Derive columns with 1s and 0s for Basement and Waterfront\n",
    "\n",
    "def transformYesNo(x):\n",
    "    if x == 'Yes':\n",
    "        return 1\n",
    "    else:\n",
    "        return 0\n",
    "\n",
    "df['BasementNum'] = df.Basement.apply(transformYesNo)\n",
    "df['WaterfrontNum'] = df.Waterfront.apply(transformYesNo)"
   ]
  },
  {
   "cell_type": "code",
   "execution_count": 18,
   "metadata": {},
   "outputs": [],
   "source": [
    "# Calculate Preference Score\n",
    "\n",
    "df['PreferenceScore'] =  (zscore(df.Bedrooms,df.Bedrooms.mean(),df.Bedrooms.std())*0.2)+(\n",
    "                    zscore(df.Bathrooms,df.Bathrooms.mean(),df.Bathrooms.std())*0.1)+(\n",
    "                    zscore(df.LotSpace,df.LotSpace.mean(),df.LotSpace.std())*0.05)+(\n",
    "                    zscore(df.NumberOfFloors,df.NumberOfFloors.mean(),df.NumberOfFloors.std())*0.05)+(\n",
    "                    df.WaterfrontNum*0.05)+(\n",
    "                    df.BasementNum*0.05)+(\n",
    "                    zscore(df.YearBuilt,df.YearBuilt.mean(),df.YearBuilt.std())*0.3)"
   ]
  },
  {
   "cell_type": "code",
   "execution_count": 19,
   "metadata": {},
   "outputs": [
    {
     "data": {
      "text/html": [
       "<div>\n",
       "<style scoped>\n",
       "    .dataframe tbody tr th:only-of-type {\n",
       "        vertical-align: middle;\n",
       "    }\n",
       "\n",
       "    .dataframe tbody tr th {\n",
       "        vertical-align: top;\n",
       "    }\n",
       "\n",
       "    .dataframe thead th {\n",
       "        text-align: right;\n",
       "    }\n",
       "</style>\n",
       "<table border=\"1\" class=\"dataframe\">\n",
       "  <thead>\n",
       "    <tr style=\"text-align: right;\">\n",
       "      <th></th>\n",
       "      <th>ID</th>\n",
       "      <th>ZipCode</th>\n",
       "      <th>YearBuilt</th>\n",
       "      <th>Price</th>\n",
       "      <th>LivingSpace</th>\n",
       "      <th>LotSpace</th>\n",
       "      <th>Bedrooms</th>\n",
       "      <th>Bathrooms</th>\n",
       "      <th>NumberOfFloors</th>\n",
       "      <th>Basement</th>\n",
       "      <th>Waterfront</th>\n",
       "      <th>BasementNum</th>\n",
       "      <th>WaterfrontNum</th>\n",
       "      <th>PreferenceScore</th>\n",
       "    </tr>\n",
       "  </thead>\n",
       "  <tbody>\n",
       "    <tr>\n",
       "      <th>509</th>\n",
       "      <td>21523</td>\n",
       "      <td>98118</td>\n",
       "      <td>2014</td>\n",
       "      <td>462500</td>\n",
       "      <td>2390</td>\n",
       "      <td>4000</td>\n",
       "      <td>6</td>\n",
       "      <td>3</td>\n",
       "      <td>2</td>\n",
       "      <td>No</td>\n",
       "      <td>Yes</td>\n",
       "      <td>0</td>\n",
       "      <td>1</td>\n",
       "      <td>1.136982</td>\n",
       "    </tr>\n",
       "    <tr>\n",
       "      <th>484</th>\n",
       "      <td>20473</td>\n",
       "      <td>98042</td>\n",
       "      <td>2014</td>\n",
       "      <td>479349</td>\n",
       "      <td>3223</td>\n",
       "      <td>6371</td>\n",
       "      <td>5</td>\n",
       "      <td>3</td>\n",
       "      <td>2</td>\n",
       "      <td>No</td>\n",
       "      <td>Yes</td>\n",
       "      <td>0</td>\n",
       "      <td>1</td>\n",
       "      <td>0.957719</td>\n",
       "    </tr>\n",
       "    <tr>\n",
       "      <th>397</th>\n",
       "      <td>20985</td>\n",
       "      <td>98002</td>\n",
       "      <td>2009</td>\n",
       "      <td>343000</td>\n",
       "      <td>2732</td>\n",
       "      <td>7655</td>\n",
       "      <td>6</td>\n",
       "      <td>5</td>\n",
       "      <td>2</td>\n",
       "      <td>No</td>\n",
       "      <td>No</td>\n",
       "      <td>0</td>\n",
       "      <td>0</td>\n",
       "      <td>0.946555</td>\n",
       "    </tr>\n",
       "    <tr>\n",
       "      <th>507</th>\n",
       "      <td>21413</td>\n",
       "      <td>98168</td>\n",
       "      <td>2014</td>\n",
       "      <td>334950</td>\n",
       "      <td>2230</td>\n",
       "      <td>8642</td>\n",
       "      <td>5</td>\n",
       "      <td>3</td>\n",
       "      <td>1</td>\n",
       "      <td>Yes</td>\n",
       "      <td>Yes</td>\n",
       "      <td>1</td>\n",
       "      <td>1</td>\n",
       "      <td>0.928905</td>\n",
       "    </tr>\n",
       "    <tr>\n",
       "      <th>504</th>\n",
       "      <td>21234</td>\n",
       "      <td>98042</td>\n",
       "      <td>2014</td>\n",
       "      <td>469950</td>\n",
       "      <td>3223</td>\n",
       "      <td>6371</td>\n",
       "      <td>5</td>\n",
       "      <td>3</td>\n",
       "      <td>2</td>\n",
       "      <td>No</td>\n",
       "      <td>No</td>\n",
       "      <td>0</td>\n",
       "      <td>0</td>\n",
       "      <td>0.907719</td>\n",
       "    </tr>\n",
       "  </tbody>\n",
       "</table>\n",
       "</div>"
      ],
      "text/plain": [
       "        ID  ZipCode  YearBuilt   Price  LivingSpace  LotSpace  Bedrooms  \\\n",
       "509  21523    98118       2014  462500         2390      4000         6   \n",
       "484  20473    98042       2014  479349         3223      6371         5   \n",
       "397  20985    98002       2009  343000         2732      7655         6   \n",
       "507  21413    98168       2014  334950         2230      8642         5   \n",
       "504  21234    98042       2014  469950         3223      6371         5   \n",
       "\n",
       "     Bathrooms  NumberOfFloors Basement Waterfront  BasementNum  \\\n",
       "509          3               2       No        Yes            0   \n",
       "484          3               2       No        Yes            0   \n",
       "397          5               2       No         No            0   \n",
       "507          3               1      Yes        Yes            1   \n",
       "504          3               2       No         No            0   \n",
       "\n",
       "     WaterfrontNum  PreferenceScore  \n",
       "509              1         1.136982  \n",
       "484              1         0.957719  \n",
       "397              0         0.946555  \n",
       "507              1         0.928905  \n",
       "504              0         0.907719  "
      ]
     },
     "execution_count": 19,
     "metadata": {},
     "output_type": "execute_result"
    }
   ],
   "source": [
    "# Find the houses that are priced up to 500,000\n",
    "# Sort values based on preference score and get the top 5\n",
    "\n",
    "df.loc[df.Price<=500000].sort_values(by='PreferenceScore', ascending=False).head(5)"
   ]
  },
  {
   "cell_type": "code",
   "execution_count": 132,
   "metadata": {},
   "outputs": [
    {
     "data": {
      "text/html": [
       "<div>\n",
       "<style scoped>\n",
       "    .dataframe tbody tr th:only-of-type {\n",
       "        vertical-align: middle;\n",
       "    }\n",
       "\n",
       "    .dataframe tbody tr th {\n",
       "        vertical-align: top;\n",
       "    }\n",
       "\n",
       "    .dataframe thead th {\n",
       "        text-align: right;\n",
       "    }\n",
       "</style>\n",
       "<table border=\"1\" class=\"dataframe\">\n",
       "  <thead>\n",
       "    <tr style=\"text-align: right;\">\n",
       "      <th></th>\n",
       "      <th>ID</th>\n",
       "      <th>ZipCode</th>\n",
       "      <th>YearBuilt</th>\n",
       "      <th>Price</th>\n",
       "      <th>LivingSpace</th>\n",
       "      <th>LotSpace</th>\n",
       "      <th>Bedrooms</th>\n",
       "      <th>Bathrooms</th>\n",
       "      <th>NumberOfFloors</th>\n",
       "      <th>BasementNum</th>\n",
       "      <th>WaterfrontNum</th>\n",
       "      <th>PreferenceScore</th>\n",
       "    </tr>\n",
       "  </thead>\n",
       "  <tbody>\n",
       "    <tr>\n",
       "      <th>count</th>\n",
       "      <td>512.000000</td>\n",
       "      <td>512.000000</td>\n",
       "      <td>512.000000</td>\n",
       "      <td>5.120000e+02</td>\n",
       "      <td>512.000000</td>\n",
       "      <td>512.000000</td>\n",
       "      <td>512.000000</td>\n",
       "      <td>512.000000</td>\n",
       "      <td>512.000000</td>\n",
       "      <td>512.000000</td>\n",
       "      <td>512.000000</td>\n",
       "      <td>512.000000</td>\n",
       "    </tr>\n",
       "    <tr>\n",
       "      <th>mean</th>\n",
       "      <td>13890.984375</td>\n",
       "      <td>98076.386719</td>\n",
       "      <td>2006.515625</td>\n",
       "      <td>6.341306e+05</td>\n",
       "      <td>2348.371094</td>\n",
       "      <td>15386.859375</td>\n",
       "      <td>3.343750</td>\n",
       "      <td>2.642578</td>\n",
       "      <td>1.882812</td>\n",
       "      <td>0.332031</td>\n",
       "      <td>0.498047</td>\n",
       "      <td>0.041504</td>\n",
       "    </tr>\n",
       "    <tr>\n",
       "      <th>std</th>\n",
       "      <td>7105.417692</td>\n",
       "      <td>47.070489</td>\n",
       "      <td>3.984283</td>\n",
       "      <td>5.368430e+05</td>\n",
       "      <td>1245.697329</td>\n",
       "      <td>65982.680533</td>\n",
       "      <td>1.104607</td>\n",
       "      <td>0.857329</td>\n",
       "      <td>0.620852</td>\n",
       "      <td>0.471403</td>\n",
       "      <td>0.500485</td>\n",
       "      <td>0.437142</td>\n",
       "    </tr>\n",
       "    <tr>\n",
       "      <th>min</th>\n",
       "      <td>227.000000</td>\n",
       "      <td>98001.000000</td>\n",
       "      <td>2000.000000</td>\n",
       "      <td>1.550000e+05</td>\n",
       "      <td>550.000000</td>\n",
       "      <td>600.000000</td>\n",
       "      <td>1.000000</td>\n",
       "      <td>1.000000</td>\n",
       "      <td>1.000000</td>\n",
       "      <td>0.000000</td>\n",
       "      <td>0.000000</td>\n",
       "      <td>-1.183852</td>\n",
       "    </tr>\n",
       "    <tr>\n",
       "      <th>25%</th>\n",
       "      <td>7424.250000</td>\n",
       "      <td>98038.000000</td>\n",
       "      <td>2003.000000</td>\n",
       "      <td>3.691250e+05</td>\n",
       "      <td>1408.750000</td>\n",
       "      <td>1830.000000</td>\n",
       "      <td>3.000000</td>\n",
       "      <td>2.000000</td>\n",
       "      <td>1.000000</td>\n",
       "      <td>0.000000</td>\n",
       "      <td>0.000000</td>\n",
       "      <td>-0.319643</td>\n",
       "    </tr>\n",
       "    <tr>\n",
       "      <th>50%</th>\n",
       "      <td>16476.500000</td>\n",
       "      <td>98065.000000</td>\n",
       "      <td>2006.000000</td>\n",
       "      <td>4.607500e+05</td>\n",
       "      <td>1938.000000</td>\n",
       "      <td>5094.500000</td>\n",
       "      <td>3.000000</td>\n",
       "      <td>3.000000</td>\n",
       "      <td>2.000000</td>\n",
       "      <td>0.000000</td>\n",
       "      <td>0.000000</td>\n",
       "      <td>0.021189</td>\n",
       "    </tr>\n",
       "    <tr>\n",
       "      <th>75%</th>\n",
       "      <td>20443.000000</td>\n",
       "      <td>98116.000000</td>\n",
       "      <td>2009.000000</td>\n",
       "      <td>6.708000e+05</td>\n",
       "      <td>3002.500000</td>\n",
       "      <td>8043.500000</td>\n",
       "      <td>4.000000</td>\n",
       "      <td>3.000000</td>\n",
       "      <td>2.000000</td>\n",
       "      <td>1.000000</td>\n",
       "      <td>1.000000</td>\n",
       "      <td>0.304156</td>\n",
       "    </tr>\n",
       "    <tr>\n",
       "      <th>max</th>\n",
       "      <td>21605.000000</td>\n",
       "      <td>98199.000000</td>\n",
       "      <td>2014.000000</td>\n",
       "      <td>5.350000e+06</td>\n",
       "      <td>8000.000000</td>\n",
       "      <td>982278.000000</td>\n",
       "      <td>6.000000</td>\n",
       "      <td>5.000000</td>\n",
       "      <td>3.000000</td>\n",
       "      <td>1.000000</td>\n",
       "      <td>1.000000</td>\n",
       "      <td>1.269377</td>\n",
       "    </tr>\n",
       "  </tbody>\n",
       "</table>\n",
       "</div>"
      ],
      "text/plain": [
       "                 ID       ZipCode    YearBuilt         Price  LivingSpace  \\\n",
       "count    512.000000    512.000000   512.000000  5.120000e+02   512.000000   \n",
       "mean   13890.984375  98076.386719  2006.515625  6.341306e+05  2348.371094   \n",
       "std     7105.417692     47.070489     3.984283  5.368430e+05  1245.697329   \n",
       "min      227.000000  98001.000000  2000.000000  1.550000e+05   550.000000   \n",
       "25%     7424.250000  98038.000000  2003.000000  3.691250e+05  1408.750000   \n",
       "50%    16476.500000  98065.000000  2006.000000  4.607500e+05  1938.000000   \n",
       "75%    20443.000000  98116.000000  2009.000000  6.708000e+05  3002.500000   \n",
       "max    21605.000000  98199.000000  2014.000000  5.350000e+06  8000.000000   \n",
       "\n",
       "            LotSpace    Bedrooms   Bathrooms  NumberOfFloors  BasementNum  \\\n",
       "count     512.000000  512.000000  512.000000      512.000000   512.000000   \n",
       "mean    15386.859375    3.343750    2.642578        1.882812     0.332031   \n",
       "std     65982.680533    1.104607    0.857329        0.620852     0.471403   \n",
       "min       600.000000    1.000000    1.000000        1.000000     0.000000   \n",
       "25%      1830.000000    3.000000    2.000000        1.000000     0.000000   \n",
       "50%      5094.500000    3.000000    3.000000        2.000000     0.000000   \n",
       "75%      8043.500000    4.000000    3.000000        2.000000     1.000000   \n",
       "max    982278.000000    6.000000    5.000000        3.000000     1.000000   \n",
       "\n",
       "       WaterfrontNum  PreferenceScore  \n",
       "count     512.000000       512.000000  \n",
       "mean        0.498047         0.041504  \n",
       "std         0.500485         0.437142  \n",
       "min         0.000000        -1.183852  \n",
       "25%         0.000000        -0.319643  \n",
       "50%         0.000000         0.021189  \n",
       "75%         1.000000         0.304156  \n",
       "max         1.000000         1.269377  "
      ]
     },
     "execution_count": 132,
     "metadata": {},
     "output_type": "execute_result"
    }
   ],
   "source": [
    "df.describe()"
   ]
  },
  {
   "attachments": {},
   "cell_type": "markdown",
   "metadata": {},
   "source": [
    "Answer: ID 21523, 20473, 20985, 21413, 21234\n",
    "\n",
    "It has 5 or more bedrooms, 3 or more bathrooms, mostly 2 floors, not many have basement, more than half has waterfront, mostly above average for living space, etc.\n",
    "\n",
    "---\n",
    "---\n",
    "---"
   ]
  },
  {
   "attachments": {},
   "cell_type": "markdown",
   "metadata": {},
   "source": [
    "## Part 2: Summary Statistics\n",
    "\n",
    "For this part we are going to use the CASchools.csv data (you can find it on Blackboard > Course Material > Data).\n",
    "\n",
    "Read the data dictionary before you start working on the exercise."
   ]
  },
  {
   "cell_type": "code",
   "execution_count": 20,
   "metadata": {},
   "outputs": [
    {
     "data": {
      "text/html": [
       "<div>\n",
       "<style scoped>\n",
       "    .dataframe tbody tr th:only-of-type {\n",
       "        vertical-align: middle;\n",
       "    }\n",
       "\n",
       "    .dataframe tbody tr th {\n",
       "        vertical-align: top;\n",
       "    }\n",
       "\n",
       "    .dataframe thead th {\n",
       "        text-align: right;\n",
       "    }\n",
       "</style>\n",
       "<table border=\"1\" class=\"dataframe\">\n",
       "  <thead>\n",
       "    <tr style=\"text-align: right;\">\n",
       "      <th></th>\n",
       "      <th>district</th>\n",
       "      <th>school</th>\n",
       "      <th>county</th>\n",
       "      <th>grades</th>\n",
       "      <th>students</th>\n",
       "      <th>teachers</th>\n",
       "      <th>calworks</th>\n",
       "      <th>lunch</th>\n",
       "      <th>computer</th>\n",
       "      <th>expenditure</th>\n",
       "      <th>income</th>\n",
       "      <th>english</th>\n",
       "      <th>read</th>\n",
       "      <th>math</th>\n",
       "    </tr>\n",
       "  </thead>\n",
       "  <tbody>\n",
       "    <tr>\n",
       "      <th>0</th>\n",
       "      <td>75119</td>\n",
       "      <td>Sunol Glen Unified</td>\n",
       "      <td>Alameda</td>\n",
       "      <td>KK-08</td>\n",
       "      <td>195</td>\n",
       "      <td>10.900000</td>\n",
       "      <td>0.510200</td>\n",
       "      <td>2.040800</td>\n",
       "      <td>67</td>\n",
       "      <td>6384.911133</td>\n",
       "      <td>22.690001</td>\n",
       "      <td>0.000000</td>\n",
       "      <td>691.599976</td>\n",
       "      <td>690.000000</td>\n",
       "    </tr>\n",
       "    <tr>\n",
       "      <th>1</th>\n",
       "      <td>61499</td>\n",
       "      <td>Manzanita Elementary</td>\n",
       "      <td>Butte</td>\n",
       "      <td>KK-08</td>\n",
       "      <td>240</td>\n",
       "      <td>11.150000</td>\n",
       "      <td>15.416700</td>\n",
       "      <td>47.916698</td>\n",
       "      <td>101</td>\n",
       "      <td>5099.380859</td>\n",
       "      <td>9.824000</td>\n",
       "      <td>4.583333</td>\n",
       "      <td>660.500000</td>\n",
       "      <td>661.900024</td>\n",
       "    </tr>\n",
       "    <tr>\n",
       "      <th>2</th>\n",
       "      <td>61549</td>\n",
       "      <td>Thermalito Union Elementary</td>\n",
       "      <td>Butte</td>\n",
       "      <td>KK-08</td>\n",
       "      <td>1550</td>\n",
       "      <td>82.900002</td>\n",
       "      <td>55.032299</td>\n",
       "      <td>76.322601</td>\n",
       "      <td>169</td>\n",
       "      <td>5501.954590</td>\n",
       "      <td>8.978000</td>\n",
       "      <td>30.000002</td>\n",
       "      <td>636.299988</td>\n",
       "      <td>650.900024</td>\n",
       "    </tr>\n",
       "    <tr>\n",
       "      <th>3</th>\n",
       "      <td>61457</td>\n",
       "      <td>Golden Feather Union Elementary</td>\n",
       "      <td>Butte</td>\n",
       "      <td>KK-08</td>\n",
       "      <td>243</td>\n",
       "      <td>14.000000</td>\n",
       "      <td>36.475399</td>\n",
       "      <td>77.049202</td>\n",
       "      <td>85</td>\n",
       "      <td>7101.831055</td>\n",
       "      <td>8.978000</td>\n",
       "      <td>0.000000</td>\n",
       "      <td>651.900024</td>\n",
       "      <td>643.500000</td>\n",
       "    </tr>\n",
       "    <tr>\n",
       "      <th>4</th>\n",
       "      <td>61523</td>\n",
       "      <td>Palermo Union Elementary</td>\n",
       "      <td>Butte</td>\n",
       "      <td>KK-08</td>\n",
       "      <td>1335</td>\n",
       "      <td>71.500000</td>\n",
       "      <td>33.108601</td>\n",
       "      <td>78.427002</td>\n",
       "      <td>171</td>\n",
       "      <td>5235.987793</td>\n",
       "      <td>9.080333</td>\n",
       "      <td>13.857677</td>\n",
       "      <td>641.799988</td>\n",
       "      <td>639.900024</td>\n",
       "    </tr>\n",
       "  </tbody>\n",
       "</table>\n",
       "</div>"
      ],
      "text/plain": [
       "   district                           school   county grades  students  \\\n",
       "0     75119               Sunol Glen Unified  Alameda  KK-08       195   \n",
       "1     61499             Manzanita Elementary    Butte  KK-08       240   \n",
       "2     61549      Thermalito Union Elementary    Butte  KK-08      1550   \n",
       "3     61457  Golden Feather Union Elementary    Butte  KK-08       243   \n",
       "4     61523         Palermo Union Elementary    Butte  KK-08      1335   \n",
       "\n",
       "    teachers   calworks      lunch  computer  expenditure     income  \\\n",
       "0  10.900000   0.510200   2.040800        67  6384.911133  22.690001   \n",
       "1  11.150000  15.416700  47.916698       101  5099.380859   9.824000   \n",
       "2  82.900002  55.032299  76.322601       169  5501.954590   8.978000   \n",
       "3  14.000000  36.475399  77.049202        85  7101.831055   8.978000   \n",
       "4  71.500000  33.108601  78.427002       171  5235.987793   9.080333   \n",
       "\n",
       "     english        read        math  \n",
       "0   0.000000  691.599976  690.000000  \n",
       "1   4.583333  660.500000  661.900024  \n",
       "2  30.000002  636.299988  650.900024  \n",
       "3   0.000000  651.900024  643.500000  \n",
       "4  13.857677  641.799988  639.900024  "
      ]
     },
     "execution_count": 20,
     "metadata": {},
     "output_type": "execute_result"
    }
   ],
   "source": [
    "# Import csv file\n",
    "\n",
    "df2 = pd.read_csv('data/CASchools.csv')\n",
    "df2.drop(columns='Unnamed: 0', inplace=True)\n",
    "df2.head()"
   ]
  },
  {
   "attachments": {},
   "cell_type": "markdown",
   "metadata": {},
   "source": [
    "---"
   ]
  },
  {
   "attachments": {},
   "cell_type": "markdown",
   "metadata": {},
   "source": [
    "##### 1. How many variables and observations are in the data?"
   ]
  },
  {
   "cell_type": "code",
   "execution_count": 21,
   "metadata": {},
   "outputs": [
    {
     "data": {
      "text/plain": [
       "(420, 14)"
      ]
     },
     "execution_count": 21,
     "metadata": {},
     "output_type": "execute_result"
    }
   ],
   "source": [
    "# Output shape\n",
    "\n",
    "df2.shape"
   ]
  },
  {
   "attachments": {},
   "cell_type": "markdown",
   "metadata": {},
   "source": [
    "Answer: 14 Variables and 420 Observations\n",
    "\n",
    "---"
   ]
  },
  {
   "attachments": {},
   "cell_type": "markdown",
   "metadata": {},
   "source": [
    "##### 2. How many variables are numerical? How many are categorical?"
   ]
  },
  {
   "cell_type": "code",
   "execution_count": 22,
   "metadata": {},
   "outputs": [
    {
     "data": {
      "text/plain": [
       "11"
      ]
     },
     "execution_count": 22,
     "metadata": {},
     "output_type": "execute_result"
    }
   ],
   "source": [
    "# Numerical\n",
    "len(df2._get_numeric_data().columns)"
   ]
  },
  {
   "cell_type": "code",
   "execution_count": 23,
   "metadata": {},
   "outputs": [
    {
     "data": {
      "text/plain": [
       "3"
      ]
     },
     "execution_count": 23,
     "metadata": {},
     "output_type": "execute_result"
    }
   ],
   "source": [
    "# Categorical\n",
    "len(set(df2.columns)-set(df2._get_numeric_data().columns))"
   ]
  },
  {
   "attachments": {},
   "cell_type": "markdown",
   "metadata": {},
   "source": [
    "Answer: 11 Numerical Variables and 3 Categorical Variables\n",
    "\n",
    "---"
   ]
  },
  {
   "attachments": {},
   "cell_type": "markdown",
   "metadata": {},
   "source": [
    "##### 3. Compute the mean and standard deviation of the variable math. Produce a 1 standard deviation around the mean. What can you say about observations that lie within the 1 standard deviation interval?"
   ]
  },
  {
   "cell_type": "code",
   "execution_count": 24,
   "metadata": {},
   "outputs": [
    {
     "data": {
      "text/plain": [
       "count    420.000000\n",
       "mean     653.342619\n",
       "std       18.754202\n",
       "min      605.400024\n",
       "25%      639.375015\n",
       "50%      652.449982\n",
       "75%      665.849991\n",
       "max      709.500000\n",
       "Name: math, dtype: float64"
      ]
     },
     "execution_count": 24,
     "metadata": {},
     "output_type": "execute_result"
    }
   ],
   "source": [
    "# Describe the variable 'math'\n",
    "\n",
    "df2.math.describe()"
   ]
  },
  {
   "cell_type": "code",
   "execution_count": 25,
   "metadata": {},
   "outputs": [
    {
     "data": {
      "text/plain": [
       "634.5884163515497"
      ]
     },
     "execution_count": 25,
     "metadata": {},
     "output_type": "execute_result"
    }
   ],
   "source": [
    "# mean - one standard deviation\n",
    "\n",
    "df2.math.mean() - df2.math.std()"
   ]
  },
  {
   "cell_type": "code",
   "execution_count": 26,
   "metadata": {},
   "outputs": [
    {
     "data": {
      "text/plain": [
       "672.0968206979741"
      ]
     },
     "execution_count": 26,
     "metadata": {},
     "output_type": "execute_result"
    }
   ],
   "source": [
    "# mean + one standard deviation\n",
    "\n",
    "df2.math.mean() + df2.math.std()"
   ]
  },
  {
   "attachments": {},
   "cell_type": "markdown",
   "metadata": {},
   "source": [
    "Answer: Range between 634.59 and 672.1 in a normal distribution represents the 68% of values.\n",
    "\n",
    "---"
   ]
  },
  {
   "attachments": {},
   "cell_type": "markdown",
   "metadata": {},
   "source": [
    "##### 4. Produce a histogram of the variable math . Make sure to label the axis correctly and to add a title to the graph. Is the distribution symmetric or skewed? unimodal, bimodal or uniform?"
   ]
  },
  {
   "cell_type": "code",
   "execution_count": 27,
   "metadata": {},
   "outputs": [
    {
     "data": {
      "text/plain": [
       "<AxesSubplot:xlabel='math', ylabel='Count'>"
      ]
     },
     "execution_count": 27,
     "metadata": {},
     "output_type": "execute_result"
    },
    {
     "data": {
      "image/png": "[encoded data removed]",
      "text/plain": [
       "<Figure size 600x500 with 1 Axes>"
      ]
     },
     "metadata": {},
     "output_type": "display_data"
    }
   ],
   "source": [
    "# Plot Histogram for Variable math (Added kde to see probability density)\n",
    "\n",
    "plt.figure(figsize=(6,5))\n",
    "plt.suptitle('Histogram of the variable math')\n",
    "sns.histplot(data=df2, x=\"math\", kde=True, color='green')"
   ]
  },
  {
   "attachments": {},
   "cell_type": "markdown",
   "metadata": {},
   "source": [
    "Answer: The distribution is fairly symmetric and unimodal.\n",
    "\n",
    "---"
   ]
  },
  {
   "attachments": {},
   "cell_type": "markdown",
   "metadata": {},
   "source": [
    "##### 5. Produce a relative frequency table for the variable math . Use 7 bins. If a school is selected randomly, from which bin do you think they are more likely to be in?"
   ]
  },
  {
   "cell_type": "code",
   "execution_count": 28,
   "metadata": {},
   "outputs": [
    {
     "data": {
      "text/plain": [
       "<AxesSubplot:xlabel='math', ylabel='Count'>"
      ]
     },
     "execution_count": 28,
     "metadata": {},
     "output_type": "execute_result"
    },
    {
     "data": {
      "image/png": "[encoded data removed]",
      "text/plain": [
       "<Figure size 600x500 with 1 Axes>"
      ]
     },
     "metadata": {},
     "output_type": "display_data"
    }
   ],
   "source": [
    "# Plot the relative frequency table for variable 'math'\n",
    "\n",
    "plt.figure(figsize=(6,5))\n",
    "plt.suptitle('Relative Frequency Table for the variable math')\n",
    "sns.histplot(data=df2, x='math', weights=np.ones_like(df2.math)/len(df2.math), bins=7, color='green')"
   ]
  },
  {
   "attachments": {},
   "cell_type": "markdown",
   "metadata": {},
   "source": [
    "Answer: The 3rd or 4th bin\n",
    "\n",
    "---"
   ]
  },
  {
   "attachments": {},
   "cell_type": "markdown",
   "metadata": {},
   "source": [
    "##### 6. Repeat questions 3, 4, and 5 but this time use the variable income."
   ]
  },
  {
   "cell_type": "code",
   "execution_count": 73,
   "metadata": {},
   "outputs": [
    {
     "data": {
      "text/plain": [
       "count    420.000000\n",
       "mean      15.316588\n",
       "std        7.225890\n",
       "min        5.335000\n",
       "25%       10.639000\n",
       "50%       13.727800\n",
       "75%       17.629001\n",
       "max       55.327999\n",
       "Name: income, dtype: float64"
      ]
     },
     "execution_count": 73,
     "metadata": {},
     "output_type": "execute_result"
    }
   ],
   "source": [
    "# Describe income variable\n",
    "\n",
    "df2.income.describe()"
   ]
  },
  {
   "cell_type": "code",
   "execution_count": 75,
   "metadata": {},
   "outputs": [
    {
     "data": {
      "text/plain": [
       "8.090698290124974"
      ]
     },
     "execution_count": 75,
     "metadata": {},
     "output_type": "execute_result"
    }
   ],
   "source": [
    "# Mean - One Standard Deviation\n",
    "\n",
    "df2.income.mean() - df2.income.std()"
   ]
  },
  {
   "cell_type": "code",
   "execution_count": 76,
   "metadata": {},
   "outputs": [
    {
     "data": {
      "text/plain": [
       "22.542477816375026"
      ]
     },
     "execution_count": 76,
     "metadata": {},
     "output_type": "execute_result"
    }
   ],
   "source": [
    "# Mean + One Standard Deviation\n",
    "\n",
    "df2.income.mean() + df2.income.std()"
   ]
  },
  {
   "attachments": {},
   "cell_type": "markdown",
   "metadata": {},
   "source": [
    "Answer: Range between 8.09 and 22.54 in a normal distribution represents the 68% of values."
   ]
  },
  {
   "cell_type": "code",
   "execution_count": 32,
   "metadata": {},
   "outputs": [
    {
     "data": {
      "text/plain": [
       "<AxesSubplot:xlabel='income', ylabel='Count'>"
      ]
     },
     "execution_count": 32,
     "metadata": {},
     "output_type": "execute_result"
    },
    {
     "data": {
      "image/png": "[encoded data removed]",
      "text/plain": [
       "<Figure size 600x500 with 1 Axes>"
      ]
     },
     "metadata": {},
     "output_type": "display_data"
    }
   ],
   "source": [
    "# Find histogram of the variable income\n",
    "\n",
    "plt.figure(figsize=(6,5))\n",
    "plt.suptitle('Histogram of the variable income')\n",
    "sns.histplot(data=df2, x=\"income\", kde=True, color='green')"
   ]
  },
  {
   "attachments": {},
   "cell_type": "markdown",
   "metadata": {},
   "source": [
    "Answer: Skewed to the right and Unimodal"
   ]
  },
  {
   "cell_type": "code",
   "execution_count": 77,
   "metadata": {},
   "outputs": [
    {
     "data": {
      "text/plain": [
       "<AxesSubplot:xlabel='income', ylabel='Count'>"
      ]
     },
     "execution_count": 77,
     "metadata": {},
     "output_type": "execute_result"
    },
    {
     "data": {
      "image/png": "[encoded data removed]",
      "text/plain": [
       "<Figure size 600x500 with 1 Axes>"
      ]
     },
     "metadata": {},
     "output_type": "display_data"
    }
   ],
   "source": [
    "# Find relative frequency table for the variable income\n",
    "\n",
    "plt.figure(figsize=(6,5))\n",
    "plt.suptitle('Relative Frequency Table for the variable income')\n",
    "sns.histplot(data=df2, x='income', weights=np.ones_like(df2.income)/len(df2.income), bins=7, color='green')"
   ]
  },
  {
   "attachments": {},
   "cell_type": "markdown",
   "metadata": {},
   "source": [
    "Answer: The 1st or 2nd Bin\n",
    "\n",
    "---"
   ]
  },
  {
   "attachments": {},
   "cell_type": "markdown",
   "metadata": {},
   "source": [
    "##### 7. Produce a pie chart using the variable Grades. Do you think the distribution of Grades is uniform? Explain."
   ]
  },
  {
   "cell_type": "code",
   "execution_count": 34,
   "metadata": {},
   "outputs": [
    {
     "data": {
      "image/png": "[encoded data removed]",
      "text/plain": [
       "<Figure size 640x480 with 1 Axes>"
      ]
     },
     "metadata": {},
     "output_type": "display_data"
    }
   ],
   "source": [
    "data = list(df2.grades.value_counts())\n",
    "labels = list(df2.grades.value_counts().index)\n",
    "\n",
    "colors = sns.color_palette('pastel')\n",
    "\n",
    "plt.suptitle('Distribution of Grades')\n",
    "plt.pie(data, labels=labels, colors=colors, autopct='%.2f%%')\n",
    "plt.show()"
   ]
  },
  {
   "attachments": {},
   "cell_type": "markdown",
   "metadata": {},
   "source": [
    "Answer: No. The distribution of grades is not uniform. The number of KK-08 grades is much higher than the number of KK-06 grades.\n",
    "\n",
    "---"
   ]
  },
  {
   "attachments": {},
   "cell_type": "markdown",
   "metadata": {},
   "source": [
    "##### 8. Compare the distributions of math and read . Which one has the greatest average? which one has the greatest variability?"
   ]
  },
  {
   "cell_type": "code",
   "execution_count": 91,
   "metadata": {},
   "outputs": [
    {
     "data": {
      "text/plain": [
       "count    420.000000\n",
       "mean     653.342619\n",
       "std       18.754202\n",
       "min      605.400024\n",
       "25%      639.375015\n",
       "50%      652.449982\n",
       "75%      665.849991\n",
       "max      709.500000\n",
       "Name: math, dtype: float64"
      ]
     },
     "execution_count": 91,
     "metadata": {},
     "output_type": "execute_result"
    }
   ],
   "source": [
    "df2.math.describe()"
   ]
  },
  {
   "cell_type": "code",
   "execution_count": 92,
   "metadata": {},
   "outputs": [
    {
     "data": {
      "text/plain": [
       "count    420.000000\n",
       "mean     654.970477\n",
       "std       20.107980\n",
       "min      604.500000\n",
       "25%      640.400024\n",
       "50%      655.750000\n",
       "75%      668.725006\n",
       "max      704.000000\n",
       "Name: read, dtype: float64"
      ]
     },
     "execution_count": 92,
     "metadata": {},
     "output_type": "execute_result"
    }
   ],
   "source": [
    "df2.read.describe()"
   ]
  },
  {
   "cell_type": "code",
   "execution_count": 79,
   "metadata": {},
   "outputs": [
    {
     "data": {
      "text/plain": [
       "653.3426185247619"
      ]
     },
     "execution_count": 79,
     "metadata": {},
     "output_type": "execute_result"
    }
   ],
   "source": [
    "df2.math.mean()"
   ]
  },
  {
   "cell_type": "code",
   "execution_count": 81,
   "metadata": {},
   "outputs": [
    {
     "data": {
      "text/plain": [
       "351.72009915371876"
      ]
     },
     "execution_count": 81,
     "metadata": {},
     "output_type": "execute_result"
    }
   ],
   "source": [
    "df2.math.var()"
   ]
  },
  {
   "cell_type": "code",
   "execution_count": 80,
   "metadata": {},
   "outputs": [
    {
     "data": {
      "text/plain": [
       "654.9704770038096"
      ]
     },
     "execution_count": 80,
     "metadata": {},
     "output_type": "execute_result"
    }
   ],
   "source": [
    "df2.read.mean()"
   ]
  },
  {
   "cell_type": "code",
   "execution_count": 82,
   "metadata": {},
   "outputs": [
    {
     "data": {
      "text/plain": [
       "404.33086056492"
      ]
     },
     "execution_count": 82,
     "metadata": {},
     "output_type": "execute_result"
    }
   ],
   "source": [
    "df2.read.var()"
   ]
  },
  {
   "attachments": {},
   "cell_type": "markdown",
   "metadata": {},
   "source": [
    "Answer: Read has a greater mean and variance than that of math.\n",
    "\n",
    "---"
   ]
  },
  {
   "attachments": {},
   "cell_type": "markdown",
   "metadata": {},
   "source": [
    "##### 9. Produce a variable called academicPerformance which is the average of the math and read scores. Use it to produce a top 10 of the counties with highest academic performance. Repeat this exercise using only math and then only using read."
   ]
  },
  {
   "cell_type": "code",
   "execution_count": 83,
   "metadata": {},
   "outputs": [
    {
     "data": {
      "text/html": [
       "<div>\n",
       "<style scoped>\n",
       "    .dataframe tbody tr th:only-of-type {\n",
       "        vertical-align: middle;\n",
       "    }\n",
       "\n",
       "    .dataframe tbody tr th {\n",
       "        vertical-align: top;\n",
       "    }\n",
       "\n",
       "    .dataframe thead th {\n",
       "        text-align: right;\n",
       "    }\n",
       "</style>\n",
       "<table border=\"1\" class=\"dataframe\">\n",
       "  <thead>\n",
       "    <tr style=\"text-align: right;\">\n",
       "      <th></th>\n",
       "      <th>district</th>\n",
       "      <th>school</th>\n",
       "      <th>county</th>\n",
       "      <th>grades</th>\n",
       "      <th>students</th>\n",
       "      <th>teachers</th>\n",
       "      <th>calworks</th>\n",
       "      <th>lunch</th>\n",
       "      <th>computer</th>\n",
       "      <th>expenditure</th>\n",
       "      <th>income</th>\n",
       "      <th>english</th>\n",
       "      <th>read</th>\n",
       "      <th>math</th>\n",
       "      <th>academicPerformance</th>\n",
       "    </tr>\n",
       "  </thead>\n",
       "  <tbody>\n",
       "    <tr>\n",
       "      <th>0</th>\n",
       "      <td>75119</td>\n",
       "      <td>Sunol Glen Unified</td>\n",
       "      <td>Alameda</td>\n",
       "      <td>KK-08</td>\n",
       "      <td>195</td>\n",
       "      <td>10.900000</td>\n",
       "      <td>0.510200</td>\n",
       "      <td>2.040800</td>\n",
       "      <td>67</td>\n",
       "      <td>6384.911133</td>\n",
       "      <td>22.690001</td>\n",
       "      <td>0.000000</td>\n",
       "      <td>691.599976</td>\n",
       "      <td>690.000000</td>\n",
       "      <td>690.799988</td>\n",
       "    </tr>\n",
       "    <tr>\n",
       "      <th>1</th>\n",
       "      <td>61499</td>\n",
       "      <td>Manzanita Elementary</td>\n",
       "      <td>Butte</td>\n",
       "      <td>KK-08</td>\n",
       "      <td>240</td>\n",
       "      <td>11.150000</td>\n",
       "      <td>15.416700</td>\n",
       "      <td>47.916698</td>\n",
       "      <td>101</td>\n",
       "      <td>5099.380859</td>\n",
       "      <td>9.824000</td>\n",
       "      <td>4.583333</td>\n",
       "      <td>660.500000</td>\n",
       "      <td>661.900024</td>\n",
       "      <td>661.200012</td>\n",
       "    </tr>\n",
       "    <tr>\n",
       "      <th>2</th>\n",
       "      <td>61549</td>\n",
       "      <td>Thermalito Union Elementary</td>\n",
       "      <td>Butte</td>\n",
       "      <td>KK-08</td>\n",
       "      <td>1550</td>\n",
       "      <td>82.900002</td>\n",
       "      <td>55.032299</td>\n",
       "      <td>76.322601</td>\n",
       "      <td>169</td>\n",
       "      <td>5501.954590</td>\n",
       "      <td>8.978000</td>\n",
       "      <td>30.000002</td>\n",
       "      <td>636.299988</td>\n",
       "      <td>650.900024</td>\n",
       "      <td>643.600006</td>\n",
       "    </tr>\n",
       "    <tr>\n",
       "      <th>3</th>\n",
       "      <td>61457</td>\n",
       "      <td>Golden Feather Union Elementary</td>\n",
       "      <td>Butte</td>\n",
       "      <td>KK-08</td>\n",
       "      <td>243</td>\n",
       "      <td>14.000000</td>\n",
       "      <td>36.475399</td>\n",
       "      <td>77.049202</td>\n",
       "      <td>85</td>\n",
       "      <td>7101.831055</td>\n",
       "      <td>8.978000</td>\n",
       "      <td>0.000000</td>\n",
       "      <td>651.900024</td>\n",
       "      <td>643.500000</td>\n",
       "      <td>647.700012</td>\n",
       "    </tr>\n",
       "    <tr>\n",
       "      <th>4</th>\n",
       "      <td>61523</td>\n",
       "      <td>Palermo Union Elementary</td>\n",
       "      <td>Butte</td>\n",
       "      <td>KK-08</td>\n",
       "      <td>1335</td>\n",
       "      <td>71.500000</td>\n",
       "      <td>33.108601</td>\n",
       "      <td>78.427002</td>\n",
       "      <td>171</td>\n",
       "      <td>5235.987793</td>\n",
       "      <td>9.080333</td>\n",
       "      <td>13.857677</td>\n",
       "      <td>641.799988</td>\n",
       "      <td>639.900024</td>\n",
       "      <td>640.850006</td>\n",
       "    </tr>\n",
       "    <tr>\n",
       "      <th>...</th>\n",
       "      <td>...</td>\n",
       "      <td>...</td>\n",
       "      <td>...</td>\n",
       "      <td>...</td>\n",
       "      <td>...</td>\n",
       "      <td>...</td>\n",
       "      <td>...</td>\n",
       "      <td>...</td>\n",
       "      <td>...</td>\n",
       "      <td>...</td>\n",
       "      <td>...</td>\n",
       "      <td>...</td>\n",
       "      <td>...</td>\n",
       "      <td>...</td>\n",
       "      <td>...</td>\n",
       "    </tr>\n",
       "    <tr>\n",
       "      <th>415</th>\n",
       "      <td>68957</td>\n",
       "      <td>Las Lomitas Elementary</td>\n",
       "      <td>San Mateo</td>\n",
       "      <td>KK-08</td>\n",
       "      <td>984</td>\n",
       "      <td>59.730000</td>\n",
       "      <td>0.101600</td>\n",
       "      <td>3.556900</td>\n",
       "      <td>195</td>\n",
       "      <td>7290.338867</td>\n",
       "      <td>28.716999</td>\n",
       "      <td>5.995935</td>\n",
       "      <td>700.900024</td>\n",
       "      <td>707.700012</td>\n",
       "      <td>704.300018</td>\n",
       "    </tr>\n",
       "    <tr>\n",
       "      <th>416</th>\n",
       "      <td>69518</td>\n",
       "      <td>Los Altos Elementary</td>\n",
       "      <td>Santa Clara</td>\n",
       "      <td>KK-08</td>\n",
       "      <td>3724</td>\n",
       "      <td>208.479996</td>\n",
       "      <td>1.074100</td>\n",
       "      <td>1.503800</td>\n",
       "      <td>721</td>\n",
       "      <td>5741.462891</td>\n",
       "      <td>41.734108</td>\n",
       "      <td>4.726101</td>\n",
       "      <td>704.000000</td>\n",
       "      <td>709.500000</td>\n",
       "      <td>706.750000</td>\n",
       "    </tr>\n",
       "    <tr>\n",
       "      <th>417</th>\n",
       "      <td>72611</td>\n",
       "      <td>Somis Union Elementary</td>\n",
       "      <td>Ventura</td>\n",
       "      <td>KK-08</td>\n",
       "      <td>441</td>\n",
       "      <td>20.150000</td>\n",
       "      <td>3.563500</td>\n",
       "      <td>37.193802</td>\n",
       "      <td>45</td>\n",
       "      <td>4402.831543</td>\n",
       "      <td>23.733000</td>\n",
       "      <td>24.263039</td>\n",
       "      <td>648.299988</td>\n",
       "      <td>641.700012</td>\n",
       "      <td>645.000000</td>\n",
       "    </tr>\n",
       "    <tr>\n",
       "      <th>418</th>\n",
       "      <td>72744</td>\n",
       "      <td>Plumas Elementary</td>\n",
       "      <td>Yuba</td>\n",
       "      <td>KK-08</td>\n",
       "      <td>101</td>\n",
       "      <td>5.000000</td>\n",
       "      <td>11.881200</td>\n",
       "      <td>59.405899</td>\n",
       "      <td>14</td>\n",
       "      <td>4776.336426</td>\n",
       "      <td>9.952000</td>\n",
       "      <td>2.970297</td>\n",
       "      <td>667.900024</td>\n",
       "      <td>676.500000</td>\n",
       "      <td>672.200012</td>\n",
       "    </tr>\n",
       "    <tr>\n",
       "      <th>419</th>\n",
       "      <td>72751</td>\n",
       "      <td>Wheatland Elementary</td>\n",
       "      <td>Yuba</td>\n",
       "      <td>KK-08</td>\n",
       "      <td>1778</td>\n",
       "      <td>93.400002</td>\n",
       "      <td>6.923500</td>\n",
       "      <td>47.571201</td>\n",
       "      <td>313</td>\n",
       "      <td>5993.392578</td>\n",
       "      <td>12.502000</td>\n",
       "      <td>5.005624</td>\n",
       "      <td>660.500000</td>\n",
       "      <td>651.000000</td>\n",
       "      <td>655.750000</td>\n",
       "    </tr>\n",
       "  </tbody>\n",
       "</table>\n",
       "<p>420 rows × 15 columns</p>\n",
       "</div>"
      ],
      "text/plain": [
       "     district                           school       county grades  students  \\\n",
       "0       75119               Sunol Glen Unified      Alameda  KK-08       195   \n",
       "1       61499             Manzanita Elementary        Butte  KK-08       240   \n",
       "2       61549      Thermalito Union Elementary        Butte  KK-08      1550   \n",
       "3       61457  Golden Feather Union Elementary        Butte  KK-08       243   \n",
       "4       61523         Palermo Union Elementary        Butte  KK-08      1335   \n",
       "..        ...                              ...          ...    ...       ...   \n",
       "415     68957           Las Lomitas Elementary    San Mateo  KK-08       984   \n",
       "416     69518             Los Altos Elementary  Santa Clara  KK-08      3724   \n",
       "417     72611           Somis Union Elementary      Ventura  KK-08       441   \n",
       "418     72744                Plumas Elementary         Yuba  KK-08       101   \n",
       "419     72751             Wheatland Elementary         Yuba  KK-08      1778   \n",
       "\n",
       "       teachers   calworks      lunch  computer  expenditure     income  \\\n",
       "0     10.900000   0.510200   2.040800        67  6384.911133  22.690001   \n",
       "1     11.150000  15.416700  47.916698       101  5099.380859   9.824000   \n",
       "2     82.900002  55.032299  76.322601       169  5501.954590   8.978000   \n",
       "3     14.000000  36.475399  77.049202        85  7101.831055   8.978000   \n",
       "4     71.500000  33.108601  78.427002       171  5235.987793   9.080333   \n",
       "..          ...        ...        ...       ...          ...        ...   \n",
       "415   59.730000   0.101600   3.556900       195  7290.338867  28.716999   \n",
       "416  208.479996   1.074100   1.503800       721  5741.462891  41.734108   \n",
       "417   20.150000   3.563500  37.193802        45  4402.831543  23.733000   \n",
       "418    5.000000  11.881200  59.405899        14  4776.336426   9.952000   \n",
       "419   93.400002   6.923500  47.571201       313  5993.392578  12.502000   \n",
       "\n",
       "       english        read        math  academicPerformance  \n",
       "0     0.000000  691.599976  690.000000           690.799988  \n",
       "1     4.583333  660.500000  661.900024           661.200012  \n",
       "2    30.000002  636.299988  650.900024           643.600006  \n",
       "3     0.000000  651.900024  643.500000           647.700012  \n",
       "4    13.857677  641.799988  639.900024           640.850006  \n",
       "..         ...         ...         ...                  ...  \n",
       "415   5.995935  700.900024  707.700012           704.300018  \n",
       "416   4.726101  704.000000  709.500000           706.750000  \n",
       "417  24.263039  648.299988  641.700012           645.000000  \n",
       "418   2.970297  667.900024  676.500000           672.200012  \n",
       "419   5.005624  660.500000  651.000000           655.750000  \n",
       "\n",
       "[420 rows x 15 columns]"
      ]
     },
     "execution_count": 83,
     "metadata": {},
     "output_type": "execute_result"
    }
   ],
   "source": [
    "# Calculate academic performance\n",
    "\n",
    "df2['academicPerformance'] = (df2.read+df2.math)/2\n",
    "df2"
   ]
  },
  {
   "cell_type": "code",
   "execution_count": 37,
   "metadata": {},
   "outputs": [
    {
     "data": {
      "text/plain": [
       "0             Alameda\n",
       "16              Marin\n",
       "40            Trinity\n",
       "33         Santa Cruz\n",
       "3        Contra Costa\n",
       "30          San Mateo\n",
       "31      Santa Barbara\n",
       "20             Nevada\n",
       "22             Placer\n",
       "29    San Luis Obispo\n",
       "Name: county, dtype: object"
      ]
     },
     "execution_count": 37,
     "metadata": {},
     "output_type": "execute_result"
    }
   ],
   "source": [
    "# Group by county with average math, read, and academic performance\n",
    "# Find top 10 counties with highest academic performance\n",
    "\n",
    "county_group = df2.groupby(by='county', as_index=False)[['math','read','academicPerformance']].mean()\n",
    "county_group.sort_values(by='academicPerformance',ascending=False).head(10).county"
   ]
  },
  {
   "cell_type": "code",
   "execution_count": 84,
   "metadata": {},
   "outputs": [
    {
     "data": {
      "text/html": [
       "<div>\n",
       "<style scoped>\n",
       "    .dataframe tbody tr th:only-of-type {\n",
       "        vertical-align: middle;\n",
       "    }\n",
       "\n",
       "    .dataframe tbody tr th {\n",
       "        vertical-align: top;\n",
       "    }\n",
       "\n",
       "    .dataframe thead th {\n",
       "        text-align: right;\n",
       "    }\n",
       "</style>\n",
       "<table border=\"1\" class=\"dataframe\">\n",
       "  <thead>\n",
       "    <tr style=\"text-align: right;\">\n",
       "      <th></th>\n",
       "      <th>county</th>\n",
       "      <th>math</th>\n",
       "      <th>read</th>\n",
       "      <th>academicPerformance</th>\n",
       "    </tr>\n",
       "  </thead>\n",
       "  <tbody>\n",
       "    <tr>\n",
       "      <th>0</th>\n",
       "      <td>Alameda</td>\n",
       "      <td>690.000000</td>\n",
       "      <td>691.599976</td>\n",
       "      <td>690.799988</td>\n",
       "    </tr>\n",
       "    <tr>\n",
       "      <th>16</th>\n",
       "      <td>Marin</td>\n",
       "      <td>676.200012</td>\n",
       "      <td>684.849998</td>\n",
       "      <td>680.525005</td>\n",
       "    </tr>\n",
       "    <tr>\n",
       "      <th>40</th>\n",
       "      <td>Trinity</td>\n",
       "      <td>676.649994</td>\n",
       "      <td>676.449982</td>\n",
       "      <td>676.549988</td>\n",
       "    </tr>\n",
       "    <tr>\n",
       "      <th>33</th>\n",
       "      <td>Santa Cruz</td>\n",
       "      <td>672.099993</td>\n",
       "      <td>677.100002</td>\n",
       "      <td>674.599997</td>\n",
       "    </tr>\n",
       "    <tr>\n",
       "      <th>3</th>\n",
       "      <td>Contra Costa</td>\n",
       "      <td>672.014291</td>\n",
       "      <td>675.142866</td>\n",
       "      <td>673.578578</td>\n",
       "    </tr>\n",
       "    <tr>\n",
       "      <th>30</th>\n",
       "      <td>San Mateo</td>\n",
       "      <td>668.505881</td>\n",
       "      <td>669.476480</td>\n",
       "      <td>668.991180</td>\n",
       "    </tr>\n",
       "    <tr>\n",
       "      <th>31</th>\n",
       "      <td>Santa Barbara</td>\n",
       "      <td>666.554549</td>\n",
       "      <td>666.563632</td>\n",
       "      <td>666.559090</td>\n",
       "    </tr>\n",
       "    <tr>\n",
       "      <th>20</th>\n",
       "      <td>Nevada</td>\n",
       "      <td>662.922221</td>\n",
       "      <td>669.399997</td>\n",
       "      <td>666.161109</td>\n",
       "    </tr>\n",
       "    <tr>\n",
       "      <th>22</th>\n",
       "      <td>Placer</td>\n",
       "      <td>663.000000</td>\n",
       "      <td>668.863625</td>\n",
       "      <td>665.931813</td>\n",
       "    </tr>\n",
       "    <tr>\n",
       "      <th>29</th>\n",
       "      <td>San Luis Obispo</td>\n",
       "      <td>663.199982</td>\n",
       "      <td>667.949982</td>\n",
       "      <td>665.574982</td>\n",
       "    </tr>\n",
       "  </tbody>\n",
       "</table>\n",
       "</div>"
      ],
      "text/plain": [
       "             county        math        read  academicPerformance\n",
       "0           Alameda  690.000000  691.599976           690.799988\n",
       "16            Marin  676.200012  684.849998           680.525005\n",
       "40          Trinity  676.649994  676.449982           676.549988\n",
       "33       Santa Cruz  672.099993  677.100002           674.599997\n",
       "3      Contra Costa  672.014291  675.142866           673.578578\n",
       "30        San Mateo  668.505881  669.476480           668.991180\n",
       "31    Santa Barbara  666.554549  666.563632           666.559090\n",
       "20           Nevada  662.922221  669.399997           666.161109\n",
       "22           Placer  663.000000  668.863625           665.931813\n",
       "29  San Luis Obispo  663.199982  667.949982           665.574982"
      ]
     },
     "execution_count": 84,
     "metadata": {},
     "output_type": "execute_result"
    }
   ],
   "source": [
    "# Another method to find top 10 counties with highest academic performance\n",
    "\n",
    "county_group.nlargest(n=10, columns='academicPerformance')"
   ]
  },
  {
   "cell_type": "code",
   "execution_count": 39,
   "metadata": {},
   "outputs": [
    {
     "data": {
      "text/plain": [
       "0             Alameda\n",
       "40            Trinity\n",
       "16              Marin\n",
       "33         Santa Cruz\n",
       "3        Contra Costa\n",
       "30          San Mateo\n",
       "31      Santa Barbara\n",
       "32        Santa Clara\n",
       "44               Yuba\n",
       "29    San Luis Obispo\n",
       "Name: county, dtype: object"
      ]
     },
     "execution_count": 39,
     "metadata": {},
     "output_type": "execute_result"
    }
   ],
   "source": [
    "# Repeat for Math\n",
    "\n",
    "county_group.sort_values(by='math',ascending=False).head(10).county"
   ]
  },
  {
   "cell_type": "code",
   "execution_count": 40,
   "metadata": {},
   "outputs": [
    {
     "data": {
      "text/html": [
       "<div>\n",
       "<style scoped>\n",
       "    .dataframe tbody tr th:only-of-type {\n",
       "        vertical-align: middle;\n",
       "    }\n",
       "\n",
       "    .dataframe tbody tr th {\n",
       "        vertical-align: top;\n",
       "    }\n",
       "\n",
       "    .dataframe thead th {\n",
       "        text-align: right;\n",
       "    }\n",
       "</style>\n",
       "<table border=\"1\" class=\"dataframe\">\n",
       "  <thead>\n",
       "    <tr style=\"text-align: right;\">\n",
       "      <th></th>\n",
       "      <th>county</th>\n",
       "      <th>math</th>\n",
       "      <th>read</th>\n",
       "      <th>academicPerformance</th>\n",
       "    </tr>\n",
       "  </thead>\n",
       "  <tbody>\n",
       "    <tr>\n",
       "      <th>0</th>\n",
       "      <td>Alameda</td>\n",
       "      <td>690.000000</td>\n",
       "      <td>691.599976</td>\n",
       "      <td>690.799988</td>\n",
       "    </tr>\n",
       "    <tr>\n",
       "      <th>40</th>\n",
       "      <td>Trinity</td>\n",
       "      <td>676.649994</td>\n",
       "      <td>676.449982</td>\n",
       "      <td>676.549988</td>\n",
       "    </tr>\n",
       "    <tr>\n",
       "      <th>16</th>\n",
       "      <td>Marin</td>\n",
       "      <td>676.200012</td>\n",
       "      <td>684.849998</td>\n",
       "      <td>680.525005</td>\n",
       "    </tr>\n",
       "    <tr>\n",
       "      <th>33</th>\n",
       "      <td>Santa Cruz</td>\n",
       "      <td>672.099993</td>\n",
       "      <td>677.100002</td>\n",
       "      <td>674.599997</td>\n",
       "    </tr>\n",
       "    <tr>\n",
       "      <th>3</th>\n",
       "      <td>Contra Costa</td>\n",
       "      <td>672.014291</td>\n",
       "      <td>675.142866</td>\n",
       "      <td>673.578578</td>\n",
       "    </tr>\n",
       "    <tr>\n",
       "      <th>30</th>\n",
       "      <td>San Mateo</td>\n",
       "      <td>668.505881</td>\n",
       "      <td>669.476480</td>\n",
       "      <td>668.991180</td>\n",
       "    </tr>\n",
       "    <tr>\n",
       "      <th>31</th>\n",
       "      <td>Santa Barbara</td>\n",
       "      <td>666.554549</td>\n",
       "      <td>666.563632</td>\n",
       "      <td>666.559090</td>\n",
       "    </tr>\n",
       "    <tr>\n",
       "      <th>32</th>\n",
       "      <td>Santa Clara</td>\n",
       "      <td>665.160001</td>\n",
       "      <td>665.355002</td>\n",
       "      <td>665.257501</td>\n",
       "    </tr>\n",
       "    <tr>\n",
       "      <th>44</th>\n",
       "      <td>Yuba</td>\n",
       "      <td>663.750000</td>\n",
       "      <td>664.200012</td>\n",
       "      <td>663.975006</td>\n",
       "    </tr>\n",
       "    <tr>\n",
       "      <th>29</th>\n",
       "      <td>San Luis Obispo</td>\n",
       "      <td>663.199982</td>\n",
       "      <td>667.949982</td>\n",
       "      <td>665.574982</td>\n",
       "    </tr>\n",
       "  </tbody>\n",
       "</table>\n",
       "</div>"
      ],
      "text/plain": [
       "             county        math        read  academicPerformance\n",
       "0           Alameda  690.000000  691.599976           690.799988\n",
       "40          Trinity  676.649994  676.449982           676.549988\n",
       "16            Marin  676.200012  684.849998           680.525005\n",
       "33       Santa Cruz  672.099993  677.100002           674.599997\n",
       "3      Contra Costa  672.014291  675.142866           673.578578\n",
       "30        San Mateo  668.505881  669.476480           668.991180\n",
       "31    Santa Barbara  666.554549  666.563632           666.559090\n",
       "32      Santa Clara  665.160001  665.355002           665.257501\n",
       "44             Yuba  663.750000  664.200012           663.975006\n",
       "29  San Luis Obispo  663.199982  667.949982           665.574982"
      ]
     },
     "execution_count": 40,
     "metadata": {},
     "output_type": "execute_result"
    }
   ],
   "source": [
    "county_group.nlargest(n=10, columns='math')"
   ]
  },
  {
   "cell_type": "code",
   "execution_count": 41,
   "metadata": {},
   "outputs": [
    {
     "data": {
      "text/plain": [
       "0             Alameda\n",
       "16              Marin\n",
       "33         Santa Cruz\n",
       "40            Trinity\n",
       "3        Contra Costa\n",
       "30          San Mateo\n",
       "20             Nevada\n",
       "22             Placer\n",
       "4           El Dorado\n",
       "29    San Luis Obispo\n",
       "Name: county, dtype: object"
      ]
     },
     "execution_count": 41,
     "metadata": {},
     "output_type": "execute_result"
    }
   ],
   "source": [
    "# Repeat for Read\n",
    "\n",
    "county_group.sort_values(by='read',ascending=False).head(10).county"
   ]
  },
  {
   "cell_type": "code",
   "execution_count": 42,
   "metadata": {},
   "outputs": [
    {
     "data": {
      "text/html": [
       "<div>\n",
       "<style scoped>\n",
       "    .dataframe tbody tr th:only-of-type {\n",
       "        vertical-align: middle;\n",
       "    }\n",
       "\n",
       "    .dataframe tbody tr th {\n",
       "        vertical-align: top;\n",
       "    }\n",
       "\n",
       "    .dataframe thead th {\n",
       "        text-align: right;\n",
       "    }\n",
       "</style>\n",
       "<table border=\"1\" class=\"dataframe\">\n",
       "  <thead>\n",
       "    <tr style=\"text-align: right;\">\n",
       "      <th></th>\n",
       "      <th>county</th>\n",
       "      <th>math</th>\n",
       "      <th>read</th>\n",
       "      <th>academicPerformance</th>\n",
       "    </tr>\n",
       "  </thead>\n",
       "  <tbody>\n",
       "    <tr>\n",
       "      <th>0</th>\n",
       "      <td>Alameda</td>\n",
       "      <td>690.000000</td>\n",
       "      <td>691.599976</td>\n",
       "      <td>690.799988</td>\n",
       "    </tr>\n",
       "    <tr>\n",
       "      <th>16</th>\n",
       "      <td>Marin</td>\n",
       "      <td>676.200012</td>\n",
       "      <td>684.849998</td>\n",
       "      <td>680.525005</td>\n",
       "    </tr>\n",
       "    <tr>\n",
       "      <th>33</th>\n",
       "      <td>Santa Cruz</td>\n",
       "      <td>672.099993</td>\n",
       "      <td>677.100002</td>\n",
       "      <td>674.599997</td>\n",
       "    </tr>\n",
       "    <tr>\n",
       "      <th>40</th>\n",
       "      <td>Trinity</td>\n",
       "      <td>676.649994</td>\n",
       "      <td>676.449982</td>\n",
       "      <td>676.549988</td>\n",
       "    </tr>\n",
       "    <tr>\n",
       "      <th>3</th>\n",
       "      <td>Contra Costa</td>\n",
       "      <td>672.014291</td>\n",
       "      <td>675.142866</td>\n",
       "      <td>673.578578</td>\n",
       "    </tr>\n",
       "    <tr>\n",
       "      <th>30</th>\n",
       "      <td>San Mateo</td>\n",
       "      <td>668.505881</td>\n",
       "      <td>669.476480</td>\n",
       "      <td>668.991180</td>\n",
       "    </tr>\n",
       "    <tr>\n",
       "      <th>20</th>\n",
       "      <td>Nevada</td>\n",
       "      <td>662.922221</td>\n",
       "      <td>669.399997</td>\n",
       "      <td>666.161109</td>\n",
       "    </tr>\n",
       "    <tr>\n",
       "      <th>22</th>\n",
       "      <td>Placer</td>\n",
       "      <td>663.000000</td>\n",
       "      <td>668.863625</td>\n",
       "      <td>665.931813</td>\n",
       "    </tr>\n",
       "    <tr>\n",
       "      <th>4</th>\n",
       "      <td>El Dorado</td>\n",
       "      <td>661.750000</td>\n",
       "      <td>668.179993</td>\n",
       "      <td>664.964996</td>\n",
       "    </tr>\n",
       "    <tr>\n",
       "      <th>29</th>\n",
       "      <td>San Luis Obispo</td>\n",
       "      <td>663.199982</td>\n",
       "      <td>667.949982</td>\n",
       "      <td>665.574982</td>\n",
       "    </tr>\n",
       "  </tbody>\n",
       "</table>\n",
       "</div>"
      ],
      "text/plain": [
       "             county        math        read  academicPerformance\n",
       "0           Alameda  690.000000  691.599976           690.799988\n",
       "16            Marin  676.200012  684.849998           680.525005\n",
       "33       Santa Cruz  672.099993  677.100002           674.599997\n",
       "40          Trinity  676.649994  676.449982           676.549988\n",
       "3      Contra Costa  672.014291  675.142866           673.578578\n",
       "30        San Mateo  668.505881  669.476480           668.991180\n",
       "20           Nevada  662.922221  669.399997           666.161109\n",
       "22           Placer  663.000000  668.863625           665.931813\n",
       "4         El Dorado  661.750000  668.179993           664.964996\n",
       "29  San Luis Obispo  663.199982  667.949982           665.574982"
      ]
     },
     "execution_count": 42,
     "metadata": {},
     "output_type": "execute_result"
    }
   ],
   "source": [
    "county_group.nlargest(n=10, columns='read')"
   ]
  },
  {
   "attachments": {},
   "cell_type": "markdown",
   "metadata": {},
   "source": [
    "---"
   ]
  },
  {
   "attachments": {},
   "cell_type": "markdown",
   "metadata": {},
   "source": [
    "##### 10. Produce a summary statistics table using all the numeric variables and use it to describe the typical school in the data."
   ]
  },
  {
   "cell_type": "code",
   "execution_count": 85,
   "metadata": {},
   "outputs": [
    {
     "data": {
      "text/plain": [
       "Mountain View Elementary       3\n",
       "Lakeside Union Elementary      3\n",
       "Liberty Elementary             2\n",
       "Pleasant Valley Elementary     2\n",
       "Jefferson Elementary           2\n",
       "                              ..\n",
       "Banta Elementary               1\n",
       "Plainsburg Union Elementary    1\n",
       "Camino Union Elementary        1\n",
       "Redwood City Elementary        1\n",
       "Wheatland Elementary           1\n",
       "Name: school, Length: 409, dtype: int64"
      ]
     },
     "execution_count": 85,
     "metadata": {},
     "output_type": "execute_result"
    }
   ],
   "source": [
    "# Find a unique school\n",
    "\n",
    "df2.school.value_counts()"
   ]
  },
  {
   "cell_type": "code",
   "execution_count": 127,
   "metadata": {},
   "outputs": [
    {
     "data": {
      "text/html": [
       "<div>\n",
       "<style scoped>\n",
       "    .dataframe tbody tr th:only-of-type {\n",
       "        vertical-align: middle;\n",
       "    }\n",
       "\n",
       "    .dataframe tbody tr th {\n",
       "        vertical-align: top;\n",
       "    }\n",
       "\n",
       "    .dataframe thead th {\n",
       "        text-align: right;\n",
       "    }\n",
       "</style>\n",
       "<table border=\"1\" class=\"dataframe\">\n",
       "  <thead>\n",
       "    <tr style=\"text-align: right;\">\n",
       "      <th></th>\n",
       "      <th>district</th>\n",
       "      <th>school</th>\n",
       "      <th>county</th>\n",
       "      <th>grades</th>\n",
       "      <th>students</th>\n",
       "      <th>teachers</th>\n",
       "      <th>calworks</th>\n",
       "      <th>lunch</th>\n",
       "      <th>computer</th>\n",
       "      <th>expenditure</th>\n",
       "      <th>income</th>\n",
       "      <th>english</th>\n",
       "      <th>read</th>\n",
       "      <th>math</th>\n",
       "      <th>academicPerformance</th>\n",
       "    </tr>\n",
       "  </thead>\n",
       "  <tbody>\n",
       "    <tr>\n",
       "      <th>32</th>\n",
       "      <td>64816</td>\n",
       "      <td>Mountain View Elementary</td>\n",
       "      <td>Los Angeles</td>\n",
       "      <td>KK-08</td>\n",
       "      <td>10012</td>\n",
       "      <td>464.899994</td>\n",
       "      <td>29.763901</td>\n",
       "      <td>91.593399</td>\n",
       "      <td>721</td>\n",
       "      <td>5036.458984</td>\n",
       "      <td>8.126616</td>\n",
       "      <td>65.121857</td>\n",
       "      <td>620.799988</td>\n",
       "      <td>629.799988</td>\n",
       "      <td>625.299988</td>\n",
       "    </tr>\n",
       "  </tbody>\n",
       "</table>\n",
       "</div>"
      ],
      "text/plain": [
       "    district                    school       county grades  students  \\\n",
       "32     64816  Mountain View Elementary  Los Angeles  KK-08     10012   \n",
       "\n",
       "      teachers   calworks      lunch  computer  expenditure    income  \\\n",
       "32  464.899994  29.763901  91.593399       721  5036.458984  8.126616   \n",
       "\n",
       "      english        read        math  academicPerformance  \n",
       "32  65.121857  620.799988  629.799988           625.299988  "
      ]
     },
     "execution_count": 127,
     "metadata": {},
     "output_type": "execute_result"
    }
   ],
   "source": [
    "df2.loc[(df2.school == 'Mountain View Elementary') & (df2.district == 64816)]"
   ]
  },
  {
   "cell_type": "code",
   "execution_count": 128,
   "metadata": {},
   "outputs": [
    {
     "data": {
      "text/html": [
       "<div>\n",
       "<style scoped>\n",
       "    .dataframe tbody tr th:only-of-type {\n",
       "        vertical-align: middle;\n",
       "    }\n",
       "\n",
       "    .dataframe tbody tr th {\n",
       "        vertical-align: top;\n",
       "    }\n",
       "\n",
       "    .dataframe thead th {\n",
       "        text-align: right;\n",
       "    }\n",
       "</style>\n",
       "<table border=\"1\" class=\"dataframe\">\n",
       "  <thead>\n",
       "    <tr style=\"text-align: right;\">\n",
       "      <th></th>\n",
       "      <th>district</th>\n",
       "      <th>students</th>\n",
       "      <th>teachers</th>\n",
       "      <th>calworks</th>\n",
       "      <th>lunch</th>\n",
       "      <th>computer</th>\n",
       "      <th>expenditure</th>\n",
       "      <th>income</th>\n",
       "      <th>english</th>\n",
       "      <th>read</th>\n",
       "      <th>math</th>\n",
       "      <th>academicPerformance</th>\n",
       "    </tr>\n",
       "  </thead>\n",
       "  <tbody>\n",
       "    <tr>\n",
       "      <th>count</th>\n",
       "      <td>420.000000</td>\n",
       "      <td>420.000000</td>\n",
       "      <td>420.000000</td>\n",
       "      <td>420.000000</td>\n",
       "      <td>420.000000</td>\n",
       "      <td>420.000000</td>\n",
       "      <td>420.000000</td>\n",
       "      <td>420.000000</td>\n",
       "      <td>420.000000</td>\n",
       "      <td>420.000000</td>\n",
       "      <td>420.000000</td>\n",
       "      <td>420.000000</td>\n",
       "    </tr>\n",
       "    <tr>\n",
       "      <th>mean</th>\n",
       "      <td>67472.809524</td>\n",
       "      <td>2628.792857</td>\n",
       "      <td>129.067376</td>\n",
       "      <td>13.246042</td>\n",
       "      <td>44.705237</td>\n",
       "      <td>303.383333</td>\n",
       "      <td>5312.407541</td>\n",
       "      <td>15.316588</td>\n",
       "      <td>15.768155</td>\n",
       "      <td>654.970477</td>\n",
       "      <td>653.342619</td>\n",
       "      <td>654.156548</td>\n",
       "    </tr>\n",
       "    <tr>\n",
       "      <th>std</th>\n",
       "      <td>3466.994655</td>\n",
       "      <td>3913.104985</td>\n",
       "      <td>187.912679</td>\n",
       "      <td>11.454821</td>\n",
       "      <td>27.123381</td>\n",
       "      <td>441.341298</td>\n",
       "      <td>633.937053</td>\n",
       "      <td>7.225890</td>\n",
       "      <td>18.285927</td>\n",
       "      <td>20.107980</td>\n",
       "      <td>18.754202</td>\n",
       "      <td>19.053347</td>\n",
       "    </tr>\n",
       "    <tr>\n",
       "      <th>min</th>\n",
       "      <td>61382.000000</td>\n",
       "      <td>81.000000</td>\n",
       "      <td>4.850000</td>\n",
       "      <td>0.000000</td>\n",
       "      <td>0.000000</td>\n",
       "      <td>0.000000</td>\n",
       "      <td>3926.069580</td>\n",
       "      <td>5.335000</td>\n",
       "      <td>0.000000</td>\n",
       "      <td>604.500000</td>\n",
       "      <td>605.400024</td>\n",
       "      <td>605.550018</td>\n",
       "    </tr>\n",
       "    <tr>\n",
       "      <th>25%</th>\n",
       "      <td>64307.750000</td>\n",
       "      <td>379.000000</td>\n",
       "      <td>19.662499</td>\n",
       "      <td>4.395375</td>\n",
       "      <td>23.282200</td>\n",
       "      <td>46.000000</td>\n",
       "      <td>4906.180053</td>\n",
       "      <td>10.639000</td>\n",
       "      <td>1.940807</td>\n",
       "      <td>640.400024</td>\n",
       "      <td>639.375015</td>\n",
       "      <td>640.050003</td>\n",
       "    </tr>\n",
       "    <tr>\n",
       "      <th>50%</th>\n",
       "      <td>67760.500000</td>\n",
       "      <td>950.500000</td>\n",
       "      <td>48.564999</td>\n",
       "      <td>10.520450</td>\n",
       "      <td>41.750700</td>\n",
       "      <td>117.500000</td>\n",
       "      <td>5214.516601</td>\n",
       "      <td>13.727800</td>\n",
       "      <td>8.777634</td>\n",
       "      <td>655.750000</td>\n",
       "      <td>652.449982</td>\n",
       "      <td>654.449997</td>\n",
       "    </tr>\n",
       "    <tr>\n",
       "      <th>75%</th>\n",
       "      <td>70419.000000</td>\n",
       "      <td>3008.000000</td>\n",
       "      <td>146.350002</td>\n",
       "      <td>18.981350</td>\n",
       "      <td>66.864725</td>\n",
       "      <td>375.250000</td>\n",
       "      <td>5601.401367</td>\n",
       "      <td>17.629001</td>\n",
       "      <td>22.970003</td>\n",
       "      <td>668.725006</td>\n",
       "      <td>665.849991</td>\n",
       "      <td>666.662491</td>\n",
       "    </tr>\n",
       "    <tr>\n",
       "      <th>max</th>\n",
       "      <td>75440.000000</td>\n",
       "      <td>27176.000000</td>\n",
       "      <td>1429.000000</td>\n",
       "      <td>78.994202</td>\n",
       "      <td>100.000000</td>\n",
       "      <td>3324.000000</td>\n",
       "      <td>7711.506836</td>\n",
       "      <td>55.327999</td>\n",
       "      <td>85.539719</td>\n",
       "      <td>704.000000</td>\n",
       "      <td>709.500000</td>\n",
       "      <td>706.750000</td>\n",
       "    </tr>\n",
       "  </tbody>\n",
       "</table>\n",
       "</div>"
      ],
      "text/plain": [
       "           district      students     teachers    calworks       lunch  \\\n",
       "count    420.000000    420.000000   420.000000  420.000000  420.000000   \n",
       "mean   67472.809524   2628.792857   129.067376   13.246042   44.705237   \n",
       "std     3466.994655   3913.104985   187.912679   11.454821   27.123381   \n",
       "min    61382.000000     81.000000     4.850000    0.000000    0.000000   \n",
       "25%    64307.750000    379.000000    19.662499    4.395375   23.282200   \n",
       "50%    67760.500000    950.500000    48.564999   10.520450   41.750700   \n",
       "75%    70419.000000   3008.000000   146.350002   18.981350   66.864725   \n",
       "max    75440.000000  27176.000000  1429.000000   78.994202  100.000000   \n",
       "\n",
       "          computer  expenditure      income     english        read  \\\n",
       "count   420.000000   420.000000  420.000000  420.000000  420.000000   \n",
       "mean    303.383333  5312.407541   15.316588   15.768155  654.970477   \n",
       "std     441.341298   633.937053    7.225890   18.285927   20.107980   \n",
       "min       0.000000  3926.069580    5.335000    0.000000  604.500000   \n",
       "25%      46.000000  4906.180053   10.639000    1.940807  640.400024   \n",
       "50%     117.500000  5214.516601   13.727800    8.777634  655.750000   \n",
       "75%     375.250000  5601.401367   17.629001   22.970003  668.725006   \n",
       "max    3324.000000  7711.506836   55.327999   85.539719  704.000000   \n",
       "\n",
       "             math  academicPerformance  \n",
       "count  420.000000           420.000000  \n",
       "mean   653.342619           654.156548  \n",
       "std     18.754202            19.053347  \n",
       "min    605.400024           605.550018  \n",
       "25%    639.375015           640.050003  \n",
       "50%    652.449982           654.449997  \n",
       "75%    665.849991           666.662491  \n",
       "max    709.500000           706.750000  "
      ]
     },
     "execution_count": 128,
     "metadata": {},
     "output_type": "execute_result"
    }
   ],
   "source": [
    "# Summary statistics table\n",
    "\n",
    "df2.describe()"
   ]
  },
  {
   "attachments": {},
   "cell_type": "markdown",
   "metadata": {},
   "source": [
    "Answer: The 'Mountain View Elementary' in district 64816 has higher students, teachers, calworks, lunch, computer, expenditure, and english than the average. However, it has a lower income, read, math, and academicPerformance than average.\n",
    "\n",
    "---"
   ]
  },
  {
   "attachments": {},
   "cell_type": "markdown",
   "metadata": {},
   "source": [
    "##### 11. Describe the typical school with above average academic performance."
   ]
  },
  {
   "cell_type": "code",
   "execution_count": 45,
   "metadata": {},
   "outputs": [
    {
     "data": {
      "text/html": [
       "<div>\n",
       "<style scoped>\n",
       "    .dataframe tbody tr th:only-of-type {\n",
       "        vertical-align: middle;\n",
       "    }\n",
       "\n",
       "    .dataframe tbody tr th {\n",
       "        vertical-align: top;\n",
       "    }\n",
       "\n",
       "    .dataframe thead th {\n",
       "        text-align: right;\n",
       "    }\n",
       "</style>\n",
       "<table border=\"1\" class=\"dataframe\">\n",
       "  <thead>\n",
       "    <tr style=\"text-align: right;\">\n",
       "      <th></th>\n",
       "      <th>school</th>\n",
       "      <th>read</th>\n",
       "      <th>math</th>\n",
       "      <th>academicPerformance</th>\n",
       "    </tr>\n",
       "  </thead>\n",
       "  <tbody>\n",
       "    <tr>\n",
       "      <th>0</th>\n",
       "      <td>Ackerman Elementary</td>\n",
       "      <td>671.299988</td>\n",
       "      <td>657.000000</td>\n",
       "      <td>664.149994</td>\n",
       "    </tr>\n",
       "    <tr>\n",
       "      <th>2</th>\n",
       "      <td>Alexander Valley Union Elementary</td>\n",
       "      <td>661.700012</td>\n",
       "      <td>658.400024</td>\n",
       "      <td>660.050018</td>\n",
       "    </tr>\n",
       "    <tr>\n",
       "      <th>5</th>\n",
       "      <td>Alpine Union Elementary</td>\n",
       "      <td>667.700012</td>\n",
       "      <td>666.599976</td>\n",
       "      <td>667.149994</td>\n",
       "    </tr>\n",
       "    <tr>\n",
       "      <th>6</th>\n",
       "      <td>Alta Loma Elementary</td>\n",
       "      <td>663.400024</td>\n",
       "      <td>665.400024</td>\n",
       "      <td>664.400024</td>\n",
       "    </tr>\n",
       "    <tr>\n",
       "      <th>8</th>\n",
       "      <td>Alta-Dutch Flat Union Elementary</td>\n",
       "      <td>680.500000</td>\n",
       "      <td>666.599976</td>\n",
       "      <td>673.549988</td>\n",
       "    </tr>\n",
       "  </tbody>\n",
       "</table>\n",
       "</div>"
      ],
      "text/plain": [
       "                              school        read        math  \\\n",
       "0                Ackerman Elementary  671.299988  657.000000   \n",
       "2  Alexander Valley Union Elementary  661.700012  658.400024   \n",
       "5            Alpine Union Elementary  667.700012  666.599976   \n",
       "6               Alta Loma Elementary  663.400024  665.400024   \n",
       "8   Alta-Dutch Flat Union Elementary  680.500000  666.599976   \n",
       "\n",
       "   academicPerformance  \n",
       "0           664.149994  \n",
       "2           660.050018  \n",
       "5           667.149994  \n",
       "6           664.400024  \n",
       "8           673.549988  "
      ]
     },
     "execution_count": 45,
     "metadata": {},
     "output_type": "execute_result"
    }
   ],
   "source": [
    "# Find the total average academic performance \n",
    "# Find the schools that have an average academic performance that is higher than the total average academic performance\n",
    "\n",
    "school_group = df2.groupby(by='school', as_index=False)[['read', 'math', 'academicPerformance']].mean()\n",
    "above_average = school_group.loc[school_group.academicPerformance > np.mean(school_group.academicPerformance)]\n",
    "above_average.head()"
   ]
  },
  {
   "cell_type": "code",
   "execution_count": 87,
   "metadata": {},
   "outputs": [
    {
     "data": {
      "text/html": [
       "<div>\n",
       "<style scoped>\n",
       "    .dataframe tbody tr th:only-of-type {\n",
       "        vertical-align: middle;\n",
       "    }\n",
       "\n",
       "    .dataframe tbody tr th {\n",
       "        vertical-align: top;\n",
       "    }\n",
       "\n",
       "    .dataframe thead th {\n",
       "        text-align: right;\n",
       "    }\n",
       "</style>\n",
       "<table border=\"1\" class=\"dataframe\">\n",
       "  <thead>\n",
       "    <tr style=\"text-align: right;\">\n",
       "      <th></th>\n",
       "      <th>district</th>\n",
       "      <th>school</th>\n",
       "      <th>county</th>\n",
       "      <th>grades</th>\n",
       "      <th>students</th>\n",
       "      <th>teachers</th>\n",
       "      <th>calworks</th>\n",
       "      <th>lunch</th>\n",
       "      <th>computer</th>\n",
       "      <th>expenditure</th>\n",
       "      <th>income</th>\n",
       "      <th>english</th>\n",
       "      <th>read</th>\n",
       "      <th>math</th>\n",
       "      <th>academicPerformance</th>\n",
       "    </tr>\n",
       "  </thead>\n",
       "  <tbody>\n",
       "    <tr>\n",
       "      <th>292</th>\n",
       "      <td>67595</td>\n",
       "      <td>Alta Loma Elementary</td>\n",
       "      <td>San Bernardino</td>\n",
       "      <td>KK-08</td>\n",
       "      <td>7710</td>\n",
       "      <td>327.299988</td>\n",
       "      <td>4.4722</td>\n",
       "      <td>15.9299</td>\n",
       "      <td>814</td>\n",
       "      <td>4709.054199</td>\n",
       "      <td>18.620199</td>\n",
       "      <td>3.255512</td>\n",
       "      <td>663.400024</td>\n",
       "      <td>665.400024</td>\n",
       "      <td>664.400024</td>\n",
       "    </tr>\n",
       "  </tbody>\n",
       "</table>\n",
       "</div>"
      ],
      "text/plain": [
       "     district                school          county grades  students  \\\n",
       "292     67595  Alta Loma Elementary  San Bernardino  KK-08      7710   \n",
       "\n",
       "       teachers  calworks    lunch  computer  expenditure     income  \\\n",
       "292  327.299988    4.4722  15.9299       814  4709.054199  18.620199   \n",
       "\n",
       "      english        read        math  academicPerformance  \n",
       "292  3.255512  663.400024  665.400024           664.400024  "
      ]
     },
     "execution_count": 87,
     "metadata": {},
     "output_type": "execute_result"
    }
   ],
   "source": [
    "# I chose Alta Loma Elementary\n",
    "\n",
    "df2[df2.school == 'Alta Loma Elementary']"
   ]
  },
  {
   "cell_type": "code",
   "execution_count": 129,
   "metadata": {},
   "outputs": [
    {
     "data": {
      "text/html": [
       "<div>\n",
       "<style scoped>\n",
       "    .dataframe tbody tr th:only-of-type {\n",
       "        vertical-align: middle;\n",
       "    }\n",
       "\n",
       "    .dataframe tbody tr th {\n",
       "        vertical-align: top;\n",
       "    }\n",
       "\n",
       "    .dataframe thead th {\n",
       "        text-align: right;\n",
       "    }\n",
       "</style>\n",
       "<table border=\"1\" class=\"dataframe\">\n",
       "  <thead>\n",
       "    <tr style=\"text-align: right;\">\n",
       "      <th></th>\n",
       "      <th>district</th>\n",
       "      <th>students</th>\n",
       "      <th>teachers</th>\n",
       "      <th>calworks</th>\n",
       "      <th>lunch</th>\n",
       "      <th>computer</th>\n",
       "      <th>expenditure</th>\n",
       "      <th>income</th>\n",
       "      <th>english</th>\n",
       "      <th>read</th>\n",
       "      <th>math</th>\n",
       "      <th>academicPerformance</th>\n",
       "    </tr>\n",
       "  </thead>\n",
       "  <tbody>\n",
       "    <tr>\n",
       "      <th>count</th>\n",
       "      <td>420.000000</td>\n",
       "      <td>420.000000</td>\n",
       "      <td>420.000000</td>\n",
       "      <td>420.000000</td>\n",
       "      <td>420.000000</td>\n",
       "      <td>420.000000</td>\n",
       "      <td>420.000000</td>\n",
       "      <td>420.000000</td>\n",
       "      <td>420.000000</td>\n",
       "      <td>420.000000</td>\n",
       "      <td>420.000000</td>\n",
       "      <td>420.000000</td>\n",
       "    </tr>\n",
       "    <tr>\n",
       "      <th>mean</th>\n",
       "      <td>67472.809524</td>\n",
       "      <td>2628.792857</td>\n",
       "      <td>129.067376</td>\n",
       "      <td>13.246042</td>\n",
       "      <td>44.705237</td>\n",
       "      <td>303.383333</td>\n",
       "      <td>5312.407541</td>\n",
       "      <td>15.316588</td>\n",
       "      <td>15.768155</td>\n",
       "      <td>654.970477</td>\n",
       "      <td>653.342619</td>\n",
       "      <td>654.156548</td>\n",
       "    </tr>\n",
       "    <tr>\n",
       "      <th>std</th>\n",
       "      <td>3466.994655</td>\n",
       "      <td>3913.104985</td>\n",
       "      <td>187.912679</td>\n",
       "      <td>11.454821</td>\n",
       "      <td>27.123381</td>\n",
       "      <td>441.341298</td>\n",
       "      <td>633.937053</td>\n",
       "      <td>7.225890</td>\n",
       "      <td>18.285927</td>\n",
       "      <td>20.107980</td>\n",
       "      <td>18.754202</td>\n",
       "      <td>19.053347</td>\n",
       "    </tr>\n",
       "    <tr>\n",
       "      <th>min</th>\n",
       "      <td>61382.000000</td>\n",
       "      <td>81.000000</td>\n",
       "      <td>4.850000</td>\n",
       "      <td>0.000000</td>\n",
       "      <td>0.000000</td>\n",
       "      <td>0.000000</td>\n",
       "      <td>3926.069580</td>\n",
       "      <td>5.335000</td>\n",
       "      <td>0.000000</td>\n",
       "      <td>604.500000</td>\n",
       "      <td>605.400024</td>\n",
       "      <td>605.550018</td>\n",
       "    </tr>\n",
       "    <tr>\n",
       "      <th>25%</th>\n",
       "      <td>64307.750000</td>\n",
       "      <td>379.000000</td>\n",
       "      <td>19.662499</td>\n",
       "      <td>4.395375</td>\n",
       "      <td>23.282200</td>\n",
       "      <td>46.000000</td>\n",
       "      <td>4906.180053</td>\n",
       "      <td>10.639000</td>\n",
       "      <td>1.940807</td>\n",
       "      <td>640.400024</td>\n",
       "      <td>639.375015</td>\n",
       "      <td>640.050003</td>\n",
       "    </tr>\n",
       "    <tr>\n",
       "      <th>50%</th>\n",
       "      <td>67760.500000</td>\n",
       "      <td>950.500000</td>\n",
       "      <td>48.564999</td>\n",
       "      <td>10.520450</td>\n",
       "      <td>41.750700</td>\n",
       "      <td>117.500000</td>\n",
       "      <td>5214.516601</td>\n",
       "      <td>13.727800</td>\n",
       "      <td>8.777634</td>\n",
       "      <td>655.750000</td>\n",
       "      <td>652.449982</td>\n",
       "      <td>654.449997</td>\n",
       "    </tr>\n",
       "    <tr>\n",
       "      <th>75%</th>\n",
       "      <td>70419.000000</td>\n",
       "      <td>3008.000000</td>\n",
       "      <td>146.350002</td>\n",
       "      <td>18.981350</td>\n",
       "      <td>66.864725</td>\n",
       "      <td>375.250000</td>\n",
       "      <td>5601.401367</td>\n",
       "      <td>17.629001</td>\n",
       "      <td>22.970003</td>\n",
       "      <td>668.725006</td>\n",
       "      <td>665.849991</td>\n",
       "      <td>666.662491</td>\n",
       "    </tr>\n",
       "    <tr>\n",
       "      <th>max</th>\n",
       "      <td>75440.000000</td>\n",
       "      <td>27176.000000</td>\n",
       "      <td>1429.000000</td>\n",
       "      <td>78.994202</td>\n",
       "      <td>100.000000</td>\n",
       "      <td>3324.000000</td>\n",
       "      <td>7711.506836</td>\n",
       "      <td>55.327999</td>\n",
       "      <td>85.539719</td>\n",
       "      <td>704.000000</td>\n",
       "      <td>709.500000</td>\n",
       "      <td>706.750000</td>\n",
       "    </tr>\n",
       "  </tbody>\n",
       "</table>\n",
       "</div>"
      ],
      "text/plain": [
       "           district      students     teachers    calworks       lunch  \\\n",
       "count    420.000000    420.000000   420.000000  420.000000  420.000000   \n",
       "mean   67472.809524   2628.792857   129.067376   13.246042   44.705237   \n",
       "std     3466.994655   3913.104985   187.912679   11.454821   27.123381   \n",
       "min    61382.000000     81.000000     4.850000    0.000000    0.000000   \n",
       "25%    64307.750000    379.000000    19.662499    4.395375   23.282200   \n",
       "50%    67760.500000    950.500000    48.564999   10.520450   41.750700   \n",
       "75%    70419.000000   3008.000000   146.350002   18.981350   66.864725   \n",
       "max    75440.000000  27176.000000  1429.000000   78.994202  100.000000   \n",
       "\n",
       "          computer  expenditure      income     english        read  \\\n",
       "count   420.000000   420.000000  420.000000  420.000000  420.000000   \n",
       "mean    303.383333  5312.407541   15.316588   15.768155  654.970477   \n",
       "std     441.341298   633.937053    7.225890   18.285927   20.107980   \n",
       "min       0.000000  3926.069580    5.335000    0.000000  604.500000   \n",
       "25%      46.000000  4906.180053   10.639000    1.940807  640.400024   \n",
       "50%     117.500000  5214.516601   13.727800    8.777634  655.750000   \n",
       "75%     375.250000  5601.401367   17.629001   22.970003  668.725006   \n",
       "max    3324.000000  7711.506836   55.327999   85.539719  704.000000   \n",
       "\n",
       "             math  academicPerformance  \n",
       "count  420.000000           420.000000  \n",
       "mean   653.342619           654.156548  \n",
       "std     18.754202            19.053347  \n",
       "min    605.400024           605.550018  \n",
       "25%    639.375015           640.050003  \n",
       "50%    652.449982           654.449997  \n",
       "75%    665.849991           666.662491  \n",
       "max    709.500000           706.750000  "
      ]
     },
     "execution_count": 129,
     "metadata": {},
     "output_type": "execute_result"
    }
   ],
   "source": [
    "# Summary Statistics Table\n",
    "\n",
    "df2.describe()"
   ]
  },
  {
   "attachments": {},
   "cell_type": "markdown",
   "metadata": {},
   "source": [
    "Answer: Alta Loma Elementary has a higher students, teachers, computer, income, read, math, and academicPerformance than the average. However, has lower calworks, lunch, expenditure, and english than the average\n",
    "\n",
    "---"
   ]
  },
  {
   "attachments": {},
   "cell_type": "markdown",
   "metadata": {},
   "source": [
    "##### 12. Describe the typical school with below average academic performance."
   ]
  },
  {
   "cell_type": "code",
   "execution_count": 89,
   "metadata": {},
   "outputs": [
    {
     "data": {
      "text/html": [
       "<div>\n",
       "<style scoped>\n",
       "    .dataframe tbody tr th:only-of-type {\n",
       "        vertical-align: middle;\n",
       "    }\n",
       "\n",
       "    .dataframe tbody tr th {\n",
       "        vertical-align: top;\n",
       "    }\n",
       "\n",
       "    .dataframe thead th {\n",
       "        text-align: right;\n",
       "    }\n",
       "</style>\n",
       "<table border=\"1\" class=\"dataframe\">\n",
       "  <thead>\n",
       "    <tr style=\"text-align: right;\">\n",
       "      <th></th>\n",
       "      <th>school</th>\n",
       "      <th>read</th>\n",
       "      <th>math</th>\n",
       "      <th>academicPerformance</th>\n",
       "    </tr>\n",
       "  </thead>\n",
       "  <tbody>\n",
       "    <tr>\n",
       "      <th>1</th>\n",
       "      <td>Adelanto Elementary</td>\n",
       "      <td>639.900024</td>\n",
       "      <td>638.799988</td>\n",
       "      <td>639.350006</td>\n",
       "    </tr>\n",
       "    <tr>\n",
       "      <th>3</th>\n",
       "      <td>Alisal Union Elementary</td>\n",
       "      <td>620.400024</td>\n",
       "      <td>626.000000</td>\n",
       "      <td>623.200012</td>\n",
       "    </tr>\n",
       "    <tr>\n",
       "      <th>4</th>\n",
       "      <td>Allensworth Elementary</td>\n",
       "      <td>612.799988</td>\n",
       "      <td>619.799988</td>\n",
       "      <td>616.299988</td>\n",
       "    </tr>\n",
       "    <tr>\n",
       "      <th>7</th>\n",
       "      <td>Alta Vista Elementary</td>\n",
       "      <td>620.700012</td>\n",
       "      <td>623.400024</td>\n",
       "      <td>622.050018</td>\n",
       "    </tr>\n",
       "    <tr>\n",
       "      <th>9</th>\n",
       "      <td>Alum Rock Union Elementary</td>\n",
       "      <td>629.500000</td>\n",
       "      <td>631.200012</td>\n",
       "      <td>630.350006</td>\n",
       "    </tr>\n",
       "  </tbody>\n",
       "</table>\n",
       "</div>"
      ],
      "text/plain": [
       "                       school        read        math  academicPerformance\n",
       "1         Adelanto Elementary  639.900024  638.799988           639.350006\n",
       "3     Alisal Union Elementary  620.400024  626.000000           623.200012\n",
       "4      Allensworth Elementary  612.799988  619.799988           616.299988\n",
       "7       Alta Vista Elementary  620.700012  623.400024           622.050018\n",
       "9  Alum Rock Union Elementary  629.500000  631.200012           630.350006"
      ]
     },
     "execution_count": 89,
     "metadata": {},
     "output_type": "execute_result"
    }
   ],
   "source": [
    "# Find the schools that have an average academic performance that is below the total average academic performance\n",
    "\n",
    "below_average = school_group.loc[school_group.academicPerformance < np.mean(school_group.academicPerformance)]\n",
    "below_average.head()"
   ]
  },
  {
   "cell_type": "code",
   "execution_count": 90,
   "metadata": {},
   "outputs": [
    {
     "data": {
      "text/html": [
       "<div>\n",
       "<style scoped>\n",
       "    .dataframe tbody tr th:only-of-type {\n",
       "        vertical-align: middle;\n",
       "    }\n",
       "\n",
       "    .dataframe tbody tr th {\n",
       "        vertical-align: top;\n",
       "    }\n",
       "\n",
       "    .dataframe thead th {\n",
       "        text-align: right;\n",
       "    }\n",
       "</style>\n",
       "<table border=\"1\" class=\"dataframe\">\n",
       "  <thead>\n",
       "    <tr style=\"text-align: right;\">\n",
       "      <th></th>\n",
       "      <th>district</th>\n",
       "      <th>school</th>\n",
       "      <th>county</th>\n",
       "      <th>grades</th>\n",
       "      <th>students</th>\n",
       "      <th>teachers</th>\n",
       "      <th>calworks</th>\n",
       "      <th>lunch</th>\n",
       "      <th>computer</th>\n",
       "      <th>expenditure</th>\n",
       "      <th>income</th>\n",
       "      <th>english</th>\n",
       "      <th>read</th>\n",
       "      <th>math</th>\n",
       "      <th>academicPerformance</th>\n",
       "    </tr>\n",
       "  </thead>\n",
       "  <tbody>\n",
       "    <tr>\n",
       "      <th>104</th>\n",
       "      <td>67587</td>\n",
       "      <td>Adelanto Elementary</td>\n",
       "      <td>San Bernardino</td>\n",
       "      <td>KK-08</td>\n",
       "      <td>4501</td>\n",
       "      <td>227.850006</td>\n",
       "      <td>19.1297</td>\n",
       "      <td>63.905499</td>\n",
       "      <td>597</td>\n",
       "      <td>5356.833496</td>\n",
       "      <td>8.384</td>\n",
       "      <td>17.973783</td>\n",
       "      <td>639.900024</td>\n",
       "      <td>638.799988</td>\n",
       "      <td>639.350006</td>\n",
       "    </tr>\n",
       "  </tbody>\n",
       "</table>\n",
       "</div>"
      ],
      "text/plain": [
       "     district               school          county grades  students  \\\n",
       "104     67587  Adelanto Elementary  San Bernardino  KK-08      4501   \n",
       "\n",
       "       teachers  calworks      lunch  computer  expenditure  income  \\\n",
       "104  227.850006   19.1297  63.905499       597  5356.833496   8.384   \n",
       "\n",
       "       english        read        math  academicPerformance  \n",
       "104  17.973783  639.900024  638.799988           639.350006  "
      ]
     },
     "execution_count": 90,
     "metadata": {},
     "output_type": "execute_result"
    }
   ],
   "source": [
    "# I chose Adelanto Elementary\n",
    "\n",
    "df2[df2.school == 'Adelanto Elementary']"
   ]
  },
  {
   "cell_type": "code",
   "execution_count": 131,
   "metadata": {},
   "outputs": [
    {
     "data": {
      "text/html": [
       "<div>\n",
       "<style scoped>\n",
       "    .dataframe tbody tr th:only-of-type {\n",
       "        vertical-align: middle;\n",
       "    }\n",
       "\n",
       "    .dataframe tbody tr th {\n",
       "        vertical-align: top;\n",
       "    }\n",
       "\n",
       "    .dataframe thead th {\n",
       "        text-align: right;\n",
       "    }\n",
       "</style>\n",
       "<table border=\"1\" class=\"dataframe\">\n",
       "  <thead>\n",
       "    <tr style=\"text-align: right;\">\n",
       "      <th></th>\n",
       "      <th>district</th>\n",
       "      <th>students</th>\n",
       "      <th>teachers</th>\n",
       "      <th>calworks</th>\n",
       "      <th>lunch</th>\n",
       "      <th>computer</th>\n",
       "      <th>expenditure</th>\n",
       "      <th>income</th>\n",
       "      <th>english</th>\n",
       "      <th>read</th>\n",
       "      <th>math</th>\n",
       "      <th>academicPerformance</th>\n",
       "    </tr>\n",
       "  </thead>\n",
       "  <tbody>\n",
       "    <tr>\n",
       "      <th>count</th>\n",
       "      <td>420.000000</td>\n",
       "      <td>420.000000</td>\n",
       "      <td>420.000000</td>\n",
       "      <td>420.000000</td>\n",
       "      <td>420.000000</td>\n",
       "      <td>420.000000</td>\n",
       "      <td>420.000000</td>\n",
       "      <td>420.000000</td>\n",
       "      <td>420.000000</td>\n",
       "      <td>420.000000</td>\n",
       "      <td>420.000000</td>\n",
       "      <td>420.000000</td>\n",
       "    </tr>\n",
       "    <tr>\n",
       "      <th>mean</th>\n",
       "      <td>67472.809524</td>\n",
       "      <td>2628.792857</td>\n",
       "      <td>129.067376</td>\n",
       "      <td>13.246042</td>\n",
       "      <td>44.705237</td>\n",
       "      <td>303.383333</td>\n",
       "      <td>5312.407541</td>\n",
       "      <td>15.316588</td>\n",
       "      <td>15.768155</td>\n",
       "      <td>654.970477</td>\n",
       "      <td>653.342619</td>\n",
       "      <td>654.156548</td>\n",
       "    </tr>\n",
       "    <tr>\n",
       "      <th>std</th>\n",
       "      <td>3466.994655</td>\n",
       "      <td>3913.104985</td>\n",
       "      <td>187.912679</td>\n",
       "      <td>11.454821</td>\n",
       "      <td>27.123381</td>\n",
       "      <td>441.341298</td>\n",
       "      <td>633.937053</td>\n",
       "      <td>7.225890</td>\n",
       "      <td>18.285927</td>\n",
       "      <td>20.107980</td>\n",
       "      <td>18.754202</td>\n",
       "      <td>19.053347</td>\n",
       "    </tr>\n",
       "    <tr>\n",
       "      <th>min</th>\n",
       "      <td>61382.000000</td>\n",
       "      <td>81.000000</td>\n",
       "      <td>4.850000</td>\n",
       "      <td>0.000000</td>\n",
       "      <td>0.000000</td>\n",
       "      <td>0.000000</td>\n",
       "      <td>3926.069580</td>\n",
       "      <td>5.335000</td>\n",
       "      <td>0.000000</td>\n",
       "      <td>604.500000</td>\n",
       "      <td>605.400024</td>\n",
       "      <td>605.550018</td>\n",
       "    </tr>\n",
       "    <tr>\n",
       "      <th>25%</th>\n",
       "      <td>64307.750000</td>\n",
       "      <td>379.000000</td>\n",
       "      <td>19.662499</td>\n",
       "      <td>4.395375</td>\n",
       "      <td>23.282200</td>\n",
       "      <td>46.000000</td>\n",
       "      <td>4906.180053</td>\n",
       "      <td>10.639000</td>\n",
       "      <td>1.940807</td>\n",
       "      <td>640.400024</td>\n",
       "      <td>639.375015</td>\n",
       "      <td>640.050003</td>\n",
       "    </tr>\n",
       "    <tr>\n",
       "      <th>50%</th>\n",
       "      <td>67760.500000</td>\n",
       "      <td>950.500000</td>\n",
       "      <td>48.564999</td>\n",
       "      <td>10.520450</td>\n",
       "      <td>41.750700</td>\n",
       "      <td>117.500000</td>\n",
       "      <td>5214.516601</td>\n",
       "      <td>13.727800</td>\n",
       "      <td>8.777634</td>\n",
       "      <td>655.750000</td>\n",
       "      <td>652.449982</td>\n",
       "      <td>654.449997</td>\n",
       "    </tr>\n",
       "    <tr>\n",
       "      <th>75%</th>\n",
       "      <td>70419.000000</td>\n",
       "      <td>3008.000000</td>\n",
       "      <td>146.350002</td>\n",
       "      <td>18.981350</td>\n",
       "      <td>66.864725</td>\n",
       "      <td>375.250000</td>\n",
       "      <td>5601.401367</td>\n",
       "      <td>17.629001</td>\n",
       "      <td>22.970003</td>\n",
       "      <td>668.725006</td>\n",
       "      <td>665.849991</td>\n",
       "      <td>666.662491</td>\n",
       "    </tr>\n",
       "    <tr>\n",
       "      <th>max</th>\n",
       "      <td>75440.000000</td>\n",
       "      <td>27176.000000</td>\n",
       "      <td>1429.000000</td>\n",
       "      <td>78.994202</td>\n",
       "      <td>100.000000</td>\n",
       "      <td>3324.000000</td>\n",
       "      <td>7711.506836</td>\n",
       "      <td>55.327999</td>\n",
       "      <td>85.539719</td>\n",
       "      <td>704.000000</td>\n",
       "      <td>709.500000</td>\n",
       "      <td>706.750000</td>\n",
       "    </tr>\n",
       "  </tbody>\n",
       "</table>\n",
       "</div>"
      ],
      "text/plain": [
       "           district      students     teachers    calworks       lunch  \\\n",
       "count    420.000000    420.000000   420.000000  420.000000  420.000000   \n",
       "mean   67472.809524   2628.792857   129.067376   13.246042   44.705237   \n",
       "std     3466.994655   3913.104985   187.912679   11.454821   27.123381   \n",
       "min    61382.000000     81.000000     4.850000    0.000000    0.000000   \n",
       "25%    64307.750000    379.000000    19.662499    4.395375   23.282200   \n",
       "50%    67760.500000    950.500000    48.564999   10.520450   41.750700   \n",
       "75%    70419.000000   3008.000000   146.350002   18.981350   66.864725   \n",
       "max    75440.000000  27176.000000  1429.000000   78.994202  100.000000   \n",
       "\n",
       "          computer  expenditure      income     english        read  \\\n",
       "count   420.000000   420.000000  420.000000  420.000000  420.000000   \n",
       "mean    303.383333  5312.407541   15.316588   15.768155  654.970477   \n",
       "std     441.341298   633.937053    7.225890   18.285927   20.107980   \n",
       "min       0.000000  3926.069580    5.335000    0.000000  604.500000   \n",
       "25%      46.000000  4906.180053   10.639000    1.940807  640.400024   \n",
       "50%     117.500000  5214.516601   13.727800    8.777634  655.750000   \n",
       "75%     375.250000  5601.401367   17.629001   22.970003  668.725006   \n",
       "max    3324.000000  7711.506836   55.327999   85.539719  704.000000   \n",
       "\n",
       "             math  academicPerformance  \n",
       "count  420.000000           420.000000  \n",
       "mean   653.342619           654.156548  \n",
       "std     18.754202            19.053347  \n",
       "min    605.400024           605.550018  \n",
       "25%    639.375015           640.050003  \n",
       "50%    652.449982           654.449997  \n",
       "75%    665.849991           666.662491  \n",
       "max    709.500000           706.750000  "
      ]
     },
     "execution_count": 131,
     "metadata": {},
     "output_type": "execute_result"
    }
   ],
   "source": [
    "# Summary Statistics Table\n",
    "\n",
    "df2.describe()"
   ]
  },
  {
   "attachments": {},
   "cell_type": "markdown",
   "metadata": {},
   "source": [
    "Answer: Adelanto Elementary has a higher students, teachers, calworks, lunch, computer, expenditure, and english than the average. However, it has a lower income, read, math, and academicPerformance than the average.\n",
    "\n",
    "---\n",
    "---\n",
    "---"
   ]
  },
  {
   "attachments": {},
   "cell_type": "markdown",
   "metadata": {},
   "source": [
    "## Part 3: Statistical Association\n",
    "We are going to continue using the same data as the previous part."
   ]
  },
  {
   "cell_type": "code",
   "execution_count": 51,
   "metadata": {},
   "outputs": [
    {
     "data": {
      "text/html": [
       "<div>\n",
       "<style scoped>\n",
       "    .dataframe tbody tr th:only-of-type {\n",
       "        vertical-align: middle;\n",
       "    }\n",
       "\n",
       "    .dataframe tbody tr th {\n",
       "        vertical-align: top;\n",
       "    }\n",
       "\n",
       "    .dataframe thead th {\n",
       "        text-align: right;\n",
       "    }\n",
       "</style>\n",
       "<table border=\"1\" class=\"dataframe\">\n",
       "  <thead>\n",
       "    <tr style=\"text-align: right;\">\n",
       "      <th></th>\n",
       "      <th>district</th>\n",
       "      <th>school</th>\n",
       "      <th>county</th>\n",
       "      <th>grades</th>\n",
       "      <th>students</th>\n",
       "      <th>teachers</th>\n",
       "      <th>calworks</th>\n",
       "      <th>lunch</th>\n",
       "      <th>computer</th>\n",
       "      <th>expenditure</th>\n",
       "      <th>income</th>\n",
       "      <th>english</th>\n",
       "      <th>read</th>\n",
       "      <th>math</th>\n",
       "      <th>academicPerformance</th>\n",
       "    </tr>\n",
       "  </thead>\n",
       "  <tbody>\n",
       "    <tr>\n",
       "      <th>0</th>\n",
       "      <td>75119</td>\n",
       "      <td>Sunol Glen Unified</td>\n",
       "      <td>Alameda</td>\n",
       "      <td>KK-08</td>\n",
       "      <td>195</td>\n",
       "      <td>10.900000</td>\n",
       "      <td>0.510200</td>\n",
       "      <td>2.040800</td>\n",
       "      <td>67</td>\n",
       "      <td>6384.911133</td>\n",
       "      <td>22.690001</td>\n",
       "      <td>0.000000</td>\n",
       "      <td>691.599976</td>\n",
       "      <td>690.000000</td>\n",
       "      <td>690.799988</td>\n",
       "    </tr>\n",
       "    <tr>\n",
       "      <th>1</th>\n",
       "      <td>61499</td>\n",
       "      <td>Manzanita Elementary</td>\n",
       "      <td>Butte</td>\n",
       "      <td>KK-08</td>\n",
       "      <td>240</td>\n",
       "      <td>11.150000</td>\n",
       "      <td>15.416700</td>\n",
       "      <td>47.916698</td>\n",
       "      <td>101</td>\n",
       "      <td>5099.380859</td>\n",
       "      <td>9.824000</td>\n",
       "      <td>4.583333</td>\n",
       "      <td>660.500000</td>\n",
       "      <td>661.900024</td>\n",
       "      <td>661.200012</td>\n",
       "    </tr>\n",
       "    <tr>\n",
       "      <th>2</th>\n",
       "      <td>61549</td>\n",
       "      <td>Thermalito Union Elementary</td>\n",
       "      <td>Butte</td>\n",
       "      <td>KK-08</td>\n",
       "      <td>1550</td>\n",
       "      <td>82.900002</td>\n",
       "      <td>55.032299</td>\n",
       "      <td>76.322601</td>\n",
       "      <td>169</td>\n",
       "      <td>5501.954590</td>\n",
       "      <td>8.978000</td>\n",
       "      <td>30.000002</td>\n",
       "      <td>636.299988</td>\n",
       "      <td>650.900024</td>\n",
       "      <td>643.600006</td>\n",
       "    </tr>\n",
       "    <tr>\n",
       "      <th>3</th>\n",
       "      <td>61457</td>\n",
       "      <td>Golden Feather Union Elementary</td>\n",
       "      <td>Butte</td>\n",
       "      <td>KK-08</td>\n",
       "      <td>243</td>\n",
       "      <td>14.000000</td>\n",
       "      <td>36.475399</td>\n",
       "      <td>77.049202</td>\n",
       "      <td>85</td>\n",
       "      <td>7101.831055</td>\n",
       "      <td>8.978000</td>\n",
       "      <td>0.000000</td>\n",
       "      <td>651.900024</td>\n",
       "      <td>643.500000</td>\n",
       "      <td>647.700012</td>\n",
       "    </tr>\n",
       "    <tr>\n",
       "      <th>4</th>\n",
       "      <td>61523</td>\n",
       "      <td>Palermo Union Elementary</td>\n",
       "      <td>Butte</td>\n",
       "      <td>KK-08</td>\n",
       "      <td>1335</td>\n",
       "      <td>71.500000</td>\n",
       "      <td>33.108601</td>\n",
       "      <td>78.427002</td>\n",
       "      <td>171</td>\n",
       "      <td>5235.987793</td>\n",
       "      <td>9.080333</td>\n",
       "      <td>13.857677</td>\n",
       "      <td>641.799988</td>\n",
       "      <td>639.900024</td>\n",
       "      <td>640.850006</td>\n",
       "    </tr>\n",
       "  </tbody>\n",
       "</table>\n",
       "</div>"
      ],
      "text/plain": [
       "   district                           school   county grades  students  \\\n",
       "0     75119               Sunol Glen Unified  Alameda  KK-08       195   \n",
       "1     61499             Manzanita Elementary    Butte  KK-08       240   \n",
       "2     61549      Thermalito Union Elementary    Butte  KK-08      1550   \n",
       "3     61457  Golden Feather Union Elementary    Butte  KK-08       243   \n",
       "4     61523         Palermo Union Elementary    Butte  KK-08      1335   \n",
       "\n",
       "    teachers   calworks      lunch  computer  expenditure     income  \\\n",
       "0  10.900000   0.510200   2.040800        67  6384.911133  22.690001   \n",
       "1  11.150000  15.416700  47.916698       101  5099.380859   9.824000   \n",
       "2  82.900002  55.032299  76.322601       169  5501.954590   8.978000   \n",
       "3  14.000000  36.475399  77.049202        85  7101.831055   8.978000   \n",
       "4  71.500000  33.108601  78.427002       171  5235.987793   9.080333   \n",
       "\n",
       "     english        read        math  academicPerformance  \n",
       "0   0.000000  691.599976  690.000000           690.799988  \n",
       "1   4.583333  660.500000  661.900024           661.200012  \n",
       "2  30.000002  636.299988  650.900024           643.600006  \n",
       "3   0.000000  651.900024  643.500000           647.700012  \n",
       "4  13.857677  641.799988  639.900024           640.850006  "
      ]
     },
     "execution_count": 51,
     "metadata": {},
     "output_type": "execute_result"
    }
   ],
   "source": [
    "df3 = df2.__deepcopy__()\n",
    "df3.head()"
   ]
  },
  {
   "attachments": {},
   "cell_type": "markdown",
   "metadata": {},
   "source": [
    "---"
   ]
  },
  {
   "attachments": {},
   "cell_type": "markdown",
   "metadata": {},
   "source": [
    "##### 1. Do you think the academic performance of KK-08 schools is different in any way to KK-06 schools? What evidence can we use to reject this hypothesis?"
   ]
  },
  {
   "cell_type": "code",
   "execution_count": 93,
   "metadata": {},
   "outputs": [
    {
     "data": {
      "text/plain": [
       "grades\n",
       "KK-06    661.575409\n",
       "KK-08    652.895961\n",
       "Name: academicPerformance, dtype: float64"
      ]
     },
     "execution_count": 93,
     "metadata": {},
     "output_type": "execute_result"
    }
   ],
   "source": [
    "# Group by grades with average academic performance\n",
    "\n",
    "df3.groupby('grades')['academicPerformance'].mean()"
   ]
  },
  {
   "cell_type": "code",
   "execution_count": 97,
   "metadata": {},
   "outputs": [
    {
     "data": {
      "text/plain": [
       "count     61.000000\n",
       "mean     661.575409\n",
       "std       19.679314\n",
       "min      612.650024\n",
       "25%      648.949982\n",
       "50%      664.000000\n",
       "75%      678.799988\n",
       "max      698.449982\n",
       "Name: academicPerformance, dtype: float64"
      ]
     },
     "execution_count": 97,
     "metadata": {},
     "output_type": "execute_result"
    }
   ],
   "source": [
    "df3.loc[df3.grades == 'KK-06'].academicPerformance.describe()"
   ]
  },
  {
   "cell_type": "code",
   "execution_count": 98,
   "metadata": {},
   "outputs": [
    {
     "data": {
      "text/plain": [
       "count    359.000000\n",
       "mean     652.895961\n",
       "std       18.681778\n",
       "min      605.550018\n",
       "25%      639.425003\n",
       "50%      653.549988\n",
       "75%      665.775009\n",
       "max      706.750000\n",
       "Name: academicPerformance, dtype: float64"
      ]
     },
     "execution_count": 98,
     "metadata": {},
     "output_type": "execute_result"
    }
   ],
   "source": [
    "df3.loc[df3.grades == 'KK-08'].academicPerformance.describe()"
   ]
  },
  {
   "cell_type": "code",
   "execution_count": 120,
   "metadata": {},
   "outputs": [
    {
     "data": {
      "text/plain": [
       "(656.6369307750964, 666.5138870970349)"
      ]
     },
     "execution_count": 120,
     "metadata": {},
     "output_type": "execute_result"
    }
   ],
   "source": [
    "stats.norm.interval(confidence=0.95, loc=np.mean(df3.loc[df3.grades == 'KK-06'].academicPerformance), scale=stats.sem(df3.loc[df3.grades == 'KK-06'].academicPerformance))"
   ]
  },
  {
   "cell_type": "code",
   "execution_count": 121,
   "metadata": {},
   "outputs": [
    {
     "data": {
      "text/plain": [
       "(650.9634631900783, 654.8284594611753)"
      ]
     },
     "execution_count": 121,
     "metadata": {},
     "output_type": "execute_result"
    }
   ],
   "source": [
    "stats.norm.interval(confidence=0.95, loc=np.mean(df3.loc[df3.grades == 'KK-08'].academicPerformance), scale=stats.sem(df3.loc[df3.grades == 'KK-08'].academicPerformance))"
   ]
  },
  {
   "attachments": {},
   "cell_type": "markdown",
   "metadata": {},
   "source": [
    "Answer: Based on the 95% confidence interval of academic performance of both grades, they are different. The means are different and their confidence intervals don't overlap. The 95% confidence interval shows that there is 95% chance that the confidence interval contains the true population mean height of plants. Therefore, we do not reject the hypothesis.\n",
    "\n",
    "---"
   ]
  },
  {
   "attachments": {},
   "cell_type": "markdown",
   "metadata": {},
   "source": [
    "##### 2. Do higher income counties (those above the 80th income percentile) perform better or worse academically? Answer this question by comparing them to the bottom 20th percentile. Produce a bar chart to summarize your findings. Make sure to label the axis correctly and to add a title."
   ]
  },
  {
   "cell_type": "code",
   "execution_count": 55,
   "metadata": {},
   "outputs": [
    {
     "data": {
      "text/html": [
       "<div>\n",
       "<style scoped>\n",
       "    .dataframe tbody tr th:only-of-type {\n",
       "        vertical-align: middle;\n",
       "    }\n",
       "\n",
       "    .dataframe tbody tr th {\n",
       "        vertical-align: top;\n",
       "    }\n",
       "\n",
       "    .dataframe thead th {\n",
       "        text-align: right;\n",
       "    }\n",
       "</style>\n",
       "<table border=\"1\" class=\"dataframe\">\n",
       "  <thead>\n",
       "    <tr style=\"text-align: right;\">\n",
       "      <th></th>\n",
       "      <th>county</th>\n",
       "      <th>income</th>\n",
       "      <th>academicPerformance</th>\n",
       "    </tr>\n",
       "  </thead>\n",
       "  <tbody>\n",
       "    <tr>\n",
       "      <th>0</th>\n",
       "      <td>Alameda</td>\n",
       "      <td>22.690001</td>\n",
       "      <td>690.799988</td>\n",
       "    </tr>\n",
       "    <tr>\n",
       "      <th>1</th>\n",
       "      <td>Butte</td>\n",
       "      <td>9.205243</td>\n",
       "      <td>645.183334</td>\n",
       "    </tr>\n",
       "    <tr>\n",
       "      <th>2</th>\n",
       "      <td>Calaveras</td>\n",
       "      <td>13.243000</td>\n",
       "      <td>656.800018</td>\n",
       "    </tr>\n",
       "    <tr>\n",
       "      <th>3</th>\n",
       "      <td>Contra Costa</td>\n",
       "      <td>25.265674</td>\n",
       "      <td>673.578578</td>\n",
       "    </tr>\n",
       "    <tr>\n",
       "      <th>4</th>\n",
       "      <td>El Dorado</td>\n",
       "      <td>15.964900</td>\n",
       "      <td>664.964996</td>\n",
       "    </tr>\n",
       "  </tbody>\n",
       "</table>\n",
       "</div>"
      ],
      "text/plain": [
       "         county     income  academicPerformance\n",
       "0       Alameda  22.690001           690.799988\n",
       "1         Butte   9.205243           645.183334\n",
       "2     Calaveras  13.243000           656.800018\n",
       "3  Contra Costa  25.265674           673.578578\n",
       "4     El Dorado  15.964900           664.964996"
      ]
     },
     "execution_count": 55,
     "metadata": {},
     "output_type": "execute_result"
    }
   ],
   "source": [
    "# Group by Counties\n",
    "\n",
    "county_income_group = df3.groupby('county', as_index=False)[['income','academicPerformance']].mean()\n",
    "county_income_group.head()"
   ]
  },
  {
   "cell_type": "code",
   "execution_count": 99,
   "metadata": {},
   "outputs": [
    {
     "name": "stdout",
     "output_type": "stream",
     "text": [
      "17.43584316324138 10.815359478244444\n"
     ]
    }
   ],
   "source": [
    "# Find the 80th income percentile and the bottom 20th percentile\n",
    "\n",
    "p80 = county_income_group.income.quantile(q=0.8)\n",
    "p20 = county_income_group.income.quantile(q=0.2)\n",
    "print(p80, p20)"
   ]
  },
  {
   "cell_type": "code",
   "execution_count": 100,
   "metadata": {},
   "outputs": [
    {
     "name": "stderr",
     "output_type": "stream",
     "text": [
      "/var/folders/h_/lxrkd3yx3w11tnfvg06j7l140000gn/T/ipykernel_41204/3170396610.py:4: SettingWithCopyWarning: \n",
      "A value is trying to be set on a copy of a slice from a DataFrame.\n",
      "Try using .loc[row_indexer,col_indexer] = value instead\n",
      "\n",
      "See the caveats in the documentation: https://pandas.pydata.org/pandas-docs/stable/user_guide/indexing.html#returning-a-view-versus-a-copy\n",
      "  high_income['incomeLevel'] = 'high'\n",
      "/var/folders/h_/lxrkd3yx3w11tnfvg06j7l140000gn/T/ipykernel_41204/3170396610.py:5: SettingWithCopyWarning: \n",
      "A value is trying to be set on a copy of a slice from a DataFrame\n",
      "\n",
      "See the caveats in the documentation: https://pandas.pydata.org/pandas-docs/stable/user_guide/indexing.html#returning-a-view-versus-a-copy\n",
      "  high_income.sort_values(by='income', ascending=False, inplace=True)\n"
     ]
    },
    {
     "data": {
      "text/html": [
       "<div>\n",
       "<style scoped>\n",
       "    .dataframe tbody tr th:only-of-type {\n",
       "        vertical-align: middle;\n",
       "    }\n",
       "\n",
       "    .dataframe tbody tr th {\n",
       "        vertical-align: top;\n",
       "    }\n",
       "\n",
       "    .dataframe thead th {\n",
       "        text-align: right;\n",
       "    }\n",
       "</style>\n",
       "<table border=\"1\" class=\"dataframe\">\n",
       "  <thead>\n",
       "    <tr style=\"text-align: right;\">\n",
       "      <th></th>\n",
       "      <th>county</th>\n",
       "      <th>income</th>\n",
       "      <th>academicPerformance</th>\n",
       "      <th>incomeLevel</th>\n",
       "    </tr>\n",
       "  </thead>\n",
       "  <tbody>\n",
       "    <tr>\n",
       "      <th>16</th>\n",
       "      <td>Marin</td>\n",
       "      <td>32.185312</td>\n",
       "      <td>680.525005</td>\n",
       "      <td>high</td>\n",
       "    </tr>\n",
       "    <tr>\n",
       "      <th>30</th>\n",
       "      <td>San Mateo</td>\n",
       "      <td>27.461052</td>\n",
       "      <td>668.991180</td>\n",
       "      <td>high</td>\n",
       "    </tr>\n",
       "    <tr>\n",
       "      <th>3</th>\n",
       "      <td>Contra Costa</td>\n",
       "      <td>25.265674</td>\n",
       "      <td>673.578578</td>\n",
       "      <td>high</td>\n",
       "    </tr>\n",
       "    <tr>\n",
       "      <th>32</th>\n",
       "      <td>Santa Clara</td>\n",
       "      <td>24.026920</td>\n",
       "      <td>665.257501</td>\n",
       "      <td>high</td>\n",
       "    </tr>\n",
       "    <tr>\n",
       "      <th>31</th>\n",
       "      <td>Santa Barbara</td>\n",
       "      <td>22.780021</td>\n",
       "      <td>666.559090</td>\n",
       "      <td>high</td>\n",
       "    </tr>\n",
       "    <tr>\n",
       "      <th>0</th>\n",
       "      <td>Alameda</td>\n",
       "      <td>22.690001</td>\n",
       "      <td>690.799988</td>\n",
       "      <td>high</td>\n",
       "    </tr>\n",
       "    <tr>\n",
       "      <th>33</th>\n",
       "      <td>Santa Cruz</td>\n",
       "      <td>20.398662</td>\n",
       "      <td>674.599997</td>\n",
       "      <td>high</td>\n",
       "    </tr>\n",
       "    <tr>\n",
       "      <th>27</th>\n",
       "      <td>San Diego</td>\n",
       "      <td>17.448104</td>\n",
       "      <td>660.423811</td>\n",
       "      <td>high</td>\n",
       "    </tr>\n",
       "    <tr>\n",
       "      <th>36</th>\n",
       "      <td>Sonoma</td>\n",
       "      <td>17.445289</td>\n",
       "      <td>664.543103</td>\n",
       "      <td>high</td>\n",
       "    </tr>\n",
       "  </tbody>\n",
       "</table>\n",
       "</div>"
      ],
      "text/plain": [
       "           county     income  academicPerformance incomeLevel\n",
       "16          Marin  32.185312           680.525005        high\n",
       "30      San Mateo  27.461052           668.991180        high\n",
       "3    Contra Costa  25.265674           673.578578        high\n",
       "32    Santa Clara  24.026920           665.257501        high\n",
       "31  Santa Barbara  22.780021           666.559090        high\n",
       "0         Alameda  22.690001           690.799988        high\n",
       "33     Santa Cruz  20.398662           674.599997        high\n",
       "27      San Diego  17.448104           660.423811        high\n",
       "36         Sonoma  17.445289           664.543103        high"
      ]
     },
     "execution_count": 100,
     "metadata": {},
     "output_type": "execute_result"
    }
   ],
   "source": [
    "# Find the counties above 80th income percentile\n",
    "\n",
    "high_income = county_income_group.loc[county_income_group.income > p80]\n",
    "high_income['incomeLevel'] = 'high'\n",
    "high_income.sort_values(by='income', ascending=False, inplace=True)\n",
    "high_income"
   ]
  },
  {
   "cell_type": "code",
   "execution_count": 101,
   "metadata": {},
   "outputs": [
    {
     "name": "stderr",
     "output_type": "stream",
     "text": [
      "/var/folders/h_/lxrkd3yx3w11tnfvg06j7l140000gn/T/ipykernel_41204/1833093667.py:4: SettingWithCopyWarning: \n",
      "A value is trying to be set on a copy of a slice from a DataFrame.\n",
      "Try using .loc[row_indexer,col_indexer] = value instead\n",
      "\n",
      "See the caveats in the documentation: https://pandas.pydata.org/pandas-docs/stable/user_guide/indexing.html#returning-a-view-versus-a-copy\n",
      "  low_income['incomeLevel'] = 'low'\n",
      "/var/folders/h_/lxrkd3yx3w11tnfvg06j7l140000gn/T/ipykernel_41204/1833093667.py:5: SettingWithCopyWarning: \n",
      "A value is trying to be set on a copy of a slice from a DataFrame\n",
      "\n",
      "See the caveats in the documentation: https://pandas.pydata.org/pandas-docs/stable/user_guide/indexing.html#returning-a-view-versus-a-copy\n",
      "  low_income.sort_values(by='income', ascending=False, inplace=True)\n"
     ]
    },
    {
     "data": {
      "text/html": [
       "<div>\n",
       "<style scoped>\n",
       "    .dataframe tbody tr th:only-of-type {\n",
       "        vertical-align: middle;\n",
       "    }\n",
       "\n",
       "    .dataframe tbody tr th {\n",
       "        vertical-align: top;\n",
       "    }\n",
       "\n",
       "    .dataframe thead th {\n",
       "        text-align: right;\n",
       "    }\n",
       "</style>\n",
       "<table border=\"1\" class=\"dataframe\">\n",
       "  <thead>\n",
       "    <tr style=\"text-align: right;\">\n",
       "      <th></th>\n",
       "      <th>county</th>\n",
       "      <th>income</th>\n",
       "      <th>academicPerformance</th>\n",
       "      <th>incomeLevel</th>\n",
       "    </tr>\n",
       "  </thead>\n",
       "  <tbody>\n",
       "    <tr>\n",
       "      <th>12</th>\n",
       "      <td>Lake</td>\n",
       "      <td>10.796500</td>\n",
       "      <td>641.475006</td>\n",
       "      <td>low</td>\n",
       "    </tr>\n",
       "    <tr>\n",
       "      <th>6</th>\n",
       "      <td>Glenn</td>\n",
       "      <td>10.639000</td>\n",
       "      <td>660.966675</td>\n",
       "      <td>low</td>\n",
       "    </tr>\n",
       "    <tr>\n",
       "      <th>39</th>\n",
       "      <td>Tehama</td>\n",
       "      <td>10.507125</td>\n",
       "      <td>653.262489</td>\n",
       "      <td>low</td>\n",
       "    </tr>\n",
       "    <tr>\n",
       "      <th>17</th>\n",
       "      <td>Mendocino</td>\n",
       "      <td>10.035000</td>\n",
       "      <td>639.300018</td>\n",
       "      <td>low</td>\n",
       "    </tr>\n",
       "    <tr>\n",
       "      <th>18</th>\n",
       "      <td>Merced</td>\n",
       "      <td>10.018221</td>\n",
       "      <td>636.250003</td>\n",
       "      <td>low</td>\n",
       "    </tr>\n",
       "    <tr>\n",
       "      <th>41</th>\n",
       "      <td>Tulare</td>\n",
       "      <td>9.918167</td>\n",
       "      <td>638.691669</td>\n",
       "      <td>low</td>\n",
       "    </tr>\n",
       "    <tr>\n",
       "      <th>8</th>\n",
       "      <td>Imperial</td>\n",
       "      <td>9.677167</td>\n",
       "      <td>640.683339</td>\n",
       "      <td>low</td>\n",
       "    </tr>\n",
       "    <tr>\n",
       "      <th>5</th>\n",
       "      <td>Fresno</td>\n",
       "      <td>9.269000</td>\n",
       "      <td>636.237501</td>\n",
       "      <td>low</td>\n",
       "    </tr>\n",
       "    <tr>\n",
       "      <th>1</th>\n",
       "      <td>Butte</td>\n",
       "      <td>9.205243</td>\n",
       "      <td>645.183334</td>\n",
       "      <td>low</td>\n",
       "    </tr>\n",
       "  </tbody>\n",
       "</table>\n",
       "</div>"
      ],
      "text/plain": [
       "       county     income  academicPerformance incomeLevel\n",
       "12       Lake  10.796500           641.475006         low\n",
       "6       Glenn  10.639000           660.966675         low\n",
       "39     Tehama  10.507125           653.262489         low\n",
       "17  Mendocino  10.035000           639.300018         low\n",
       "18     Merced  10.018221           636.250003         low\n",
       "41     Tulare   9.918167           638.691669         low\n",
       "8    Imperial   9.677167           640.683339         low\n",
       "5      Fresno   9.269000           636.237501         low\n",
       "1       Butte   9.205243           645.183334         low"
      ]
     },
     "execution_count": 101,
     "metadata": {},
     "output_type": "execute_result"
    }
   ],
   "source": [
    "# Find the counties below 20th income percentile\n",
    "\n",
    "low_income = county_income_group.loc[county_income_group.income < p20]\n",
    "low_income['incomeLevel'] = 'low'\n",
    "low_income.sort_values(by='income', ascending=False, inplace=True)\n",
    "low_income"
   ]
  },
  {
   "cell_type": "code",
   "execution_count": 102,
   "metadata": {},
   "outputs": [
    {
     "data": {
      "text/html": [
       "<div>\n",
       "<style scoped>\n",
       "    .dataframe tbody tr th:only-of-type {\n",
       "        vertical-align: middle;\n",
       "    }\n",
       "\n",
       "    .dataframe tbody tr th {\n",
       "        vertical-align: top;\n",
       "    }\n",
       "\n",
       "    .dataframe thead th {\n",
       "        text-align: right;\n",
       "    }\n",
       "</style>\n",
       "<table border=\"1\" class=\"dataframe\">\n",
       "  <thead>\n",
       "    <tr style=\"text-align: right;\">\n",
       "      <th></th>\n",
       "      <th>county</th>\n",
       "      <th>income</th>\n",
       "      <th>academicPerformance</th>\n",
       "      <th>incomeLevel</th>\n",
       "    </tr>\n",
       "  </thead>\n",
       "  <tbody>\n",
       "    <tr>\n",
       "      <th>0</th>\n",
       "      <td>Marin</td>\n",
       "      <td>32.185312</td>\n",
       "      <td>680.525005</td>\n",
       "      <td>high</td>\n",
       "    </tr>\n",
       "    <tr>\n",
       "      <th>1</th>\n",
       "      <td>San Mateo</td>\n",
       "      <td>27.461052</td>\n",
       "      <td>668.991180</td>\n",
       "      <td>high</td>\n",
       "    </tr>\n",
       "    <tr>\n",
       "      <th>2</th>\n",
       "      <td>Contra Costa</td>\n",
       "      <td>25.265674</td>\n",
       "      <td>673.578578</td>\n",
       "      <td>high</td>\n",
       "    </tr>\n",
       "    <tr>\n",
       "      <th>3</th>\n",
       "      <td>Santa Clara</td>\n",
       "      <td>24.026920</td>\n",
       "      <td>665.257501</td>\n",
       "      <td>high</td>\n",
       "    </tr>\n",
       "    <tr>\n",
       "      <th>4</th>\n",
       "      <td>Santa Barbara</td>\n",
       "      <td>22.780021</td>\n",
       "      <td>666.559090</td>\n",
       "      <td>high</td>\n",
       "    </tr>\n",
       "    <tr>\n",
       "      <th>5</th>\n",
       "      <td>Alameda</td>\n",
       "      <td>22.690001</td>\n",
       "      <td>690.799988</td>\n",
       "      <td>high</td>\n",
       "    </tr>\n",
       "    <tr>\n",
       "      <th>6</th>\n",
       "      <td>Santa Cruz</td>\n",
       "      <td>20.398662</td>\n",
       "      <td>674.599997</td>\n",
       "      <td>high</td>\n",
       "    </tr>\n",
       "    <tr>\n",
       "      <th>7</th>\n",
       "      <td>San Diego</td>\n",
       "      <td>17.448104</td>\n",
       "      <td>660.423811</td>\n",
       "      <td>high</td>\n",
       "    </tr>\n",
       "    <tr>\n",
       "      <th>8</th>\n",
       "      <td>Sonoma</td>\n",
       "      <td>17.445289</td>\n",
       "      <td>664.543103</td>\n",
       "      <td>high</td>\n",
       "    </tr>\n",
       "    <tr>\n",
       "      <th>9</th>\n",
       "      <td>Lake</td>\n",
       "      <td>10.796500</td>\n",
       "      <td>641.475006</td>\n",
       "      <td>low</td>\n",
       "    </tr>\n",
       "    <tr>\n",
       "      <th>10</th>\n",
       "      <td>Glenn</td>\n",
       "      <td>10.639000</td>\n",
       "      <td>660.966675</td>\n",
       "      <td>low</td>\n",
       "    </tr>\n",
       "    <tr>\n",
       "      <th>11</th>\n",
       "      <td>Tehama</td>\n",
       "      <td>10.507125</td>\n",
       "      <td>653.262489</td>\n",
       "      <td>low</td>\n",
       "    </tr>\n",
       "    <tr>\n",
       "      <th>12</th>\n",
       "      <td>Mendocino</td>\n",
       "      <td>10.035000</td>\n",
       "      <td>639.300018</td>\n",
       "      <td>low</td>\n",
       "    </tr>\n",
       "    <tr>\n",
       "      <th>13</th>\n",
       "      <td>Merced</td>\n",
       "      <td>10.018221</td>\n",
       "      <td>636.250003</td>\n",
       "      <td>low</td>\n",
       "    </tr>\n",
       "    <tr>\n",
       "      <th>14</th>\n",
       "      <td>Tulare</td>\n",
       "      <td>9.918167</td>\n",
       "      <td>638.691669</td>\n",
       "      <td>low</td>\n",
       "    </tr>\n",
       "    <tr>\n",
       "      <th>15</th>\n",
       "      <td>Imperial</td>\n",
       "      <td>9.677167</td>\n",
       "      <td>640.683339</td>\n",
       "      <td>low</td>\n",
       "    </tr>\n",
       "    <tr>\n",
       "      <th>16</th>\n",
       "      <td>Fresno</td>\n",
       "      <td>9.269000</td>\n",
       "      <td>636.237501</td>\n",
       "      <td>low</td>\n",
       "    </tr>\n",
       "    <tr>\n",
       "      <th>17</th>\n",
       "      <td>Butte</td>\n",
       "      <td>9.205243</td>\n",
       "      <td>645.183334</td>\n",
       "      <td>low</td>\n",
       "    </tr>\n",
       "  </tbody>\n",
       "</table>\n",
       "</div>"
      ],
      "text/plain": [
       "           county     income  academicPerformance incomeLevel\n",
       "0           Marin  32.185312           680.525005        high\n",
       "1       San Mateo  27.461052           668.991180        high\n",
       "2    Contra Costa  25.265674           673.578578        high\n",
       "3     Santa Clara  24.026920           665.257501        high\n",
       "4   Santa Barbara  22.780021           666.559090        high\n",
       "5         Alameda  22.690001           690.799988        high\n",
       "6      Santa Cruz  20.398662           674.599997        high\n",
       "7       San Diego  17.448104           660.423811        high\n",
       "8          Sonoma  17.445289           664.543103        high\n",
       "9            Lake  10.796500           641.475006         low\n",
       "10          Glenn  10.639000           660.966675         low\n",
       "11         Tehama  10.507125           653.262489         low\n",
       "12      Mendocino  10.035000           639.300018         low\n",
       "13         Merced  10.018221           636.250003         low\n",
       "14         Tulare   9.918167           638.691669         low\n",
       "15       Imperial   9.677167           640.683339         low\n",
       "16         Fresno   9.269000           636.237501         low\n",
       "17          Butte   9.205243           645.183334         low"
      ]
     },
     "execution_count": 102,
     "metadata": {},
     "output_type": "execute_result"
    }
   ],
   "source": [
    "# Merge the two tables\n",
    "\n",
    "merged_income = high_income.merge(low_income, how='outer')\n",
    "merged_income"
   ]
  },
  {
   "cell_type": "code",
   "execution_count": 103,
   "metadata": {},
   "outputs": [
    {
     "data": {
      "image/png": "[encoded data removed]",
      "text/plain": [
       "<Figure size 1000x500 with 1 Axes>"
      ]
     },
     "metadata": {},
     "output_type": "display_data"
    }
   ],
   "source": [
    "# Create a bar plot of the table\n",
    "\n",
    "plt.figure(figsize=(10,5))\n",
    "plt.ylim([600,700])\n",
    "plt.suptitle('Income & Academic Performance Comparison')\n",
    "\n",
    "ax = sns.barplot(data=merged_income, x=merged_income.index, y='academicPerformance', hue='incomeLevel', errorbar=None, palette='flare')\n",
    "ax.set(xlabel='Index with 0 being the highest income and 17 being lowest', ylabel='Academic Performance')\n",
    "\n",
    "plt.show()"
   ]
  },
  {
   "cell_type": "code",
   "execution_count": 104,
   "metadata": {},
   "outputs": [
    {
     "data": {
      "image/png": "[encoded data removed]",
      "text/plain": [
       "<Figure size 600x500 with 1 Axes>"
      ]
     },
     "metadata": {},
     "output_type": "display_data"
    }
   ],
   "source": [
    "# Create a barplot of the average academic performance of each high and low category I created\n",
    "\n",
    "plt.figure(figsize=(6,5))\n",
    "plt.ylim([620,680])\n",
    "plt.suptitle('Income Level & Academic Performance Comparison')\n",
    "\n",
    "level_perf = merged_income.groupby('incomeLevel', as_index=False)['academicPerformance'].mean()\n",
    "\n",
    "sns.barplot(data=level_perf, x='incomeLevel', y='academicPerformance', errorbar=None, palette='flare')\n",
    "\n",
    "plt.show()"
   ]
  },
  {
   "attachments": {},
   "cell_type": "markdown",
   "metadata": {},
   "source": [
    "Answer: Comparing the academic performance within the high income counties (above 80th percentile) doesn't show much difference or correlation. However, when compared between the counties above 80th percentile and the counties below 20th percentile, the difference and correlation in academic performance is apparent. Therefore, the high income counties tend to have better academic performances.\n",
    "\n",
    "---"
   ]
  },
  {
   "attachments": {},
   "cell_type": "markdown",
   "metadata": {},
   "source": [
    "##### 3. Use a scatterplot and describe the relation between income and math . Make sure to label the axis correctly and to add a title. Can we use the correlation coefficient to determine the degree of statistical association between the two variables? (Hint: the correlation coefficient have a downward bias for statistical relations that are non-linear)"
   ]
  },
  {
   "cell_type": "code",
   "execution_count": 105,
   "metadata": {},
   "outputs": [
    {
     "data": {
      "text/plain": [
       "<AxesSubplot:xlabel='income', ylabel='math'>"
      ]
     },
     "execution_count": 105,
     "metadata": {},
     "output_type": "execute_result"
    },
    {
     "data": {
      "image/png": "[encoded data removed]",
      "text/plain": [
       "<Figure size 600x500 with 1 Axes>"
      ]
     },
     "metadata": {},
     "output_type": "display_data"
    }
   ],
   "source": [
    "# Scatterplot\n",
    "\n",
    "plt.figure(figsize=(6,5))\n",
    "plt.suptitle('Relationship between income and math')\n",
    "\n",
    "sns.scatterplot(data=df3, x='income', y='math')"
   ]
  },
  {
   "cell_type": "code",
   "execution_count": 106,
   "metadata": {},
   "outputs": [
    {
     "data": {
      "text/plain": [
       "0.699398144189934"
      ]
     },
     "execution_count": 106,
     "metadata": {},
     "output_type": "execute_result"
    }
   ],
   "source": [
    "# Correlation coefficient\n",
    "\n",
    "df3.income.corr(df3.math)"
   ]
  },
  {
   "attachments": {},
   "cell_type": "markdown",
   "metadata": {},
   "source": [
    "Answer: When income increases, the math score tend to increase in a non-linear manner. Correlation coefficient measures the strength of linear relationship and it is only sensitie to linear correlations, therefore, it may provide inaccurate explanation for non-linear relationships. The correlation coefficient shows a strong positive correlation between income and math, but since it's non-linear, it may be wrong.\n",
    "\n",
    "---"
   ]
  },
  {
   "attachments": {},
   "cell_type": "markdown",
   "metadata": {},
   "source": [
    "#### 4. Use a scatterplot and describe the relation between english and read. Make sure to label the axis correctly and to add a title. Can we use the correlation coefficient to determine the degree of statistical association between the two variables?"
   ]
  },
  {
   "cell_type": "code",
   "execution_count": 64,
   "metadata": {},
   "outputs": [
    {
     "data": {
      "text/plain": [
       "<AxesSubplot:xlabel='english', ylabel='read'>"
      ]
     },
     "execution_count": 64,
     "metadata": {},
     "output_type": "execute_result"
    },
    {
     "data": {
      "image/png": "[encoded data removed]",
      "text/plain": [
       "<Figure size 600x500 with 1 Axes>"
      ]
     },
     "metadata": {},
     "output_type": "display_data"
    }
   ],
   "source": [
    "plt.figure(figsize=(6,5))\n",
    "plt.suptitle('Relationship between english and read')\n",
    "\n",
    "sns.scatterplot(data=df3, x='english', y='read')"
   ]
  },
  {
   "cell_type": "code",
   "execution_count": 65,
   "metadata": {},
   "outputs": [
    {
     "data": {
      "text/plain": [
       "-0.6902858651905355"
      ]
     },
     "execution_count": 65,
     "metadata": {},
     "output_type": "execute_result"
    }
   ],
   "source": [
    "df3.english.corr(df3.read)"
   ]
  },
  {
   "attachments": {},
   "cell_type": "markdown",
   "metadata": {},
   "source": [
    "Answer: The scatterplot seem like the read generally increases as english decreases. The correlation coefficient also indicates a strong negative correlation and we can define the scatterplot as a linear relationship.\n",
    "\n",
    "---"
   ]
  },
  {
   "attachments": {},
   "cell_type": "markdown",
   "metadata": {},
   "source": [
    "##### 5. Create a variable and call it str , which is short for student-to-teacher ratio. The variable should be equal to the ratio of students to teachers variables. Do you think str is related to the students academic performance? Produce your own evidence and write a short paragraph outlining your conclusions."
   ]
  },
  {
   "cell_type": "code",
   "execution_count": 109,
   "metadata": {},
   "outputs": [
    {
     "data": {
      "text/html": [
       "<div>\n",
       "<style scoped>\n",
       "    .dataframe tbody tr th:only-of-type {\n",
       "        vertical-align: middle;\n",
       "    }\n",
       "\n",
       "    .dataframe tbody tr th {\n",
       "        vertical-align: top;\n",
       "    }\n",
       "\n",
       "    .dataframe thead th {\n",
       "        text-align: right;\n",
       "    }\n",
       "</style>\n",
       "<table border=\"1\" class=\"dataframe\">\n",
       "  <thead>\n",
       "    <tr style=\"text-align: right;\">\n",
       "      <th></th>\n",
       "      <th>district</th>\n",
       "      <th>school</th>\n",
       "      <th>county</th>\n",
       "      <th>grades</th>\n",
       "      <th>students</th>\n",
       "      <th>teachers</th>\n",
       "      <th>calworks</th>\n",
       "      <th>lunch</th>\n",
       "      <th>computer</th>\n",
       "      <th>expenditure</th>\n",
       "      <th>income</th>\n",
       "      <th>english</th>\n",
       "      <th>read</th>\n",
       "      <th>math</th>\n",
       "      <th>academicPerformance</th>\n",
       "      <th>str</th>\n",
       "    </tr>\n",
       "  </thead>\n",
       "  <tbody>\n",
       "    <tr>\n",
       "      <th>0</th>\n",
       "      <td>75119</td>\n",
       "      <td>Sunol Glen Unified</td>\n",
       "      <td>Alameda</td>\n",
       "      <td>KK-08</td>\n",
       "      <td>195</td>\n",
       "      <td>10.900000</td>\n",
       "      <td>0.510200</td>\n",
       "      <td>2.040800</td>\n",
       "      <td>67</td>\n",
       "      <td>6384.911133</td>\n",
       "      <td>22.690001</td>\n",
       "      <td>0.000000</td>\n",
       "      <td>691.599976</td>\n",
       "      <td>690.000000</td>\n",
       "      <td>690.799988</td>\n",
       "      <td>17.889909</td>\n",
       "    </tr>\n",
       "    <tr>\n",
       "      <th>1</th>\n",
       "      <td>61499</td>\n",
       "      <td>Manzanita Elementary</td>\n",
       "      <td>Butte</td>\n",
       "      <td>KK-08</td>\n",
       "      <td>240</td>\n",
       "      <td>11.150000</td>\n",
       "      <td>15.416700</td>\n",
       "      <td>47.916698</td>\n",
       "      <td>101</td>\n",
       "      <td>5099.380859</td>\n",
       "      <td>9.824000</td>\n",
       "      <td>4.583333</td>\n",
       "      <td>660.500000</td>\n",
       "      <td>661.900024</td>\n",
       "      <td>661.200012</td>\n",
       "      <td>21.524664</td>\n",
       "    </tr>\n",
       "    <tr>\n",
       "      <th>2</th>\n",
       "      <td>61549</td>\n",
       "      <td>Thermalito Union Elementary</td>\n",
       "      <td>Butte</td>\n",
       "      <td>KK-08</td>\n",
       "      <td>1550</td>\n",
       "      <td>82.900002</td>\n",
       "      <td>55.032299</td>\n",
       "      <td>76.322601</td>\n",
       "      <td>169</td>\n",
       "      <td>5501.954590</td>\n",
       "      <td>8.978000</td>\n",
       "      <td>30.000002</td>\n",
       "      <td>636.299988</td>\n",
       "      <td>650.900024</td>\n",
       "      <td>643.600006</td>\n",
       "      <td>18.697225</td>\n",
       "    </tr>\n",
       "    <tr>\n",
       "      <th>3</th>\n",
       "      <td>61457</td>\n",
       "      <td>Golden Feather Union Elementary</td>\n",
       "      <td>Butte</td>\n",
       "      <td>KK-08</td>\n",
       "      <td>243</td>\n",
       "      <td>14.000000</td>\n",
       "      <td>36.475399</td>\n",
       "      <td>77.049202</td>\n",
       "      <td>85</td>\n",
       "      <td>7101.831055</td>\n",
       "      <td>8.978000</td>\n",
       "      <td>0.000000</td>\n",
       "      <td>651.900024</td>\n",
       "      <td>643.500000</td>\n",
       "      <td>647.700012</td>\n",
       "      <td>17.357143</td>\n",
       "    </tr>\n",
       "    <tr>\n",
       "      <th>4</th>\n",
       "      <td>61523</td>\n",
       "      <td>Palermo Union Elementary</td>\n",
       "      <td>Butte</td>\n",
       "      <td>KK-08</td>\n",
       "      <td>1335</td>\n",
       "      <td>71.500000</td>\n",
       "      <td>33.108601</td>\n",
       "      <td>78.427002</td>\n",
       "      <td>171</td>\n",
       "      <td>5235.987793</td>\n",
       "      <td>9.080333</td>\n",
       "      <td>13.857677</td>\n",
       "      <td>641.799988</td>\n",
       "      <td>639.900024</td>\n",
       "      <td>640.850006</td>\n",
       "      <td>18.671329</td>\n",
       "    </tr>\n",
       "  </tbody>\n",
       "</table>\n",
       "</div>"
      ],
      "text/plain": [
       "   district                           school   county grades  students  \\\n",
       "0     75119               Sunol Glen Unified  Alameda  KK-08       195   \n",
       "1     61499             Manzanita Elementary    Butte  KK-08       240   \n",
       "2     61549      Thermalito Union Elementary    Butte  KK-08      1550   \n",
       "3     61457  Golden Feather Union Elementary    Butte  KK-08       243   \n",
       "4     61523         Palermo Union Elementary    Butte  KK-08      1335   \n",
       "\n",
       "    teachers   calworks      lunch  computer  expenditure     income  \\\n",
       "0  10.900000   0.510200   2.040800        67  6384.911133  22.690001   \n",
       "1  11.150000  15.416700  47.916698       101  5099.380859   9.824000   \n",
       "2  82.900002  55.032299  76.322601       169  5501.954590   8.978000   \n",
       "3  14.000000  36.475399  77.049202        85  7101.831055   8.978000   \n",
       "4  71.500000  33.108601  78.427002       171  5235.987793   9.080333   \n",
       "\n",
       "     english        read        math  academicPerformance        str  \n",
       "0   0.000000  691.599976  690.000000           690.799988  17.889909  \n",
       "1   4.583333  660.500000  661.900024           661.200012  21.524664  \n",
       "2  30.000002  636.299988  650.900024           643.600006  18.697225  \n",
       "3   0.000000  651.900024  643.500000           647.700012  17.357143  \n",
       "4  13.857677  641.799988  639.900024           640.850006  18.671329  "
      ]
     },
     "execution_count": 109,
     "metadata": {},
     "output_type": "execute_result"
    }
   ],
   "source": [
    "# Derived variable for student to teacher ratio\n",
    "\n",
    "df3['str'] = df3.students / df3.teachers\n",
    "df3.head()"
   ]
  },
  {
   "cell_type": "code",
   "execution_count": 110,
   "metadata": {},
   "outputs": [
    {
     "data": {
      "text/plain": [
       "<AxesSubplot:xlabel='str', ylabel='academicPerformance'>"
      ]
     },
     "execution_count": 110,
     "metadata": {},
     "output_type": "execute_result"
    },
    {
     "data": {
      "image/png": "[encoded data removed]",
      "text/plain": [
       "<Figure size 600x500 with 1 Axes>"
      ]
     },
     "metadata": {},
     "output_type": "display_data"
    }
   ],
   "source": [
    "# Scatterplot\n",
    "\n",
    "plt.figure(figsize=(6,5))\n",
    "plt.suptitle('Relationship between str and academic performance')\n",
    "\n",
    "sns.scatterplot(data=df3, x='str', y='academicPerformance')"
   ]
  },
  {
   "cell_type": "code",
   "execution_count": 111,
   "metadata": {},
   "outputs": [
    {
     "data": {
      "text/plain": [
       "-0.22636274558209943"
      ]
     },
     "execution_count": 111,
     "metadata": {},
     "output_type": "execute_result"
    }
   ],
   "source": [
    "# Correlation Coefficient\n",
    "\n",
    "df3.str.corr(df3.academicPerformance)"
   ]
  },
  {
   "attachments": {},
   "cell_type": "markdown",
   "metadata": {},
   "source": [
    "Answer: The scatterplot shows that there are zero correlation between the academic performance and the student-to-teacher ratio. Also, since it is a non-linear relationship, the correlation coefficient stating as weak negative correlation is incorrect.\n",
    "\n",
    "---"
   ]
  },
  {
   "attachments": {},
   "cell_type": "markdown",
   "metadata": {},
   "source": [
    "##### 6. Explore the data set freely (you can use your previous answers) with the goal of finding what variables are related to academic performance. Then write a hypothesis (a possible explanation) about what may cause some schools to perform better or worse academically. Back up your claims with tabular and graphical evidence."
   ]
  },
  {
   "cell_type": "code",
   "execution_count": 112,
   "metadata": {},
   "outputs": [
    {
     "data": {
      "text/html": [
       "<div>\n",
       "<style scoped>\n",
       "    .dataframe tbody tr th:only-of-type {\n",
       "        vertical-align: middle;\n",
       "    }\n",
       "\n",
       "    .dataframe tbody tr th {\n",
       "        vertical-align: top;\n",
       "    }\n",
       "\n",
       "    .dataframe thead th {\n",
       "        text-align: right;\n",
       "    }\n",
       "</style>\n",
       "<table border=\"1\" class=\"dataframe\">\n",
       "  <thead>\n",
       "    <tr style=\"text-align: right;\">\n",
       "      <th></th>\n",
       "      <th>district</th>\n",
       "      <th>students</th>\n",
       "      <th>teachers</th>\n",
       "      <th>calworks</th>\n",
       "      <th>lunch</th>\n",
       "      <th>computer</th>\n",
       "      <th>expenditure</th>\n",
       "      <th>income</th>\n",
       "      <th>english</th>\n",
       "      <th>read</th>\n",
       "      <th>math</th>\n",
       "      <th>academicPerformance</th>\n",
       "      <th>str</th>\n",
       "    </tr>\n",
       "  </thead>\n",
       "  <tbody>\n",
       "    <tr>\n",
       "      <th>district</th>\n",
       "      <td>1.000000</td>\n",
       "      <td>-0.033569</td>\n",
       "      <td>-0.031524</td>\n",
       "      <td>-0.161727</td>\n",
       "      <td>-0.108032</td>\n",
       "      <td>-0.020999</td>\n",
       "      <td>0.049172</td>\n",
       "      <td>0.103910</td>\n",
       "      <td>-0.026967</td>\n",
       "      <td>0.106576</td>\n",
       "      <td>0.117713</td>\n",
       "      <td>0.114170</td>\n",
       "      <td>-0.058951</td>\n",
       "    </tr>\n",
       "    <tr>\n",
       "      <th>students</th>\n",
       "      <td>-0.033569</td>\n",
       "      <td>1.000000</td>\n",
       "      <td>0.997116</td>\n",
       "      <td>0.090161</td>\n",
       "      <td>0.129234</td>\n",
       "      <td>0.928882</td>\n",
       "      <td>-0.112285</td>\n",
       "      <td>0.028392</td>\n",
       "      <td>0.354879</td>\n",
       "      <td>-0.188399</td>\n",
       "      <td>-0.110889</td>\n",
       "      <td>-0.153987</td>\n",
       "      <td>0.298481</td>\n",
       "    </tr>\n",
       "    <tr>\n",
       "      <th>teachers</th>\n",
       "      <td>-0.031524</td>\n",
       "      <td>0.997116</td>\n",
       "      <td>1.000000</td>\n",
       "      <td>0.092645</td>\n",
       "      <td>0.124296</td>\n",
       "      <td>0.937242</td>\n",
       "      <td>-0.095195</td>\n",
       "      <td>0.043007</td>\n",
       "      <td>0.351421</td>\n",
       "      <td>-0.179109</td>\n",
       "      <td>-0.102296</td>\n",
       "      <td>-0.144857</td>\n",
       "      <td>0.264641</td>\n",
       "    </tr>\n",
       "    <tr>\n",
       "      <th>calworks</th>\n",
       "      <td>-0.161727</td>\n",
       "      <td>0.090161</td>\n",
       "      <td>0.092645</td>\n",
       "      <td>1.000000</td>\n",
       "      <td>0.739422</td>\n",
       "      <td>0.059160</td>\n",
       "      <td>0.067889</td>\n",
       "      <td>-0.512651</td>\n",
       "      <td>0.319576</td>\n",
       "      <td>-0.611847</td>\n",
       "      <td>-0.617691</td>\n",
       "      <td>-0.626853</td>\n",
       "      <td>0.018276</td>\n",
       "    </tr>\n",
       "    <tr>\n",
       "      <th>lunch</th>\n",
       "      <td>-0.108032</td>\n",
       "      <td>0.129234</td>\n",
       "      <td>0.124296</td>\n",
       "      <td>0.739422</td>\n",
       "      <td>1.000000</td>\n",
       "      <td>0.061386</td>\n",
       "      <td>-0.061039</td>\n",
       "      <td>-0.684440</td>\n",
       "      <td>0.653061</td>\n",
       "      <td>-0.878808</td>\n",
       "      <td>-0.823015</td>\n",
       "      <td>-0.868772</td>\n",
       "      <td>0.135203</td>\n",
       "    </tr>\n",
       "    <tr>\n",
       "      <th>computer</th>\n",
       "      <td>-0.020999</td>\n",
       "      <td>0.928882</td>\n",
       "      <td>0.937242</td>\n",
       "      <td>0.059160</td>\n",
       "      <td>0.061386</td>\n",
       "      <td>1.000000</td>\n",
       "      <td>-0.071311</td>\n",
       "      <td>0.094343</td>\n",
       "      <td>0.291339</td>\n",
       "      <td>-0.109005</td>\n",
       "      <td>-0.032950</td>\n",
       "      <td>-0.073736</td>\n",
       "      <td>0.233826</td>\n",
       "    </tr>\n",
       "    <tr>\n",
       "      <th>expenditure</th>\n",
       "      <td>0.049172</td>\n",
       "      <td>-0.112285</td>\n",
       "      <td>-0.095195</td>\n",
       "      <td>0.067889</td>\n",
       "      <td>-0.061039</td>\n",
       "      <td>-0.071311</td>\n",
       "      <td>1.000000</td>\n",
       "      <td>0.314484</td>\n",
       "      <td>-0.071396</td>\n",
       "      <td>0.217927</td>\n",
       "      <td>0.154989</td>\n",
       "      <td>0.191273</td>\n",
       "      <td>-0.619982</td>\n",
       "    </tr>\n",
       "    <tr>\n",
       "      <th>income</th>\n",
       "      <td>0.103910</td>\n",
       "      <td>0.028392</td>\n",
       "      <td>0.043007</td>\n",
       "      <td>-0.512651</td>\n",
       "      <td>-0.684440</td>\n",
       "      <td>0.094343</td>\n",
       "      <td>0.314484</td>\n",
       "      <td>1.000000</td>\n",
       "      <td>-0.307419</td>\n",
       "      <td>0.697819</td>\n",
       "      <td>0.699398</td>\n",
       "      <td>0.712431</td>\n",
       "      <td>-0.232194</td>\n",
       "    </tr>\n",
       "    <tr>\n",
       "      <th>english</th>\n",
       "      <td>-0.026967</td>\n",
       "      <td>0.354879</td>\n",
       "      <td>0.351421</td>\n",
       "      <td>0.319576</td>\n",
       "      <td>0.653061</td>\n",
       "      <td>0.291339</td>\n",
       "      <td>-0.071396</td>\n",
       "      <td>-0.307419</td>\n",
       "      <td>1.000000</td>\n",
       "      <td>-0.690286</td>\n",
       "      <td>-0.568682</td>\n",
       "      <td>-0.644124</td>\n",
       "      <td>0.187642</td>\n",
       "    </tr>\n",
       "    <tr>\n",
       "      <th>read</th>\n",
       "      <td>0.106576</td>\n",
       "      <td>-0.188399</td>\n",
       "      <td>-0.179109</td>\n",
       "      <td>-0.611847</td>\n",
       "      <td>-0.878808</td>\n",
       "      <td>-0.109005</td>\n",
       "      <td>0.217927</td>\n",
       "      <td>0.697819</td>\n",
       "      <td>-0.690286</td>\n",
       "      <td>1.000000</td>\n",
       "      <td>0.922901</td>\n",
       "      <td>0.981882</td>\n",
       "      <td>-0.246593</td>\n",
       "    </tr>\n",
       "    <tr>\n",
       "      <th>math</th>\n",
       "      <td>0.117713</td>\n",
       "      <td>-0.110889</td>\n",
       "      <td>-0.102296</td>\n",
       "      <td>-0.617691</td>\n",
       "      <td>-0.823015</td>\n",
       "      <td>-0.032950</td>\n",
       "      <td>0.154989</td>\n",
       "      <td>0.699398</td>\n",
       "      <td>-0.568682</td>\n",
       "      <td>0.922901</td>\n",
       "      <td>1.000000</td>\n",
       "      <td>0.979143</td>\n",
       "      <td>-0.195553</td>\n",
       "    </tr>\n",
       "    <tr>\n",
       "      <th>academicPerformance</th>\n",
       "      <td>0.114170</td>\n",
       "      <td>-0.153987</td>\n",
       "      <td>-0.144857</td>\n",
       "      <td>-0.626853</td>\n",
       "      <td>-0.868772</td>\n",
       "      <td>-0.073736</td>\n",
       "      <td>0.191273</td>\n",
       "      <td>0.712431</td>\n",
       "      <td>-0.644124</td>\n",
       "      <td>0.981882</td>\n",
       "      <td>0.979143</td>\n",
       "      <td>1.000000</td>\n",
       "      <td>-0.226363</td>\n",
       "    </tr>\n",
       "    <tr>\n",
       "      <th>str</th>\n",
       "      <td>-0.058951</td>\n",
       "      <td>0.298481</td>\n",
       "      <td>0.264641</td>\n",
       "      <td>0.018276</td>\n",
       "      <td>0.135203</td>\n",
       "      <td>0.233826</td>\n",
       "      <td>-0.619982</td>\n",
       "      <td>-0.232194</td>\n",
       "      <td>0.187642</td>\n",
       "      <td>-0.246593</td>\n",
       "      <td>-0.195553</td>\n",
       "      <td>-0.226363</td>\n",
       "      <td>1.000000</td>\n",
       "    </tr>\n",
       "  </tbody>\n",
       "</table>\n",
       "</div>"
      ],
      "text/plain": [
       "                     district  students  teachers  calworks     lunch  \\\n",
       "district             1.000000 -0.033569 -0.031524 -0.161727 -0.108032   \n",
       "students            -0.033569  1.000000  0.997116  0.090161  0.129234   \n",
       "teachers            -0.031524  0.997116  1.000000  0.092645  0.124296   \n",
       "calworks            -0.161727  0.090161  0.092645  1.000000  0.739422   \n",
       "lunch               -0.108032  0.129234  0.124296  0.739422  1.000000   \n",
       "computer            -0.020999  0.928882  0.937242  0.059160  0.061386   \n",
       "expenditure          0.049172 -0.112285 -0.095195  0.067889 -0.061039   \n",
       "income               0.103910  0.028392  0.043007 -0.512651 -0.684440   \n",
       "english             -0.026967  0.354879  0.351421  0.319576  0.653061   \n",
       "read                 0.106576 -0.188399 -0.179109 -0.611847 -0.878808   \n",
       "math                 0.117713 -0.110889 -0.102296 -0.617691 -0.823015   \n",
       "academicPerformance  0.114170 -0.153987 -0.144857 -0.626853 -0.868772   \n",
       "str                 -0.058951  0.298481  0.264641  0.018276  0.135203   \n",
       "\n",
       "                     computer  expenditure    income   english      read  \\\n",
       "district            -0.020999     0.049172  0.103910 -0.026967  0.106576   \n",
       "students             0.928882    -0.112285  0.028392  0.354879 -0.188399   \n",
       "teachers             0.937242    -0.095195  0.043007  0.351421 -0.179109   \n",
       "calworks             0.059160     0.067889 -0.512651  0.319576 -0.611847   \n",
       "lunch                0.061386    -0.061039 -0.684440  0.653061 -0.878808   \n",
       "computer             1.000000    -0.071311  0.094343  0.291339 -0.109005   \n",
       "expenditure         -0.071311     1.000000  0.314484 -0.071396  0.217927   \n",
       "income               0.094343     0.314484  1.000000 -0.307419  0.697819   \n",
       "english              0.291339    -0.071396 -0.307419  1.000000 -0.690286   \n",
       "read                -0.109005     0.217927  0.697819 -0.690286  1.000000   \n",
       "math                -0.032950     0.154989  0.699398 -0.568682  0.922901   \n",
       "academicPerformance -0.073736     0.191273  0.712431 -0.644124  0.981882   \n",
       "str                  0.233826    -0.619982 -0.232194  0.187642 -0.246593   \n",
       "\n",
       "                         math  academicPerformance       str  \n",
       "district             0.117713             0.114170 -0.058951  \n",
       "students            -0.110889            -0.153987  0.298481  \n",
       "teachers            -0.102296            -0.144857  0.264641  \n",
       "calworks            -0.617691            -0.626853  0.018276  \n",
       "lunch               -0.823015            -0.868772  0.135203  \n",
       "computer            -0.032950            -0.073736  0.233826  \n",
       "expenditure          0.154989             0.191273 -0.619982  \n",
       "income               0.699398             0.712431 -0.232194  \n",
       "english             -0.568682            -0.644124  0.187642  \n",
       "read                 0.922901             0.981882 -0.246593  \n",
       "math                 1.000000             0.979143 -0.195553  \n",
       "academicPerformance  0.979143             1.000000 -0.226363  \n",
       "str                 -0.195553            -0.226363  1.000000  "
      ]
     },
     "execution_count": 112,
     "metadata": {},
     "output_type": "execute_result"
    }
   ],
   "source": [
    "# Correlation coefficient chart\n",
    "\n",
    "df3.corr(numeric_only=True)"
   ]
  },
  {
   "cell_type": "code",
   "execution_count": 70,
   "metadata": {},
   "outputs": [
    {
     "data": {
      "image/png": "[encoded data removed]",
      "text/plain": [
       "<Figure size 1600x600 with 2 Axes>"
      ]
     },
     "metadata": {},
     "output_type": "display_data"
    }
   ],
   "source": [
    "# Heatmap of the correlation coefficient chart\n",
    "\n",
    "plt.figure(figsize=(16, 6))\n",
    "mask = np.triu(np.ones_like(df3.corr(numeric_only=True), dtype=bool))\n",
    "heatmap = sns.heatmap(df3.corr(numeric_only=True), mask=mask, vmin=-1, vmax=1, annot=True, cmap='Blues')\n",
    "heatmap.set_title('Correlation of Data Set', fontdict={'fontsize':18}, pad=16)\n",
    "plt.show()"
   ]
  },
  {
   "cell_type": "code",
   "execution_count": 115,
   "metadata": {},
   "outputs": [
    {
     "data": {
      "text/plain": [
       "<seaborn.axisgrid.PairGrid at 0x2a6fabe20>"
      ]
     },
     "execution_count": 115,
     "metadata": {},
     "output_type": "execute_result"
    },
    {
     "data": {
      "text/plain": [
       "<Figure size 2000x2000 with 0 Axes>"
      ]
     },
     "metadata": {},
     "output_type": "display_data"
    },
    {
     "data": {
      "image/png": "[encoded data removed]",
      "text/plain": [
       "<Figure size 3250x250 with 14 Axes>"
      ]
     },
     "metadata": {},
     "output_type": "display_data"
    }
   ],
   "source": [
    "# Pairplot\n",
    "\n",
    "plt.figure(figsize=(20,20))\n",
    "plt.suptitle('Pairplot')\n",
    "\n",
    "sns.pairplot(data=df3, y_vars=['academicPerformance'])"
   ]
  },
  {
   "attachments": {},
   "cell_type": "markdown",
   "metadata": {},
   "source": [
    "Answer: Based on graphical evidence, we can assume that calworks, lunch, income, english, read, math variables have correlations with the academic performance. The variables with a negative correlation include calworks, lunch, and english, while the variables with a positive correlation include income, read, and math.\n",
    "\n",
    "---"
   ]
  }
 ],
 "metadata": {
  "kernelspec": {
   "display_name": "base",
   "language": "python",
   "name": "python3"
  },
  "language_info": {
   "codemirror_mode": {
    "name": "ipython",
    "version": 3
   },
   "file_extension": ".py",
   "mimetype": "text/x-python",
   "name": "python",
   "nbconvert_exporter": "python",
   "pygments_lexer": "ipython3",
   "version": "3.9.15"
  },
  "orig_nbformat": 4,
  "vscode": {
   "interpreter": {
    "hash": "8f807fda92f20a86fe0cf9a7fb20f5cc46478756bf29c3db068708b68d71bcd3"
   }
  }
 },
 "nbformat": 4,
 "nbformat_minor": 2
}
