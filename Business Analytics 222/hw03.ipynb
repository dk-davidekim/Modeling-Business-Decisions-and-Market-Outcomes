{
 "cells": [
  {
   "attachments": {},
   "cell_type": "markdown",
   "metadata": {},
   "source": [
    "# BA222 SPRING 2023 – HW03\n",
    "Due on 04/08 (Saturday) by 11:59 PM\n",
    "### by Euijoon David Kim\n",
    "---"
   ]
  },
  {
   "attachments": {},
   "cell_type": "markdown",
   "metadata": {},
   "source": [
    "### Instructions\n",
    "- Submit a single .ipynb (jupyter notebook) file as your solution on Blackboard\n",
    "- Name the file as BA222_HW03_lastNameFirstName\n",
    "- Label each cell with the question number\n",
    "- Type any necessary explanation in your code as a comment\n",
    "\n",
    "---\n",
    "---\n",
    "---"
   ]
  },
  {
   "cell_type": "code",
   "execution_count": 1,
   "metadata": {},
   "outputs": [],
   "source": [
    "import pandas as pd\n",
    "import matplotlib.pyplot as plt\n",
    "import statsmodels.formula.api as smf\n",
    "import seaborn as sns\n",
    "import numpy as np"
   ]
  },
  {
   "attachments": {},
   "cell_type": "markdown",
   "metadata": {},
   "source": [
    "## Part 1. Univariate Regressions\n",
    "\n",
    "Some problems don't require you to write any Python code. On Jupyter Notebook (or JupyterLab)\n",
    "\n",
    "you can change the input mode from Code to Markdown to make your answers easier to read and to allow you to type equations."
   ]
  },
  {
   "attachments": {},
   "cell_type": "markdown",
   "metadata": {},
   "source": [
    "---\n",
    "---\n",
    "\n",
    "### Problem 1.1\n",
    "1 - Suppose that an analyst, using data from different Dunkin' Donuts locations in Boston,\n",
    "\n",
    "is estimating the relation between Sales ( , measured in weekly USD)\n",
    "\n",
    "and distance to the nearest subway station ( , measured in meters)\n",
    "\n",
    "with a linear regression model."
   ]
  },
  {
   "attachments": {},
   "cell_type": "markdown",
   "metadata": {},
   "source": [
    "---"
   ]
  },
  {
   "attachments": {},
   "cell_type": "markdown",
   "metadata": {},
   "source": [
    "a. Which one of the two variables should be the dependent variable in the\n",
    "regression model? Explain."
   ]
  },
  {
   "attachments": {},
   "cell_type": "markdown",
   "metadata": {},
   "source": [
    "- Dependent Variable = Sales\n",
    "- Independent Variable = Distance\n",
    "\n",
    "Based on the independent variable 'Distance,' the dependent variable 'Sales' will change."
   ]
  },
  {
   "attachments": {},
   "cell_type": "markdown",
   "metadata": {},
   "source": [
    "---"
   ]
  },
  {
   "attachments": {},
   "cell_type": "markdown",
   "metadata": {},
   "source": [
    "b. Write a linear equation to represent the regression model.(Hint: don't forget the\n",
    "error term!)"
   ]
  },
  {
   "attachments": {},
   "cell_type": "markdown",
   "metadata": {},
   "source": [
    "$$Sales = \\beta_0 + \\beta_1 Distance + Error$$"
   ]
  },
  {
   "attachments": {},
   "cell_type": "markdown",
   "metadata": {},
   "source": [
    "---"
   ]
  },
  {
   "attachments": {},
   "cell_type": "markdown",
   "metadata": {},
   "source": [
    "c. What other factors, besides the distance to the nearest subway station, may\n",
    "affect the variable Sales?\n",
    "\n",
    "How are those factors represented in the model?\n",
    "\n",
    "Taking them into consideration, interpret the intercept and slope coefficients (the betas)."
   ]
  },
  {
   "attachments": {},
   "cell_type": "markdown",
   "metadata": {},
   "source": [
    "$$Sales = \\beta_0 + \\beta_1 Subway + \\beta_2 School + \\beta_3 Company + \\beta_4 Residence + \\beta_5 Size + Error$$\n",
    "\n",
    "- Size : Size of the store\n",
    "- School : Distance to the nearest school\n",
    "- Company : Distance to the nearest company\n",
    "- Residence : Distance to the nearest residence"
   ]
  },
  {
   "attachments": {},
   "cell_type": "markdown",
   "metadata": {},
   "source": [
    "---"
   ]
  },
  {
   "attachments": {},
   "cell_type": "markdown",
   "metadata": {},
   "source": [
    "d. Assume that the estimated model is equal to:\n",
    "\n",
    "<img src=\"screenshot/hw3/11d.png\" width=\"220\" height=\"50\"/>\n",
    "\n",
    "Predict the sales for a location that is ON a subway station?\n",
    "\n",
    "What about a location that is 100 meters away?"
   ]
  },
  {
   "cell_type": "code",
   "execution_count": 2,
   "metadata": {},
   "outputs": [],
   "source": [
    "def model(x):\n",
    "    return 15342 - 50*x"
   ]
  },
  {
   "attachments": {},
   "cell_type": "markdown",
   "metadata": {},
   "source": [
    "Sales for a location that is on a subway station:"
   ]
  },
  {
   "cell_type": "code",
   "execution_count": 3,
   "metadata": {},
   "outputs": [
    {
     "name": "stdout",
     "output_type": "stream",
     "text": [
      "15342\n"
     ]
    }
   ],
   "source": [
    "print(model(0))"
   ]
  },
  {
   "attachments": {},
   "cell_type": "markdown",
   "metadata": {},
   "source": [
    "Sales for a location that is 100 meters away:"
   ]
  },
  {
   "cell_type": "code",
   "execution_count": 4,
   "metadata": {},
   "outputs": [
    {
     "name": "stdout",
     "output_type": "stream",
     "text": [
      "10342\n"
     ]
    }
   ],
   "source": [
    "print(model(100))"
   ]
  },
  {
   "attachments": {},
   "cell_type": "markdown",
   "metadata": {},
   "source": [
    "---"
   ]
  },
  {
   "attachments": {},
   "cell_type": "markdown",
   "metadata": {},
   "source": [
    "e. For some values of the prediction of the model is that sales are negative,\n",
    "\n",
    "identify the range of values for which the fitted values of sales are negative.\n",
    "\n",
    "Is this a weakness of the regression model? Explain."
   ]
  },
  {
   "cell_type": "code",
   "execution_count": 5,
   "metadata": {},
   "outputs": [
    {
     "data": {
      "text/plain": [
       "306.84"
      ]
     },
     "execution_count": 5,
     "metadata": {},
     "output_type": "execute_result"
    }
   ],
   "source": [
    "15342 / 50"
   ]
  },
  {
   "attachments": {},
   "cell_type": "markdown",
   "metadata": {},
   "source": [
    "306.84 meters and above will output a negative number in sales.\n",
    "\n",
    "First, in reality, sales can not be below 0.\n",
    "\n",
    "Second, from the distance equal to 306.84 and above, in reality, the distance to the nearest subway station probably doesn't affect sales as much.\n",
    "\n",
    "This means that the graph in reality after x reaches 306.84 is not linear to the regression model.\n",
    "\n",
    "Linear regression performs poorly in non-linear relationships."
   ]
  },
  {
   "attachments": {},
   "cell_type": "markdown",
   "metadata": {},
   "source": [
    "---\n",
    "---\n",
    "\n",
    "### Problem 1.2\n",
    "\n",
    "Use the Earnings_and_Height.csv data to answer the questions."
   ]
  },
  {
   "cell_type": "code",
   "execution_count": 6,
   "metadata": {},
   "outputs": [
    {
     "data": {
      "text/html": [
       "<div>\n",
       "<style scoped>\n",
       "    .dataframe tbody tr th:only-of-type {\n",
       "        vertical-align: middle;\n",
       "    }\n",
       "\n",
       "    .dataframe tbody tr th {\n",
       "        vertical-align: top;\n",
       "    }\n",
       "\n",
       "    .dataframe thead th {\n",
       "        text-align: right;\n",
       "    }\n",
       "</style>\n",
       "<table border=\"1\" class=\"dataframe\">\n",
       "  <thead>\n",
       "    <tr style=\"text-align: right;\">\n",
       "      <th></th>\n",
       "      <th>sex</th>\n",
       "      <th>age</th>\n",
       "      <th>mrd</th>\n",
       "      <th>educ</th>\n",
       "      <th>cworker</th>\n",
       "      <th>region</th>\n",
       "      <th>race</th>\n",
       "      <th>earnings</th>\n",
       "      <th>height</th>\n",
       "      <th>weight</th>\n",
       "      <th>occupation</th>\n",
       "    </tr>\n",
       "  </thead>\n",
       "  <tbody>\n",
       "    <tr>\n",
       "      <th>0</th>\n",
       "      <td>0</td>\n",
       "      <td>48</td>\n",
       "      <td>1</td>\n",
       "      <td>13</td>\n",
       "      <td>1</td>\n",
       "      <td>3</td>\n",
       "      <td>1</td>\n",
       "      <td>84054.75000</td>\n",
       "      <td>65</td>\n",
       "      <td>133</td>\n",
       "      <td>1</td>\n",
       "    </tr>\n",
       "    <tr>\n",
       "      <th>1</th>\n",
       "      <td>0</td>\n",
       "      <td>41</td>\n",
       "      <td>6</td>\n",
       "      <td>12</td>\n",
       "      <td>1</td>\n",
       "      <td>2</td>\n",
       "      <td>1</td>\n",
       "      <td>14021.39453</td>\n",
       "      <td>65</td>\n",
       "      <td>155</td>\n",
       "      <td>1</td>\n",
       "    </tr>\n",
       "    <tr>\n",
       "      <th>2</th>\n",
       "      <td>0</td>\n",
       "      <td>26</td>\n",
       "      <td>1</td>\n",
       "      <td>16</td>\n",
       "      <td>1</td>\n",
       "      <td>1</td>\n",
       "      <td>1</td>\n",
       "      <td>84054.75000</td>\n",
       "      <td>60</td>\n",
       "      <td>108</td>\n",
       "      <td>1</td>\n",
       "    </tr>\n",
       "    <tr>\n",
       "      <th>3</th>\n",
       "      <td>0</td>\n",
       "      <td>37</td>\n",
       "      <td>1</td>\n",
       "      <td>16</td>\n",
       "      <td>1</td>\n",
       "      <td>2</td>\n",
       "      <td>1</td>\n",
       "      <td>84054.75000</td>\n",
       "      <td>67</td>\n",
       "      <td>150</td>\n",
       "      <td>1</td>\n",
       "    </tr>\n",
       "    <tr>\n",
       "      <th>4</th>\n",
       "      <td>0</td>\n",
       "      <td>35</td>\n",
       "      <td>6</td>\n",
       "      <td>16</td>\n",
       "      <td>1</td>\n",
       "      <td>1</td>\n",
       "      <td>1</td>\n",
       "      <td>28560.38672</td>\n",
       "      <td>68</td>\n",
       "      <td>180</td>\n",
       "      <td>1</td>\n",
       "    </tr>\n",
       "  </tbody>\n",
       "</table>\n",
       "</div>"
      ],
      "text/plain": [
       "   sex  age  mrd  educ  cworker  region  race     earnings  height  weight  \\\n",
       "0    0   48    1    13        1       3     1  84054.75000      65     133   \n",
       "1    0   41    6    12        1       2     1  14021.39453      65     155   \n",
       "2    0   26    1    16        1       1     1  84054.75000      60     108   \n",
       "3    0   37    1    16        1       2     1  84054.75000      67     150   \n",
       "4    0   35    6    16        1       1     1  28560.38672      68     180   \n",
       "\n",
       "   occupation  \n",
       "0           1  \n",
       "1           1  \n",
       "2           1  \n",
       "3           1  \n",
       "4           1  "
      ]
     },
     "execution_count": 6,
     "metadata": {},
     "output_type": "execute_result"
    }
   ],
   "source": [
    "eh = pd.read_csv('data/earningsAndHeight.csv')\n",
    "eh.head()"
   ]
  },
  {
   "attachments": {},
   "cell_type": "markdown",
   "metadata": {},
   "source": [
    "---"
   ]
  },
  {
   "attachments": {},
   "cell_type": "markdown",
   "metadata": {},
   "source": [
    "a. What is the median value of height in the sample?"
   ]
  },
  {
   "cell_type": "code",
   "execution_count": 7,
   "metadata": {},
   "outputs": [
    {
     "data": {
      "text/plain": [
       "67.0"
      ]
     },
     "execution_count": 7,
     "metadata": {},
     "output_type": "execute_result"
    }
   ],
   "source": [
    "np.median(eh.height)"
   ]
  },
  {
   "attachments": {},
   "cell_type": "markdown",
   "metadata": {},
   "source": [
    "---"
   ]
  },
  {
   "attachments": {},
   "cell_type": "markdown",
   "metadata": {},
   "source": [
    "b. Estimate the average earnings for workers whose height is at most 67 inches.\n",
    "\n",
    "Then, estimate the average earnings for workers whose height is greater than 67 inches.\n",
    "\n",
    "Based on your calculations, what do you think is the relation between height and earnings?\n",
    "\n",
    "Use the results to estimate how earnings change by each additional inch?"
   ]
  },
  {
   "cell_type": "code",
   "execution_count": 8,
   "metadata": {},
   "outputs": [
    {
     "data": {
      "text/plain": [
       "44488.43593672602"
      ]
     },
     "execution_count": 8,
     "metadata": {},
     "output_type": "execute_result"
    }
   ],
   "source": [
    "np.mean(eh.loc[eh.height <= 67].earnings)"
   ]
  },
  {
   "cell_type": "code",
   "execution_count": 9,
   "metadata": {},
   "outputs": [
    {
     "data": {
      "text/plain": [
       "49987.87583845139"
      ]
     },
     "execution_count": 9,
     "metadata": {},
     "output_type": "execute_result"
    }
   ],
   "source": [
    "np.mean(eh.loc[eh.height > 67].earnings)"
   ]
  },
  {
   "attachments": {},
   "cell_type": "markdown",
   "metadata": {},
   "source": [
    "Based on the calculation, it seems like the average earnings increase as the average height increases."
   ]
  },
  {
   "cell_type": "code",
   "execution_count": 10,
   "metadata": {},
   "outputs": [
    {
     "data": {
      "text/plain": [
       "826.0584102823909"
      ]
     },
     "execution_count": 10,
     "metadata": {},
     "output_type": "execute_result"
    }
   ],
   "source": [
    "def slopeCal(x0, x1, y0, y1):\n",
    "    deltaX = x1 - x0\n",
    "    deltaY = y1 - y0\n",
    "    slope = deltaY / deltaX\n",
    "    return(slope)\n",
    "\n",
    "x0 = np.mean(eh.loc[eh.height <= 67].height)\n",
    "x1 = np.mean(eh.loc[eh.height > 67].height)\n",
    "y0 = np.mean(eh.loc[eh.height <= 67].earnings)\n",
    "y1 = np.mean(eh.loc[eh.height > 67].earnings)\n",
    "\n",
    "slopeCal(x0, x1, y0, y1)"
   ]
  },
  {
   "attachments": {},
   "cell_type": "markdown",
   "metadata": {},
   "source": [
    "Earnings increases by 826.06 for each additional inch on the height."
   ]
  },
  {
   "attachments": {},
   "cell_type": "markdown",
   "metadata": {},
   "source": [
    "---"
   ]
  },
  {
   "attachments": {},
   "cell_type": "markdown",
   "metadata": {},
   "source": [
    "c. Construct a scatterplot of annual earnings (Earnings) on height (Height).\n",
    "\n",
    "Notice that the points on the plot fall along horizontal lines. (There are only 23 distinct values of Earnings). Why?\n",
    "\n",
    "Is there an alternative way of displaying the relation between the two variables that is more appropriate to determine if the two variables are related?\n",
    "\n",
    "If yes, produce the appropriate type of graph. (Hint: Carefully read the data description on Blackboard.)"
   ]
  },
  {
   "cell_type": "code",
   "execution_count": 11,
   "metadata": {},
   "outputs": [
    {
     "data": {
      "image/png": "[encoded data removed]",
      "text/plain": [
       "<Figure size 640x480 with 1 Axes>"
      ]
     },
     "metadata": {},
     "output_type": "display_data"
    }
   ],
   "source": [
    "sns.regplot(y= eh.earnings, x= eh.height, line_kws = {'color':'red'})\n",
    "plt.show()"
   ]
  },
  {
   "cell_type": "code",
   "execution_count": 12,
   "metadata": {},
   "outputs": [
    {
     "data": {
      "image/png": "[encoded data removed]",
      "text/plain": [
       "<Figure size 640x480 with 1 Axes>"
      ]
     },
     "metadata": {},
     "output_type": "display_data"
    }
   ],
   "source": [
    "sns.barplot(y=eh.earnings, x=eh.height)\n",
    "plt.xticks(rotation=90)\n",
    "plt.show()"
   ]
  },
  {
   "attachments": {},
   "cell_type": "markdown",
   "metadata": {},
   "source": [
    "---"
   ]
  },
  {
   "attachments": {},
   "cell_type": "markdown",
   "metadata": {},
   "source": [
    "d. Run a regression of Earnings on Height . What is the estimated slope?\n",
    "\n",
    "Interpret the value of the slope and compare it to your answer in part b."
   ]
  },
  {
   "cell_type": "code",
   "execution_count": 13,
   "metadata": {},
   "outputs": [
    {
     "data": {
      "text/plain": [
       "Intercept   -512.733590\n",
       "height       707.671558\n",
       "dtype: float64"
      ]
     },
     "execution_count": 13,
     "metadata": {},
     "output_type": "execute_result"
    }
   ],
   "source": [
    "model = smf.ols('earnings ~ height', data = eh)\n",
    "results = model.fit()\n",
    "results.params"
   ]
  },
  {
   "attachments": {},
   "cell_type": "markdown",
   "metadata": {},
   "source": [
    "The average earnings increase about $707 for every additional inch on the height.\n",
    "\n",
    "It is smaller than the value found in part b.\n",
    "\n",
    "However, the value in part d is more accurate since it uses average slope of all data instead of the average slope of two average points."
   ]
  },
  {
   "attachments": {},
   "cell_type": "markdown",
   "metadata": {},
   "source": [
    "---"
   ]
  },
  {
   "attachments": {},
   "cell_type": "markdown",
   "metadata": {},
   "source": [
    "e. Use the estimated regression in part d to predict the earnings for a worker that is 65 inches tall."
   ]
  },
  {
   "cell_type": "code",
   "execution_count": 14,
   "metadata": {},
   "outputs": [
    {
     "data": {
      "text/plain": [
       "45485.917707870576"
      ]
     },
     "execution_count": 14,
     "metadata": {},
     "output_type": "execute_result"
    }
   ],
   "source": [
    "results.params['height'] * 65 + results.params['Intercept']"
   ]
  },
  {
   "attachments": {},
   "cell_type": "markdown",
   "metadata": {},
   "source": [
    "---"
   ]
  },
  {
   "attachments": {},
   "cell_type": "markdown",
   "metadata": {},
   "source": [
    "f. What problems you may encounter if you try to use the model to predict the earnings of extremely tall/short individuals? Explain."
   ]
  },
  {
   "attachments": {},
   "cell_type": "markdown",
   "metadata": {},
   "source": [
    "Extremely tall or short individuals will most likely have a wrong earnings prediction because in reality, the effect of the height in earnings will flatten out (non-linear) for individuals with extremely tall or short heights."
   ]
  },
  {
   "attachments": {},
   "cell_type": "markdown",
   "metadata": {},
   "source": [
    "---"
   ]
  },
  {
   "attachments": {},
   "cell_type": "markdown",
   "metadata": {},
   "source": [
    "g. Estimate the model only using data for females, and then using data only for males.\n",
    "\n",
    "Do you observe any difference in the estimated coefficients?\n",
    "\n",
    "Why that may be the case?"
   ]
  },
  {
   "cell_type": "code",
   "execution_count": 15,
   "metadata": {},
   "outputs": [
    {
     "data": {
      "text/plain": [
       "Intercept    12650.857732\n",
       "height         511.222170\n",
       "dtype: float64"
      ]
     },
     "execution_count": 15,
     "metadata": {},
     "output_type": "execute_result"
    }
   ],
   "source": [
    "F = eh.loc[eh.sex==0]\n",
    "modelF = smf.ols('earnings ~ height', data = F)\n",
    "results = modelF.fit()\n",
    "results.params"
   ]
  },
  {
   "cell_type": "code",
   "execution_count": 16,
   "metadata": {},
   "outputs": [
    {
     "data": {
      "text/plain": [
       "Intercept   -43130.342344\n",
       "height        1306.859906\n",
       "dtype: float64"
      ]
     },
     "execution_count": 16,
     "metadata": {},
     "output_type": "execute_result"
    }
   ],
   "source": [
    "M = eh.loc[eh.sex==1]\n",
    "modelM = smf.ols('earnings ~ height', data = M)\n",
    "results = modelM.fit()\n",
    "results.params"
   ]
  },
  {
   "attachments": {},
   "cell_type": "markdown",
   "metadata": {},
   "source": [
    "The beta coefficient (slope) for height is higher for Males. This might be influenced by the higher average earnings of men compared to that of women."
   ]
  },
  {
   "attachments": {},
   "cell_type": "markdown",
   "metadata": {},
   "source": [
    "---\n",
    "---\n",
    "\n",
    "### Problem 1.3\n",
    "\n",
    "Use the HousePrices.csv database to answer the following questions:"
   ]
  },
  {
   "cell_type": "code",
   "execution_count": 17,
   "metadata": {},
   "outputs": [
    {
     "data": {
      "text/html": [
       "<div>\n",
       "<style scoped>\n",
       "    .dataframe tbody tr th:only-of-type {\n",
       "        vertical-align: middle;\n",
       "    }\n",
       "\n",
       "    .dataframe tbody tr th {\n",
       "        vertical-align: top;\n",
       "    }\n",
       "\n",
       "    .dataframe thead th {\n",
       "        text-align: right;\n",
       "    }\n",
       "</style>\n",
       "<table border=\"1\" class=\"dataframe\">\n",
       "  <thead>\n",
       "    <tr style=\"text-align: right;\">\n",
       "      <th></th>\n",
       "      <th>price</th>\n",
       "      <th>lotsize</th>\n",
       "      <th>bedrooms</th>\n",
       "      <th>bathrooms</th>\n",
       "      <th>stories</th>\n",
       "      <th>driveway</th>\n",
       "      <th>recreation</th>\n",
       "      <th>fullbase</th>\n",
       "      <th>gasheat</th>\n",
       "      <th>aircon</th>\n",
       "      <th>garage</th>\n",
       "      <th>prefer</th>\n",
       "    </tr>\n",
       "  </thead>\n",
       "  <tbody>\n",
       "    <tr>\n",
       "      <th>0</th>\n",
       "      <td>42000.0</td>\n",
       "      <td>5850</td>\n",
       "      <td>3</td>\n",
       "      <td>1</td>\n",
       "      <td>2</td>\n",
       "      <td>yes</td>\n",
       "      <td>no</td>\n",
       "      <td>yes</td>\n",
       "      <td>no</td>\n",
       "      <td>no</td>\n",
       "      <td>1</td>\n",
       "      <td>no</td>\n",
       "    </tr>\n",
       "    <tr>\n",
       "      <th>1</th>\n",
       "      <td>38500.0</td>\n",
       "      <td>4000</td>\n",
       "      <td>2</td>\n",
       "      <td>1</td>\n",
       "      <td>1</td>\n",
       "      <td>yes</td>\n",
       "      <td>no</td>\n",
       "      <td>no</td>\n",
       "      <td>no</td>\n",
       "      <td>no</td>\n",
       "      <td>0</td>\n",
       "      <td>no</td>\n",
       "    </tr>\n",
       "    <tr>\n",
       "      <th>2</th>\n",
       "      <td>49500.0</td>\n",
       "      <td>3060</td>\n",
       "      <td>3</td>\n",
       "      <td>1</td>\n",
       "      <td>1</td>\n",
       "      <td>yes</td>\n",
       "      <td>no</td>\n",
       "      <td>no</td>\n",
       "      <td>no</td>\n",
       "      <td>no</td>\n",
       "      <td>0</td>\n",
       "      <td>no</td>\n",
       "    </tr>\n",
       "    <tr>\n",
       "      <th>3</th>\n",
       "      <td>60500.0</td>\n",
       "      <td>6650</td>\n",
       "      <td>3</td>\n",
       "      <td>1</td>\n",
       "      <td>2</td>\n",
       "      <td>yes</td>\n",
       "      <td>yes</td>\n",
       "      <td>no</td>\n",
       "      <td>no</td>\n",
       "      <td>no</td>\n",
       "      <td>0</td>\n",
       "      <td>no</td>\n",
       "    </tr>\n",
       "    <tr>\n",
       "      <th>4</th>\n",
       "      <td>61000.0</td>\n",
       "      <td>6360</td>\n",
       "      <td>2</td>\n",
       "      <td>1</td>\n",
       "      <td>1</td>\n",
       "      <td>yes</td>\n",
       "      <td>no</td>\n",
       "      <td>no</td>\n",
       "      <td>no</td>\n",
       "      <td>no</td>\n",
       "      <td>0</td>\n",
       "      <td>no</td>\n",
       "    </tr>\n",
       "  </tbody>\n",
       "</table>\n",
       "</div>"
      ],
      "text/plain": [
       "     price  lotsize  bedrooms  bathrooms  stories driveway recreation  \\\n",
       "0  42000.0     5850         3          1        2      yes         no   \n",
       "1  38500.0     4000         2          1        1      yes         no   \n",
       "2  49500.0     3060         3          1        1      yes         no   \n",
       "3  60500.0     6650         3          1        2      yes        yes   \n",
       "4  61000.0     6360         2          1        1      yes         no   \n",
       "\n",
       "  fullbase gasheat aircon  garage prefer  \n",
       "0      yes      no     no       1     no  \n",
       "1       no      no     no       0     no  \n",
       "2       no      no     no       0     no  \n",
       "3       no      no     no       0     no  \n",
       "4       no      no     no       0     no  "
      ]
     },
     "execution_count": 17,
     "metadata": {},
     "output_type": "execute_result"
    }
   ],
   "source": [
    "hp = pd.read_csv('data/houseprices.csv')\n",
    "hp.head()"
   ]
  },
  {
   "attachments": {},
   "cell_type": "markdown",
   "metadata": {},
   "source": [
    "---"
   ]
  },
  {
   "attachments": {},
   "cell_type": "markdown",
   "metadata": {},
   "source": [
    "a. Represent graphically the relation between price and lot size.\n",
    "\n",
    "Describe the statistical relation between the variables.\n",
    "\n",
    "If necessary, compute the correlation coefficient."
   ]
  },
  {
   "cell_type": "code",
   "execution_count": 18,
   "metadata": {},
   "outputs": [
    {
     "data": {
      "text/plain": [
       "<AxesSubplot:xlabel='price', ylabel='lotsize'>"
      ]
     },
     "execution_count": 18,
     "metadata": {},
     "output_type": "execute_result"
    },
    {
     "data": {
      "image/png": "[encoded data removed]",
      "text/plain": [
       "<Figure size 640x480 with 1 Axes>"
      ]
     },
     "metadata": {},
     "output_type": "display_data"
    }
   ],
   "source": [
    "sns.scatterplot(x=hp.price, y=hp.lotsize)"
   ]
  },
  {
   "cell_type": "code",
   "execution_count": 19,
   "metadata": {},
   "outputs": [
    {
     "data": {
      "text/html": [
       "<div>\n",
       "<style scoped>\n",
       "    .dataframe tbody tr th:only-of-type {\n",
       "        vertical-align: middle;\n",
       "    }\n",
       "\n",
       "    .dataframe tbody tr th {\n",
       "        vertical-align: top;\n",
       "    }\n",
       "\n",
       "    .dataframe thead th {\n",
       "        text-align: right;\n",
       "    }\n",
       "</style>\n",
       "<table border=\"1\" class=\"dataframe\">\n",
       "  <thead>\n",
       "    <tr style=\"text-align: right;\">\n",
       "      <th></th>\n",
       "      <th>price</th>\n",
       "      <th>lotsize</th>\n",
       "      <th>bedrooms</th>\n",
       "      <th>bathrooms</th>\n",
       "      <th>stories</th>\n",
       "      <th>garage</th>\n",
       "    </tr>\n",
       "  </thead>\n",
       "  <tbody>\n",
       "    <tr>\n",
       "      <th>price</th>\n",
       "      <td>1.000000</td>\n",
       "      <td>0.535796</td>\n",
       "      <td>0.366447</td>\n",
       "      <td>0.516719</td>\n",
       "      <td>0.421190</td>\n",
       "      <td>0.383302</td>\n",
       "    </tr>\n",
       "    <tr>\n",
       "      <th>lotsize</th>\n",
       "      <td>0.535796</td>\n",
       "      <td>1.000000</td>\n",
       "      <td>0.151851</td>\n",
       "      <td>0.193833</td>\n",
       "      <td>0.083675</td>\n",
       "      <td>0.352872</td>\n",
       "    </tr>\n",
       "    <tr>\n",
       "      <th>bedrooms</th>\n",
       "      <td>0.366447</td>\n",
       "      <td>0.151851</td>\n",
       "      <td>1.000000</td>\n",
       "      <td>0.373769</td>\n",
       "      <td>0.407974</td>\n",
       "      <td>0.139117</td>\n",
       "    </tr>\n",
       "    <tr>\n",
       "      <th>bathrooms</th>\n",
       "      <td>0.516719</td>\n",
       "      <td>0.193833</td>\n",
       "      <td>0.373769</td>\n",
       "      <td>1.000000</td>\n",
       "      <td>0.324066</td>\n",
       "      <td>0.178178</td>\n",
       "    </tr>\n",
       "    <tr>\n",
       "      <th>stories</th>\n",
       "      <td>0.421190</td>\n",
       "      <td>0.083675</td>\n",
       "      <td>0.407974</td>\n",
       "      <td>0.324066</td>\n",
       "      <td>1.000000</td>\n",
       "      <td>0.043412</td>\n",
       "    </tr>\n",
       "    <tr>\n",
       "      <th>garage</th>\n",
       "      <td>0.383302</td>\n",
       "      <td>0.352872</td>\n",
       "      <td>0.139117</td>\n",
       "      <td>0.178178</td>\n",
       "      <td>0.043412</td>\n",
       "      <td>1.000000</td>\n",
       "    </tr>\n",
       "  </tbody>\n",
       "</table>\n",
       "</div>"
      ],
      "text/plain": [
       "              price   lotsize  bedrooms  bathrooms   stories    garage\n",
       "price      1.000000  0.535796  0.366447   0.516719  0.421190  0.383302\n",
       "lotsize    0.535796  1.000000  0.151851   0.193833  0.083675  0.352872\n",
       "bedrooms   0.366447  0.151851  1.000000   0.373769  0.407974  0.139117\n",
       "bathrooms  0.516719  0.193833  0.373769   1.000000  0.324066  0.178178\n",
       "stories    0.421190  0.083675  0.407974   0.324066  1.000000  0.043412\n",
       "garage     0.383302  0.352872  0.139117   0.178178  0.043412  1.000000"
      ]
     },
     "execution_count": 19,
     "metadata": {},
     "output_type": "execute_result"
    }
   ],
   "source": [
    "hp.corr(numeric_only = True)"
   ]
  },
  {
   "attachments": {},
   "cell_type": "markdown",
   "metadata": {},
   "source": [
    "The correlation coefficient between the price and lotsize is 0.5358, which is a fairly strong positive relationship."
   ]
  },
  {
   "attachments": {},
   "cell_type": "markdown",
   "metadata": {},
   "source": [
    "---"
   ]
  },
  {
   "attachments": {},
   "cell_type": "markdown",
   "metadata": {},
   "source": [
    "b. Estimate a univariate regression model using price as the dependent variable and lot size as the independent variable.\n",
    "\n",
    "Display the results in a table."
   ]
  },
  {
   "cell_type": "code",
   "execution_count": 20,
   "metadata": {},
   "outputs": [
    {
     "data": {
      "text/html": [
       "<table class=\"simpletable\">\n",
       "<caption>OLS Regression Results</caption>\n",
       "<tr>\n",
       "  <th>Dep. Variable:</th>          <td>price</td>      <th>  R-squared:         </th> <td>   0.287</td> \n",
       "</tr>\n",
       "<tr>\n",
       "  <th>Model:</th>                   <td>OLS</td>       <th>  Adj. R-squared:    </th> <td>   0.286</td> \n",
       "</tr>\n",
       "<tr>\n",
       "  <th>Method:</th>             <td>Least Squares</td>  <th>  F-statistic:       </th> <td>   219.1</td> \n",
       "</tr>\n",
       "<tr>\n",
       "  <th>Date:</th>             <td>Sat, 08 Apr 2023</td> <th>  Prob (F-statistic):</th> <td>6.77e-42</td> \n",
       "</tr>\n",
       "<tr>\n",
       "  <th>Time:</th>                 <td>23:45:52</td>     <th>  Log-Likelihood:    </th> <td> -6247.0</td> \n",
       "</tr>\n",
       "<tr>\n",
       "  <th>No. Observations:</th>      <td>   546</td>      <th>  AIC:               </th> <td>1.250e+04</td>\n",
       "</tr>\n",
       "<tr>\n",
       "  <th>Df Residuals:</th>          <td>   544</td>      <th>  BIC:               </th> <td>1.251e+04</td>\n",
       "</tr>\n",
       "<tr>\n",
       "  <th>Df Model:</th>              <td>     1</td>      <th>                     </th>     <td> </td>    \n",
       "</tr>\n",
       "<tr>\n",
       "  <th>Covariance Type:</th>      <td>nonrobust</td>    <th>                     </th>     <td> </td>    \n",
       "</tr>\n",
       "</table>\n",
       "<table class=\"simpletable\">\n",
       "<tr>\n",
       "      <td></td>         <th>coef</th>     <th>std err</th>      <th>t</th>      <th>P>|t|</th>  <th>[0.025</th>    <th>0.975]</th>  \n",
       "</tr>\n",
       "<tr>\n",
       "  <th>Intercept</th> <td> 3.414e+04</td> <td> 2491.064</td> <td>   13.703</td> <td> 0.000</td> <td> 2.92e+04</td> <td>  3.9e+04</td>\n",
       "</tr>\n",
       "<tr>\n",
       "  <th>lotsize</th>   <td>    6.5988</td> <td>    0.446</td> <td>   14.801</td> <td> 0.000</td> <td>    5.723</td> <td>    7.475</td>\n",
       "</tr>\n",
       "</table>\n",
       "<table class=\"simpletable\">\n",
       "<tr>\n",
       "  <th>Omnibus:</th>       <td>92.458</td> <th>  Durbin-Watson:     </th> <td>   1.089</td>\n",
       "</tr>\n",
       "<tr>\n",
       "  <th>Prob(Omnibus):</th> <td> 0.000</td> <th>  Jarque-Bera (JB):  </th> <td> 183.169</td>\n",
       "</tr>\n",
       "<tr>\n",
       "  <th>Skew:</th>          <td> 0.951</td> <th>  Prob(JB):          </th> <td>1.68e-40</td>\n",
       "</tr>\n",
       "<tr>\n",
       "  <th>Kurtosis:</th>      <td> 5.105</td> <th>  Cond. No.          </th> <td>1.44e+04</td>\n",
       "</tr>\n",
       "</table><br/><br/>Notes:<br/>[1] Standard Errors assume that the covariance matrix of the errors is correctly specified.<br/>[2] The condition number is large, 1.44e+04. This might indicate that there are<br/>strong multicollinearity or other numerical problems."
      ],
      "text/plain": [
       "<class 'statsmodels.iolib.summary.Summary'>\n",
       "\"\"\"\n",
       "                            OLS Regression Results                            \n",
       "==============================================================================\n",
       "Dep. Variable:                  price   R-squared:                       0.287\n",
       "Model:                            OLS   Adj. R-squared:                  0.286\n",
       "Method:                 Least Squares   F-statistic:                     219.1\n",
       "Date:                Sat, 08 Apr 2023   Prob (F-statistic):           6.77e-42\n",
       "Time:                        23:45:52   Log-Likelihood:                -6247.0\n",
       "No. Observations:                 546   AIC:                         1.250e+04\n",
       "Df Residuals:                     544   BIC:                         1.251e+04\n",
       "Df Model:                           1                                         \n",
       "Covariance Type:            nonrobust                                         \n",
       "==============================================================================\n",
       "                 coef    std err          t      P>|t|      [0.025      0.975]\n",
       "------------------------------------------------------------------------------\n",
       "Intercept   3.414e+04   2491.064     13.703      0.000    2.92e+04     3.9e+04\n",
       "lotsize        6.5988      0.446     14.801      0.000       5.723       7.475\n",
       "==============================================================================\n",
       "Omnibus:                       92.458   Durbin-Watson:                   1.089\n",
       "Prob(Omnibus):                  0.000   Jarque-Bera (JB):              183.169\n",
       "Skew:                           0.951   Prob(JB):                     1.68e-40\n",
       "Kurtosis:                       5.105   Cond. No.                     1.44e+04\n",
       "==============================================================================\n",
       "\n",
       "Notes:\n",
       "[1] Standard Errors assume that the covariance matrix of the errors is correctly specified.\n",
       "[2] The condition number is large, 1.44e+04. This might indicate that there are\n",
       "strong multicollinearity or other numerical problems.\n",
       "\"\"\""
      ]
     },
     "execution_count": 20,
     "metadata": {},
     "output_type": "execute_result"
    }
   ],
   "source": [
    "model = smf.ols('price ~ lotsize', data = hp)\n",
    "results = model.fit()\n",
    "results.summary()"
   ]
  },
  {
   "attachments": {},
   "cell_type": "markdown",
   "metadata": {},
   "source": [
    "---"
   ]
  },
  {
   "attachments": {},
   "cell_type": "markdown",
   "metadata": {},
   "source": [
    "c. Interpret the intercept, slope, R-Squared and the statistical significance of the beta coefficients."
   ]
  },
  {
   "cell_type": "code",
   "execution_count": 21,
   "metadata": {},
   "outputs": [
    {
     "data": {
      "text/plain": [
       "Intercept    34136.191565\n",
       "lotsize          6.598768\n",
       "dtype: float64"
      ]
     },
     "execution_count": 21,
     "metadata": {},
     "output_type": "execute_result"
    }
   ],
   "source": [
    "results.params"
   ]
  },
  {
   "attachments": {},
   "cell_type": "markdown",
   "metadata": {},
   "source": [
    "When the average lotsize is 0 (No lot), the average price of the houses is 34136.19.\n",
    "\n",
    "The average price of the houses increases by 6.5988 for each one (unit) increase in average lotsize."
   ]
  },
  {
   "cell_type": "code",
   "execution_count": 22,
   "metadata": {},
   "outputs": [
    {
     "data": {
      "text/plain": [
       "0.28707700259705604"
      ]
     },
     "execution_count": 22,
     "metadata": {},
     "output_type": "execute_result"
    }
   ],
   "source": [
    "results.rsquared"
   ]
  },
  {
   "attachments": {},
   "cell_type": "markdown",
   "metadata": {},
   "source": [
    "The lotsize is an acceptable (0.29 is not high) variable to explain the variation of the price => lotsize does affect the price."
   ]
  },
  {
   "cell_type": "code",
   "execution_count": 23,
   "metadata": {},
   "outputs": [
    {
     "data": {
      "text/html": [
       "<table class=\"simpletable\">\n",
       "<caption>OLS Regression Results</caption>\n",
       "<tr>\n",
       "  <th>Dep. Variable:</th>          <td>price</td>      <th>  R-squared:         </th> <td>   0.287</td> \n",
       "</tr>\n",
       "<tr>\n",
       "  <th>Model:</th>                   <td>OLS</td>       <th>  Adj. R-squared:    </th> <td>   0.286</td> \n",
       "</tr>\n",
       "<tr>\n",
       "  <th>Method:</th>             <td>Least Squares</td>  <th>  F-statistic:       </th> <td>   219.1</td> \n",
       "</tr>\n",
       "<tr>\n",
       "  <th>Date:</th>             <td>Sat, 08 Apr 2023</td> <th>  Prob (F-statistic):</th> <td>6.77e-42</td> \n",
       "</tr>\n",
       "<tr>\n",
       "  <th>Time:</th>                 <td>23:45:53</td>     <th>  Log-Likelihood:    </th> <td> -6247.0</td> \n",
       "</tr>\n",
       "<tr>\n",
       "  <th>No. Observations:</th>      <td>   546</td>      <th>  AIC:               </th> <td>1.250e+04</td>\n",
       "</tr>\n",
       "<tr>\n",
       "  <th>Df Residuals:</th>          <td>   544</td>      <th>  BIC:               </th> <td>1.251e+04</td>\n",
       "</tr>\n",
       "<tr>\n",
       "  <th>Df Model:</th>              <td>     1</td>      <th>                     </th>     <td> </td>    \n",
       "</tr>\n",
       "<tr>\n",
       "  <th>Covariance Type:</th>      <td>nonrobust</td>    <th>                     </th>     <td> </td>    \n",
       "</tr>\n",
       "</table>\n",
       "<table class=\"simpletable\">\n",
       "<tr>\n",
       "      <td></td>         <th>coef</th>     <th>std err</th>      <th>t</th>      <th>P>|t|</th>  <th>[0.025</th>    <th>0.975]</th>  \n",
       "</tr>\n",
       "<tr>\n",
       "  <th>Intercept</th> <td> 3.414e+04</td> <td> 2491.064</td> <td>   13.703</td> <td> 0.000</td> <td> 2.92e+04</td> <td>  3.9e+04</td>\n",
       "</tr>\n",
       "<tr>\n",
       "  <th>lotsize</th>   <td>    6.5988</td> <td>    0.446</td> <td>   14.801</td> <td> 0.000</td> <td>    5.723</td> <td>    7.475</td>\n",
       "</tr>\n",
       "</table>\n",
       "<table class=\"simpletable\">\n",
       "<tr>\n",
       "  <th>Omnibus:</th>       <td>92.458</td> <th>  Durbin-Watson:     </th> <td>   1.089</td>\n",
       "</tr>\n",
       "<tr>\n",
       "  <th>Prob(Omnibus):</th> <td> 0.000</td> <th>  Jarque-Bera (JB):  </th> <td> 183.169</td>\n",
       "</tr>\n",
       "<tr>\n",
       "  <th>Skew:</th>          <td> 0.951</td> <th>  Prob(JB):          </th> <td>1.68e-40</td>\n",
       "</tr>\n",
       "<tr>\n",
       "  <th>Kurtosis:</th>      <td> 5.105</td> <th>  Cond. No.          </th> <td>1.44e+04</td>\n",
       "</tr>\n",
       "</table><br/><br/>Notes:<br/>[1] Standard Errors assume that the covariance matrix of the errors is correctly specified.<br/>[2] The condition number is large, 1.44e+04. This might indicate that there are<br/>strong multicollinearity or other numerical problems."
      ],
      "text/plain": [
       "<class 'statsmodels.iolib.summary.Summary'>\n",
       "\"\"\"\n",
       "                            OLS Regression Results                            \n",
       "==============================================================================\n",
       "Dep. Variable:                  price   R-squared:                       0.287\n",
       "Model:                            OLS   Adj. R-squared:                  0.286\n",
       "Method:                 Least Squares   F-statistic:                     219.1\n",
       "Date:                Sat, 08 Apr 2023   Prob (F-statistic):           6.77e-42\n",
       "Time:                        23:45:53   Log-Likelihood:                -6247.0\n",
       "No. Observations:                 546   AIC:                         1.250e+04\n",
       "Df Residuals:                     544   BIC:                         1.251e+04\n",
       "Df Model:                           1                                         \n",
       "Covariance Type:            nonrobust                                         \n",
       "==============================================================================\n",
       "                 coef    std err          t      P>|t|      [0.025      0.975]\n",
       "------------------------------------------------------------------------------\n",
       "Intercept   3.414e+04   2491.064     13.703      0.000    2.92e+04     3.9e+04\n",
       "lotsize        6.5988      0.446     14.801      0.000       5.723       7.475\n",
       "==============================================================================\n",
       "Omnibus:                       92.458   Durbin-Watson:                   1.089\n",
       "Prob(Omnibus):                  0.000   Jarque-Bera (JB):              183.169\n",
       "Skew:                           0.951   Prob(JB):                     1.68e-40\n",
       "Kurtosis:                       5.105   Cond. No.                     1.44e+04\n",
       "==============================================================================\n",
       "\n",
       "Notes:\n",
       "[1] Standard Errors assume that the covariance matrix of the errors is correctly specified.\n",
       "[2] The condition number is large, 1.44e+04. This might indicate that there are\n",
       "strong multicollinearity or other numerical problems.\n",
       "\"\"\""
      ]
     },
     "execution_count": 23,
     "metadata": {},
     "output_type": "execute_result"
    }
   ],
   "source": [
    "results.summary()"
   ]
  },
  {
   "attachments": {},
   "cell_type": "markdown",
   "metadata": {},
   "source": [
    "Hypothesis Test\n",
    "\n",
    "Hypothesis Value : lotsize = 0\n",
    "\n",
    "Result: We reject the hypothesis that the slope coefficient is equal to zero because :\n",
    "\n",
    "- Absolute value of T-STAT is not less than 2.\n",
    "- P-value is not greater than 0.05.\n",
    "- 0 is not inside the 95% confidence interval"
   ]
  },
  {
   "attachments": {},
   "cell_type": "markdown",
   "metadata": {},
   "source": [
    "---"
   ]
  },
  {
   "attachments": {},
   "cell_type": "markdown",
   "metadata": {},
   "source": [
    "d. What is the average house price for a house with lot size of 3,600 SQF versus a house with a lot size of 6,360 SQF?"
   ]
  },
  {
   "cell_type": "code",
   "execution_count": 24,
   "metadata": {},
   "outputs": [],
   "source": [
    "def modelFunc(x):\n",
    "    return results.params['Intercept'] + results.params['lotsize'] * x"
   ]
  },
  {
   "cell_type": "code",
   "execution_count": 25,
   "metadata": {},
   "outputs": [
    {
     "data": {
      "text/plain": [
       "57891.754886271214"
      ]
     },
     "execution_count": 25,
     "metadata": {},
     "output_type": "execute_result"
    }
   ],
   "source": [
    "modelFunc(3600)"
   ]
  },
  {
   "cell_type": "code",
   "execution_count": 26,
   "metadata": {},
   "outputs": [
    {
     "data": {
      "text/plain": [
       "76104.35343264428"
      ]
     },
     "execution_count": 26,
     "metadata": {},
     "output_type": "execute_result"
    }
   ],
   "source": [
    "modelFunc(6360)"
   ]
  },
  {
   "attachments": {},
   "cell_type": "markdown",
   "metadata": {},
   "source": [
    "---"
   ]
  },
  {
   "attachments": {},
   "cell_type": "markdown",
   "metadata": {},
   "source": [
    "e. Are there other factors that may be omitted from the regression but are related to price? Explain."
   ]
  },
  {
   "attachments": {},
   "cell_type": "markdown",
   "metadata": {},
   "source": [
    "The following factors all have a moderate positive correlation with price. These factors will help improve the predictions provided by the regression model.\n",
    "- Bedrooms\n",
    "- Bathrooms\n",
    "- Stories\n",
    "- Garage"
   ]
  },
  {
   "attachments": {},
   "cell_type": "markdown",
   "metadata": {},
   "source": [
    "---"
   ]
  },
  {
   "attachments": {},
   "cell_type": "markdown",
   "metadata": {},
   "source": [
    "f. Represent graphically the regression line of your estimation for part (b)."
   ]
  },
  {
   "cell_type": "code",
   "execution_count": 27,
   "metadata": {},
   "outputs": [
    {
     "data": {
      "image/png": "[encoded data removed]",
      "text/plain": [
       "<Figure size 640x480 with 1 Axes>"
      ]
     },
     "metadata": {},
     "output_type": "display_data"
    }
   ],
   "source": [
    "sns.regplot(x= hp.price, y= hp.lotsize, line_kws = {'color':'red'})\n",
    "plt.show()"
   ]
  },
  {
   "attachments": {},
   "cell_type": "markdown",
   "metadata": {},
   "source": [
    "---\n",
    "---\n",
    "---"
   ]
  },
  {
   "attachments": {},
   "cell_type": "markdown",
   "metadata": {},
   "source": [
    "## Part 2. Multivariate Regressions\n",
    "Use the HousePrices.csv database to answer the following questions:"
   ]
  },
  {
   "cell_type": "code",
   "execution_count": 28,
   "metadata": {},
   "outputs": [
    {
     "data": {
      "text/html": [
       "<div>\n",
       "<style scoped>\n",
       "    .dataframe tbody tr th:only-of-type {\n",
       "        vertical-align: middle;\n",
       "    }\n",
       "\n",
       "    .dataframe tbody tr th {\n",
       "        vertical-align: top;\n",
       "    }\n",
       "\n",
       "    .dataframe thead th {\n",
       "        text-align: right;\n",
       "    }\n",
       "</style>\n",
       "<table border=\"1\" class=\"dataframe\">\n",
       "  <thead>\n",
       "    <tr style=\"text-align: right;\">\n",
       "      <th></th>\n",
       "      <th>price</th>\n",
       "      <th>lotsize</th>\n",
       "      <th>bedrooms</th>\n",
       "      <th>bathrooms</th>\n",
       "      <th>stories</th>\n",
       "      <th>driveway</th>\n",
       "      <th>recreation</th>\n",
       "      <th>fullbase</th>\n",
       "      <th>gasheat</th>\n",
       "      <th>aircon</th>\n",
       "      <th>garage</th>\n",
       "      <th>prefer</th>\n",
       "    </tr>\n",
       "  </thead>\n",
       "  <tbody>\n",
       "    <tr>\n",
       "      <th>0</th>\n",
       "      <td>42000.0</td>\n",
       "      <td>5850</td>\n",
       "      <td>3</td>\n",
       "      <td>1</td>\n",
       "      <td>2</td>\n",
       "      <td>yes</td>\n",
       "      <td>no</td>\n",
       "      <td>yes</td>\n",
       "      <td>no</td>\n",
       "      <td>no</td>\n",
       "      <td>1</td>\n",
       "      <td>no</td>\n",
       "    </tr>\n",
       "    <tr>\n",
       "      <th>1</th>\n",
       "      <td>38500.0</td>\n",
       "      <td>4000</td>\n",
       "      <td>2</td>\n",
       "      <td>1</td>\n",
       "      <td>1</td>\n",
       "      <td>yes</td>\n",
       "      <td>no</td>\n",
       "      <td>no</td>\n",
       "      <td>no</td>\n",
       "      <td>no</td>\n",
       "      <td>0</td>\n",
       "      <td>no</td>\n",
       "    </tr>\n",
       "    <tr>\n",
       "      <th>2</th>\n",
       "      <td>49500.0</td>\n",
       "      <td>3060</td>\n",
       "      <td>3</td>\n",
       "      <td>1</td>\n",
       "      <td>1</td>\n",
       "      <td>yes</td>\n",
       "      <td>no</td>\n",
       "      <td>no</td>\n",
       "      <td>no</td>\n",
       "      <td>no</td>\n",
       "      <td>0</td>\n",
       "      <td>no</td>\n",
       "    </tr>\n",
       "    <tr>\n",
       "      <th>3</th>\n",
       "      <td>60500.0</td>\n",
       "      <td>6650</td>\n",
       "      <td>3</td>\n",
       "      <td>1</td>\n",
       "      <td>2</td>\n",
       "      <td>yes</td>\n",
       "      <td>yes</td>\n",
       "      <td>no</td>\n",
       "      <td>no</td>\n",
       "      <td>no</td>\n",
       "      <td>0</td>\n",
       "      <td>no</td>\n",
       "    </tr>\n",
       "    <tr>\n",
       "      <th>4</th>\n",
       "      <td>61000.0</td>\n",
       "      <td>6360</td>\n",
       "      <td>2</td>\n",
       "      <td>1</td>\n",
       "      <td>1</td>\n",
       "      <td>yes</td>\n",
       "      <td>no</td>\n",
       "      <td>no</td>\n",
       "      <td>no</td>\n",
       "      <td>no</td>\n",
       "      <td>0</td>\n",
       "      <td>no</td>\n",
       "    </tr>\n",
       "  </tbody>\n",
       "</table>\n",
       "</div>"
      ],
      "text/plain": [
       "     price  lotsize  bedrooms  bathrooms  stories driveway recreation  \\\n",
       "0  42000.0     5850         3          1        2      yes         no   \n",
       "1  38500.0     4000         2          1        1      yes         no   \n",
       "2  49500.0     3060         3          1        1      yes         no   \n",
       "3  60500.0     6650         3          1        2      yes        yes   \n",
       "4  61000.0     6360         2          1        1      yes         no   \n",
       "\n",
       "  fullbase gasheat aircon  garage prefer  \n",
       "0      yes      no     no       1     no  \n",
       "1       no      no     no       0     no  \n",
       "2       no      no     no       0     no  \n",
       "3       no      no     no       0     no  \n",
       "4       no      no     no       0     no  "
      ]
     },
     "execution_count": 28,
     "metadata": {},
     "output_type": "execute_result"
    }
   ],
   "source": [
    "hp.head()"
   ]
  },
  {
   "attachments": {},
   "cell_type": "markdown",
   "metadata": {},
   "source": [
    "---\n",
    "---"
   ]
  },
  {
   "attachments": {},
   "cell_type": "markdown",
   "metadata": {},
   "source": [
    "a. Estimate the following multivariate regression models.\n",
    "\n",
    "<img src=\"screenshot/hw3/part2a.png\" width=\"400\" height=\"150\"/>"
   ]
  },
  {
   "cell_type": "code",
   "execution_count": 29,
   "metadata": {},
   "outputs": [
    {
     "data": {
      "text/plain": [
       "0.5608135481340835"
      ]
     },
     "execution_count": 29,
     "metadata": {},
     "output_type": "execute_result"
    }
   ],
   "source": [
    "model1 = smf.ols('price ~ lotsize + garage + aircon + bathrooms', data = hp)\n",
    "results1 = model1.fit()\n",
    "results1.rsquared_adj"
   ]
  },
  {
   "cell_type": "code",
   "execution_count": 30,
   "metadata": {},
   "outputs": [
    {
     "data": {
      "text/plain": [
       "0.5053422851022935"
      ]
     },
     "execution_count": 30,
     "metadata": {},
     "output_type": "execute_result"
    }
   ],
   "source": [
    "model2 = smf.ols('price ~ lotsize + bedrooms + bathrooms + garage', data = hp)\n",
    "results2 = model2.fit()\n",
    "results2.rsquared_adj"
   ]
  },
  {
   "cell_type": "code",
   "execution_count": 31,
   "metadata": {},
   "outputs": [
    {
     "data": {
      "text/plain": [
       "0.3169294692390615"
      ]
     },
     "execution_count": 31,
     "metadata": {},
     "output_type": "execute_result"
    }
   ],
   "source": [
    "model3 = smf.ols('lotsize ~ price + bedrooms + bathrooms + garage', data = hp)\n",
    "results3 = model3.fit()\n",
    "results3.rsquared_adj"
   ]
  },
  {
   "cell_type": "code",
   "execution_count": 32,
   "metadata": {},
   "outputs": [
    {
     "data": {
      "text/plain": [
       "0.3169154155529793"
      ]
     },
     "execution_count": 32,
     "metadata": {},
     "output_type": "execute_result"
    }
   ],
   "source": [
    "model4 = smf.ols('lotsize ~ price + garage + aircon + bathrooms', data = hp)\n",
    "results4 = model4.fit()\n",
    "results4.rsquared_adj"
   ]
  },
  {
   "attachments": {},
   "cell_type": "markdown",
   "metadata": {},
   "source": [
    "---"
   ]
  },
  {
   "attachments": {},
   "cell_type": "markdown",
   "metadata": {},
   "source": [
    "b. Out of the four models estimated in part (a). Which one is the best model we can\n",
    "use for predicting the price of a house?"
   ]
  },
  {
   "attachments": {},
   "cell_type": "markdown",
   "metadata": {},
   "source": [
    "The first model is the best. Highest adjusted r squared value.\n",
    "\n",
    "Dependent variable: price;\n",
    "\n",
    "Independent variable: lotsize, garage, aircon, bathrooms;"
   ]
  },
  {
   "attachments": {},
   "cell_type": "markdown",
   "metadata": {},
   "source": [
    "---"
   ]
  },
  {
   "attachments": {},
   "cell_type": "markdown",
   "metadata": {},
   "source": [
    "c. Estimate the beta coefficients of each regression model from part (a) and\n",
    "determine if they are statistically different than zero or not."
   ]
  },
  {
   "cell_type": "code",
   "execution_count": 33,
   "metadata": {},
   "outputs": [
    {
     "data": {
      "text/html": [
       "<table class=\"simpletable\">\n",
       "<caption>OLS Regression Results</caption>\n",
       "<tr>\n",
       "  <th>Dep. Variable:</th>          <td>price</td>      <th>  R-squared:         </th> <td>   0.564</td> \n",
       "</tr>\n",
       "<tr>\n",
       "  <th>Model:</th>                   <td>OLS</td>       <th>  Adj. R-squared:    </th> <td>   0.561</td> \n",
       "</tr>\n",
       "<tr>\n",
       "  <th>Method:</th>             <td>Least Squares</td>  <th>  F-statistic:       </th> <td>   175.0</td> \n",
       "</tr>\n",
       "<tr>\n",
       "  <th>Date:</th>             <td>Sat, 08 Apr 2023</td> <th>  Prob (F-statistic):</th> <td>4.54e-96</td> \n",
       "</tr>\n",
       "<tr>\n",
       "  <th>Time:</th>                 <td>23:45:53</td>     <th>  Log-Likelihood:    </th> <td> -6112.7</td> \n",
       "</tr>\n",
       "<tr>\n",
       "  <th>No. Observations:</th>      <td>   546</td>      <th>  AIC:               </th> <td>1.224e+04</td>\n",
       "</tr>\n",
       "<tr>\n",
       "  <th>Df Residuals:</th>          <td>   541</td>      <th>  BIC:               </th> <td>1.226e+04</td>\n",
       "</tr>\n",
       "<tr>\n",
       "  <th>Df Model:</th>              <td>     4</td>      <th>                     </th>     <td> </td>    \n",
       "</tr>\n",
       "<tr>\n",
       "  <th>Covariance Type:</th>      <td>nonrobust</td>    <th>                     </th>     <td> </td>    \n",
       "</tr>\n",
       "</table>\n",
       "<table class=\"simpletable\">\n",
       "<tr>\n",
       "        <td></td>           <th>coef</th>     <th>std err</th>      <th>t</th>      <th>P>|t|</th>  <th>[0.025</th>    <th>0.975]</th>  \n",
       "</tr>\n",
       "<tr>\n",
       "  <th>Intercept</th>     <td> 1.236e+04</td> <td> 2551.472</td> <td>    4.846</td> <td> 0.000</td> <td> 7352.062</td> <td> 1.74e+04</td>\n",
       "</tr>\n",
       "<tr>\n",
       "  <th>aircon[T.yes]</th> <td>  1.63e+04</td> <td> 1692.126</td> <td>    9.632</td> <td> 0.000</td> <td>  1.3e+04</td> <td> 1.96e+04</td>\n",
       "</tr>\n",
       "<tr>\n",
       "  <th>lotsize</th>       <td>    4.2873</td> <td>    0.382</td> <td>   11.209</td> <td> 0.000</td> <td>    3.536</td> <td>    5.039</td>\n",
       "</tr>\n",
       "<tr>\n",
       "  <th>garage</th>        <td> 4651.5741</td> <td>  949.676</td> <td>    4.898</td> <td> 0.000</td> <td> 2786.069</td> <td> 6517.079</td>\n",
       "</tr>\n",
       "<tr>\n",
       "  <th>bathrooms</th>     <td> 1.967e+04</td> <td> 1565.171</td> <td>   12.569</td> <td> 0.000</td> <td> 1.66e+04</td> <td> 2.27e+04</td>\n",
       "</tr>\n",
       "</table>\n",
       "<table class=\"simpletable\">\n",
       "<tr>\n",
       "  <th>Omnibus:</th>       <td>72.925</td> <th>  Durbin-Watson:     </th> <td>   1.509</td>\n",
       "</tr>\n",
       "<tr>\n",
       "  <th>Prob(Omnibus):</th> <td> 0.000</td> <th>  Jarque-Bera (JB):  </th> <td> 143.091</td>\n",
       "</tr>\n",
       "<tr>\n",
       "  <th>Skew:</th>          <td> 0.772</td> <th>  Prob(JB):          </th> <td>8.47e-32</td>\n",
       "</tr>\n",
       "<tr>\n",
       "  <th>Kurtosis:</th>      <td> 4.976</td> <th>  Cond. No.          </th> <td>2.06e+04</td>\n",
       "</tr>\n",
       "</table><br/><br/>Notes:<br/>[1] Standard Errors assume that the covariance matrix of the errors is correctly specified.<br/>[2] The condition number is large, 2.06e+04. This might indicate that there are<br/>strong multicollinearity or other numerical problems."
      ],
      "text/plain": [
       "<class 'statsmodels.iolib.summary.Summary'>\n",
       "\"\"\"\n",
       "                            OLS Regression Results                            \n",
       "==============================================================================\n",
       "Dep. Variable:                  price   R-squared:                       0.564\n",
       "Model:                            OLS   Adj. R-squared:                  0.561\n",
       "Method:                 Least Squares   F-statistic:                     175.0\n",
       "Date:                Sat, 08 Apr 2023   Prob (F-statistic):           4.54e-96\n",
       "Time:                        23:45:53   Log-Likelihood:                -6112.7\n",
       "No. Observations:                 546   AIC:                         1.224e+04\n",
       "Df Residuals:                     541   BIC:                         1.226e+04\n",
       "Df Model:                           4                                         \n",
       "Covariance Type:            nonrobust                                         \n",
       "=================================================================================\n",
       "                    coef    std err          t      P>|t|      [0.025      0.975]\n",
       "---------------------------------------------------------------------------------\n",
       "Intercept      1.236e+04   2551.472      4.846      0.000    7352.062    1.74e+04\n",
       "aircon[T.yes]   1.63e+04   1692.126      9.632      0.000     1.3e+04    1.96e+04\n",
       "lotsize           4.2873      0.382     11.209      0.000       3.536       5.039\n",
       "garage         4651.5741    949.676      4.898      0.000    2786.069    6517.079\n",
       "bathrooms      1.967e+04   1565.171     12.569      0.000    1.66e+04    2.27e+04\n",
       "==============================================================================\n",
       "Omnibus:                       72.925   Durbin-Watson:                   1.509\n",
       "Prob(Omnibus):                  0.000   Jarque-Bera (JB):              143.091\n",
       "Skew:                           0.772   Prob(JB):                     8.47e-32\n",
       "Kurtosis:                       4.976   Cond. No.                     2.06e+04\n",
       "==============================================================================\n",
       "\n",
       "Notes:\n",
       "[1] Standard Errors assume that the covariance matrix of the errors is correctly specified.\n",
       "[2] The condition number is large, 2.06e+04. This might indicate that there are\n",
       "strong multicollinearity or other numerical problems.\n",
       "\"\"\""
      ]
     },
     "execution_count": 33,
     "metadata": {},
     "output_type": "execute_result"
    }
   ],
   "source": [
    "model1 = smf.ols('price ~ lotsize + garage + aircon + bathrooms', data = hp)\n",
    "results1 = model1.fit()\n",
    "results1.summary()"
   ]
  },
  {
   "attachments": {},
   "cell_type": "markdown",
   "metadata": {},
   "source": [
    "Result: We reject the hypothesis that the slope coefficient is equal to zero because :\n",
    "\n",
    "For all of them :\n",
    "\n",
    "- Absolute value of T-STAT is not less than 2.\n",
    "- P-value is not greater than 0.05.\n",
    "- 0 is not inside the 95% confidence interval"
   ]
  },
  {
   "cell_type": "code",
   "execution_count": 34,
   "metadata": {},
   "outputs": [
    {
     "data": {
      "text/html": [
       "<table class=\"simpletable\">\n",
       "<caption>OLS Regression Results</caption>\n",
       "<tr>\n",
       "  <th>Dep. Variable:</th>          <td>price</td>      <th>  R-squared:         </th> <td>   0.509</td> \n",
       "</tr>\n",
       "<tr>\n",
       "  <th>Model:</th>                   <td>OLS</td>       <th>  Adj. R-squared:    </th> <td>   0.505</td> \n",
       "</tr>\n",
       "<tr>\n",
       "  <th>Method:</th>             <td>Least Squares</td>  <th>  F-statistic:       </th> <td>   140.2</td> \n",
       "</tr>\n",
       "<tr>\n",
       "  <th>Date:</th>             <td>Sat, 08 Apr 2023</td> <th>  Prob (F-statistic):</th> <td>3.86e-82</td> \n",
       "</tr>\n",
       "<tr>\n",
       "  <th>Time:</th>                 <td>23:45:53</td>     <th>  Log-Likelihood:    </th> <td> -6145.2</td> \n",
       "</tr>\n",
       "<tr>\n",
       "  <th>No. Observations:</th>      <td>   546</td>      <th>  AIC:               </th> <td>1.230e+04</td>\n",
       "</tr>\n",
       "<tr>\n",
       "  <th>Df Residuals:</th>          <td>   541</td>      <th>  BIC:               </th> <td>1.232e+04</td>\n",
       "</tr>\n",
       "<tr>\n",
       "  <th>Df Model:</th>              <td>     4</td>      <th>                     </th>     <td> </td>    \n",
       "</tr>\n",
       "<tr>\n",
       "  <th>Covariance Type:</th>      <td>nonrobust</td>    <th>                     </th>     <td> </td>    \n",
       "</tr>\n",
       "</table>\n",
       "<table class=\"simpletable\">\n",
       "<tr>\n",
       "      <td></td>         <th>coef</th>     <th>std err</th>      <th>t</th>      <th>P>|t|</th>  <th>[0.025</th>    <th>0.975]</th>  \n",
       "</tr>\n",
       "<tr>\n",
       "  <th>Intercept</th> <td> -547.2646</td> <td> 3717.343</td> <td>   -0.147</td> <td> 0.883</td> <td>-7849.459</td> <td> 6754.930</td>\n",
       "</tr>\n",
       "<tr>\n",
       "  <th>lotsize</th>   <td>    4.7588</td> <td>    0.401</td> <td>   11.853</td> <td> 0.000</td> <td>    3.970</td> <td>    5.547</td>\n",
       "</tr>\n",
       "<tr>\n",
       "  <th>bedrooms</th>  <td> 5508.2615</td> <td> 1182.443</td> <td>    4.658</td> <td> 0.000</td> <td> 3185.520</td> <td> 7831.003</td>\n",
       "</tr>\n",
       "<tr>\n",
       "  <th>bathrooms</th> <td> 1.893e+04</td> <td> 1754.481</td> <td>   10.791</td> <td> 0.000</td> <td> 1.55e+04</td> <td> 2.24e+04</td>\n",
       "</tr>\n",
       "<tr>\n",
       "  <th>garage</th>    <td> 5033.3960</td> <td> 1006.903</td> <td>    4.999</td> <td> 0.000</td> <td> 3055.478</td> <td> 7011.314</td>\n",
       "</tr>\n",
       "</table>\n",
       "<table class=\"simpletable\">\n",
       "<tr>\n",
       "  <th>Omnibus:</th>       <td>48.925</td> <th>  Durbin-Watson:     </th> <td>   1.421</td>\n",
       "</tr>\n",
       "<tr>\n",
       "  <th>Prob(Omnibus):</th> <td> 0.000</td> <th>  Jarque-Bera (JB):  </th> <td>  84.914</td>\n",
       "</tr>\n",
       "<tr>\n",
       "  <th>Skew:</th>          <td> 0.584</td> <th>  Prob(JB):          </th> <td>3.64e-19</td>\n",
       "</tr>\n",
       "<tr>\n",
       "  <th>Kurtosis:</th>      <td> 4.539</td> <th>  Cond. No.          </th> <td>2.66e+04</td>\n",
       "</tr>\n",
       "</table><br/><br/>Notes:<br/>[1] Standard Errors assume that the covariance matrix of the errors is correctly specified.<br/>[2] The condition number is large, 2.66e+04. This might indicate that there are<br/>strong multicollinearity or other numerical problems."
      ],
      "text/plain": [
       "<class 'statsmodels.iolib.summary.Summary'>\n",
       "\"\"\"\n",
       "                            OLS Regression Results                            \n",
       "==============================================================================\n",
       "Dep. Variable:                  price   R-squared:                       0.509\n",
       "Model:                            OLS   Adj. R-squared:                  0.505\n",
       "Method:                 Least Squares   F-statistic:                     140.2\n",
       "Date:                Sat, 08 Apr 2023   Prob (F-statistic):           3.86e-82\n",
       "Time:                        23:45:53   Log-Likelihood:                -6145.2\n",
       "No. Observations:                 546   AIC:                         1.230e+04\n",
       "Df Residuals:                     541   BIC:                         1.232e+04\n",
       "Df Model:                           4                                         \n",
       "Covariance Type:            nonrobust                                         \n",
       "==============================================================================\n",
       "                 coef    std err          t      P>|t|      [0.025      0.975]\n",
       "------------------------------------------------------------------------------\n",
       "Intercept   -547.2646   3717.343     -0.147      0.883   -7849.459    6754.930\n",
       "lotsize        4.7588      0.401     11.853      0.000       3.970       5.547\n",
       "bedrooms    5508.2615   1182.443      4.658      0.000    3185.520    7831.003\n",
       "bathrooms   1.893e+04   1754.481     10.791      0.000    1.55e+04    2.24e+04\n",
       "garage      5033.3960   1006.903      4.999      0.000    3055.478    7011.314\n",
       "==============================================================================\n",
       "Omnibus:                       48.925   Durbin-Watson:                   1.421\n",
       "Prob(Omnibus):                  0.000   Jarque-Bera (JB):               84.914\n",
       "Skew:                           0.584   Prob(JB):                     3.64e-19\n",
       "Kurtosis:                       4.539   Cond. No.                     2.66e+04\n",
       "==============================================================================\n",
       "\n",
       "Notes:\n",
       "[1] Standard Errors assume that the covariance matrix of the errors is correctly specified.\n",
       "[2] The condition number is large, 2.66e+04. This might indicate that there are\n",
       "strong multicollinearity or other numerical problems.\n",
       "\"\"\""
      ]
     },
     "execution_count": 34,
     "metadata": {},
     "output_type": "execute_result"
    }
   ],
   "source": [
    "model2 = smf.ols('price ~ lotsize + bedrooms + bathrooms + garage', data = hp)\n",
    "results2 = model2.fit()\n",
    "results2.summary()"
   ]
  },
  {
   "attachments": {},
   "cell_type": "markdown",
   "metadata": {},
   "source": [
    "Result: We reject the hypothesis that the slope coefficient is equal to zero because :\n",
    "\n",
    "For all of them :\n",
    "\n",
    "- Absolute value of T-STAT is not less than 2.\n",
    "- P-value is not greater than 0.05.\n",
    "- 0 is not inside the 95% confidence interval"
   ]
  },
  {
   "cell_type": "code",
   "execution_count": 35,
   "metadata": {},
   "outputs": [
    {
     "data": {
      "text/html": [
       "<table class=\"simpletable\">\n",
       "<caption>OLS Regression Results</caption>\n",
       "<tr>\n",
       "  <th>Dep. Variable:</th>         <td>lotsize</td>     <th>  R-squared:         </th> <td>   0.322</td>\n",
       "</tr>\n",
       "<tr>\n",
       "  <th>Model:</th>                   <td>OLS</td>       <th>  Adj. R-squared:    </th> <td>   0.317</td>\n",
       "</tr>\n",
       "<tr>\n",
       "  <th>Method:</th>             <td>Least Squares</td>  <th>  F-statistic:       </th> <td>   64.22</td>\n",
       "</tr>\n",
       "<tr>\n",
       "  <th>Date:</th>             <td>Sat, 08 Apr 2023</td> <th>  Prob (F-statistic):</th> <td>2.01e-44</td>\n",
       "</tr>\n",
       "<tr>\n",
       "  <th>Time:</th>                 <td>23:45:53</td>     <th>  Log-Likelihood:    </th> <td> -4862.3</td>\n",
       "</tr>\n",
       "<tr>\n",
       "  <th>No. Observations:</th>      <td>   546</td>      <th>  AIC:               </th> <td>   9735.</td>\n",
       "</tr>\n",
       "<tr>\n",
       "  <th>Df Residuals:</th>          <td>   541</td>      <th>  BIC:               </th> <td>   9756.</td>\n",
       "</tr>\n",
       "<tr>\n",
       "  <th>Df Model:</th>              <td>     4</td>      <th>                     </th>     <td> </td>   \n",
       "</tr>\n",
       "<tr>\n",
       "  <th>Covariance Type:</th>      <td>nonrobust</td>    <th>                     </th>     <td> </td>   \n",
       "</tr>\n",
       "</table>\n",
       "<table class=\"simpletable\">\n",
       "<tr>\n",
       "      <td></td>         <th>coef</th>     <th>std err</th>      <th>t</th>      <th>P>|t|</th>  <th>[0.025</th>    <th>0.975]</th>  \n",
       "</tr>\n",
       "<tr>\n",
       "  <th>Intercept</th> <td> 2721.4184</td> <td>  334.844</td> <td>    8.127</td> <td> 0.000</td> <td> 2063.664</td> <td> 3379.172</td>\n",
       "</tr>\n",
       "<tr>\n",
       "  <th>price</th>     <td>    0.0433</td> <td>    0.004</td> <td>   11.853</td> <td> 0.000</td> <td>    0.036</td> <td>    0.051</td>\n",
       "</tr>\n",
       "<tr>\n",
       "  <th>bedrooms</th>  <td>  -86.9387</td> <td>  115.003</td> <td>   -0.756</td> <td> 0.450</td> <td> -312.845</td> <td>  138.968</td>\n",
       "</tr>\n",
       "<tr>\n",
       "  <th>bathrooms</th> <td> -436.9507</td> <td>  183.584</td> <td>   -2.380</td> <td> 0.018</td> <td> -797.576</td> <td>  -76.325</td>\n",
       "</tr>\n",
       "<tr>\n",
       "  <th>garage</th>    <td>  429.1931</td> <td>   96.519</td> <td>    4.447</td> <td> 0.000</td> <td>  239.594</td> <td>  618.792</td>\n",
       "</tr>\n",
       "</table>\n",
       "<table class=\"simpletable\">\n",
       "<tr>\n",
       "  <th>Omnibus:</th>       <td>173.737</td> <th>  Durbin-Watson:     </th> <td>   1.428</td> \n",
       "</tr>\n",
       "<tr>\n",
       "  <th>Prob(Omnibus):</th> <td> 0.000</td>  <th>  Jarque-Bera (JB):  </th> <td> 565.382</td> \n",
       "</tr>\n",
       "<tr>\n",
       "  <th>Skew:</th>          <td> 1.489</td>  <th>  Prob(JB):          </th> <td>1.69e-123</td>\n",
       "</tr>\n",
       "<tr>\n",
       "  <th>Kurtosis:</th>      <td> 6.998</td>  <th>  Cond. No.          </th> <td>3.30e+05</td> \n",
       "</tr>\n",
       "</table><br/><br/>Notes:<br/>[1] Standard Errors assume that the covariance matrix of the errors is correctly specified.<br/>[2] The condition number is large, 3.3e+05. This might indicate that there are<br/>strong multicollinearity or other numerical problems."
      ],
      "text/plain": [
       "<class 'statsmodels.iolib.summary.Summary'>\n",
       "\"\"\"\n",
       "                            OLS Regression Results                            \n",
       "==============================================================================\n",
       "Dep. Variable:                lotsize   R-squared:                       0.322\n",
       "Model:                            OLS   Adj. R-squared:                  0.317\n",
       "Method:                 Least Squares   F-statistic:                     64.22\n",
       "Date:                Sat, 08 Apr 2023   Prob (F-statistic):           2.01e-44\n",
       "Time:                        23:45:53   Log-Likelihood:                -4862.3\n",
       "No. Observations:                 546   AIC:                             9735.\n",
       "Df Residuals:                     541   BIC:                             9756.\n",
       "Df Model:                           4                                         \n",
       "Covariance Type:            nonrobust                                         \n",
       "==============================================================================\n",
       "                 coef    std err          t      P>|t|      [0.025      0.975]\n",
       "------------------------------------------------------------------------------\n",
       "Intercept   2721.4184    334.844      8.127      0.000    2063.664    3379.172\n",
       "price          0.0433      0.004     11.853      0.000       0.036       0.051\n",
       "bedrooms     -86.9387    115.003     -0.756      0.450    -312.845     138.968\n",
       "bathrooms   -436.9507    183.584     -2.380      0.018    -797.576     -76.325\n",
       "garage       429.1931     96.519      4.447      0.000     239.594     618.792\n",
       "==============================================================================\n",
       "Omnibus:                      173.737   Durbin-Watson:                   1.428\n",
       "Prob(Omnibus):                  0.000   Jarque-Bera (JB):              565.382\n",
       "Skew:                           1.489   Prob(JB):                    1.69e-123\n",
       "Kurtosis:                       6.998   Cond. No.                     3.30e+05\n",
       "==============================================================================\n",
       "\n",
       "Notes:\n",
       "[1] Standard Errors assume that the covariance matrix of the errors is correctly specified.\n",
       "[2] The condition number is large, 3.3e+05. This might indicate that there are\n",
       "strong multicollinearity or other numerical problems.\n",
       "\"\"\""
      ]
     },
     "execution_count": 35,
     "metadata": {},
     "output_type": "execute_result"
    }
   ],
   "source": [
    "model3 = smf.ols('lotsize ~ price + bedrooms + bathrooms + garage', data = hp)\n",
    "results3 = model3.fit()\n",
    "results3.summary()"
   ]
  },
  {
   "attachments": {},
   "cell_type": "markdown",
   "metadata": {},
   "source": [
    "Result: We can not reject the hypothesis that the slope coefficient is equal to zero because :\n",
    "\n",
    "For the variable 'bedrooms' :\n",
    "\n",
    "- Absolute value of T-STAT is less than 2.\n",
    "- P-value is greater than 0.05.\n",
    "- 0 is inside the 95% confidence interval"
   ]
  },
  {
   "cell_type": "code",
   "execution_count": 36,
   "metadata": {},
   "outputs": [
    {
     "data": {
      "text/html": [
       "<table class=\"simpletable\">\n",
       "<caption>OLS Regression Results</caption>\n",
       "<tr>\n",
       "  <th>Dep. Variable:</th>         <td>lotsize</td>     <th>  R-squared:         </th> <td>   0.322</td>\n",
       "</tr>\n",
       "<tr>\n",
       "  <th>Model:</th>                   <td>OLS</td>       <th>  Adj. R-squared:    </th> <td>   0.317</td>\n",
       "</tr>\n",
       "<tr>\n",
       "  <th>Method:</th>             <td>Least Squares</td>  <th>  F-statistic:       </th> <td>   64.21</td>\n",
       "</tr>\n",
       "<tr>\n",
       "  <th>Date:</th>             <td>Sat, 08 Apr 2023</td> <th>  Prob (F-statistic):</th> <td>2.02e-44</td>\n",
       "</tr>\n",
       "<tr>\n",
       "  <th>Time:</th>                 <td>23:45:53</td>     <th>  Log-Likelihood:    </th> <td> -4862.4</td>\n",
       "</tr>\n",
       "<tr>\n",
       "  <th>No. Observations:</th>      <td>   546</td>      <th>  AIC:               </th> <td>   9735.</td>\n",
       "</tr>\n",
       "<tr>\n",
       "  <th>Df Residuals:</th>          <td>   541</td>      <th>  BIC:               </th> <td>   9756.</td>\n",
       "</tr>\n",
       "<tr>\n",
       "  <th>Df Model:</th>              <td>     4</td>      <th>                     </th>     <td> </td>   \n",
       "</tr>\n",
       "<tr>\n",
       "  <th>Covariance Type:</th>      <td>nonrobust</td>    <th>                     </th>     <td> </td>   \n",
       "</tr>\n",
       "</table>\n",
       "<table class=\"simpletable\">\n",
       "<tr>\n",
       "        <td></td>           <th>coef</th>     <th>std err</th>      <th>t</th>      <th>P>|t|</th>  <th>[0.025</th>    <th>0.975]</th>  \n",
       "</tr>\n",
       "<tr>\n",
       "  <th>Intercept</th>     <td> 2517.9907</td> <td>  240.691</td> <td>   10.461</td> <td> 0.000</td> <td> 2045.186</td> <td> 2990.795</td>\n",
       "</tr>\n",
       "<tr>\n",
       "  <th>aircon[T.yes]</th> <td> -138.7571</td> <td>  185.364</td> <td>   -0.749</td> <td> 0.454</td> <td> -502.878</td> <td>  225.364</td>\n",
       "</tr>\n",
       "<tr>\n",
       "  <th>price</th>         <td>    0.0440</td> <td>    0.004</td> <td>   11.209</td> <td> 0.000</td> <td>    0.036</td> <td>    0.052</td>\n",
       "</tr>\n",
       "<tr>\n",
       "  <th>garage</th>        <td>  427.2449</td> <td>   96.544</td> <td>    4.425</td> <td> 0.000</td> <td>  237.598</td> <td>  616.892</td>\n",
       "</tr>\n",
       "<tr>\n",
       "  <th>bathrooms</th>     <td> -477.8149</td> <td>  178.978</td> <td>   -2.670</td> <td> 0.008</td> <td> -829.391</td> <td> -126.239</td>\n",
       "</tr>\n",
       "</table>\n",
       "<table class=\"simpletable\">\n",
       "<tr>\n",
       "  <th>Omnibus:</th>       <td>168.714</td> <th>  Durbin-Watson:     </th> <td>   1.421</td> \n",
       "</tr>\n",
       "<tr>\n",
       "  <th>Prob(Omnibus):</th> <td> 0.000</td>  <th>  Jarque-Bera (JB):  </th> <td> 536.670</td> \n",
       "</tr>\n",
       "<tr>\n",
       "  <th>Skew:</th>          <td> 1.453</td>  <th>  Prob(JB):          </th> <td>2.91e-117</td>\n",
       "</tr>\n",
       "<tr>\n",
       "  <th>Kurtosis:</th>      <td> 6.892</td>  <th>  Cond. No.          </th> <td>2.51e+05</td> \n",
       "</tr>\n",
       "</table><br/><br/>Notes:<br/>[1] Standard Errors assume that the covariance matrix of the errors is correctly specified.<br/>[2] The condition number is large, 2.51e+05. This might indicate that there are<br/>strong multicollinearity or other numerical problems."
      ],
      "text/plain": [
       "<class 'statsmodels.iolib.summary.Summary'>\n",
       "\"\"\"\n",
       "                            OLS Regression Results                            \n",
       "==============================================================================\n",
       "Dep. Variable:                lotsize   R-squared:                       0.322\n",
       "Model:                            OLS   Adj. R-squared:                  0.317\n",
       "Method:                 Least Squares   F-statistic:                     64.21\n",
       "Date:                Sat, 08 Apr 2023   Prob (F-statistic):           2.02e-44\n",
       "Time:                        23:45:53   Log-Likelihood:                -4862.4\n",
       "No. Observations:                 546   AIC:                             9735.\n",
       "Df Residuals:                     541   BIC:                             9756.\n",
       "Df Model:                           4                                         \n",
       "Covariance Type:            nonrobust                                         \n",
       "=================================================================================\n",
       "                    coef    std err          t      P>|t|      [0.025      0.975]\n",
       "---------------------------------------------------------------------------------\n",
       "Intercept      2517.9907    240.691     10.461      0.000    2045.186    2990.795\n",
       "aircon[T.yes]  -138.7571    185.364     -0.749      0.454    -502.878     225.364\n",
       "price             0.0440      0.004     11.209      0.000       0.036       0.052\n",
       "garage          427.2449     96.544      4.425      0.000     237.598     616.892\n",
       "bathrooms      -477.8149    178.978     -2.670      0.008    -829.391    -126.239\n",
       "==============================================================================\n",
       "Omnibus:                      168.714   Durbin-Watson:                   1.421\n",
       "Prob(Omnibus):                  0.000   Jarque-Bera (JB):              536.670\n",
       "Skew:                           1.453   Prob(JB):                    2.91e-117\n",
       "Kurtosis:                       6.892   Cond. No.                     2.51e+05\n",
       "==============================================================================\n",
       "\n",
       "Notes:\n",
       "[1] Standard Errors assume that the covariance matrix of the errors is correctly specified.\n",
       "[2] The condition number is large, 2.51e+05. This might indicate that there are\n",
       "strong multicollinearity or other numerical problems.\n",
       "\"\"\""
      ]
     },
     "execution_count": 36,
     "metadata": {},
     "output_type": "execute_result"
    }
   ],
   "source": [
    "model4 = smf.ols('lotsize ~ price + garage + aircon + bathrooms', data = hp)\n",
    "results4 = model4.fit()\n",
    "results4.summary()"
   ]
  },
  {
   "attachments": {},
   "cell_type": "markdown",
   "metadata": {},
   "source": [
    "Result: We can not reject the hypothesis that the slope coefficient is equal to zero because :\n",
    "\n",
    "For the variable 'aircon' :\n",
    "\n",
    "- Absolute value of T-STAT is less than 2.\n",
    "- P-value is greater than 0.05.\n",
    "- 0 is inside the 95% confidence interval"
   ]
  },
  {
   "attachments": {},
   "cell_type": "markdown",
   "metadata": {},
   "source": [
    "---"
   ]
  },
  {
   "attachments": {},
   "cell_type": "markdown",
   "metadata": {},
   "source": [
    "d. Estimate the price of the following houses. \n",
    "\n",
    "You will need to first estimate a regression model with price as dependent variable and the variables on the table as independent variables:\n",
    "\n",
    "<img src=\"screenshot/hw3/part2d.png\" width=\"400\" height=\"150\"/>"
   ]
  },
  {
   "cell_type": "code",
   "execution_count": 37,
   "metadata": {},
   "outputs": [],
   "source": [
    "import statsmodels.api as sm\n",
    "\n",
    "y = hp['price']\n",
    "x = hp[['lotsize' , 'garage', 'aircon', 'bathrooms' , 'bedrooms' , 'driveway' , 'prefer' , 'recreation' , 'fullbase']]\n",
    "x = sm.add_constant(x)"
   ]
  },
  {
   "cell_type": "code",
   "execution_count": 38,
   "metadata": {},
   "outputs": [],
   "source": [
    "x['aircon'] = x.aircon.map(lambda x : 0 if x=='no' else 1)\n",
    "x['driveway'] = x.driveway.map(lambda x : 0 if x=='no' else 1)\n",
    "x['prefer'] = x.prefer.map(lambda x : 0 if x=='no' else 1)\n",
    "x['recreation'] = x.recreation.map(lambda x : 0 if x=='no' else 1)\n",
    "x['fullbase'] = x.fullbase.map(lambda x : 0 if x=='no' else 1)"
   ]
  },
  {
   "cell_type": "code",
   "execution_count": 39,
   "metadata": {},
   "outputs": [
    {
     "data": {
      "text/html": [
       "<table class=\"simpletable\">\n",
       "<caption>OLS Regression Results</caption>\n",
       "<tr>\n",
       "  <th>Dep. Variable:</th>          <td>price</td>      <th>  R-squared:         </th> <td>   0.631</td> \n",
       "</tr>\n",
       "<tr>\n",
       "  <th>Model:</th>                   <td>OLS</td>       <th>  Adj. R-squared:    </th> <td>   0.625</td> \n",
       "</tr>\n",
       "<tr>\n",
       "  <th>Method:</th>             <td>Least Squares</td>  <th>  F-statistic:       </th> <td>   102.0</td> \n",
       "</tr>\n",
       "<tr>\n",
       "  <th>Date:</th>             <td>Sat, 08 Apr 2023</td> <th>  Prob (F-statistic):</th> <td>3.70e-110</td>\n",
       "</tr>\n",
       "<tr>\n",
       "  <th>Time:</th>                 <td>23:45:54</td>     <th>  Log-Likelihood:    </th> <td> -6066.8</td> \n",
       "</tr>\n",
       "<tr>\n",
       "  <th>No. Observations:</th>      <td>   546</td>      <th>  AIC:               </th> <td>1.215e+04</td>\n",
       "</tr>\n",
       "<tr>\n",
       "  <th>Df Residuals:</th>          <td>   536</td>      <th>  BIC:               </th> <td>1.220e+04</td>\n",
       "</tr>\n",
       "<tr>\n",
       "  <th>Df Model:</th>              <td>     9</td>      <th>                     </th>     <td> </td>    \n",
       "</tr>\n",
       "<tr>\n",
       "  <th>Covariance Type:</th>      <td>nonrobust</td>    <th>                     </th>     <td> </td>    \n",
       "</tr>\n",
       "</table>\n",
       "<table class=\"simpletable\">\n",
       "<tr>\n",
       "       <td></td>         <th>coef</th>     <th>std err</th>      <th>t</th>      <th>P>|t|</th>  <th>[0.025</th>    <th>0.975]</th>  \n",
       "</tr>\n",
       "<tr>\n",
       "  <th>const</th>      <td>-3436.9887</td> <td> 3612.051</td> <td>   -0.952</td> <td> 0.342</td> <td>-1.05e+04</td> <td> 3658.523</td>\n",
       "</tr>\n",
       "<tr>\n",
       "  <th>lotsize</th>    <td>    3.3487</td> <td>    0.370</td> <td>    9.045</td> <td> 0.000</td> <td>    2.621</td> <td>    4.076</td>\n",
       "</tr>\n",
       "<tr>\n",
       "  <th>garage</th>     <td> 4071.9537</td> <td>  885.651</td> <td>    4.598</td> <td> 0.000</td> <td> 2332.182</td> <td> 5811.725</td>\n",
       "</tr>\n",
       "<tr>\n",
       "  <th>aircon</th>     <td> 1.442e+04</td> <td> 1579.094</td> <td>    9.132</td> <td> 0.000</td> <td> 1.13e+04</td> <td> 1.75e+04</td>\n",
       "</tr>\n",
       "<tr>\n",
       "  <th>bathrooms</th>  <td> 1.692e+04</td> <td> 1541.634</td> <td>   10.977</td> <td> 0.000</td> <td> 1.39e+04</td> <td>    2e+04</td>\n",
       "</tr>\n",
       "<tr>\n",
       "  <th>bedrooms</th>   <td> 4597.0486</td> <td> 1037.494</td> <td>    4.431</td> <td> 0.000</td> <td> 2558.996</td> <td> 6635.101</td>\n",
       "</tr>\n",
       "<tr>\n",
       "  <th>driveway</th>   <td> 8800.5312</td> <td> 2144.239</td> <td>    4.104</td> <td> 0.000</td> <td> 4588.389</td> <td>  1.3e+04</td>\n",
       "</tr>\n",
       "<tr>\n",
       "  <th>prefer</th>     <td> 9363.3142</td> <td> 1765.574</td> <td>    5.303</td> <td> 0.000</td> <td> 5895.020</td> <td> 1.28e+04</td>\n",
       "</tr>\n",
       "<tr>\n",
       "  <th>recreation</th> <td> 5336.8980</td> <td> 2010.065</td> <td>    2.655</td> <td> 0.008</td> <td> 1388.328</td> <td> 9285.468</td>\n",
       "</tr>\n",
       "<tr>\n",
       "  <th>fullbase</th>   <td> 2378.2796</td> <td> 1616.814</td> <td>    1.471</td> <td> 0.142</td> <td> -797.789</td> <td> 5554.348</td>\n",
       "</tr>\n",
       "</table>\n",
       "<table class=\"simpletable\">\n",
       "<tr>\n",
       "  <th>Omnibus:</th>       <td>82.493</td> <th>  Durbin-Watson:     </th> <td>   1.558</td>\n",
       "</tr>\n",
       "<tr>\n",
       "  <th>Prob(Omnibus):</th> <td> 0.000</td> <th>  Jarque-Bera (JB):  </th> <td> 179.158</td>\n",
       "</tr>\n",
       "<tr>\n",
       "  <th>Skew:</th>          <td> 0.824</td> <th>  Prob(JB):          </th> <td>1.25e-39</td>\n",
       "</tr>\n",
       "<tr>\n",
       "  <th>Kurtosis:</th>      <td> 5.271</td> <th>  Cond. No.          </th> <td>3.07e+04</td>\n",
       "</tr>\n",
       "</table><br/><br/>Notes:<br/>[1] Standard Errors assume that the covariance matrix of the errors is correctly specified.<br/>[2] The condition number is large, 3.07e+04. This might indicate that there are<br/>strong multicollinearity or other numerical problems."
      ],
      "text/plain": [
       "<class 'statsmodels.iolib.summary.Summary'>\n",
       "\"\"\"\n",
       "                            OLS Regression Results                            \n",
       "==============================================================================\n",
       "Dep. Variable:                  price   R-squared:                       0.631\n",
       "Model:                            OLS   Adj. R-squared:                  0.625\n",
       "Method:                 Least Squares   F-statistic:                     102.0\n",
       "Date:                Sat, 08 Apr 2023   Prob (F-statistic):          3.70e-110\n",
       "Time:                        23:45:54   Log-Likelihood:                -6066.8\n",
       "No. Observations:                 546   AIC:                         1.215e+04\n",
       "Df Residuals:                     536   BIC:                         1.220e+04\n",
       "Df Model:                           9                                         \n",
       "Covariance Type:            nonrobust                                         \n",
       "==============================================================================\n",
       "                 coef    std err          t      P>|t|      [0.025      0.975]\n",
       "------------------------------------------------------------------------------\n",
       "const      -3436.9887   3612.051     -0.952      0.342   -1.05e+04    3658.523\n",
       "lotsize        3.3487      0.370      9.045      0.000       2.621       4.076\n",
       "garage      4071.9537    885.651      4.598      0.000    2332.182    5811.725\n",
       "aircon      1.442e+04   1579.094      9.132      0.000    1.13e+04    1.75e+04\n",
       "bathrooms   1.692e+04   1541.634     10.977      0.000    1.39e+04       2e+04\n",
       "bedrooms    4597.0486   1037.494      4.431      0.000    2558.996    6635.101\n",
       "driveway    8800.5312   2144.239      4.104      0.000    4588.389     1.3e+04\n",
       "prefer      9363.3142   1765.574      5.303      0.000    5895.020    1.28e+04\n",
       "recreation  5336.8980   2010.065      2.655      0.008    1388.328    9285.468\n",
       "fullbase    2378.2796   1616.814      1.471      0.142    -797.789    5554.348\n",
       "==============================================================================\n",
       "Omnibus:                       82.493   Durbin-Watson:                   1.558\n",
       "Prob(Omnibus):                  0.000   Jarque-Bera (JB):              179.158\n",
       "Skew:                           0.824   Prob(JB):                     1.25e-39\n",
       "Kurtosis:                       5.271   Cond. No.                     3.07e+04\n",
       "==============================================================================\n",
       "\n",
       "Notes:\n",
       "[1] Standard Errors assume that the covariance matrix of the errors is correctly specified.\n",
       "[2] The condition number is large, 3.07e+04. This might indicate that there are\n",
       "strong multicollinearity or other numerical problems.\n",
       "\"\"\""
      ]
     },
     "execution_count": 39,
     "metadata": {},
     "output_type": "execute_result"
    }
   ],
   "source": [
    "model5 = sm.OLS(y, x).fit()\n",
    "model5.summary()"
   ]
  },
  {
   "cell_type": "code",
   "execution_count": 40,
   "metadata": {},
   "outputs": [
    {
     "data": {
      "text/html": [
       "<div>\n",
       "<style scoped>\n",
       "    .dataframe tbody tr th:only-of-type {\n",
       "        vertical-align: middle;\n",
       "    }\n",
       "\n",
       "    .dataframe tbody tr th {\n",
       "        vertical-align: top;\n",
       "    }\n",
       "\n",
       "    .dataframe thead th {\n",
       "        text-align: right;\n",
       "    }\n",
       "</style>\n",
       "<table border=\"1\" class=\"dataframe\">\n",
       "  <thead>\n",
       "    <tr style=\"text-align: right;\">\n",
       "      <th></th>\n",
       "      <th>lotsize</th>\n",
       "      <th>garage</th>\n",
       "      <th>aircon</th>\n",
       "      <th>bathrooms</th>\n",
       "      <th>bedrooms</th>\n",
       "      <th>driveway</th>\n",
       "      <th>prefer</th>\n",
       "      <th>recreation</th>\n",
       "      <th>fullbase</th>\n",
       "    </tr>\n",
       "  </thead>\n",
       "  <tbody>\n",
       "    <tr>\n",
       "      <th>0</th>\n",
       "      <td>6360</td>\n",
       "      <td>1</td>\n",
       "      <td>1</td>\n",
       "      <td>2</td>\n",
       "      <td>3</td>\n",
       "      <td>1</td>\n",
       "      <td>0</td>\n",
       "      <td>0</td>\n",
       "      <td>0</td>\n",
       "    </tr>\n",
       "    <tr>\n",
       "      <th>1</th>\n",
       "      <td>4600</td>\n",
       "      <td>0</td>\n",
       "      <td>1</td>\n",
       "      <td>3</td>\n",
       "      <td>2</td>\n",
       "      <td>1</td>\n",
       "      <td>0</td>\n",
       "      <td>1</td>\n",
       "      <td>0</td>\n",
       "    </tr>\n",
       "    <tr>\n",
       "      <th>2</th>\n",
       "      <td>3600</td>\n",
       "      <td>1</td>\n",
       "      <td>1</td>\n",
       "      <td>2</td>\n",
       "      <td>3</td>\n",
       "      <td>0</td>\n",
       "      <td>1</td>\n",
       "      <td>1</td>\n",
       "      <td>0</td>\n",
       "    </tr>\n",
       "    <tr>\n",
       "      <th>3</th>\n",
       "      <td>7500</td>\n",
       "      <td>0</td>\n",
       "      <td>0</td>\n",
       "      <td>2</td>\n",
       "      <td>4</td>\n",
       "      <td>1</td>\n",
       "      <td>0</td>\n",
       "      <td>0</td>\n",
       "      <td>1</td>\n",
       "    </tr>\n",
       "  </tbody>\n",
       "</table>\n",
       "</div>"
      ],
      "text/plain": [
       "   lotsize  garage  aircon  bathrooms  bedrooms  driveway  prefer  recreation  \\\n",
       "0     6360       1       1          2         3         1       0           0   \n",
       "1     4600       0       1          3         2         1       0           1   \n",
       "2     3600       1       1          2         3         0       1           1   \n",
       "3     7500       0       0          2         4         1       0           0   \n",
       "\n",
       "   fullbase  \n",
       "0         0  \n",
       "1         0  \n",
       "2         0  \n",
       "3         1  "
      ]
     },
     "execution_count": 40,
     "metadata": {},
     "output_type": "execute_result"
    }
   ],
   "source": [
    "houses = pd.DataFrame({'lotsize': [6360,4600,3600,7500],\n",
    "                       'garage': [1,0,1,0],\n",
    "                       'aircon': [1,1,1,0],\n",
    "                       'bathrooms': [2,3,2,2],\n",
    "                       'bedrooms': [3,2,3,4],\n",
    "                       'driveway': [1,1,0,1],\n",
    "                       'prefer': [0,0,1,0],\n",
    "                       'recreation': [0,1,1,0],\n",
    "                       'fullbase': [0,0,0,1]})\n",
    "\n",
    "houses"
   ]
  },
  {
   "cell_type": "code",
   "execution_count": 41,
   "metadata": {},
   "outputs": [
    {
     "data": {
      "text/html": [
       "<div>\n",
       "<style scoped>\n",
       "    .dataframe tbody tr th:only-of-type {\n",
       "        vertical-align: middle;\n",
       "    }\n",
       "\n",
       "    .dataframe tbody tr th {\n",
       "        vertical-align: top;\n",
       "    }\n",
       "\n",
       "    .dataframe thead th {\n",
       "        text-align: right;\n",
       "    }\n",
       "</style>\n",
       "<table border=\"1\" class=\"dataframe\">\n",
       "  <thead>\n",
       "    <tr style=\"text-align: right;\">\n",
       "      <th></th>\n",
       "      <th>const</th>\n",
       "      <th>lotsize</th>\n",
       "      <th>garage</th>\n",
       "      <th>aircon</th>\n",
       "      <th>bathrooms</th>\n",
       "      <th>bedrooms</th>\n",
       "      <th>driveway</th>\n",
       "      <th>prefer</th>\n",
       "      <th>recreation</th>\n",
       "      <th>fullbase</th>\n",
       "    </tr>\n",
       "  </thead>\n",
       "  <tbody>\n",
       "    <tr>\n",
       "      <th>0</th>\n",
       "      <td>1.0</td>\n",
       "      <td>6360</td>\n",
       "      <td>1</td>\n",
       "      <td>1</td>\n",
       "      <td>2</td>\n",
       "      <td>3</td>\n",
       "      <td>1</td>\n",
       "      <td>0</td>\n",
       "      <td>0</td>\n",
       "      <td>0</td>\n",
       "    </tr>\n",
       "    <tr>\n",
       "      <th>1</th>\n",
       "      <td>1.0</td>\n",
       "      <td>4600</td>\n",
       "      <td>0</td>\n",
       "      <td>1</td>\n",
       "      <td>3</td>\n",
       "      <td>2</td>\n",
       "      <td>1</td>\n",
       "      <td>0</td>\n",
       "      <td>1</td>\n",
       "      <td>0</td>\n",
       "    </tr>\n",
       "    <tr>\n",
       "      <th>2</th>\n",
       "      <td>1.0</td>\n",
       "      <td>3600</td>\n",
       "      <td>1</td>\n",
       "      <td>1</td>\n",
       "      <td>2</td>\n",
       "      <td>3</td>\n",
       "      <td>0</td>\n",
       "      <td>1</td>\n",
       "      <td>1</td>\n",
       "      <td>0</td>\n",
       "    </tr>\n",
       "    <tr>\n",
       "      <th>3</th>\n",
       "      <td>1.0</td>\n",
       "      <td>7500</td>\n",
       "      <td>0</td>\n",
       "      <td>0</td>\n",
       "      <td>2</td>\n",
       "      <td>4</td>\n",
       "      <td>1</td>\n",
       "      <td>0</td>\n",
       "      <td>0</td>\n",
       "      <td>1</td>\n",
       "    </tr>\n",
       "  </tbody>\n",
       "</table>\n",
       "</div>"
      ],
      "text/plain": [
       "   const  lotsize  garage  aircon  bathrooms  bedrooms  driveway  prefer  \\\n",
       "0    1.0     6360       1       1          2         3         1       0   \n",
       "1    1.0     4600       0       1          3         2         1       0   \n",
       "2    1.0     3600       1       1          2         3         0       1   \n",
       "3    1.0     7500       0       0          2         4         1       0   \n",
       "\n",
       "   recreation  fullbase  \n",
       "0           0         0  \n",
       "1           1         0  \n",
       "2           1         0  \n",
       "3           0         1  "
      ]
     },
     "execution_count": 41,
     "metadata": {},
     "output_type": "execute_result"
    }
   ],
   "source": [
    "houses = sm.add_constant(houses)\n",
    "houses"
   ]
  },
  {
   "cell_type": "code",
   "execution_count": 42,
   "metadata": {},
   "outputs": [
    {
     "data": {
      "text/plain": [
       "0     92790.833238\n",
       "1    100487.882126\n",
       "2     89448.159673\n",
       "3     85090.767119\n",
       "dtype: float64"
      ]
     },
     "execution_count": 42,
     "metadata": {},
     "output_type": "execute_result"
    }
   ],
   "source": [
    "model5.predict(houses)"
   ]
  },
  {
   "attachments": {},
   "cell_type": "markdown",
   "metadata": {},
   "source": [
    "---"
   ]
  },
  {
   "attachments": {},
   "cell_type": "markdown",
   "metadata": {},
   "source": [
    "e. Estimate the price of all the houses in the database using the previous model.\n",
    "\n",
    "Then make a histogram of the residuals and describe its distribution."
   ]
  },
  {
   "cell_type": "code",
   "execution_count": 43,
   "metadata": {},
   "outputs": [
    {
     "data": {
      "text/plain": [
       "array([ 62117.52314235,  44875.18482216,  46324.47499783,  63683.13114502,\n",
       "        52778.06762463,  72144.13459928,  76515.40733588,  50008.02206678,\n",
       "        59866.35435021,  95247.86715185, 106125.91069983,  32725.97442906,\n",
       "        41770.27134895,  36921.18151067,  43535.71316073,  56566.94621935,\n",
       "        42399.58042186,  58087.69696655,  38436.36270765,  64737.73182573,\n",
       "        78309.01273695,  75078.21644934,  63893.16830957,  44654.17199803,\n",
       "        48089.91680961,  41526.50566857,  44205.44899144,  64889.13135631,\n",
       "        51743.95791647,  65567.50788637,  36778.59364519,  74959.78464617,\n",
       "        44875.18482216,  46549.52439896,  52778.06762463,  69114.36663967,\n",
       "        47360.62219441,  67811.12291927,  98245.10349741,  52529.38440086,\n",
       "        50996.59985738,  68012.76110877,  60284.39030722, 115992.84533792,\n",
       "        38177.82651499,  36888.41215943,  32859.92159521,  37624.40413293,\n",
       "        48483.48273018,  47295.59195237,  79942.44192138,  47981.89829743,\n",
       "        87117.58320965,  56056.41387436,  78615.24578051,  43602.6867438 ,\n",
       "        35313.81551695,  97242.79452749,  50811.70506364,  44114.34675646,\n",
       "        45277.02632059,  47386.69418735,  68377.65722588,  52218.15030815,\n",
       "        66807.47833777,  68916.18703995,  69754.07426864,  72443.71134272,\n",
       "        45472.56975963,  63125.93921479,  53337.2166751 ,  49004.13576099,\n",
       "        31206.39153362,  44365.49769298,  49205.05651021,  37925.78525675,\n",
       "        35180.5857911 ,  68122.57962301,  69574.28334833,  73649.23583801,\n",
       "        64696.85130643,  42938.5090784 ,  48300.19569845,  55071.14457883,\n",
       "        51853.65303351,  67469.31503763,  66929.32621479,  85684.79711358,\n",
       "        45598.45933525,  49543.06441753,  64085.69008374,  75004.30289999,\n",
       "        95801.78455337, 104028.96029349,  89242.45017342,  54251.48645221,\n",
       "        71848.0271383 ,  78298.26044431,  48537.74323117,  40973.97360823,\n",
       "        76068.08474561,  83352.09455287,  61065.99770404,  77461.67819822,\n",
       "        77860.85891533,  46884.39231432,  49557.95832701,  65323.48453248,\n",
       "        70761.56033318,  51753.1926589 ,  44274.88093195,  37748.99315944,\n",
       "        67241.84746316,  71739.15310888,  85118.15915964,  72822.51112934,\n",
       "        56812.45773869,  87266.230075  ,  73849.89891371,  94384.64555766,\n",
       "        50286.61015027,  96830.47860667,  46214.6564836 ,  56357.07755789,\n",
       "        51727.2596266 ,  71862.7670216 , 101668.43275389, 105033.56403957,\n",
       "        94478.38838682,  96306.0095803 ,  47688.07531118,  48969.93152917,\n",
       "        43685.51340092,  57113.83886252,  56812.45773869,  81761.42241552,\n",
       "        50711.24468903,  57265.29769044,  36764.4413042 ,  48635.06361381,\n",
       "        46123.55424862,  51401.74985087,  83188.63699115,  37748.99315944,\n",
       "        59145.25628619,  50621.47806563,  56696.4752399 ,  72141.3551051 ,\n",
       "        71845.85074441,  56078.4894744 ,  51702.41353441,  37323.0230091 ,\n",
       "        66908.77492616,  43404.18416793,  48635.06361381,  74459.74363809,\n",
       "        62765.3808751 ,  57995.68422271,  45228.59613535,  40564.54442978,\n",
       "        65158.92884554,  71288.82726211,  37021.64188528,  51349.24400067,\n",
       "        40103.14414687,  65582.46929721,  53116.91636944,  45453.8184179 ,\n",
       "        58961.21163008,  40036.1705638 ,  46014.45317467,  33806.90989784,\n",
       "        35414.27589156,  45815.23315852,  48622.38633748,  73299.95790815,\n",
       "        58757.43279727,  93992.99841264,  71793.05228903,  44130.19983052,\n",
       "        41519.5657023 ,  49438.74661067,  50610.78431443,  47831.38061695,\n",
       "        47923.5654137 ,  47004.90457975,  56856.78837616,  47599.39124954,\n",
       "        52137.57958458,  66681.93014668,  56377.12944873,  58057.1084427 ,\n",
       "        43002.3426695 ,  85457.94333207,  42129.26791622,  34852.38569159,\n",
       "        49338.28623606,  45915.69353312,  35840.2460419 ,  50410.5810055 ,\n",
       "        52204.71540744,  82703.75084827,  53351.32391019,  68246.19353573,\n",
       "        46569.57628979,  62191.57920216,  35062.66458043,  48425.50216525,\n",
       "        42249.43879714,  59860.47320875,  35592.40360044,  31721.37068299,\n",
       "        36318.41926303,  40304.06489609,  60538.8497388 ,  43636.17353533,\n",
       "       110471.38216676,  37825.32488214,  53372.7567183 ,  47831.38061695,\n",
       "        37724.86450754,  75663.72470871,  54213.9228996 ,  70017.22305528,\n",
       "        55596.2394922 ,  74447.28385119,  69202.14973795,  52668.19828467,\n",
       "        78115.68593106,  73366.93149122,  82621.42358894,  89157.75808078,\n",
       "        48969.93152917,  31377.144628  ,  41526.50566857,  50519.43947147,\n",
       "        65046.13169544,  65995.86114757,  52048.69264126,  50720.60282866,\n",
       "        66930.16262837,  55947.44057594,  59765.89397561,  43699.79843925,\n",
       "        51750.05266693,  32424.59330524,  47205.82532897,  58229.02938884,\n",
       "        43200.84524537,  50008.73950707,  58152.64684042,  62568.9269272 ,\n",
       "        59152.33432943,  86897.15792782,  55274.80647754,  54080.69317374,\n",
       "        99810.08432675,  86372.06301445,  43669.66032687,  51572.54312934,\n",
       "        58757.43279727,  55242.03712629,  43669.66032687,  45009.13198831,\n",
       "        47741.61399354,  43669.66032687,  41566.48739454,  43535.71316073,\n",
       "        43535.71316073,  70606.58211468,  67567.81700567,  50267.27569973,\n",
       "        78341.95059129,  69848.05882208,  62687.64381428,  78927.80094008,\n",
       "        79739.03769617,  53544.18706888,  49338.28623606,  63750.82216838,\n",
       "        59147.17500658,  88809.040659  ,  89294.7720177 ,  54084.05249453,\n",
       "        74359.5365035 ,  46994.92826884,  74448.20500168,  62273.54590854,\n",
       "        46803.98383054,  42410.55696512,  49472.23340221,  53544.18706888,\n",
       "        45829.51819685,  45009.13198831,  49081.08565498,  50289.91864534,\n",
       "        55309.62888065,  50597.34941372,  49730.76959487,  45009.13198831,\n",
       "        45143.07915445,  85699.68658956,  49081.08565498,  57884.03506784,\n",
       "        63643.76321201,  69680.33360072, 101756.20649687,  69049.87653259,\n",
       "        73038.91983113,  88689.36917588,  66376.24521725,  76702.32583883,\n",
       "        62922.76879532,  73796.36023135,  82314.50341306,  81227.69580485,\n",
       "        52820.91255579,  67241.84746316,  65527.56546081,  67911.58329388,\n",
       "        78325.03869243,  94022.29076573,  95047.88317174,  74662.48028342,\n",
       "        86929.08206325, 103607.78434452,  79709.62766571,  97264.62840324,\n",
       "        99005.94156311,  69868.99794262, 107240.16445705, 148084.0118697 ,\n",
       "        60165.21365336,  44372.88294912,  71734.13186299,  61571.65889786,\n",
       "       109413.94483451, 129344.7033907 , 107442.20052985,  49137.36548685,\n",
       "        46023.09387401,  48501.83388795,  70713.55298716,  75490.03425868,\n",
       "        65567.50788637,  48969.93152917,  74974.29748494,  56076.50594928,\n",
       "        49736.77905534,  57616.14073555,  69095.49324223,  61896.55050231,\n",
       "        70943.88376684,  70110.5714107 ,  81190.81134783,  83900.37083476,\n",
       "        85625.60666995,  98283.11447271, 115590.14627959,  94178.90926096,\n",
       "       115270.05659221, 135180.04581728, 106238.69074173,  79623.56135639,\n",
       "       110881.75382455,  82133.26634119, 110300.34845033,  99338.62865107,\n",
       "       133365.87315492,  93312.78920888,  97018.45022256,  83738.56565263,\n",
       "       110823.14963689, 119141.08950967, 102355.06813939, 107387.4450094 ,\n",
       "       105448.35109229, 114372.74953969,  79939.56065227,  92557.59056037,\n",
       "       120928.60692149,  84173.89394259, 114586.51764731,  85025.30770155,\n",
       "        96777.16801817,  76261.89472479,  91960.60137336,  93891.68047813,\n",
       "        83200.27756284, 102510.28403445,  88177.31137009, 118395.95872537,\n",
       "        76672.13519827,  91349.78596868,  75257.29097871,  81338.45213754,\n",
       "        96620.4278117 , 101050.04243406,  79403.77198769,  91791.24243199,\n",
       "       100534.56333383,  96503.65021793,  90431.67869563,  66738.43035671,\n",
       "        91440.27003237,  93184.72318421,  83401.19831206,  69317.63074526,\n",
       "       101264.1563597 ,  98885.87672036,  82029.17662819,  98551.008805  ,\n",
       "        98082.1937235 ,  68809.23412176,  65485.14338686,  93080.44372203,\n",
       "       103733.48869462,  79306.45160505, 121090.87717799,  69604.85952809,\n",
       "        97699.0991333 ,  84775.75960522,  67348.52703477,  55085.02690222,\n",
       "        62371.71255634,  58169.66915578,  62730.70912361,  56676.29721392,\n",
       "        52497.18581433,  74295.29043951,  52631.13298048,  70970.98166212,\n",
       "        73810.76036091,  79052.21150229, 103849.75569588,  99129.64240074,\n",
       "        88483.3567973 ,  57228.18156052,  71533.65853647,  90984.30953253,\n",
       "        65372.08889387,  62121.11055702,  57228.18156052,  87336.91003643,\n",
       "        74419.16202574,  94797.00234299,  91490.43049313, 106249.61153747,\n",
       "        68051.03221674,  58926.64978922,  59907.12488339,  71388.60739174,\n",
       "        82666.98832348,  76235.2442522 ,  68078.61945843,  69952.94301534,\n",
       "        94853.90806186, 104591.84685334,  53470.96355019,  55002.02736367,\n",
       "        55002.02736367,  52623.74772433,  56559.16317009,  71271.86338814,\n",
       "        52623.74772433,  67480.01092167,  55004.65860254,  54566.6990737 ,\n",
       "        53467.40618385,  76521.90440314,  56695.70139101,  57151.87938027,\n",
       "        89469.143899  ,  91385.7945809 ,  70154.80053366,  94353.5807119 ,\n",
       "        79608.0520577 ,  96640.47970253, 102010.22391311,  67930.5199513 ,\n",
       "        77845.1320666 ,  94808.32198119,  82246.17287229,  54238.4989742 ,\n",
       "        69926.29254275, 101795.1508229 ,  58437.3353942 ,  62676.72301855,\n",
       "        59839.70387763,  51170.70163091,  79422.8197519 ,  56236.56529245,\n",
       "        45042.61877984,  63681.32676463,  64654.00637527,  58497.64116142,\n",
       "        53524.85261834,  56624.97189018,  63704.11980496,  81019.33125806,\n",
       "        79682.75786431,  92741.98839201,  58580.64069997,  70416.39530076,\n",
       "        88007.25797416,  55269.30577017, 103895.25485163,  87173.10541714,\n",
       "        86677.50090241,  53678.13423502,  67494.56509391,  56664.50832628,\n",
       "        71671.46208552,  55232.67898667,  58223.69718456,  43482.13429427,\n",
       "        92850.25306197,  92110.40365621,  96986.04031975,  82501.27182128,\n",
       "       107145.03628672, 101519.25530869,  96182.35732289,  85833.3760822 ,\n",
       "        96182.35732289, 100596.56416106,  92810.88512897,  75750.80100834,\n",
       "        91585.30874284,  87513.35507617,  84071.3319359 ,  82083.11310369,\n",
       "        87419.38520249,  69530.64238747,  67241.84746316,  86843.61924545,\n",
       "        87513.35507617,  66572.11163244,  89187.69465296,  82109.72523158,\n",
       "        78922.43039111,  88831.83807767,  87513.35507617,  96922.20672865,\n",
       "        96922.20672865,  74662.48028342])"
      ]
     },
     "execution_count": 43,
     "metadata": {},
     "output_type": "execute_result"
    }
   ],
   "source": [
    "model5.predict()"
   ]
  },
  {
   "cell_type": "code",
   "execution_count": 44,
   "metadata": {},
   "outputs": [
    {
     "data": {
      "text/plain": [
       "0     -20117.523142\n",
       "1      -6375.184822\n",
       "2       3175.525002\n",
       "3      -3183.131145\n",
       "4       8221.932375\n",
       "           ...     \n",
       "541     2668.161922\n",
       "542     6486.644924\n",
       "543     6077.793271\n",
       "544     8077.793271\n",
       "545    30337.519717\n",
       "Length: 546, dtype: float64"
      ]
     },
     "execution_count": 44,
     "metadata": {},
     "output_type": "execute_result"
    }
   ],
   "source": [
    "model5.resid"
   ]
  },
  {
   "cell_type": "code",
   "execution_count": 45,
   "metadata": {},
   "outputs": [
    {
     "data": {
      "text/plain": [
       "<AxesSubplot:ylabel='Count'>"
      ]
     },
     "execution_count": 45,
     "metadata": {},
     "output_type": "execute_result"
    },
    {
     "data": {
      "image/png": "[encoded data removed]",
      "text/plain": [
       "<Figure size 640x480 with 1 Axes>"
      ]
     },
     "metadata": {},
     "output_type": "display_data"
    }
   ],
   "source": [
    "sns.histplot(data=model5.resid)"
   ]
  },
  {
   "attachments": {},
   "cell_type": "markdown",
   "metadata": {},
   "source": [
    "---\n",
    "---\n",
    "---"
   ]
  },
  {
   "attachments": {},
   "cell_type": "markdown",
   "metadata": {},
   "source": [
    "### Part 3. Outliers\n",
    "Use the 'growth.csv' data to answer the following questions:"
   ]
  },
  {
   "cell_type": "code",
   "execution_count": 46,
   "metadata": {},
   "outputs": [
    {
     "data": {
      "text/html": [
       "<div>\n",
       "<style scoped>\n",
       "    .dataframe tbody tr th:only-of-type {\n",
       "        vertical-align: middle;\n",
       "    }\n",
       "\n",
       "    .dataframe tbody tr th {\n",
       "        vertical-align: top;\n",
       "    }\n",
       "\n",
       "    .dataframe thead th {\n",
       "        text-align: right;\n",
       "    }\n",
       "</style>\n",
       "<table border=\"1\" class=\"dataframe\">\n",
       "  <thead>\n",
       "    <tr style=\"text-align: right;\">\n",
       "      <th></th>\n",
       "      <th>country_name</th>\n",
       "      <th>growth</th>\n",
       "      <th>oil</th>\n",
       "      <th>rgdp60</th>\n",
       "      <th>tradeshare</th>\n",
       "      <th>yearsschool</th>\n",
       "      <th>rev_coups</th>\n",
       "      <th>assasinations</th>\n",
       "    </tr>\n",
       "  </thead>\n",
       "  <tbody>\n",
       "    <tr>\n",
       "      <th>0</th>\n",
       "      <td>India</td>\n",
       "      <td>1.915168</td>\n",
       "      <td>0</td>\n",
       "      <td>765.999817</td>\n",
       "      <td>0.140502</td>\n",
       "      <td>1.45</td>\n",
       "      <td>0.133333</td>\n",
       "      <td>0.866667</td>\n",
       "    </tr>\n",
       "    <tr>\n",
       "      <th>1</th>\n",
       "      <td>Argentina</td>\n",
       "      <td>0.617645</td>\n",
       "      <td>0</td>\n",
       "      <td>4462.001465</td>\n",
       "      <td>0.156623</td>\n",
       "      <td>4.99</td>\n",
       "      <td>0.933333</td>\n",
       "      <td>1.933333</td>\n",
       "    </tr>\n",
       "    <tr>\n",
       "      <th>2</th>\n",
       "      <td>Japan</td>\n",
       "      <td>4.304759</td>\n",
       "      <td>0</td>\n",
       "      <td>2953.999512</td>\n",
       "      <td>0.157703</td>\n",
       "      <td>6.71</td>\n",
       "      <td>0.000000</td>\n",
       "      <td>0.200000</td>\n",
       "    </tr>\n",
       "    <tr>\n",
       "      <th>3</th>\n",
       "      <td>Brazil</td>\n",
       "      <td>2.930097</td>\n",
       "      <td>0</td>\n",
       "      <td>1783.999878</td>\n",
       "      <td>0.160405</td>\n",
       "      <td>2.89</td>\n",
       "      <td>0.100000</td>\n",
       "      <td>0.100000</td>\n",
       "    </tr>\n",
       "    <tr>\n",
       "      <th>4</th>\n",
       "      <td>United States</td>\n",
       "      <td>1.712265</td>\n",
       "      <td>0</td>\n",
       "      <td>9895.003906</td>\n",
       "      <td>0.160815</td>\n",
       "      <td>8.66</td>\n",
       "      <td>0.000000</td>\n",
       "      <td>0.433333</td>\n",
       "    </tr>\n",
       "  </tbody>\n",
       "</table>\n",
       "</div>"
      ],
      "text/plain": [
       "    country_name    growth  oil       rgdp60  tradeshare  yearsschool  \\\n",
       "0          India  1.915168    0   765.999817    0.140502         1.45   \n",
       "1      Argentina  0.617645    0  4462.001465    0.156623         4.99   \n",
       "2          Japan  4.304759    0  2953.999512    0.157703         6.71   \n",
       "3         Brazil  2.930097    0  1783.999878    0.160405         2.89   \n",
       "4  United States  1.712265    0  9895.003906    0.160815         8.66   \n",
       "\n",
       "   rev_coups  assasinations  \n",
       "0   0.133333       0.866667  \n",
       "1   0.933333       1.933333  \n",
       "2   0.000000       0.200000  \n",
       "3   0.100000       0.100000  \n",
       "4   0.000000       0.433333  "
      ]
     },
     "execution_count": 46,
     "metadata": {},
     "output_type": "execute_result"
    }
   ],
   "source": [
    "gr = pd.read_csv('data/growth.csv')\n",
    "gr.head()"
   ]
  },
  {
   "attachments": {},
   "cell_type": "markdown",
   "metadata": {},
   "source": [
    "---"
   ]
  },
  {
   "attachments": {},
   "cell_type": "markdown",
   "metadata": {},
   "source": [
    "a. Construct a scatterplot of average annual growth rate on the average trade share.\n",
    "\n",
    "Describe the relation between the two variables."
   ]
  },
  {
   "cell_type": "code",
   "execution_count": 47,
   "metadata": {},
   "outputs": [
    {
     "data": {
      "text/plain": [
       "<AxesSubplot:xlabel='growth', ylabel='tradeshare'>"
      ]
     },
     "execution_count": 47,
     "metadata": {},
     "output_type": "execute_result"
    },
    {
     "data": {
      "image/png": "[encoded data removed]",
      "text/plain": [
       "<Figure size 640x480 with 1 Axes>"
      ]
     },
     "metadata": {},
     "output_type": "display_data"
    }
   ],
   "source": [
    "sns.regplot(x=gr.growth, y=gr.tradeshare)"
   ]
  },
  {
   "cell_type": "code",
   "execution_count": 48,
   "metadata": {},
   "outputs": [
    {
     "data": {
      "text/html": [
       "<div>\n",
       "<style scoped>\n",
       "    .dataframe tbody tr th:only-of-type {\n",
       "        vertical-align: middle;\n",
       "    }\n",
       "\n",
       "    .dataframe tbody tr th {\n",
       "        vertical-align: top;\n",
       "    }\n",
       "\n",
       "    .dataframe thead th {\n",
       "        text-align: right;\n",
       "    }\n",
       "</style>\n",
       "<table border=\"1\" class=\"dataframe\">\n",
       "  <thead>\n",
       "    <tr style=\"text-align: right;\">\n",
       "      <th></th>\n",
       "      <th>growth</th>\n",
       "      <th>tradeshare</th>\n",
       "    </tr>\n",
       "  </thead>\n",
       "  <tbody>\n",
       "    <tr>\n",
       "      <th>growth</th>\n",
       "      <td>1.000000</td>\n",
       "      <td>0.351682</td>\n",
       "    </tr>\n",
       "    <tr>\n",
       "      <th>tradeshare</th>\n",
       "      <td>0.351682</td>\n",
       "      <td>1.000000</td>\n",
       "    </tr>\n",
       "  </tbody>\n",
       "</table>\n",
       "</div>"
      ],
      "text/plain": [
       "              growth  tradeshare\n",
       "growth      1.000000    0.351682\n",
       "tradeshare  0.351682    1.000000"
      ]
     },
     "execution_count": 48,
     "metadata": {},
     "output_type": "execute_result"
    }
   ],
   "source": [
    "gr[['growth','tradeshare']].corr()"
   ]
  },
  {
   "attachments": {},
   "cell_type": "markdown",
   "metadata": {},
   "source": [
    "Weak positive correlation"
   ]
  },
  {
   "attachments": {},
   "cell_type": "markdown",
   "metadata": {},
   "source": [
    "---"
   ]
  },
  {
   "attachments": {},
   "cell_type": "markdown",
   "metadata": {},
   "source": [
    "b. One country, Malta, has a trade share much larger than other counties.\n",
    "\n",
    "Find Malta on the scatterplot. Does Malta look like an outlier? Explain."
   ]
  },
  {
   "cell_type": "code",
   "execution_count": 49,
   "metadata": {},
   "outputs": [
    {
     "data": {
      "text/html": [
       "<div>\n",
       "<style scoped>\n",
       "    .dataframe tbody tr th:only-of-type {\n",
       "        vertical-align: middle;\n",
       "    }\n",
       "\n",
       "    .dataframe tbody tr th {\n",
       "        vertical-align: top;\n",
       "    }\n",
       "\n",
       "    .dataframe thead th {\n",
       "        text-align: right;\n",
       "    }\n",
       "</style>\n",
       "<table border=\"1\" class=\"dataframe\">\n",
       "  <thead>\n",
       "    <tr style=\"text-align: right;\">\n",
       "      <th></th>\n",
       "      <th>country_name</th>\n",
       "      <th>growth</th>\n",
       "      <th>oil</th>\n",
       "      <th>rgdp60</th>\n",
       "      <th>tradeshare</th>\n",
       "      <th>yearsschool</th>\n",
       "      <th>rev_coups</th>\n",
       "      <th>assasinations</th>\n",
       "    </tr>\n",
       "  </thead>\n",
       "  <tbody>\n",
       "    <tr>\n",
       "      <th>64</th>\n",
       "      <td>Malta</td>\n",
       "      <td>6.652838</td>\n",
       "      <td>0</td>\n",
       "      <td>1374.0</td>\n",
       "      <td>1.992616</td>\n",
       "      <td>5.64</td>\n",
       "      <td>0.0</td>\n",
       "      <td>0.0</td>\n",
       "    </tr>\n",
       "  </tbody>\n",
       "</table>\n",
       "</div>"
      ],
      "text/plain": [
       "   country_name    growth  oil  rgdp60  tradeshare  yearsschool  rev_coups  \\\n",
       "64        Malta  6.652838    0  1374.0    1.992616         5.64        0.0   \n",
       "\n",
       "    assasinations  \n",
       "64            0.0  "
      ]
     },
     "execution_count": 49,
     "metadata": {},
     "output_type": "execute_result"
    }
   ],
   "source": [
    "gr.loc[gr.country_name == 'Malta']"
   ]
  },
  {
   "attachments": {},
   "cell_type": "markdown",
   "metadata": {},
   "source": [
    "Malta is plotted on the top right corner. Based on the scatterplot, it does look like an outlier."
   ]
  },
  {
   "attachments": {},
   "cell_type": "markdown",
   "metadata": {},
   "source": [
    "---"
   ]
  },
  {
   "attachments": {},
   "cell_type": "markdown",
   "metadata": {},
   "source": [
    "c. Using all the observations, run a regression of Growth on Trade Share.\n",
    "\n",
    "What is the estimated intercept and slope? interpret the beta coefficients."
   ]
  },
  {
   "cell_type": "code",
   "execution_count": 50,
   "metadata": {},
   "outputs": [
    {
     "data": {
      "text/plain": [
       "Intercept     0.640265\n",
       "tradeshare    2.306434\n",
       "dtype: float64"
      ]
     },
     "execution_count": 50,
     "metadata": {},
     "output_type": "execute_result"
    }
   ],
   "source": [
    "model = smf.ols('growth ~ tradeshare', data = gr)\n",
    "results = model.fit()\n",
    "results.params"
   ]
  },
  {
   "attachments": {},
   "cell_type": "markdown",
   "metadata": {},
   "source": [
    "When the average tradeshare is equal to 0, the average growth is 0.640265. \n",
    "\n",
    "The average growth increases by 2.3064 for every (1.0) increase in tradeshare."
   ]
  },
  {
   "attachments": {},
   "cell_type": "markdown",
   "metadata": {},
   "source": [
    "---"
   ]
  },
  {
   "attachments": {},
   "cell_type": "markdown",
   "metadata": {},
   "source": [
    "d. Use the estimated regression to answer to predict the growth rate for a country with a trade share of 0.5 with a trade share equal to 1.0."
   ]
  },
  {
   "cell_type": "code",
   "execution_count": 51,
   "metadata": {},
   "outputs": [],
   "source": [
    "def modelFunc(x):\n",
    "    return results.params['Intercept'] + results.params['tradeshare'] * x"
   ]
  },
  {
   "cell_type": "code",
   "execution_count": 52,
   "metadata": {},
   "outputs": [
    {
     "data": {
      "text/plain": [
       "1.7934821441905489"
      ]
     },
     "execution_count": 52,
     "metadata": {},
     "output_type": "execute_result"
    }
   ],
   "source": [
    "modelFunc(0.5)"
   ]
  },
  {
   "cell_type": "code",
   "execution_count": 53,
   "metadata": {},
   "outputs": [
    {
     "data": {
      "text/plain": [
       "2.9466990140026845"
      ]
     },
     "execution_count": 53,
     "metadata": {},
     "output_type": "execute_result"
    }
   ],
   "source": [
    "modelFunc(1.0)"
   ]
  },
  {
   "attachments": {},
   "cell_type": "markdown",
   "metadata": {},
   "source": [
    "---"
   ]
  },
  {
   "attachments": {},
   "cell_type": "markdown",
   "metadata": {},
   "source": [
    "e. Estimate the same regression from part c excluding the data from Malta.\n",
    "\n",
    "Compare the two regressions and re-do question."
   ]
  },
  {
   "cell_type": "code",
   "execution_count": 54,
   "metadata": {},
   "outputs": [
    {
     "data": {
      "text/plain": [
       "Intercept     0.957411\n",
       "tradeshare    1.680905\n",
       "dtype: float64"
      ]
     },
     "execution_count": 54,
     "metadata": {},
     "output_type": "execute_result"
    }
   ],
   "source": [
    "gr_Malta = gr.loc[gr.country_name != 'Malta']\n",
    "\n",
    "model_Malta = smf.ols('growth ~ tradeshare', data = gr_Malta)\n",
    "results_Malta = model_Malta.fit()\n",
    "results_Malta.params"
   ]
  },
  {
   "attachments": {},
   "cell_type": "markdown",
   "metadata": {},
   "source": [
    "When the average tradeshare is equal to 0, the average growth is 0.957411. \n",
    "\n",
    "The average growth increases by 1.6809 for every (1.0) increase in tradeshare."
   ]
  },
  {
   "cell_type": "code",
   "execution_count": 55,
   "metadata": {},
   "outputs": [],
   "source": [
    "def modelFunc(x):\n",
    "    return results_Malta.params['Intercept'] + results_Malta.params['tradeshare'] * x"
   ]
  },
  {
   "cell_type": "code",
   "execution_count": 56,
   "metadata": {},
   "outputs": [
    {
     "data": {
      "text/plain": [
       "1.797863000877297"
      ]
     },
     "execution_count": 56,
     "metadata": {},
     "output_type": "execute_result"
    }
   ],
   "source": [
    "modelFunc(0.5)"
   ]
  },
  {
   "cell_type": "code",
   "execution_count": 57,
   "metadata": {},
   "outputs": [
    {
     "data": {
      "text/plain": [
       "2.6383153328420885"
      ]
     },
     "execution_count": 57,
     "metadata": {},
     "output_type": "execute_result"
    }
   ],
   "source": [
    "modelFunc(1.0)"
   ]
  },
  {
   "attachments": {},
   "cell_type": "markdown",
   "metadata": {},
   "source": [
    "---"
   ]
  },
  {
   "attachments": {},
   "cell_type": "markdown",
   "metadata": {},
   "source": [
    "f. Where is Malta located? Why is the Malta trade share so large?\n",
    "\n",
    "Should Malta be included or excluded from the analysis?"
   ]
  },
  {
   "attachments": {},
   "cell_type": "markdown",
   "metadata": {},
   "source": [
    "Malta is an island country in the Mediterranean Sea.\n",
    "\n",
    "According to the internet sources, Malta is a freight transport site, where the imports are transported to other coutries immediately.\n",
    "\n",
    "Malta should be excluded from the analysis because the trade share has a different meaning for Malta than that of other countries."
   ]
  },
  {
   "attachments": {},
   "cell_type": "markdown",
   "metadata": {},
   "source": [
    "---\n",
    "---\n",
    "---"
   ]
  },
  {
   "attachments": {},
   "cell_type": "markdown",
   "metadata": {},
   "source": [
    "### Part 4. Omitted Variable Bias"
   ]
  },
  {
   "attachments": {},
   "cell_type": "markdown",
   "metadata": {},
   "source": [
    "---"
   ]
  },
  {
   "attachments": {},
   "cell_type": "markdown",
   "metadata": {},
   "source": [
    "a. Do you think the three models discussed in Part 1 suffer from omitted variable bias? Explain."
   ]
  },
  {
   "attachments": {},
   "cell_type": "markdown",
   "metadata": {},
   "source": [
    "Yes.\n",
    "\n",
    "First, for the dunkin model, the sales should not be compared with only the distance to the nearest subway station. Instead, the distance to the nearest subway station should be compared between the same sized dunkin stores.\n",
    "\n",
    "Second, for the height and earnings, the height effect on the earnings should be compared between the people with same occupation and age.\n",
    "\n",
    "Third, for the housing price, the lotsize effect on the price should be compared between the same sized houses.\n",
    "\n",
    "These are just examples of confounding variables that corrects the OVB partially, but there can be many more. However, the univariate regression models definitely suffered from OVB."
   ]
  },
  {
   "attachments": {},
   "cell_type": "markdown",
   "metadata": {},
   "source": [
    "---"
   ]
  },
  {
   "attachments": {},
   "cell_type": "markdown",
   "metadata": {},
   "source": [
    "b. Say you want to build houses with the intention of selling them.\n",
    "\n",
    "You need to decide how many bathrooms your houses should have.\n",
    "\n",
    "The marginal cost of building an additional bathroom is given by the following progression:\n",
    "\n",
    "(1) $5,000, (2) $10,000, (3) $17,000 and (4) $30,000.\n",
    "\n",
    "That is, if you plan to build a house with a single bathroom;\n",
    "\n",
    "that will add $5,000 to the total construction cost;\n",
    "\n",
    "but, if you build two bathrooms the total cost in bathrooms would be $15,000 (5000 + 10000), and so on.\n",
    "\n",
    "Estimate a regression model for which the coefficient for the bathroom coefficient is the least biases as possible given the available data.\n",
    "\n",
    "Use that model to decide how many bathrooms to build."
   ]
  },
  {
   "cell_type": "code",
   "execution_count": 58,
   "metadata": {},
   "outputs": [
    {
     "data": {
      "text/plain": [
       "Intercept    32794.044352\n",
       "bathrooms    27476.985447\n",
       "dtype: float64"
      ]
     },
     "execution_count": 58,
     "metadata": {},
     "output_type": "execute_result"
    }
   ],
   "source": [
    "model_house = smf.ols('price ~ bathrooms', data = hp).fit()\n",
    "m = model_house.params\n",
    "m"
   ]
  },
  {
   "cell_type": "code",
   "execution_count": 59,
   "metadata": {},
   "outputs": [
    {
     "data": {
      "text/html": [
       "<div>\n",
       "<style scoped>\n",
       "    .dataframe tbody tr th:only-of-type {\n",
       "        vertical-align: middle;\n",
       "    }\n",
       "\n",
       "    .dataframe tbody tr th {\n",
       "        vertical-align: top;\n",
       "    }\n",
       "\n",
       "    .dataframe thead th {\n",
       "        text-align: right;\n",
       "    }\n",
       "</style>\n",
       "<table border=\"1\" class=\"dataframe\">\n",
       "  <thead>\n",
       "    <tr style=\"text-align: right;\">\n",
       "      <th></th>\n",
       "      <th>num</th>\n",
       "      <th>cost</th>\n",
       "      <th>price</th>\n",
       "    </tr>\n",
       "  </thead>\n",
       "  <tbody>\n",
       "    <tr>\n",
       "      <th>0</th>\n",
       "      <td>0</td>\n",
       "      <td>0</td>\n",
       "      <td>32794.044352</td>\n",
       "    </tr>\n",
       "    <tr>\n",
       "      <th>1</th>\n",
       "      <td>1</td>\n",
       "      <td>-5000</td>\n",
       "      <td>60271.029799</td>\n",
       "    </tr>\n",
       "    <tr>\n",
       "      <th>2</th>\n",
       "      <td>2</td>\n",
       "      <td>-15000</td>\n",
       "      <td>87748.015246</td>\n",
       "    </tr>\n",
       "    <tr>\n",
       "      <th>3</th>\n",
       "      <td>3</td>\n",
       "      <td>-32000</td>\n",
       "      <td>115225.000693</td>\n",
       "    </tr>\n",
       "    <tr>\n",
       "      <th>4</th>\n",
       "      <td>4</td>\n",
       "      <td>-62000</td>\n",
       "      <td>142701.986140</td>\n",
       "    </tr>\n",
       "  </tbody>\n",
       "</table>\n",
       "</div>"
      ],
      "text/plain": [
       "   num   cost          price\n",
       "0    0      0   32794.044352\n",
       "1    1  -5000   60271.029799\n",
       "2    2 -15000   87748.015246\n",
       "3    3 -32000  115225.000693\n",
       "4    4 -62000  142701.986140"
      ]
     },
     "execution_count": 59,
     "metadata": {},
     "output_type": "execute_result"
    }
   ],
   "source": [
    "df = pd.DataFrame({'num': [0,1,2,3,4], 'cost': [0, -5000, -15000, -32000, -62000], 'price': [m['Intercept'],m['Intercept']+m['bathrooms'], m['Intercept']+m['bathrooms']*2, m['Intercept']+m['bathrooms']*3, m['Intercept']+m['bathrooms']*4]})\n",
    "df"
   ]
  },
  {
   "cell_type": "code",
   "execution_count": 60,
   "metadata": {},
   "outputs": [
    {
     "data": {
      "text/html": [
       "<div>\n",
       "<style scoped>\n",
       "    .dataframe tbody tr th:only-of-type {\n",
       "        vertical-align: middle;\n",
       "    }\n",
       "\n",
       "    .dataframe tbody tr th {\n",
       "        vertical-align: top;\n",
       "    }\n",
       "\n",
       "    .dataframe thead th {\n",
       "        text-align: right;\n",
       "    }\n",
       "</style>\n",
       "<table border=\"1\" class=\"dataframe\">\n",
       "  <thead>\n",
       "    <tr style=\"text-align: right;\">\n",
       "      <th></th>\n",
       "      <th>num</th>\n",
       "      <th>cost</th>\n",
       "      <th>price</th>\n",
       "      <th>plus</th>\n",
       "    </tr>\n",
       "  </thead>\n",
       "  <tbody>\n",
       "    <tr>\n",
       "      <th>0</th>\n",
       "      <td>0</td>\n",
       "      <td>0</td>\n",
       "      <td>32794.044352</td>\n",
       "      <td>32794.044352</td>\n",
       "    </tr>\n",
       "    <tr>\n",
       "      <th>1</th>\n",
       "      <td>1</td>\n",
       "      <td>-5000</td>\n",
       "      <td>60271.029799</td>\n",
       "      <td>55271.029799</td>\n",
       "    </tr>\n",
       "    <tr>\n",
       "      <th>2</th>\n",
       "      <td>2</td>\n",
       "      <td>-15000</td>\n",
       "      <td>87748.015246</td>\n",
       "      <td>72748.015246</td>\n",
       "    </tr>\n",
       "    <tr>\n",
       "      <th>3</th>\n",
       "      <td>3</td>\n",
       "      <td>-32000</td>\n",
       "      <td>115225.000693</td>\n",
       "      <td>83225.000693</td>\n",
       "    </tr>\n",
       "    <tr>\n",
       "      <th>4</th>\n",
       "      <td>4</td>\n",
       "      <td>-62000</td>\n",
       "      <td>142701.986140</td>\n",
       "      <td>80701.986140</td>\n",
       "    </tr>\n",
       "  </tbody>\n",
       "</table>\n",
       "</div>"
      ],
      "text/plain": [
       "   num   cost          price          plus\n",
       "0    0      0   32794.044352  32794.044352\n",
       "1    1  -5000   60271.029799  55271.029799\n",
       "2    2 -15000   87748.015246  72748.015246\n",
       "3    3 -32000  115225.000693  83225.000693\n",
       "4    4 -62000  142701.986140  80701.986140"
      ]
     },
     "execution_count": 60,
     "metadata": {},
     "output_type": "execute_result"
    }
   ],
   "source": [
    "df['plus'] = df['price'] + df['cost']\n",
    "df"
   ]
  },
  {
   "attachments": {},
   "cell_type": "markdown",
   "metadata": {},
   "source": [
    "Building 3 bathrooms is the best. However, OVB will be a big problem in the house price data model because the size of the house would be an important confounding variable."
   ]
  },
  {
   "cell_type": "code",
   "execution_count": 61,
   "metadata": {},
   "outputs": [
    {
     "name": "stderr",
     "output_type": "stream",
     "text": [
      "/Users/davidekim/tensorflow/lib/python3.9/site-packages/statsmodels/stats/stattools.py:74: ValueWarning: omni_normtest is not valid with less than 8 observations; 5 samples were given.\n",
      "  warn(\"omni_normtest is not valid with less than 8 observations; %i \"\n"
     ]
    },
    {
     "data": {
      "text/html": [
       "<table class=\"simpletable\">\n",
       "<caption>OLS Regression Results</caption>\n",
       "<tr>\n",
       "  <th>Dep. Variable:</th>          <td>cost</td>       <th>  R-squared:         </th> <td>   0.905</td>\n",
       "</tr>\n",
       "<tr>\n",
       "  <th>Model:</th>                   <td>OLS</td>       <th>  Adj. R-squared:    </th> <td>   0.874</td>\n",
       "</tr>\n",
       "<tr>\n",
       "  <th>Method:</th>             <td>Least Squares</td>  <th>  F-statistic:       </th> <td>   28.66</td>\n",
       "</tr>\n",
       "<tr>\n",
       "  <th>Date:</th>             <td>Sat, 08 Apr 2023</td> <th>  Prob (F-statistic):</th>  <td>0.0128</td> \n",
       "</tr>\n",
       "<tr>\n",
       "  <th>Time:</th>                 <td>23:45:55</td>     <th>  Log-Likelihood:    </th> <td> -51.298</td>\n",
       "</tr>\n",
       "<tr>\n",
       "  <th>No. Observations:</th>      <td>     5</td>      <th>  AIC:               </th> <td>   106.6</td>\n",
       "</tr>\n",
       "<tr>\n",
       "  <th>Df Residuals:</th>          <td>     3</td>      <th>  BIC:               </th> <td>   105.8</td>\n",
       "</tr>\n",
       "<tr>\n",
       "  <th>Df Model:</th>              <td>     1</td>      <th>                     </th>     <td> </td>   \n",
       "</tr>\n",
       "<tr>\n",
       "  <th>Covariance Type:</th>      <td>nonrobust</td>    <th>                     </th>     <td> </td>   \n",
       "</tr>\n",
       "</table>\n",
       "<table class=\"simpletable\">\n",
       "<tr>\n",
       "      <td></td>         <th>coef</th>     <th>std err</th>      <th>t</th>      <th>P>|t|</th>  <th>[0.025</th>    <th>0.975]</th>  \n",
       "</tr>\n",
       "<tr>\n",
       "  <th>Intercept</th> <td> 7400.0000</td> <td> 6909.414</td> <td>    1.071</td> <td> 0.363</td> <td>-1.46e+04</td> <td> 2.94e+04</td>\n",
       "</tr>\n",
       "<tr>\n",
       "  <th>num</th>       <td> -1.51e+04</td> <td> 2820.756</td> <td>   -5.353</td> <td> 0.013</td> <td>-2.41e+04</td> <td>-6123.094</td>\n",
       "</tr>\n",
       "</table>\n",
       "<table class=\"simpletable\">\n",
       "<tr>\n",
       "  <th>Omnibus:</th>       <td>   nan</td> <th>  Durbin-Watson:     </th> <td>   1.482</td>\n",
       "</tr>\n",
       "<tr>\n",
       "  <th>Prob(Omnibus):</th> <td>   nan</td> <th>  Jarque-Bera (JB):  </th> <td>   0.678</td>\n",
       "</tr>\n",
       "<tr>\n",
       "  <th>Skew:</th>          <td>-0.264</td> <th>  Prob(JB):          </th> <td>   0.712</td>\n",
       "</tr>\n",
       "<tr>\n",
       "  <th>Kurtosis:</th>      <td> 1.275</td> <th>  Cond. No.          </th> <td>    4.74</td>\n",
       "</tr>\n",
       "</table><br/><br/>Notes:<br/>[1] Standard Errors assume that the covariance matrix of the errors is correctly specified."
      ],
      "text/plain": [
       "<class 'statsmodels.iolib.summary.Summary'>\n",
       "\"\"\"\n",
       "                            OLS Regression Results                            \n",
       "==============================================================================\n",
       "Dep. Variable:                   cost   R-squared:                       0.905\n",
       "Model:                            OLS   Adj. R-squared:                  0.874\n",
       "Method:                 Least Squares   F-statistic:                     28.66\n",
       "Date:                Sat, 08 Apr 2023   Prob (F-statistic):             0.0128\n",
       "Time:                        23:45:55   Log-Likelihood:                -51.298\n",
       "No. Observations:                   5   AIC:                             106.6\n",
       "Df Residuals:                       3   BIC:                             105.8\n",
       "Df Model:                           1                                         \n",
       "Covariance Type:            nonrobust                                         \n",
       "==============================================================================\n",
       "                 coef    std err          t      P>|t|      [0.025      0.975]\n",
       "------------------------------------------------------------------------------\n",
       "Intercept   7400.0000   6909.414      1.071      0.363   -1.46e+04    2.94e+04\n",
       "num         -1.51e+04   2820.756     -5.353      0.013   -2.41e+04   -6123.094\n",
       "==============================================================================\n",
       "Omnibus:                          nan   Durbin-Watson:                   1.482\n",
       "Prob(Omnibus):                    nan   Jarque-Bera (JB):                0.678\n",
       "Skew:                          -0.264   Prob(JB):                        0.712\n",
       "Kurtosis:                       1.275   Cond. No.                         4.74\n",
       "==============================================================================\n",
       "\n",
       "Notes:\n",
       "[1] Standard Errors assume that the covariance matrix of the errors is correctly specified.\n",
       "\"\"\""
      ]
     },
     "execution_count": 61,
     "metadata": {},
     "output_type": "execute_result"
    }
   ],
   "source": [
    "model_df = smf.ols('cost ~ num', data = df)\n",
    "model_df = model_df.fit()\n",
    "model_df.summary()"
   ]
  },
  {
   "attachments": {},
   "cell_type": "markdown",
   "metadata": {},
   "source": [
    "---"
   ]
  },
  {
   "attachments": {},
   "cell_type": "markdown",
   "metadata": {},
   "source": [
    "c. Discuss the pros and cons of using linear regression models to answer policy questions like the one discussed in part b"
   ]
  },
  {
   "attachments": {},
   "cell_type": "markdown",
   "metadata": {},
   "source": [
    "Pros: Estimates and approximates the causal relation between x and y while controlling additional factors.\n",
    "\n",
    "Cons: Impossible to control every factors therefore suffers from the omitted variable bias."
   ]
  },
  {
   "attachments": {},
   "cell_type": "markdown",
   "metadata": {},
   "source": [
    "---"
   ]
  },
  {
   "attachments": {},
   "cell_type": "markdown",
   "metadata": {},
   "source": [
    "#### BA222 SPRING 2023 – HW03\n",
    "#### by Euijoon David Kim\n",
    "---"
   ]
  }
 ],
 "metadata": {
  "kernelspec": {
   "display_name": "base",
   "language": "python",
   "name": "python3"
  },
  "language_info": {
   "codemirror_mode": {
    "name": "ipython",
    "version": 3
   },
   "file_extension": ".py",
   "mimetype": "text/x-python",
   "name": "python",
   "nbconvert_exporter": "python",
   "pygments_lexer": "ipython3",
   "version": "3.9.15"
  },
  "orig_nbformat": 4
 },
 "nbformat": 4,
 "nbformat_minor": 2
}
