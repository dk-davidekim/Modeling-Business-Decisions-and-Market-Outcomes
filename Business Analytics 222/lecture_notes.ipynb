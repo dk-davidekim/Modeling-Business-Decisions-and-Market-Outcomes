{
 "cells": [
  {
   "cell_type": "code",
   "execution_count": 2,
   "metadata": {},
   "outputs": [],
   "source": [
    "import pandas as pd\n",
    "import numpy as np\n",
    "import seaborn as sns\n",
    "import matplotlib.pyplot as plt\n",
    "import scipy.stats as stats"
   ]
  },
  {
   "cell_type": "code",
   "execution_count": 3,
   "metadata": {},
   "outputs": [
    {
     "data": {
      "text/html": [
       "<div>\n",
       "<style scoped>\n",
       "    .dataframe tbody tr th:only-of-type {\n",
       "        vertical-align: middle;\n",
       "    }\n",
       "\n",
       "    .dataframe tbody tr th {\n",
       "        vertical-align: top;\n",
       "    }\n",
       "\n",
       "    .dataframe thead th {\n",
       "        text-align: right;\n",
       "    }\n",
       "</style>\n",
       "<table border=\"1\" class=\"dataframe\">\n",
       "  <thead>\n",
       "    <tr style=\"text-align: right;\">\n",
       "      <th></th>\n",
       "      <th>year</th>\n",
       "      <th>gender</th>\n",
       "      <th>smoke</th>\n",
       "      <th>exercise</th>\n",
       "      <th>tv</th>\n",
       "      <th>height</th>\n",
       "      <th>weight</th>\n",
       "      <th>siblings</th>\n",
       "      <th>birthOrder</th>\n",
       "      <th>verbalSAT</th>\n",
       "      <th>mathSAT</th>\n",
       "      <th>sat</th>\n",
       "      <th>gpa</th>\n",
       "      <th>pulse</th>\n",
       "      <th>piercings</th>\n",
       "    </tr>\n",
       "  </thead>\n",
       "  <tbody>\n",
       "    <tr>\n",
       "      <th>0</th>\n",
       "      <td>Senior</td>\n",
       "      <td>M</td>\n",
       "      <td>No</td>\n",
       "      <td>10.0</td>\n",
       "      <td>1.0</td>\n",
       "      <td>71.0</td>\n",
       "      <td>180.0</td>\n",
       "      <td>4</td>\n",
       "      <td>4.0</td>\n",
       "      <td>540</td>\n",
       "      <td>670</td>\n",
       "      <td>1210</td>\n",
       "      <td>3.13</td>\n",
       "      <td>54</td>\n",
       "      <td>0.0</td>\n",
       "    </tr>\n",
       "    <tr>\n",
       "      <th>1</th>\n",
       "      <td>Sophomore</td>\n",
       "      <td>F</td>\n",
       "      <td>Yes</td>\n",
       "      <td>4.0</td>\n",
       "      <td>7.0</td>\n",
       "      <td>66.0</td>\n",
       "      <td>120.0</td>\n",
       "      <td>2</td>\n",
       "      <td>2.0</td>\n",
       "      <td>520</td>\n",
       "      <td>630</td>\n",
       "      <td>1150</td>\n",
       "      <td>2.50</td>\n",
       "      <td>66</td>\n",
       "      <td>3.0</td>\n",
       "    </tr>\n",
       "    <tr>\n",
       "      <th>2</th>\n",
       "      <td>FirstYear</td>\n",
       "      <td>M</td>\n",
       "      <td>No</td>\n",
       "      <td>14.0</td>\n",
       "      <td>5.0</td>\n",
       "      <td>72.0</td>\n",
       "      <td>208.0</td>\n",
       "      <td>2</td>\n",
       "      <td>1.0</td>\n",
       "      <td>550</td>\n",
       "      <td>560</td>\n",
       "      <td>1110</td>\n",
       "      <td>2.55</td>\n",
       "      <td>130</td>\n",
       "      <td>0.0</td>\n",
       "    </tr>\n",
       "    <tr>\n",
       "      <th>3</th>\n",
       "      <td>Junior</td>\n",
       "      <td>M</td>\n",
       "      <td>No</td>\n",
       "      <td>3.0</td>\n",
       "      <td>1.0</td>\n",
       "      <td>63.0</td>\n",
       "      <td>110.0</td>\n",
       "      <td>1</td>\n",
       "      <td>1.0</td>\n",
       "      <td>490</td>\n",
       "      <td>630</td>\n",
       "      <td>1120</td>\n",
       "      <td>3.10</td>\n",
       "      <td>78</td>\n",
       "      <td>0.0</td>\n",
       "    </tr>\n",
       "    <tr>\n",
       "      <th>4</th>\n",
       "      <td>Sophomore</td>\n",
       "      <td>F</td>\n",
       "      <td>No</td>\n",
       "      <td>3.0</td>\n",
       "      <td>3.0</td>\n",
       "      <td>65.0</td>\n",
       "      <td>150.0</td>\n",
       "      <td>1</td>\n",
       "      <td>1.0</td>\n",
       "      <td>720</td>\n",
       "      <td>450</td>\n",
       "      <td>1170</td>\n",
       "      <td>2.70</td>\n",
       "      <td>40</td>\n",
       "      <td>6.0</td>\n",
       "    </tr>\n",
       "  </tbody>\n",
       "</table>\n",
       "</div>"
      ],
      "text/plain": [
       "        year gender smoke  exercise   tv  height  weight  siblings  \\\n",
       "0     Senior      M    No      10.0  1.0    71.0   180.0         4   \n",
       "1  Sophomore      F   Yes       4.0  7.0    66.0   120.0         2   \n",
       "2  FirstYear      M    No      14.0  5.0    72.0   208.0         2   \n",
       "3     Junior      M    No       3.0  1.0    63.0   110.0         1   \n",
       "4  Sophomore      F    No       3.0  3.0    65.0   150.0         1   \n",
       "\n",
       "   birthOrder  verbalSAT  mathSAT   sat   gpa  pulse  piercings  \n",
       "0         4.0        540      670  1210  3.13     54        0.0  \n",
       "1         2.0        520      630  1150  2.50     66        3.0  \n",
       "2         1.0        550      560  1110  2.55    130        0.0  \n",
       "3         1.0        490      630  1120  3.10     78        0.0  \n",
       "4         1.0        720      450  1170  2.70     40        6.0  "
      ]
     },
     "execution_count": 3,
     "metadata": {},
     "output_type": "execute_result"
    }
   ],
   "source": [
    "df = pd.read_csv('data/studentsurvey.csv')\n",
    "df.head()"
   ]
  },
  {
   "cell_type": "code",
   "execution_count": 4,
   "metadata": {},
   "outputs": [
    {
     "data": {
      "text/plain": [
       "count    355.000000\n",
       "mean       5.701878\n",
       "std        0.339879\n",
       "min        4.916667\n",
       "25%        5.416667\n",
       "50%        5.666667\n",
       "75%        5.916667\n",
       "max        6.916667\n",
       "Name: height, dtype: float64"
      ]
     },
     "execution_count": 4,
     "metadata": {},
     "output_type": "execute_result"
    }
   ],
   "source": [
    "(df.height/12).describe()"
   ]
  },
  {
   "cell_type": "code",
   "execution_count": 5,
   "metadata": {},
   "outputs": [
    {
     "data": {
      "text/plain": [
       "[5.361999289893608, 6.041756578650992]"
      ]
     },
     "execution_count": 5,
     "metadata": {},
     "output_type": "execute_result"
    }
   ],
   "source": [
    "xbar = df.height.mean()/12\n",
    "sbar = df.height.std()/12\n",
    "[xbar - sbar, xbar + sbar]"
   ]
  },
  {
   "cell_type": "code",
   "execution_count": 6,
   "metadata": {},
   "outputs": [
    {
     "data": {
      "text/plain": [
       "<AxesSubplot:>"
      ]
     },
     "execution_count": 6,
     "metadata": {},
     "output_type": "execute_result"
    },
    {
     "data": {
      "image/png": "[encoded data removed]",
      "text/plain": [
       "<Figure size 640x480 with 1 Axes>"
      ]
     },
     "metadata": {},
     "output_type": "display_data"
    }
   ],
   "source": [
    "df.height.value_counts(bins=12, normalize=True).sort_index().plot()"
   ]
  },
  {
   "cell_type": "code",
   "execution_count": 7,
   "metadata": {},
   "outputs": [
    {
     "data": {
      "text/plain": [
       "<AxesSubplot:xlabel='height', ylabel='Count'>"
      ]
     },
     "execution_count": 7,
     "metadata": {},
     "output_type": "execute_result"
    },
    {
     "data": {
      "image/png": "[encoded data removed]",
      "text/plain": [
       "<Figure size 640x480 with 1 Axes>"
      ]
     },
     "metadata": {},
     "output_type": "display_data"
    }
   ],
   "source": [
    "sns.histplot(df.height, bins=25)"
   ]
  },
  {
   "cell_type": "code",
   "execution_count": 8,
   "metadata": {},
   "outputs": [
    {
     "data": {
      "text/plain": [
       "count    362.000000\n",
       "mean     609.436464\n",
       "std       68.490067\n",
       "min      400.000000\n",
       "25%      560.000000\n",
       "50%      610.000000\n",
       "75%      650.000000\n",
       "max      800.000000\n",
       "Name: mathSAT, dtype: float64"
      ]
     },
     "execution_count": 8,
     "metadata": {},
     "output_type": "execute_result"
    }
   ],
   "source": [
    "df.mathSAT.describe()"
   ]
  },
  {
   "cell_type": "code",
   "execution_count": 9,
   "metadata": {},
   "outputs": [
    {
     "data": {
      "text/plain": [
       "(399.59900000000005, 433.333]    0.013812\n",
       "(433.333, 466.667]               0.016575\n",
       "(466.667, 500.0]                 0.035912\n",
       "(500.0, 533.333]                 0.060773\n",
       "(533.333, 566.667]               0.140884\n",
       "(566.667, 600.0]                 0.209945\n",
       "(600.0, 633.333]                 0.138122\n",
       "(633.333, 666.667]               0.168508\n",
       "(666.667, 700.0]                 0.143646\n",
       "(700.0, 733.333]                 0.038674\n",
       "(733.333, 766.667]               0.027624\n",
       "(766.667, 800.0]                 0.005525\n",
       "Name: mathSAT, dtype: float64"
      ]
     },
     "execution_count": 9,
     "metadata": {},
     "output_type": "execute_result"
    }
   ],
   "source": [
    "df.mathSAT.value_counts(bins=12, normalize=True).sort_index()"
   ]
  },
  {
   "cell_type": "code",
   "execution_count": 10,
   "metadata": {},
   "outputs": [
    {
     "data": {
      "text/plain": [
       "<AxesSubplot:xlabel='mathSAT', ylabel='Count'>"
      ]
     },
     "execution_count": 10,
     "metadata": {},
     "output_type": "execute_result"
    },
    {
     "data": {
      "image/png": "[encoded data removed]",
      "text/plain": [
       "<Figure size 640x480 with 1 Axes>"
      ]
     },
     "metadata": {},
     "output_type": "display_data"
    }
   ],
   "source": [
    "sns.histplot(df.mathSAT, bins=12)"
   ]
  },
  {
   "cell_type": "code",
   "execution_count": 11,
   "metadata": {},
   "outputs": [
    {
     "data": {
      "text/plain": [
       "M    0.533149\n",
       "F    0.466851\n",
       "Name: gender, dtype: float64"
      ]
     },
     "execution_count": 11,
     "metadata": {},
     "output_type": "execute_result"
    }
   ],
   "source": [
    "df.gender.value_counts(normalize=True)"
   ]
  },
  {
   "cell_type": "code",
   "execution_count": 12,
   "metadata": {},
   "outputs": [
    {
     "data": {
      "text/plain": [
       "No     0.881215\n",
       "Yes    0.118785\n",
       "Name: smoke, dtype: float64"
      ]
     },
     "execution_count": 12,
     "metadata": {},
     "output_type": "execute_result"
    }
   ],
   "source": [
    "df.smoke.value_counts(normalize=True)"
   ]
  },
  {
   "cell_type": "code",
   "execution_count": 13,
   "metadata": {},
   "outputs": [
    {
     "data": {
      "text/plain": [
       "Sophomore    0.541667\n",
       "FirstYear    0.261111\n",
       "Senior       0.100000\n",
       "Junior       0.097222\n",
       "Name: year, dtype: float64"
      ]
     },
     "execution_count": 13,
     "metadata": {},
     "output_type": "execute_result"
    }
   ],
   "source": [
    "df.year.value_counts(normalize=True)"
   ]
  },
  {
   "cell_type": "code",
   "execution_count": 14,
   "metadata": {},
   "outputs": [
    {
     "data": {
      "text/plain": [
       "0.0     0.520776\n",
       "1.0     0.027701\n",
       "2.0     0.199446\n",
       "3.0     0.027701\n",
       "4.0     0.088643\n",
       "5.0     0.066482\n",
       "6.0     0.030471\n",
       "7.0     0.024931\n",
       "8.0     0.008310\n",
       "9.0     0.002770\n",
       "10.0    0.002770\n",
       "Name: piercings, dtype: float64"
      ]
     },
     "execution_count": 14,
     "metadata": {},
     "output_type": "execute_result"
    }
   ],
   "source": [
    "df.piercings.value_counts(normalize=True).sort_index()"
   ]
  },
  {
   "cell_type": "code",
   "execution_count": 15,
   "metadata": {},
   "outputs": [],
   "source": [
    "# Under-representation\n",
    "## variable.value < (1 / number of index).value\n",
    "# Over-representation\n",
    "## variable.value > (1 / number of index).value"
   ]
  },
  {
   "cell_type": "code",
   "execution_count": 16,
   "metadata": {},
   "outputs": [
    {
     "data": {
      "text/html": [
       "<div>\n",
       "<style scoped>\n",
       "    .dataframe tbody tr th:only-of-type {\n",
       "        vertical-align: middle;\n",
       "    }\n",
       "\n",
       "    .dataframe tbody tr th {\n",
       "        vertical-align: top;\n",
       "    }\n",
       "\n",
       "    .dataframe thead th {\n",
       "        text-align: right;\n",
       "    }\n",
       "</style>\n",
       "<table border=\"1\" class=\"dataframe\">\n",
       "  <thead>\n",
       "    <tr style=\"text-align: right;\">\n",
       "      <th></th>\n",
       "      <th>price</th>\n",
       "      <th>stNumber</th>\n",
       "      <th>stName</th>\n",
       "      <th>size</th>\n",
       "      <th>beacon</th>\n",
       "      <th>baseFloor</th>\n",
       "      <th>buildingStyle</th>\n",
       "      <th>elevators</th>\n",
       "      <th>rooms</th>\n",
       "      <th>bedrooms</th>\n",
       "      <th>fullBathrooms</th>\n",
       "      <th>halfBathrooms</th>\n",
       "      <th>garage</th>\n",
       "    </tr>\n",
       "  </thead>\n",
       "  <tbody>\n",
       "    <tr>\n",
       "      <th>0</th>\n",
       "      <td>174000</td>\n",
       "      <td>150</td>\n",
       "      <td>PLEASANT ST</td>\n",
       "      <td>1060</td>\n",
       "      <td>0</td>\n",
       "      <td>4</td>\n",
       "      <td>MID-RISE</td>\n",
       "      <td>1</td>\n",
       "      <td>4</td>\n",
       "      <td>2</td>\n",
       "      <td>1</td>\n",
       "      <td>1</td>\n",
       "      <td>1.0</td>\n",
       "    </tr>\n",
       "    <tr>\n",
       "      <th>1</th>\n",
       "      <td>337000</td>\n",
       "      <td>7</td>\n",
       "      <td>LEVERETT ST</td>\n",
       "      <td>831</td>\n",
       "      <td>0</td>\n",
       "      <td>1</td>\n",
       "      <td>DECKER</td>\n",
       "      <td>0</td>\n",
       "      <td>4</td>\n",
       "      <td>2</td>\n",
       "      <td>1</td>\n",
       "      <td>0</td>\n",
       "      <td>0.0</td>\n",
       "    </tr>\n",
       "    <tr>\n",
       "      <th>2</th>\n",
       "      <td>850000</td>\n",
       "      <td>24</td>\n",
       "      <td>EUSTON ST</td>\n",
       "      <td>2246</td>\n",
       "      <td>0</td>\n",
       "      <td>1</td>\n",
       "      <td>ROW-END</td>\n",
       "      <td>0</td>\n",
       "      <td>10</td>\n",
       "      <td>6</td>\n",
       "      <td>3</td>\n",
       "      <td>0</td>\n",
       "      <td>0.0</td>\n",
       "    </tr>\n",
       "    <tr>\n",
       "      <th>3</th>\n",
       "      <td>516000</td>\n",
       "      <td>417</td>\n",
       "      <td>WASHINGTON ST</td>\n",
       "      <td>1574</td>\n",
       "      <td>0</td>\n",
       "      <td>2</td>\n",
       "      <td>LOW-RISE</td>\n",
       "      <td>0</td>\n",
       "      <td>6</td>\n",
       "      <td>3</td>\n",
       "      <td>2</td>\n",
       "      <td>0</td>\n",
       "      <td>0.0</td>\n",
       "    </tr>\n",
       "    <tr>\n",
       "      <th>4</th>\n",
       "      <td>145000</td>\n",
       "      <td>150</td>\n",
       "      <td>PLEASANT ST</td>\n",
       "      <td>669</td>\n",
       "      <td>0</td>\n",
       "      <td>4</td>\n",
       "      <td>MID-RISE</td>\n",
       "      <td>1</td>\n",
       "      <td>3</td>\n",
       "      <td>1</td>\n",
       "      <td>1</td>\n",
       "      <td>0</td>\n",
       "      <td>1.0</td>\n",
       "    </tr>\n",
       "  </tbody>\n",
       "</table>\n",
       "</div>"
      ],
      "text/plain": [
       "    price  stNumber         stName  size  beacon  baseFloor buildingStyle  \\\n",
       "0  174000       150    PLEASANT ST  1060       0          4      MID-RISE   \n",
       "1  337000         7    LEVERETT ST   831       0          1        DECKER   \n",
       "2  850000        24      EUSTON ST  2246       0          1       ROW-END   \n",
       "3  516000       417  WASHINGTON ST  1574       0          2      LOW-RISE   \n",
       "4  145000       150    PLEASANT ST   669       0          4      MID-RISE   \n",
       "\n",
       "   elevators  rooms  bedrooms  fullBathrooms  halfBathrooms  garage  \n",
       "0          1      4         2              1              1     1.0  \n",
       "1          0      4         2              1              0     0.0  \n",
       "2          0     10         6              3              0     0.0  \n",
       "3          0      6         3              2              0     0.0  \n",
       "4          1      3         1              1              0     1.0  "
      ]
     },
     "execution_count": 16,
     "metadata": {},
     "output_type": "execute_result"
    }
   ],
   "source": [
    "br = pd.read_csv('data/brookline.csv')\n",
    "br.head()"
   ]
  },
  {
   "cell_type": "code",
   "execution_count": 17,
   "metadata": {},
   "outputs": [
    {
     "data": {
      "text/html": [
       "<div>\n",
       "<style scoped>\n",
       "    .dataframe tbody tr th:only-of-type {\n",
       "        vertical-align: middle;\n",
       "    }\n",
       "\n",
       "    .dataframe tbody tr th {\n",
       "        vertical-align: top;\n",
       "    }\n",
       "\n",
       "    .dataframe thead th {\n",
       "        text-align: right;\n",
       "    }\n",
       "</style>\n",
       "<table border=\"1\" class=\"dataframe\">\n",
       "  <thead>\n",
       "    <tr style=\"text-align: right;\">\n",
       "      <th></th>\n",
       "      <th>price</th>\n",
       "      <th>bedrooms</th>\n",
       "    </tr>\n",
       "  </thead>\n",
       "  <tbody>\n",
       "    <tr>\n",
       "      <th>price</th>\n",
       "      <td>1.000000</td>\n",
       "      <td>0.658619</td>\n",
       "    </tr>\n",
       "    <tr>\n",
       "      <th>bedrooms</th>\n",
       "      <td>0.658619</td>\n",
       "      <td>1.000000</td>\n",
       "    </tr>\n",
       "  </tbody>\n",
       "</table>\n",
       "</div>"
      ],
      "text/plain": [
       "             price  bedrooms\n",
       "price     1.000000  0.658619\n",
       "bedrooms  0.658619  1.000000"
      ]
     },
     "execution_count": 17,
     "metadata": {},
     "output_type": "execute_result"
    }
   ],
   "source": [
    "br[['price', 'bedrooms']].corr()"
   ]
  },
  {
   "cell_type": "code",
   "execution_count": 18,
   "metadata": {},
   "outputs": [
    {
     "name": "stderr",
     "output_type": "stream",
     "text": [
      "/var/folders/h_/lxrkd3yx3w11tnfvg06j7l140000gn/T/ipykernel_46695/2468887128.py:1: FutureWarning: The default value of numeric_only in DataFrame.corr is deprecated. In a future version, it will default to False. Select only valid columns or specify the value of numeric_only to silence this warning.\n",
      "  corMatrix = br.corr()\n"
     ]
    },
    {
     "data": {
      "text/html": [
       "<div>\n",
       "<style scoped>\n",
       "    .dataframe tbody tr th:only-of-type {\n",
       "        vertical-align: middle;\n",
       "    }\n",
       "\n",
       "    .dataframe tbody tr th {\n",
       "        vertical-align: top;\n",
       "    }\n",
       "\n",
       "    .dataframe thead th {\n",
       "        text-align: right;\n",
       "    }\n",
       "</style>\n",
       "<table border=\"1\" class=\"dataframe\">\n",
       "  <thead>\n",
       "    <tr style=\"text-align: right;\">\n",
       "      <th></th>\n",
       "      <th>price</th>\n",
       "      <th>rooms</th>\n",
       "    </tr>\n",
       "  </thead>\n",
       "  <tbody>\n",
       "    <tr>\n",
       "      <th>price</th>\n",
       "      <td>1.000000</td>\n",
       "      <td>0.665161</td>\n",
       "    </tr>\n",
       "    <tr>\n",
       "      <th>stNumber</th>\n",
       "      <td>-0.039374</td>\n",
       "      <td>-0.104817</td>\n",
       "    </tr>\n",
       "    <tr>\n",
       "      <th>size</th>\n",
       "      <td>0.865468</td>\n",
       "      <td>0.778962</td>\n",
       "    </tr>\n",
       "    <tr>\n",
       "      <th>beacon</th>\n",
       "      <td>-0.055239</td>\n",
       "      <td>-0.131285</td>\n",
       "    </tr>\n",
       "    <tr>\n",
       "      <th>baseFloor</th>\n",
       "      <td>-0.098550</td>\n",
       "      <td>-0.207358</td>\n",
       "    </tr>\n",
       "    <tr>\n",
       "      <th>elevators</th>\n",
       "      <td>-0.123154</td>\n",
       "      <td>-0.253496</td>\n",
       "    </tr>\n",
       "    <tr>\n",
       "      <th>rooms</th>\n",
       "      <td>0.665161</td>\n",
       "      <td>1.000000</td>\n",
       "    </tr>\n",
       "    <tr>\n",
       "      <th>bedrooms</th>\n",
       "      <td>0.658619</td>\n",
       "      <td>0.845955</td>\n",
       "    </tr>\n",
       "    <tr>\n",
       "      <th>fullBathrooms</th>\n",
       "      <td>0.689646</td>\n",
       "      <td>0.567109</td>\n",
       "    </tr>\n",
       "    <tr>\n",
       "      <th>halfBathrooms</th>\n",
       "      <td>0.444401</td>\n",
       "      <td>0.301265</td>\n",
       "    </tr>\n",
       "    <tr>\n",
       "      <th>garage</th>\n",
       "      <td>0.380783</td>\n",
       "      <td>0.107707</td>\n",
       "    </tr>\n",
       "  </tbody>\n",
       "</table>\n",
       "</div>"
      ],
      "text/plain": [
       "                  price     rooms\n",
       "price          1.000000  0.665161\n",
       "stNumber      -0.039374 -0.104817\n",
       "size           0.865468  0.778962\n",
       "beacon        -0.055239 -0.131285\n",
       "baseFloor     -0.098550 -0.207358\n",
       "elevators     -0.123154 -0.253496\n",
       "rooms          0.665161  1.000000\n",
       "bedrooms       0.658619  0.845955\n",
       "fullBathrooms  0.689646  0.567109\n",
       "halfBathrooms  0.444401  0.301265\n",
       "garage         0.380783  0.107707"
      ]
     },
     "execution_count": 18,
     "metadata": {},
     "output_type": "execute_result"
    }
   ],
   "source": [
    "corMatrix = br.corr()\n",
    "corMatrix[['price','rooms']]"
   ]
  },
  {
   "cell_type": "code",
   "execution_count": 19,
   "metadata": {},
   "outputs": [
    {
     "data": {
      "text/plain": [
       "price            1.000000\n",
       "stNumber        -0.039374\n",
       "size             0.865468\n",
       "beacon          -0.055239\n",
       "baseFloor       -0.098550\n",
       "elevators       -0.123154\n",
       "rooms            0.665161\n",
       "bedrooms         0.658619\n",
       "fullBathrooms    0.689646\n",
       "halfBathrooms    0.444401\n",
       "garage           0.380783\n",
       "Name: price, dtype: float64"
      ]
     },
     "execution_count": 19,
     "metadata": {},
     "output_type": "execute_result"
    }
   ],
   "source": [
    "corMatrix.price"
   ]
  },
  {
   "cell_type": "code",
   "execution_count": 20,
   "metadata": {},
   "outputs": [
    {
     "data": {
      "text/html": [
       "<div>\n",
       "<style scoped>\n",
       "    .dataframe tbody tr th:only-of-type {\n",
       "        vertical-align: middle;\n",
       "    }\n",
       "\n",
       "    .dataframe tbody tr th {\n",
       "        vertical-align: top;\n",
       "    }\n",
       "\n",
       "    .dataframe thead th {\n",
       "        text-align: right;\n",
       "    }\n",
       "</style>\n",
       "<table border=\"1\" class=\"dataframe\">\n",
       "  <thead>\n",
       "    <tr style=\"text-align: right;\">\n",
       "      <th></th>\n",
       "      <th>price</th>\n",
       "    </tr>\n",
       "    <tr>\n",
       "      <th>beacon</th>\n",
       "      <th></th>\n",
       "    </tr>\n",
       "  </thead>\n",
       "  <tbody>\n",
       "    <tr>\n",
       "      <th>0</th>\n",
       "      <td>520728.878225</td>\n",
       "    </tr>\n",
       "    <tr>\n",
       "      <th>1</th>\n",
       "      <td>473759.698276</td>\n",
       "    </tr>\n",
       "  </tbody>\n",
       "</table>\n",
       "</div>"
      ],
      "text/plain": [
       "                price\n",
       "beacon               \n",
       "0       520728.878225\n",
       "1       473759.698276"
      ]
     },
     "execution_count": 20,
     "metadata": {},
     "output_type": "execute_result"
    }
   ],
   "source": [
    "br[['price', 'beacon']].groupby('beacon').mean()"
   ]
  },
  {
   "cell_type": "code",
   "execution_count": 21,
   "metadata": {},
   "outputs": [
    {
     "data": {
      "text/plain": [
       "0.17868202121426255"
      ]
     },
     "execution_count": 21,
     "metadata": {},
     "output_type": "execute_result"
    }
   ],
   "source": [
    "xbar_beacon = br.price[br.beacon==1].mean()\n",
    "xbar_nobeacon = br.price[br.beacon==0].mean()\n",
    "diff = xbar_nobeacon - xbar_beacon\n",
    "diff / br.price.std()"
   ]
  },
  {
   "cell_type": "code",
   "execution_count": 22,
   "metadata": {},
   "outputs": [
    {
     "data": {
      "image/png": "[encoded data removed]",
      "text/plain": [
       "<Figure size 640x480 with 1 Axes>"
      ]
     },
     "metadata": {},
     "output_type": "display_data"
    }
   ],
   "source": [
    "plt.hist(br.price)\n",
    "plt.title('Distribution of Income ($10K USD)')\n",
    "plt.xlabel('Income ($10K USD)')\n",
    "plt.ylabel('Frequency')\n",
    "plt.show()"
   ]
  },
  {
   "cell_type": "code",
   "execution_count": 23,
   "metadata": {},
   "outputs": [],
   "source": [
    "# Symmetry\n",
    "\n",
    "# Bimodal\n",
    "\n",
    "# Uniformity"
   ]
  },
  {
   "cell_type": "code",
   "execution_count": 24,
   "metadata": {},
   "outputs": [],
   "source": [
    "ss = pd.read_csv('data/studentsurvey.csv')\n",
    "ca = pd.read_csv('data/CASchools.csv')"
   ]
  },
  {
   "cell_type": "code",
   "execution_count": 25,
   "metadata": {},
   "outputs": [
    {
     "data": {
      "image/png": "[encoded data removed]",
      "text/plain": [
       "<Figure size 640x480 with 1 Axes>"
      ]
     },
     "metadata": {},
     "output_type": "display_data"
    }
   ],
   "source": [
    "smokeTable = ss.smoke.value_counts(normalize=True)\n",
    "plt.bar(height=smokeTable, x=smokeTable.index)\n",
    "plt.show()"
   ]
  },
  {
   "cell_type": "code",
   "execution_count": 26,
   "metadata": {},
   "outputs": [
    {
     "data": {
      "text/plain": [
       "<function matplotlib.pyplot.show(close=None, block=None)>"
      ]
     },
     "execution_count": 26,
     "metadata": {},
     "output_type": "execute_result"
    },
    {
     "data": {
      "image/png": "[encoded data removed]",
      "text/plain": [
       "<Figure size 640x480 with 1 Axes>"
      ]
     },
     "metadata": {},
     "output_type": "display_data"
    }
   ],
   "source": [
    "plt.pie(smokeTable, labels=smokeTable.index, autopct='%1.2f%%')\n",
    "plt.show"
   ]
  },
  {
   "cell_type": "code",
   "execution_count": 27,
   "metadata": {},
   "outputs": [
    {
     "data": {
      "text/plain": [
       "<AxesSubplot:xlabel='siblings'>"
      ]
     },
     "execution_count": 27,
     "metadata": {},
     "output_type": "execute_result"
    },
    {
     "data": {
      "image/png": "[encoded data removed]",
      "text/plain": [
       "<Figure size 640x480 with 1 Axes>"
      ]
     },
     "metadata": {},
     "output_type": "display_data"
    }
   ],
   "source": [
    "ss[['siblings','sat']].groupby('siblings').mean().plot(kind='bar')"
   ]
  },
  {
   "cell_type": "code",
   "execution_count": 28,
   "metadata": {},
   "outputs": [
    {
     "data": {
      "image/png": "[encoded data removed]",
      "text/plain": [
       "<Figure size 640x480 with 1 Axes>"
      ]
     },
     "metadata": {},
     "output_type": "display_data"
    }
   ],
   "source": [
    "plt.scatter(ca.income, ca.math, alpha=0.45)\n",
    "plt.show()"
   ]
  },
  {
   "cell_type": "code",
   "execution_count": 29,
   "metadata": {},
   "outputs": [],
   "source": [
    "# MAGNITUDE\n",
    "# SIGN\n",
    "# NON_LINEARITY"
   ]
  },
  {
   "cell_type": "code",
   "execution_count": 30,
   "metadata": {},
   "outputs": [
    {
     "data": {
      "text/html": [
       "<div>\n",
       "<style scoped>\n",
       "    .dataframe tbody tr th:only-of-type {\n",
       "        vertical-align: middle;\n",
       "    }\n",
       "\n",
       "    .dataframe tbody tr th {\n",
       "        vertical-align: top;\n",
       "    }\n",
       "\n",
       "    .dataframe thead th {\n",
       "        text-align: right;\n",
       "    }\n",
       "</style>\n",
       "<table border=\"1\" class=\"dataframe\">\n",
       "  <thead>\n",
       "    <tr style=\"text-align: right;\">\n",
       "      <th></th>\n",
       "      <th>math</th>\n",
       "      <th>income</th>\n",
       "    </tr>\n",
       "  </thead>\n",
       "  <tbody>\n",
       "    <tr>\n",
       "      <th>math</th>\n",
       "      <td>1.000000</td>\n",
       "      <td>0.699398</td>\n",
       "    </tr>\n",
       "    <tr>\n",
       "      <th>income</th>\n",
       "      <td>0.699398</td>\n",
       "      <td>1.000000</td>\n",
       "    </tr>\n",
       "  </tbody>\n",
       "</table>\n",
       "</div>"
      ],
      "text/plain": [
       "            math    income\n",
       "math    1.000000  0.699398\n",
       "income  0.699398  1.000000"
      ]
     },
     "execution_count": 30,
     "metadata": {},
     "output_type": "execute_result"
    }
   ],
   "source": [
    "ca[['math','income']].corr()"
   ]
  },
  {
   "cell_type": "code",
   "execution_count": 31,
   "metadata": {},
   "outputs": [
    {
     "data": {
      "text/plain": [
       "<AxesSubplot:xlabel='grades'>"
      ]
     },
     "execution_count": 31,
     "metadata": {},
     "output_type": "execute_result"
    },
    {
     "data": {
      "image/png": "[encoded data removed]",
      "text/plain": [
       "<Figure size 640x480 with 1 Axes>"
      ]
     },
     "metadata": {},
     "output_type": "display_data"
    }
   ],
   "source": [
    "ca[['math','grades']].groupby('grades').mean().plot(kind='bar')"
   ]
  },
  {
   "cell_type": "code",
   "execution_count": 32,
   "metadata": {},
   "outputs": [
    {
     "data": {
      "text/plain": [
       "<AxesSubplot:xlabel='grades', ylabel='math'>"
      ]
     },
     "execution_count": 32,
     "metadata": {},
     "output_type": "execute_result"
    },
    {
     "data": {
      "image/png": "[encoded data removed]",
      "text/plain": [
       "<Figure size 640x480 with 1 Axes>"
      ]
     },
     "metadata": {},
     "output_type": "display_data"
    }
   ],
   "source": [
    "sns.boxplot(data=ca, x='grades', y='math')"
   ]
  },
  {
   "cell_type": "code",
   "execution_count": 33,
   "metadata": {},
   "outputs": [],
   "source": [
    "# .isin"
   ]
  },
  {
   "attachments": {},
   "cell_type": "markdown",
   "metadata": {},
   "source": [
    "#### March 14th"
   ]
  },
  {
   "cell_type": "code",
   "execution_count": 34,
   "metadata": {},
   "outputs": [
    {
     "data": {
      "text/html": [
       "<div>\n",
       "<style scoped>\n",
       "    .dataframe tbody tr th:only-of-type {\n",
       "        vertical-align: middle;\n",
       "    }\n",
       "\n",
       "    .dataframe tbody tr th {\n",
       "        vertical-align: top;\n",
       "    }\n",
       "\n",
       "    .dataframe thead th {\n",
       "        text-align: right;\n",
       "    }\n",
       "</style>\n",
       "<table border=\"1\" class=\"dataframe\">\n",
       "  <thead>\n",
       "    <tr style=\"text-align: right;\">\n",
       "      <th></th>\n",
       "      <th>week</th>\n",
       "      <th>pie_sales</th>\n",
       "      <th>price</th>\n",
       "      <th>adv</th>\n",
       "    </tr>\n",
       "  </thead>\n",
       "  <tbody>\n",
       "    <tr>\n",
       "      <th>0</th>\n",
       "      <td>1</td>\n",
       "      <td>350</td>\n",
       "      <td>5.5</td>\n",
       "      <td>3300</td>\n",
       "    </tr>\n",
       "    <tr>\n",
       "      <th>1</th>\n",
       "      <td>2</td>\n",
       "      <td>460</td>\n",
       "      <td>7.5</td>\n",
       "      <td>3300</td>\n",
       "    </tr>\n",
       "    <tr>\n",
       "      <th>2</th>\n",
       "      <td>3</td>\n",
       "      <td>350</td>\n",
       "      <td>8.0</td>\n",
       "      <td>3000</td>\n",
       "    </tr>\n",
       "    <tr>\n",
       "      <th>3</th>\n",
       "      <td>4</td>\n",
       "      <td>430</td>\n",
       "      <td>8.0</td>\n",
       "      <td>4500</td>\n",
       "    </tr>\n",
       "    <tr>\n",
       "      <th>4</th>\n",
       "      <td>5</td>\n",
       "      <td>350</td>\n",
       "      <td>6.8</td>\n",
       "      <td>3000</td>\n",
       "    </tr>\n",
       "    <tr>\n",
       "      <th>5</th>\n",
       "      <td>6</td>\n",
       "      <td>380</td>\n",
       "      <td>7.5</td>\n",
       "      <td>4000</td>\n",
       "    </tr>\n",
       "    <tr>\n",
       "      <th>6</th>\n",
       "      <td>7</td>\n",
       "      <td>430</td>\n",
       "      <td>4.5</td>\n",
       "      <td>3000</td>\n",
       "    </tr>\n",
       "    <tr>\n",
       "      <th>7</th>\n",
       "      <td>8</td>\n",
       "      <td>470</td>\n",
       "      <td>6.4</td>\n",
       "      <td>3700</td>\n",
       "    </tr>\n",
       "    <tr>\n",
       "      <th>8</th>\n",
       "      <td>9</td>\n",
       "      <td>450</td>\n",
       "      <td>7.0</td>\n",
       "      <td>3500</td>\n",
       "    </tr>\n",
       "    <tr>\n",
       "      <th>9</th>\n",
       "      <td>10</td>\n",
       "      <td>490</td>\n",
       "      <td>5.0</td>\n",
       "      <td>4000</td>\n",
       "    </tr>\n",
       "    <tr>\n",
       "      <th>10</th>\n",
       "      <td>11</td>\n",
       "      <td>340</td>\n",
       "      <td>7.2</td>\n",
       "      <td>3500</td>\n",
       "    </tr>\n",
       "    <tr>\n",
       "      <th>11</th>\n",
       "      <td>12</td>\n",
       "      <td>300</td>\n",
       "      <td>7.9</td>\n",
       "      <td>3200</td>\n",
       "    </tr>\n",
       "    <tr>\n",
       "      <th>12</th>\n",
       "      <td>13</td>\n",
       "      <td>440</td>\n",
       "      <td>5.9</td>\n",
       "      <td>4000</td>\n",
       "    </tr>\n",
       "    <tr>\n",
       "      <th>13</th>\n",
       "      <td>14</td>\n",
       "      <td>450</td>\n",
       "      <td>5.0</td>\n",
       "      <td>3500</td>\n",
       "    </tr>\n",
       "    <tr>\n",
       "      <th>14</th>\n",
       "      <td>15</td>\n",
       "      <td>300</td>\n",
       "      <td>7.0</td>\n",
       "      <td>2700</td>\n",
       "    </tr>\n",
       "  </tbody>\n",
       "</table>\n",
       "</div>"
      ],
      "text/plain": [
       "    week  pie_sales  price   adv\n",
       "0      1        350    5.5  3300\n",
       "1      2        460    7.5  3300\n",
       "2      3        350    8.0  3000\n",
       "3      4        430    8.0  4500\n",
       "4      5        350    6.8  3000\n",
       "5      6        380    7.5  4000\n",
       "6      7        430    4.5  3000\n",
       "7      8        470    6.4  3700\n",
       "8      9        450    7.0  3500\n",
       "9     10        490    5.0  4000\n",
       "10    11        340    7.2  3500\n",
       "11    12        300    7.9  3200\n",
       "12    13        440    5.9  4000\n",
       "13    14        450    5.0  3500\n",
       "14    15        300    7.0  2700"
      ]
     },
     "execution_count": 34,
     "metadata": {},
     "output_type": "execute_result"
    }
   ],
   "source": [
    "ps = pd.read_csv('data/pizzaSales.csv')\n",
    "ps"
   ]
  },
  {
   "cell_type": "code",
   "execution_count": 35,
   "metadata": {},
   "outputs": [
    {
     "data": {
      "image/png": "[encoded data removed]",
      "text/plain": [
       "<Figure size 640x480 with 1 Axes>"
      ]
     },
     "metadata": {},
     "output_type": "display_data"
    }
   ],
   "source": [
    "def fitted(b0, b1, x):\n",
    "    y = b0 + b1 * x\n",
    "    return y\n",
    "\n",
    "ps['fittedValues'] = fitted(475, -10, ps.price)\n",
    "ps['residuals'] = ps.pie_sales\n",
    "ps[['pie_sales', 'fittedValues', 'price']]\n",
    "\n",
    "plt.scatter(x=ps.price, y=ps.pie_sales)\n",
    "plt.scatter(x=ps.price, y=ps.fittedValues)\n",
    "plt.show()"
   ]
  },
  {
   "cell_type": "code",
   "execution_count": 36,
   "metadata": {},
   "outputs": [
    {
     "data": {
      "text/plain": [
       "Intercept    558.277250\n",
       "price        -24.033858\n",
       "dtype: float64"
      ]
     },
     "execution_count": 36,
     "metadata": {},
     "output_type": "execute_result"
    }
   ],
   "source": [
    "# ORDINARY LEAST SQUARES (OLS)\n",
    "\n",
    "import statsmodels.formula.api as smf\n",
    "\n",
    "model = smf.ols('pie_sales ~ price', data = ps)\n",
    "results = model.fit()\n",
    "results.params"
   ]
  },
  {
   "attachments": {},
   "cell_type": "markdown",
   "metadata": {},
   "source": [
    "### March 16th"
   ]
  },
  {
   "cell_type": "code",
   "execution_count": 37,
   "metadata": {},
   "outputs": [
    {
     "data": {
      "text/html": [
       "<div>\n",
       "<style scoped>\n",
       "    .dataframe tbody tr th:only-of-type {\n",
       "        vertical-align: middle;\n",
       "    }\n",
       "\n",
       "    .dataframe tbody tr th {\n",
       "        vertical-align: top;\n",
       "    }\n",
       "\n",
       "    .dataframe thead th {\n",
       "        text-align: right;\n",
       "    }\n",
       "</style>\n",
       "<table border=\"1\" class=\"dataframe\">\n",
       "  <thead>\n",
       "    <tr style=\"text-align: right;\">\n",
       "      <th></th>\n",
       "      <th>price</th>\n",
       "      <th>stNumber</th>\n",
       "      <th>stName</th>\n",
       "      <th>size</th>\n",
       "      <th>beacon</th>\n",
       "      <th>baseFloor</th>\n",
       "      <th>buildingStyle</th>\n",
       "      <th>elevators</th>\n",
       "      <th>rooms</th>\n",
       "      <th>bedrooms</th>\n",
       "      <th>fullBathrooms</th>\n",
       "      <th>halfBathrooms</th>\n",
       "      <th>garage</th>\n",
       "    </tr>\n",
       "  </thead>\n",
       "  <tbody>\n",
       "    <tr>\n",
       "      <th>0</th>\n",
       "      <td>174000</td>\n",
       "      <td>150</td>\n",
       "      <td>PLEASANT ST</td>\n",
       "      <td>1060</td>\n",
       "      <td>0</td>\n",
       "      <td>4</td>\n",
       "      <td>MID-RISE</td>\n",
       "      <td>1</td>\n",
       "      <td>4</td>\n",
       "      <td>2</td>\n",
       "      <td>1</td>\n",
       "      <td>1</td>\n",
       "      <td>1.0</td>\n",
       "    </tr>\n",
       "    <tr>\n",
       "      <th>1</th>\n",
       "      <td>337000</td>\n",
       "      <td>7</td>\n",
       "      <td>LEVERETT ST</td>\n",
       "      <td>831</td>\n",
       "      <td>0</td>\n",
       "      <td>1</td>\n",
       "      <td>DECKER</td>\n",
       "      <td>0</td>\n",
       "      <td>4</td>\n",
       "      <td>2</td>\n",
       "      <td>1</td>\n",
       "      <td>0</td>\n",
       "      <td>0.0</td>\n",
       "    </tr>\n",
       "    <tr>\n",
       "      <th>2</th>\n",
       "      <td>850000</td>\n",
       "      <td>24</td>\n",
       "      <td>EUSTON ST</td>\n",
       "      <td>2246</td>\n",
       "      <td>0</td>\n",
       "      <td>1</td>\n",
       "      <td>ROW-END</td>\n",
       "      <td>0</td>\n",
       "      <td>10</td>\n",
       "      <td>6</td>\n",
       "      <td>3</td>\n",
       "      <td>0</td>\n",
       "      <td>0.0</td>\n",
       "    </tr>\n",
       "    <tr>\n",
       "      <th>3</th>\n",
       "      <td>516000</td>\n",
       "      <td>417</td>\n",
       "      <td>WASHINGTON ST</td>\n",
       "      <td>1574</td>\n",
       "      <td>0</td>\n",
       "      <td>2</td>\n",
       "      <td>LOW-RISE</td>\n",
       "      <td>0</td>\n",
       "      <td>6</td>\n",
       "      <td>3</td>\n",
       "      <td>2</td>\n",
       "      <td>0</td>\n",
       "      <td>0.0</td>\n",
       "    </tr>\n",
       "    <tr>\n",
       "      <th>4</th>\n",
       "      <td>145000</td>\n",
       "      <td>150</td>\n",
       "      <td>PLEASANT ST</td>\n",
       "      <td>669</td>\n",
       "      <td>0</td>\n",
       "      <td>4</td>\n",
       "      <td>MID-RISE</td>\n",
       "      <td>1</td>\n",
       "      <td>3</td>\n",
       "      <td>1</td>\n",
       "      <td>1</td>\n",
       "      <td>0</td>\n",
       "      <td>1.0</td>\n",
       "    </tr>\n",
       "  </tbody>\n",
       "</table>\n",
       "</div>"
      ],
      "text/plain": [
       "    price  stNumber         stName  size  beacon  baseFloor buildingStyle  \\\n",
       "0  174000       150    PLEASANT ST  1060       0          4      MID-RISE   \n",
       "1  337000         7    LEVERETT ST   831       0          1        DECKER   \n",
       "2  850000        24      EUSTON ST  2246       0          1       ROW-END   \n",
       "3  516000       417  WASHINGTON ST  1574       0          2      LOW-RISE   \n",
       "4  145000       150    PLEASANT ST   669       0          4      MID-RISE   \n",
       "\n",
       "   elevators  rooms  bedrooms  fullBathrooms  halfBathrooms  garage  \n",
       "0          1      4         2              1              1     1.0  \n",
       "1          0      4         2              1              0     0.0  \n",
       "2          0     10         6              3              0     0.0  \n",
       "3          0      6         3              2              0     0.0  \n",
       "4          1      3         1              1              0     1.0  "
      ]
     },
     "execution_count": 37,
     "metadata": {},
     "output_type": "execute_result"
    }
   ],
   "source": [
    "br = pd.read_csv('data/brookline.csv')\n",
    "br.head()"
   ]
  },
  {
   "cell_type": "code",
   "execution_count": 38,
   "metadata": {},
   "outputs": [
    {
     "data": {
      "text/plain": [
       "Intercept    12934.124023\n",
       "size           407.451333\n",
       "dtype: float64"
      ]
     },
     "execution_count": 38,
     "metadata": {},
     "output_type": "execute_result"
    }
   ],
   "source": [
    "# Estimating Beta Coefficients (Intercept, Slope)\n",
    "\n",
    "import statsmodels.formula.api as smf\n",
    "\n",
    "# STEP 1: SPECIFY MODEL\n",
    "model = smf.ols('price ~ size', data = br)\n",
    "\n",
    "# STEP 2: ESTIMATION\n",
    "results = model.fit()\n",
    "\n",
    "# STEP 3: EXTRACT RESULTS\n",
    "results.params"
   ]
  },
  {
   "cell_type": "code",
   "execution_count": 39,
   "metadata": {},
   "outputs": [
    {
     "data": {
      "image/png": "[encoded data removed]",
      "text/plain": [
       "<Figure size 640x480 with 1 Axes>"
      ]
     },
     "metadata": {},
     "output_type": "display_data"
    }
   ],
   "source": [
    "# GOODNESS OF FIT\n",
    "\n",
    "sns.regplot(x= br['size'], y= br.price, line_kws = {'color':'red'})\n",
    "plt.show()"
   ]
  },
  {
   "cell_type": "code",
   "execution_count": 40,
   "metadata": {},
   "outputs": [
    {
     "data": {
      "text/plain": [
       "0.7490352448530875"
      ]
     },
     "execution_count": 40,
     "metadata": {},
     "output_type": "execute_result"
    }
   ],
   "source": [
    "# RSQUARED\n",
    "\n",
    "results.rsquared"
   ]
  },
  {
   "cell_type": "code",
   "execution_count": 41,
   "metadata": {},
   "outputs": [
    {
     "data": {
      "text/html": [
       "<table class=\"simpletable\">\n",
       "<caption>OLS Regression Results</caption>\n",
       "<tr>\n",
       "  <th>Dep. Variable:</th>          <td>price</td>      <th>  R-squared:         </th> <td>   0.749</td> \n",
       "</tr>\n",
       "<tr>\n",
       "  <th>Model:</th>                   <td>OLS</td>       <th>  Adj. R-squared:    </th> <td>   0.749</td> \n",
       "</tr>\n",
       "<tr>\n",
       "  <th>Method:</th>             <td>Least Squares</td>  <th>  F-statistic:       </th> <td>   3232.</td> \n",
       "</tr>\n",
       "<tr>\n",
       "  <th>Date:</th>             <td>Tue, 11 Apr 2023</td> <th>  Prob (F-statistic):</th>  <td>  0.00</td>  \n",
       "</tr>\n",
       "<tr>\n",
       "  <th>Time:</th>                 <td>14:15:08</td>     <th>  Log-Likelihood:    </th> <td> -14329.</td> \n",
       "</tr>\n",
       "<tr>\n",
       "  <th>No. Observations:</th>      <td>  1085</td>      <th>  AIC:               </th> <td>2.866e+04</td>\n",
       "</tr>\n",
       "<tr>\n",
       "  <th>Df Residuals:</th>          <td>  1083</td>      <th>  BIC:               </th> <td>2.867e+04</td>\n",
       "</tr>\n",
       "<tr>\n",
       "  <th>Df Model:</th>              <td>     1</td>      <th>                     </th>     <td> </td>    \n",
       "</tr>\n",
       "<tr>\n",
       "  <th>Covariance Type:</th>      <td>nonrobust</td>    <th>                     </th>     <td> </td>    \n",
       "</tr>\n",
       "</table>\n",
       "<table class=\"simpletable\">\n",
       "<tr>\n",
       "      <td></td>         <th>coef</th>     <th>std err</th>      <th>t</th>      <th>P>|t|</th>  <th>[0.025</th>    <th>0.975]</th>  \n",
       "</tr>\n",
       "<tr>\n",
       "  <th>Intercept</th> <td> 1.293e+04</td> <td> 9705.712</td> <td>    1.333</td> <td> 0.183</td> <td>-6110.006</td> <td>  3.2e+04</td>\n",
       "</tr>\n",
       "<tr>\n",
       "  <th>size</th>      <td>  407.4513</td> <td>    7.167</td> <td>   56.854</td> <td> 0.000</td> <td>  393.389</td> <td>  421.513</td>\n",
       "</tr>\n",
       "</table>\n",
       "<table class=\"simpletable\">\n",
       "<tr>\n",
       "  <th>Omnibus:</th>       <td>456.223</td> <th>  Durbin-Watson:     </th> <td>   2.045</td>\n",
       "</tr>\n",
       "<tr>\n",
       "  <th>Prob(Omnibus):</th> <td> 0.000</td>  <th>  Jarque-Bera (JB):  </th> <td>8271.768</td>\n",
       "</tr>\n",
       "<tr>\n",
       "  <th>Skew:</th>          <td> 1.463</td>  <th>  Prob(JB):          </th> <td>    0.00</td>\n",
       "</tr>\n",
       "<tr>\n",
       "  <th>Kurtosis:</th>      <td>16.206</td>  <th>  Cond. No.          </th> <td>3.29e+03</td>\n",
       "</tr>\n",
       "</table><br/><br/>Notes:<br/>[1] Standard Errors assume that the covariance matrix of the errors is correctly specified.<br/>[2] The condition number is large, 3.29e+03. This might indicate that there are<br/>strong multicollinearity or other numerical problems."
      ],
      "text/plain": [
       "<class 'statsmodels.iolib.summary.Summary'>\n",
       "\"\"\"\n",
       "                            OLS Regression Results                            \n",
       "==============================================================================\n",
       "Dep. Variable:                  price   R-squared:                       0.749\n",
       "Model:                            OLS   Adj. R-squared:                  0.749\n",
       "Method:                 Least Squares   F-statistic:                     3232.\n",
       "Date:                Tue, 11 Apr 2023   Prob (F-statistic):               0.00\n",
       "Time:                        14:15:08   Log-Likelihood:                -14329.\n",
       "No. Observations:                1085   AIC:                         2.866e+04\n",
       "Df Residuals:                    1083   BIC:                         2.867e+04\n",
       "Df Model:                           1                                         \n",
       "Covariance Type:            nonrobust                                         \n",
       "==============================================================================\n",
       "                 coef    std err          t      P>|t|      [0.025      0.975]\n",
       "------------------------------------------------------------------------------\n",
       "Intercept   1.293e+04   9705.712      1.333      0.183   -6110.006     3.2e+04\n",
       "size         407.4513      7.167     56.854      0.000     393.389     421.513\n",
       "==============================================================================\n",
       "Omnibus:                      456.223   Durbin-Watson:                   2.045\n",
       "Prob(Omnibus):                  0.000   Jarque-Bera (JB):             8271.768\n",
       "Skew:                           1.463   Prob(JB):                         0.00\n",
       "Kurtosis:                      16.206   Cond. No.                     3.29e+03\n",
       "==============================================================================\n",
       "\n",
       "Notes:\n",
       "[1] Standard Errors assume that the covariance matrix of the errors is correctly specified.\n",
       "[2] The condition number is large, 3.29e+03. This might indicate that there are\n",
       "strong multicollinearity or other numerical problems.\n",
       "\"\"\""
      ]
     },
     "execution_count": 41,
     "metadata": {},
     "output_type": "execute_result"
    }
   ],
   "source": [
    "results.summary()"
   ]
  },
  {
   "cell_type": "code",
   "execution_count": 42,
   "metadata": {},
   "outputs": [],
   "source": [
    "# Univariate\n",
    "# y = b0 + b1 x + error\n",
    "# y = dependent \n",
    "# x = independent\n",
    "# b0 = intercept (avg y when x = 0)\n",
    "# b1 = slope (avg delta y when delta x = 1)\n",
    "# Error = other factors (z -> y; z != x)\n",
    "\n",
    "# Multivariate\n",
    "# y = b0 + b1 x1 + b2 x2 + ... + bk xk + error\n",
    "# b0 = intercept (avg y when all xi = 0)\n",
    "# b1 = slope (avg delta y when delta xi = 1; while keeping all other x variables constant)"
   ]
  },
  {
   "cell_type": "code",
   "execution_count": 43,
   "metadata": {},
   "outputs": [
    {
     "data": {
      "text/html": [
       "<div>\n",
       "<style scoped>\n",
       "    .dataframe tbody tr th:only-of-type {\n",
       "        vertical-align: middle;\n",
       "    }\n",
       "\n",
       "    .dataframe tbody tr th {\n",
       "        vertical-align: top;\n",
       "    }\n",
       "\n",
       "    .dataframe thead th {\n",
       "        text-align: right;\n",
       "    }\n",
       "</style>\n",
       "<table border=\"1\" class=\"dataframe\">\n",
       "  <thead>\n",
       "    <tr style=\"text-align: right;\">\n",
       "      <th></th>\n",
       "      <th>price</th>\n",
       "      <th>stNumber</th>\n",
       "      <th>stName</th>\n",
       "      <th>size</th>\n",
       "      <th>beacon</th>\n",
       "      <th>baseFloor</th>\n",
       "      <th>buildingStyle</th>\n",
       "      <th>elevators</th>\n",
       "      <th>rooms</th>\n",
       "      <th>bedrooms</th>\n",
       "      <th>fullBathrooms</th>\n",
       "      <th>halfBathrooms</th>\n",
       "      <th>garage</th>\n",
       "    </tr>\n",
       "  </thead>\n",
       "  <tbody>\n",
       "    <tr>\n",
       "      <th>0</th>\n",
       "      <td>174000</td>\n",
       "      <td>150</td>\n",
       "      <td>PLEASANT ST</td>\n",
       "      <td>1060</td>\n",
       "      <td>0</td>\n",
       "      <td>4</td>\n",
       "      <td>MID-RISE</td>\n",
       "      <td>1</td>\n",
       "      <td>4</td>\n",
       "      <td>2</td>\n",
       "      <td>1</td>\n",
       "      <td>1</td>\n",
       "      <td>1.0</td>\n",
       "    </tr>\n",
       "    <tr>\n",
       "      <th>1</th>\n",
       "      <td>337000</td>\n",
       "      <td>7</td>\n",
       "      <td>LEVERETT ST</td>\n",
       "      <td>831</td>\n",
       "      <td>0</td>\n",
       "      <td>1</td>\n",
       "      <td>DECKER</td>\n",
       "      <td>0</td>\n",
       "      <td>4</td>\n",
       "      <td>2</td>\n",
       "      <td>1</td>\n",
       "      <td>0</td>\n",
       "      <td>0.0</td>\n",
       "    </tr>\n",
       "    <tr>\n",
       "      <th>2</th>\n",
       "      <td>850000</td>\n",
       "      <td>24</td>\n",
       "      <td>EUSTON ST</td>\n",
       "      <td>2246</td>\n",
       "      <td>0</td>\n",
       "      <td>1</td>\n",
       "      <td>ROW-END</td>\n",
       "      <td>0</td>\n",
       "      <td>10</td>\n",
       "      <td>6</td>\n",
       "      <td>3</td>\n",
       "      <td>0</td>\n",
       "      <td>0.0</td>\n",
       "    </tr>\n",
       "    <tr>\n",
       "      <th>3</th>\n",
       "      <td>516000</td>\n",
       "      <td>417</td>\n",
       "      <td>WASHINGTON ST</td>\n",
       "      <td>1574</td>\n",
       "      <td>0</td>\n",
       "      <td>2</td>\n",
       "      <td>LOW-RISE</td>\n",
       "      <td>0</td>\n",
       "      <td>6</td>\n",
       "      <td>3</td>\n",
       "      <td>2</td>\n",
       "      <td>0</td>\n",
       "      <td>0.0</td>\n",
       "    </tr>\n",
       "    <tr>\n",
       "      <th>4</th>\n",
       "      <td>145000</td>\n",
       "      <td>150</td>\n",
       "      <td>PLEASANT ST</td>\n",
       "      <td>669</td>\n",
       "      <td>0</td>\n",
       "      <td>4</td>\n",
       "      <td>MID-RISE</td>\n",
       "      <td>1</td>\n",
       "      <td>3</td>\n",
       "      <td>1</td>\n",
       "      <td>1</td>\n",
       "      <td>0</td>\n",
       "      <td>1.0</td>\n",
       "    </tr>\n",
       "  </tbody>\n",
       "</table>\n",
       "</div>"
      ],
      "text/plain": [
       "    price  stNumber         stName  size  beacon  baseFloor buildingStyle  \\\n",
       "0  174000       150    PLEASANT ST  1060       0          4      MID-RISE   \n",
       "1  337000         7    LEVERETT ST   831       0          1        DECKER   \n",
       "2  850000        24      EUSTON ST  2246       0          1       ROW-END   \n",
       "3  516000       417  WASHINGTON ST  1574       0          2      LOW-RISE   \n",
       "4  145000       150    PLEASANT ST   669       0          4      MID-RISE   \n",
       "\n",
       "   elevators  rooms  bedrooms  fullBathrooms  halfBathrooms  garage  \n",
       "0          1      4         2              1              1     1.0  \n",
       "1          0      4         2              1              0     0.0  \n",
       "2          0     10         6              3              0     0.0  \n",
       "3          0      6         3              2              0     0.0  \n",
       "4          1      3         1              1              0     1.0  "
      ]
     },
     "execution_count": 43,
     "metadata": {},
     "output_type": "execute_result"
    }
   ],
   "source": [
    "br.head()"
   ]
  },
  {
   "cell_type": "code",
   "execution_count": 44,
   "metadata": {},
   "outputs": [
    {
     "name": "stdout",
     "output_type": "stream",
     "text": [
      "Intercept     6981.353007\n",
      "beacon       32935.891941\n",
      "size           409.421852\n",
      "dtype: float64\n",
      "0.7505180922644176\n"
     ]
    }
   ],
   "source": [
    "import statsmodels.formula.api as smf\n",
    "\n",
    "model = smf.ols('price ~ beacon + size ', data = br)\n",
    "results = model.fit()\n",
    "print(results.params)\n",
    "print(results.rsquared)"
   ]
  },
  {
   "cell_type": "code",
   "execution_count": 45,
   "metadata": {},
   "outputs": [
    {
     "data": {
      "text/html": [
       "<table class=\"simpletable\">\n",
       "<caption>OLS Regression Results</caption>\n",
       "<tr>\n",
       "  <th>Dep. Variable:</th>          <td>price</td>      <th>  R-squared:         </th> <td>   0.751</td> \n",
       "</tr>\n",
       "<tr>\n",
       "  <th>Model:</th>                   <td>OLS</td>       <th>  Adj. R-squared:    </th> <td>   0.750</td> \n",
       "</tr>\n",
       "<tr>\n",
       "  <th>Method:</th>             <td>Least Squares</td>  <th>  F-statistic:       </th> <td>   1627.</td> \n",
       "</tr>\n",
       "<tr>\n",
       "  <th>Date:</th>             <td>Tue, 11 Apr 2023</td> <th>  Prob (F-statistic):</th>  <td>  0.00</td>  \n",
       "</tr>\n",
       "<tr>\n",
       "  <th>Time:</th>                 <td>14:15:08</td>     <th>  Log-Likelihood:    </th> <td> -14326.</td> \n",
       "</tr>\n",
       "<tr>\n",
       "  <th>No. Observations:</th>      <td>  1085</td>      <th>  AIC:               </th> <td>2.866e+04</td>\n",
       "</tr>\n",
       "<tr>\n",
       "  <th>Df Residuals:</th>          <td>  1082</td>      <th>  BIC:               </th> <td>2.867e+04</td>\n",
       "</tr>\n",
       "<tr>\n",
       "  <th>Df Model:</th>              <td>     2</td>      <th>                     </th>     <td> </td>    \n",
       "</tr>\n",
       "<tr>\n",
       "  <th>Covariance Type:</th>      <td>nonrobust</td>    <th>                     </th>     <td> </td>    \n",
       "</tr>\n",
       "</table>\n",
       "<table class=\"simpletable\">\n",
       "<tr>\n",
       "      <td></td>         <th>coef</th>     <th>std err</th>      <th>t</th>      <th>P>|t|</th>  <th>[0.025</th>    <th>0.975]</th>  \n",
       "</tr>\n",
       "<tr>\n",
       "  <th>Intercept</th> <td> 6981.3530</td> <td> 9961.969</td> <td>    0.701</td> <td> 0.484</td> <td>-1.26e+04</td> <td> 2.65e+04</td>\n",
       "</tr>\n",
       "<tr>\n",
       "  <th>beacon</th>    <td> 3.294e+04</td> <td>  1.3e+04</td> <td>    2.536</td> <td> 0.011</td> <td> 7452.263</td> <td> 5.84e+04</td>\n",
       "</tr>\n",
       "<tr>\n",
       "  <th>size</th>      <td>  409.4219</td> <td>    7.191</td> <td>   56.936</td> <td> 0.000</td> <td>  395.312</td> <td>  423.531</td>\n",
       "</tr>\n",
       "</table>\n",
       "<table class=\"simpletable\">\n",
       "<tr>\n",
       "  <th>Omnibus:</th>       <td>457.231</td> <th>  Durbin-Watson:     </th> <td>   2.052</td>\n",
       "</tr>\n",
       "<tr>\n",
       "  <th>Prob(Omnibus):</th> <td> 0.000</td>  <th>  Jarque-Bera (JB):  </th> <td>8438.199</td>\n",
       "</tr>\n",
       "<tr>\n",
       "  <th>Skew:</th>          <td> 1.462</td>  <th>  Prob(JB):          </th> <td>    0.00</td>\n",
       "</tr>\n",
       "<tr>\n",
       "  <th>Kurtosis:</th>      <td>16.345</td>  <th>  Cond. No.          </th> <td>4.56e+03</td>\n",
       "</tr>\n",
       "</table><br/><br/>Notes:<br/>[1] Standard Errors assume that the covariance matrix of the errors is correctly specified.<br/>[2] The condition number is large, 4.56e+03. This might indicate that there are<br/>strong multicollinearity or other numerical problems."
      ],
      "text/plain": [
       "<class 'statsmodels.iolib.summary.Summary'>\n",
       "\"\"\"\n",
       "                            OLS Regression Results                            \n",
       "==============================================================================\n",
       "Dep. Variable:                  price   R-squared:                       0.751\n",
       "Model:                            OLS   Adj. R-squared:                  0.750\n",
       "Method:                 Least Squares   F-statistic:                     1627.\n",
       "Date:                Tue, 11 Apr 2023   Prob (F-statistic):               0.00\n",
       "Time:                        14:15:08   Log-Likelihood:                -14326.\n",
       "No. Observations:                1085   AIC:                         2.866e+04\n",
       "Df Residuals:                    1082   BIC:                         2.867e+04\n",
       "Df Model:                           2                                         \n",
       "Covariance Type:            nonrobust                                         \n",
       "==============================================================================\n",
       "                 coef    std err          t      P>|t|      [0.025      0.975]\n",
       "------------------------------------------------------------------------------\n",
       "Intercept   6981.3530   9961.969      0.701      0.484   -1.26e+04    2.65e+04\n",
       "beacon      3.294e+04    1.3e+04      2.536      0.011    7452.263    5.84e+04\n",
       "size         409.4219      7.191     56.936      0.000     395.312     423.531\n",
       "==============================================================================\n",
       "Omnibus:                      457.231   Durbin-Watson:                   2.052\n",
       "Prob(Omnibus):                  0.000   Jarque-Bera (JB):             8438.199\n",
       "Skew:                           1.462   Prob(JB):                         0.00\n",
       "Kurtosis:                      16.345   Cond. No.                     4.56e+03\n",
       "==============================================================================\n",
       "\n",
       "Notes:\n",
       "[1] Standard Errors assume that the covariance matrix of the errors is correctly specified.\n",
       "[2] The condition number is large, 4.56e+03. This might indicate that there are\n",
       "strong multicollinearity or other numerical problems.\n",
       "\"\"\""
      ]
     },
     "execution_count": 45,
     "metadata": {},
     "output_type": "execute_result"
    }
   ],
   "source": [
    "results.summary()"
   ]
  },
  {
   "attachments": {},
   "cell_type": "markdown",
   "metadata": {},
   "source": [
    "---\n",
    "\n",
    "### March 23rd"
   ]
  },
  {
   "cell_type": "code",
   "execution_count": 46,
   "metadata": {},
   "outputs": [
    {
     "data": {
      "text/plain": [
       "Intercept    520728.878225\n",
       "beacon       -46969.179949\n",
       "dtype: float64"
      ]
     },
     "execution_count": 46,
     "metadata": {},
     "output_type": "execute_result"
    }
   ],
   "source": [
    "import statsmodels.formula.api as smf\n",
    "\n",
    "model = smf.ols('price ~ beacon', data=br)\n",
    "results = model.fit()\n",
    "results.params"
   ]
  },
  {
   "cell_type": "code",
   "execution_count": 47,
   "metadata": {},
   "outputs": [],
   "source": [
    "# Ways to not reject hypothesis:\n",
    "# 1. p value is higher than 0.05\n",
    "# 2. within the 95% confidence interval\n",
    "# 3. absolute value of t is less than 1.96"
   ]
  },
  {
   "cell_type": "code",
   "execution_count": 48,
   "metadata": {},
   "outputs": [
    {
     "name": "stderr",
     "output_type": "stream",
     "text": [
      "/var/folders/h_/lxrkd3yx3w11tnfvg06j7l140000gn/T/ipykernel_46695/832659157.py:2: SettingWithCopyWarning: \n",
      "A value is trying to be set on a copy of a slice from a DataFrame\n",
      "\n",
      "See the caveats in the documentation: https://pandas.pydata.org/pandas-docs/stable/user_guide/indexing.html#returning-a-view-versus-a-copy\n",
      "  br.chapel[br.stName == 'CHAPEL ST'] = 1\n"
     ]
    }
   ],
   "source": [
    "br['chapel'] = 0\n",
    "br.chapel[br.stName == 'CHAPEL ST'] = 1"
   ]
  },
  {
   "cell_type": "code",
   "execution_count": 49,
   "metadata": {},
   "outputs": [
    {
     "data": {
      "text/html": [
       "<div>\n",
       "<style scoped>\n",
       "    .dataframe tbody tr th:only-of-type {\n",
       "        vertical-align: middle;\n",
       "    }\n",
       "\n",
       "    .dataframe tbody tr th {\n",
       "        vertical-align: top;\n",
       "    }\n",
       "\n",
       "    .dataframe thead th {\n",
       "        text-align: right;\n",
       "    }\n",
       "</style>\n",
       "<table border=\"1\" class=\"dataframe\">\n",
       "  <thead>\n",
       "    <tr style=\"text-align: right;\">\n",
       "      <th></th>\n",
       "      <th>price</th>\n",
       "      <th>stNumber</th>\n",
       "      <th>stName</th>\n",
       "      <th>size</th>\n",
       "      <th>beacon</th>\n",
       "      <th>baseFloor</th>\n",
       "      <th>buildingStyle</th>\n",
       "      <th>elevators</th>\n",
       "      <th>rooms</th>\n",
       "      <th>bedrooms</th>\n",
       "      <th>fullBathrooms</th>\n",
       "      <th>halfBathrooms</th>\n",
       "      <th>garage</th>\n",
       "      <th>chapel</th>\n",
       "    </tr>\n",
       "  </thead>\n",
       "  <tbody>\n",
       "    <tr>\n",
       "      <th>6</th>\n",
       "      <td>676000</td>\n",
       "      <td>20</td>\n",
       "      <td>CHAPEL ST</td>\n",
       "      <td>1561</td>\n",
       "      <td>0</td>\n",
       "      <td>7</td>\n",
       "      <td>HIGH-RISE</td>\n",
       "      <td>6</td>\n",
       "      <td>6</td>\n",
       "      <td>2</td>\n",
       "      <td>2</td>\n",
       "      <td>0</td>\n",
       "      <td>2.0</td>\n",
       "      <td>1</td>\n",
       "    </tr>\n",
       "    <tr>\n",
       "      <th>18</th>\n",
       "      <td>288000</td>\n",
       "      <td>20</td>\n",
       "      <td>CHAPEL ST</td>\n",
       "      <td>876</td>\n",
       "      <td>0</td>\n",
       "      <td>0</td>\n",
       "      <td>HIGH-RISE</td>\n",
       "      <td>6</td>\n",
       "      <td>4</td>\n",
       "      <td>1</td>\n",
       "      <td>2</td>\n",
       "      <td>0</td>\n",
       "      <td>0.0</td>\n",
       "      <td>1</td>\n",
       "    </tr>\n",
       "    <tr>\n",
       "      <th>31</th>\n",
       "      <td>250000</td>\n",
       "      <td>20</td>\n",
       "      <td>CHAPEL ST</td>\n",
       "      <td>710</td>\n",
       "      <td>0</td>\n",
       "      <td>0</td>\n",
       "      <td>HIGH-RISE</td>\n",
       "      <td>6</td>\n",
       "      <td>4</td>\n",
       "      <td>1</td>\n",
       "      <td>1</td>\n",
       "      <td>0</td>\n",
       "      <td>0.0</td>\n",
       "      <td>1</td>\n",
       "    </tr>\n",
       "    <tr>\n",
       "      <th>35</th>\n",
       "      <td>312000</td>\n",
       "      <td>20</td>\n",
       "      <td>CHAPEL ST</td>\n",
       "      <td>566</td>\n",
       "      <td>0</td>\n",
       "      <td>2</td>\n",
       "      <td>HIGH-RISE</td>\n",
       "      <td>6</td>\n",
       "      <td>4</td>\n",
       "      <td>1</td>\n",
       "      <td>1</td>\n",
       "      <td>0</td>\n",
       "      <td>0.0</td>\n",
       "      <td>1</td>\n",
       "    </tr>\n",
       "    <tr>\n",
       "      <th>36</th>\n",
       "      <td>528000</td>\n",
       "      <td>20</td>\n",
       "      <td>CHAPEL ST</td>\n",
       "      <td>1141</td>\n",
       "      <td>0</td>\n",
       "      <td>3</td>\n",
       "      <td>HIGH-RISE</td>\n",
       "      <td>6</td>\n",
       "      <td>5</td>\n",
       "      <td>2</td>\n",
       "      <td>2</td>\n",
       "      <td>0</td>\n",
       "      <td>0.0</td>\n",
       "      <td>1</td>\n",
       "    </tr>\n",
       "    <tr>\n",
       "      <th>...</th>\n",
       "      <td>...</td>\n",
       "      <td>...</td>\n",
       "      <td>...</td>\n",
       "      <td>...</td>\n",
       "      <td>...</td>\n",
       "      <td>...</td>\n",
       "      <td>...</td>\n",
       "      <td>...</td>\n",
       "      <td>...</td>\n",
       "      <td>...</td>\n",
       "      <td>...</td>\n",
       "      <td>...</td>\n",
       "      <td>...</td>\n",
       "      <td>...</td>\n",
       "    </tr>\n",
       "    <tr>\n",
       "      <th>601</th>\n",
       "      <td>273000</td>\n",
       "      <td>20</td>\n",
       "      <td>CHAPEL ST</td>\n",
       "      <td>683</td>\n",
       "      <td>0</td>\n",
       "      <td>0</td>\n",
       "      <td>HIGH-RISE</td>\n",
       "      <td>6</td>\n",
       "      <td>4</td>\n",
       "      <td>1</td>\n",
       "      <td>1</td>\n",
       "      <td>0</td>\n",
       "      <td>0.0</td>\n",
       "      <td>1</td>\n",
       "    </tr>\n",
       "    <tr>\n",
       "      <th>609</th>\n",
       "      <td>350000</td>\n",
       "      <td>20</td>\n",
       "      <td>CHAPEL ST</td>\n",
       "      <td>1115</td>\n",
       "      <td>0</td>\n",
       "      <td>0</td>\n",
       "      <td>HIGH-RISE</td>\n",
       "      <td>6</td>\n",
       "      <td>5</td>\n",
       "      <td>2</td>\n",
       "      <td>2</td>\n",
       "      <td>0</td>\n",
       "      <td>0.0</td>\n",
       "      <td>1</td>\n",
       "    </tr>\n",
       "    <tr>\n",
       "      <th>858</th>\n",
       "      <td>772500</td>\n",
       "      <td>20</td>\n",
       "      <td>CHAPEL ST</td>\n",
       "      <td>1515</td>\n",
       "      <td>0</td>\n",
       "      <td>7</td>\n",
       "      <td>HIGH-RISE</td>\n",
       "      <td>6</td>\n",
       "      <td>6</td>\n",
       "      <td>2</td>\n",
       "      <td>2</td>\n",
       "      <td>0</td>\n",
       "      <td>2.0</td>\n",
       "      <td>1</td>\n",
       "    </tr>\n",
       "    <tr>\n",
       "      <th>890</th>\n",
       "      <td>461000</td>\n",
       "      <td>20</td>\n",
       "      <td>CHAPEL ST</td>\n",
       "      <td>945</td>\n",
       "      <td>0</td>\n",
       "      <td>2</td>\n",
       "      <td>HIGH-RISE</td>\n",
       "      <td>6</td>\n",
       "      <td>5</td>\n",
       "      <td>2</td>\n",
       "      <td>1</td>\n",
       "      <td>0</td>\n",
       "      <td>1.0</td>\n",
       "      <td>1</td>\n",
       "    </tr>\n",
       "    <tr>\n",
       "      <th>938</th>\n",
       "      <td>399000</td>\n",
       "      <td>20</td>\n",
       "      <td>CHAPEL ST</td>\n",
       "      <td>742</td>\n",
       "      <td>0</td>\n",
       "      <td>4</td>\n",
       "      <td>HIGH-RISE</td>\n",
       "      <td>6</td>\n",
       "      <td>3</td>\n",
       "      <td>1</td>\n",
       "      <td>1</td>\n",
       "      <td>0</td>\n",
       "      <td>1.0</td>\n",
       "      <td>1</td>\n",
       "    </tr>\n",
       "  </tbody>\n",
       "</table>\n",
       "<p>73 rows × 14 columns</p>\n",
       "</div>"
      ],
      "text/plain": [
       "      price  stNumber     stName  size  beacon  baseFloor buildingStyle  \\\n",
       "6    676000        20  CHAPEL ST  1561       0          7     HIGH-RISE   \n",
       "18   288000        20  CHAPEL ST   876       0          0     HIGH-RISE   \n",
       "31   250000        20  CHAPEL ST   710       0          0     HIGH-RISE   \n",
       "35   312000        20  CHAPEL ST   566       0          2     HIGH-RISE   \n",
       "36   528000        20  CHAPEL ST  1141       0          3     HIGH-RISE   \n",
       "..      ...       ...        ...   ...     ...        ...           ...   \n",
       "601  273000        20  CHAPEL ST   683       0          0     HIGH-RISE   \n",
       "609  350000        20  CHAPEL ST  1115       0          0     HIGH-RISE   \n",
       "858  772500        20  CHAPEL ST  1515       0          7     HIGH-RISE   \n",
       "890  461000        20  CHAPEL ST   945       0          2     HIGH-RISE   \n",
       "938  399000        20  CHAPEL ST   742       0          4     HIGH-RISE   \n",
       "\n",
       "     elevators  rooms  bedrooms  fullBathrooms  halfBathrooms  garage  chapel  \n",
       "6            6      6         2              2              0     2.0       1  \n",
       "18           6      4         1              2              0     0.0       1  \n",
       "31           6      4         1              1              0     0.0       1  \n",
       "35           6      4         1              1              0     0.0       1  \n",
       "36           6      5         2              2              0     0.0       1  \n",
       "..         ...    ...       ...            ...            ...     ...     ...  \n",
       "601          6      4         1              1              0     0.0       1  \n",
       "609          6      5         2              2              0     0.0       1  \n",
       "858          6      6         2              2              0     2.0       1  \n",
       "890          6      5         2              1              0     1.0       1  \n",
       "938          6      3         1              1              0     1.0       1  \n",
       "\n",
       "[73 rows x 14 columns]"
      ]
     },
     "execution_count": 49,
     "metadata": {},
     "output_type": "execute_result"
    }
   ],
   "source": [
    "br[br.stName == 'CHAPEL ST']"
   ]
  },
  {
   "cell_type": "code",
   "execution_count": 50,
   "metadata": {},
   "outputs": [
    {
     "data": {
      "text/plain": [
       "Intercept    522322.189732\n",
       "beacon       -48562.491456\n",
       "chapel       -21149.573294\n",
       "dtype: float64"
      ]
     },
     "execution_count": 50,
     "metadata": {},
     "output_type": "execute_result"
    }
   ],
   "source": [
    "model = smf.ols('price ~ beacon + chapel', data=br)\n",
    "results = model.fit()\n",
    "results.params"
   ]
  },
  {
   "cell_type": "code",
   "execution_count": 51,
   "metadata": {},
   "outputs": [
    {
     "data": {
      "text/plain": [
       "Intercept                              733868.750000\n",
       "C(buildingStyle)[T.CONVERTED-HOUSE]    -45880.885135\n",
       "C(buildingStyle)[T.DECKER]            -136890.849174\n",
       "C(buildingStyle)[T.DUPLEX]              73811.250000\n",
       "C(buildingStyle)[T.HIGH-RISE]         -321138.925115\n",
       "C(buildingStyle)[T.LOW-RISE]          -232683.237685\n",
       "C(buildingStyle)[T.MID-RISE]          -282654.552469\n",
       "C(buildingStyle)[T.OTHER]              458087.875000\n",
       "C(buildingStyle)[T.ROW-END]           -240005.935185\n",
       "C(buildingStyle)[T.ROW-MIDDLE]        -205432.279412\n",
       "dtype: float64"
      ]
     },
     "execution_count": 51,
     "metadata": {},
     "output_type": "execute_result"
    }
   ],
   "source": [
    "import statsmodels.formula.api as smf\n",
    "\n",
    "model = smf.ols('price ~ C(buildingStyle)', data=br)\n",
    "results = model.fit()\n",
    "results.params"
   ]
  },
  {
   "cell_type": "code",
   "execution_count": 52,
   "metadata": {},
   "outputs": [
    {
     "data": {
      "text/html": [
       "<div>\n",
       "<style scoped>\n",
       "    .dataframe tbody tr th:only-of-type {\n",
       "        vertical-align: middle;\n",
       "    }\n",
       "\n",
       "    .dataframe tbody tr th {\n",
       "        vertical-align: top;\n",
       "    }\n",
       "\n",
       "    .dataframe thead th {\n",
       "        text-align: right;\n",
       "    }\n",
       "</style>\n",
       "<table border=\"1\" class=\"dataframe\">\n",
       "  <thead>\n",
       "    <tr style=\"text-align: right;\">\n",
       "      <th></th>\n",
       "      <th>price</th>\n",
       "      <th>stNumber</th>\n",
       "      <th>stName</th>\n",
       "      <th>size</th>\n",
       "      <th>beacon</th>\n",
       "      <th>baseFloor</th>\n",
       "      <th>elevators</th>\n",
       "      <th>rooms</th>\n",
       "      <th>bedrooms</th>\n",
       "      <th>fullBathrooms</th>\n",
       "      <th>...</th>\n",
       "      <th>buildingStyle_CLUSTER-TYPE</th>\n",
       "      <th>buildingStyle_CONVERTED-HOUSE</th>\n",
       "      <th>buildingStyle_DECKER</th>\n",
       "      <th>buildingStyle_DUPLEX</th>\n",
       "      <th>buildingStyle_HIGH-RISE</th>\n",
       "      <th>buildingStyle_LOW-RISE</th>\n",
       "      <th>buildingStyle_MID-RISE</th>\n",
       "      <th>buildingStyle_OTHER</th>\n",
       "      <th>buildingStyle_ROW-END</th>\n",
       "      <th>buildingStyle_ROW-MIDDLE</th>\n",
       "    </tr>\n",
       "  </thead>\n",
       "  <tbody>\n",
       "    <tr>\n",
       "      <th>0</th>\n",
       "      <td>174000</td>\n",
       "      <td>150</td>\n",
       "      <td>PLEASANT ST</td>\n",
       "      <td>1060</td>\n",
       "      <td>0</td>\n",
       "      <td>4</td>\n",
       "      <td>1</td>\n",
       "      <td>4</td>\n",
       "      <td>2</td>\n",
       "      <td>1</td>\n",
       "      <td>...</td>\n",
       "      <td>0</td>\n",
       "      <td>0</td>\n",
       "      <td>0</td>\n",
       "      <td>0</td>\n",
       "      <td>0</td>\n",
       "      <td>0</td>\n",
       "      <td>1</td>\n",
       "      <td>0</td>\n",
       "      <td>0</td>\n",
       "      <td>0</td>\n",
       "    </tr>\n",
       "    <tr>\n",
       "      <th>1</th>\n",
       "      <td>337000</td>\n",
       "      <td>7</td>\n",
       "      <td>LEVERETT ST</td>\n",
       "      <td>831</td>\n",
       "      <td>0</td>\n",
       "      <td>1</td>\n",
       "      <td>0</td>\n",
       "      <td>4</td>\n",
       "      <td>2</td>\n",
       "      <td>1</td>\n",
       "      <td>...</td>\n",
       "      <td>0</td>\n",
       "      <td>0</td>\n",
       "      <td>1</td>\n",
       "      <td>0</td>\n",
       "      <td>0</td>\n",
       "      <td>0</td>\n",
       "      <td>0</td>\n",
       "      <td>0</td>\n",
       "      <td>0</td>\n",
       "      <td>0</td>\n",
       "    </tr>\n",
       "    <tr>\n",
       "      <th>2</th>\n",
       "      <td>850000</td>\n",
       "      <td>24</td>\n",
       "      <td>EUSTON ST</td>\n",
       "      <td>2246</td>\n",
       "      <td>0</td>\n",
       "      <td>1</td>\n",
       "      <td>0</td>\n",
       "      <td>10</td>\n",
       "      <td>6</td>\n",
       "      <td>3</td>\n",
       "      <td>...</td>\n",
       "      <td>0</td>\n",
       "      <td>0</td>\n",
       "      <td>0</td>\n",
       "      <td>0</td>\n",
       "      <td>0</td>\n",
       "      <td>0</td>\n",
       "      <td>0</td>\n",
       "      <td>0</td>\n",
       "      <td>1</td>\n",
       "      <td>0</td>\n",
       "    </tr>\n",
       "    <tr>\n",
       "      <th>3</th>\n",
       "      <td>516000</td>\n",
       "      <td>417</td>\n",
       "      <td>WASHINGTON ST</td>\n",
       "      <td>1574</td>\n",
       "      <td>0</td>\n",
       "      <td>2</td>\n",
       "      <td>0</td>\n",
       "      <td>6</td>\n",
       "      <td>3</td>\n",
       "      <td>2</td>\n",
       "      <td>...</td>\n",
       "      <td>0</td>\n",
       "      <td>0</td>\n",
       "      <td>0</td>\n",
       "      <td>0</td>\n",
       "      <td>0</td>\n",
       "      <td>1</td>\n",
       "      <td>0</td>\n",
       "      <td>0</td>\n",
       "      <td>0</td>\n",
       "      <td>0</td>\n",
       "    </tr>\n",
       "    <tr>\n",
       "      <th>4</th>\n",
       "      <td>145000</td>\n",
       "      <td>150</td>\n",
       "      <td>PLEASANT ST</td>\n",
       "      <td>669</td>\n",
       "      <td>0</td>\n",
       "      <td>4</td>\n",
       "      <td>1</td>\n",
       "      <td>3</td>\n",
       "      <td>1</td>\n",
       "      <td>1</td>\n",
       "      <td>...</td>\n",
       "      <td>0</td>\n",
       "      <td>0</td>\n",
       "      <td>0</td>\n",
       "      <td>0</td>\n",
       "      <td>0</td>\n",
       "      <td>0</td>\n",
       "      <td>1</td>\n",
       "      <td>0</td>\n",
       "      <td>0</td>\n",
       "      <td>0</td>\n",
       "    </tr>\n",
       "    <tr>\n",
       "      <th>...</th>\n",
       "      <td>...</td>\n",
       "      <td>...</td>\n",
       "      <td>...</td>\n",
       "      <td>...</td>\n",
       "      <td>...</td>\n",
       "      <td>...</td>\n",
       "      <td>...</td>\n",
       "      <td>...</td>\n",
       "      <td>...</td>\n",
       "      <td>...</td>\n",
       "      <td>...</td>\n",
       "      <td>...</td>\n",
       "      <td>...</td>\n",
       "      <td>...</td>\n",
       "      <td>...</td>\n",
       "      <td>...</td>\n",
       "      <td>...</td>\n",
       "      <td>...</td>\n",
       "      <td>...</td>\n",
       "      <td>...</td>\n",
       "      <td>...</td>\n",
       "    </tr>\n",
       "    <tr>\n",
       "      <th>1080</th>\n",
       "      <td>355000</td>\n",
       "      <td>179</td>\n",
       "      <td>HIGH ST</td>\n",
       "      <td>980</td>\n",
       "      <td>0</td>\n",
       "      <td>3</td>\n",
       "      <td>0</td>\n",
       "      <td>5</td>\n",
       "      <td>3</td>\n",
       "      <td>1</td>\n",
       "      <td>...</td>\n",
       "      <td>0</td>\n",
       "      <td>0</td>\n",
       "      <td>1</td>\n",
       "      <td>0</td>\n",
       "      <td>0</td>\n",
       "      <td>0</td>\n",
       "      <td>0</td>\n",
       "      <td>0</td>\n",
       "      <td>0</td>\n",
       "      <td>0</td>\n",
       "    </tr>\n",
       "    <tr>\n",
       "      <th>1081</th>\n",
       "      <td>345000</td>\n",
       "      <td>47</td>\n",
       "      <td>GIBBS ST</td>\n",
       "      <td>923</td>\n",
       "      <td>0</td>\n",
       "      <td>1</td>\n",
       "      <td>0</td>\n",
       "      <td>5</td>\n",
       "      <td>1</td>\n",
       "      <td>1</td>\n",
       "      <td>...</td>\n",
       "      <td>0</td>\n",
       "      <td>0</td>\n",
       "      <td>1</td>\n",
       "      <td>0</td>\n",
       "      <td>0</td>\n",
       "      <td>0</td>\n",
       "      <td>0</td>\n",
       "      <td>0</td>\n",
       "      <td>0</td>\n",
       "      <td>0</td>\n",
       "    </tr>\n",
       "    <tr>\n",
       "      <th>1082</th>\n",
       "      <td>510000</td>\n",
       "      <td>63</td>\n",
       "      <td>BABCOCK ST</td>\n",
       "      <td>1070</td>\n",
       "      <td>0</td>\n",
       "      <td>3</td>\n",
       "      <td>0</td>\n",
       "      <td>5</td>\n",
       "      <td>2</td>\n",
       "      <td>1</td>\n",
       "      <td>...</td>\n",
       "      <td>0</td>\n",
       "      <td>0</td>\n",
       "      <td>0</td>\n",
       "      <td>0</td>\n",
       "      <td>0</td>\n",
       "      <td>0</td>\n",
       "      <td>0</td>\n",
       "      <td>0</td>\n",
       "      <td>1</td>\n",
       "      <td>0</td>\n",
       "    </tr>\n",
       "    <tr>\n",
       "      <th>1083</th>\n",
       "      <td>620000</td>\n",
       "      <td>10</td>\n",
       "      <td>KILSYTH RD</td>\n",
       "      <td>1597</td>\n",
       "      <td>0</td>\n",
       "      <td>2</td>\n",
       "      <td>0</td>\n",
       "      <td>7</td>\n",
       "      <td>3</td>\n",
       "      <td>2</td>\n",
       "      <td>...</td>\n",
       "      <td>0</td>\n",
       "      <td>0</td>\n",
       "      <td>0</td>\n",
       "      <td>0</td>\n",
       "      <td>0</td>\n",
       "      <td>0</td>\n",
       "      <td>0</td>\n",
       "      <td>0</td>\n",
       "      <td>1</td>\n",
       "      <td>0</td>\n",
       "    </tr>\n",
       "    <tr>\n",
       "      <th>1084</th>\n",
       "      <td>470000</td>\n",
       "      <td>229</td>\n",
       "      <td>FREEMAN ST</td>\n",
       "      <td>1023</td>\n",
       "      <td>0</td>\n",
       "      <td>1</td>\n",
       "      <td>0</td>\n",
       "      <td>5</td>\n",
       "      <td>2</td>\n",
       "      <td>1</td>\n",
       "      <td>...</td>\n",
       "      <td>0</td>\n",
       "      <td>0</td>\n",
       "      <td>0</td>\n",
       "      <td>0</td>\n",
       "      <td>0</td>\n",
       "      <td>1</td>\n",
       "      <td>0</td>\n",
       "      <td>0</td>\n",
       "      <td>0</td>\n",
       "      <td>0</td>\n",
       "    </tr>\n",
       "  </tbody>\n",
       "</table>\n",
       "<p>1085 rows × 23 columns</p>\n",
       "</div>"
      ],
      "text/plain": [
       "       price  stNumber         stName  size  beacon  baseFloor  elevators  \\\n",
       "0     174000       150    PLEASANT ST  1060       0          4          1   \n",
       "1     337000         7    LEVERETT ST   831       0          1          0   \n",
       "2     850000        24      EUSTON ST  2246       0          1          0   \n",
       "3     516000       417  WASHINGTON ST  1574       0          2          0   \n",
       "4     145000       150    PLEASANT ST   669       0          4          1   \n",
       "...      ...       ...            ...   ...     ...        ...        ...   \n",
       "1080  355000       179        HIGH ST   980       0          3          0   \n",
       "1081  345000        47       GIBBS ST   923       0          1          0   \n",
       "1082  510000        63     BABCOCK ST  1070       0          3          0   \n",
       "1083  620000        10     KILSYTH RD  1597       0          2          0   \n",
       "1084  470000       229     FREEMAN ST  1023       0          1          0   \n",
       "\n",
       "      rooms  bedrooms  fullBathrooms  ...  buildingStyle_CLUSTER-TYPE  \\\n",
       "0         4         2              1  ...                           0   \n",
       "1         4         2              1  ...                           0   \n",
       "2        10         6              3  ...                           0   \n",
       "3         6         3              2  ...                           0   \n",
       "4         3         1              1  ...                           0   \n",
       "...     ...       ...            ...  ...                         ...   \n",
       "1080      5         3              1  ...                           0   \n",
       "1081      5         1              1  ...                           0   \n",
       "1082      5         2              1  ...                           0   \n",
       "1083      7         3              2  ...                           0   \n",
       "1084      5         2              1  ...                           0   \n",
       "\n",
       "      buildingStyle_CONVERTED-HOUSE  buildingStyle_DECKER  \\\n",
       "0                                 0                     0   \n",
       "1                                 0                     1   \n",
       "2                                 0                     0   \n",
       "3                                 0                     0   \n",
       "4                                 0                     0   \n",
       "...                             ...                   ...   \n",
       "1080                              0                     1   \n",
       "1081                              0                     1   \n",
       "1082                              0                     0   \n",
       "1083                              0                     0   \n",
       "1084                              0                     0   \n",
       "\n",
       "      buildingStyle_DUPLEX  buildingStyle_HIGH-RISE  buildingStyle_LOW-RISE  \\\n",
       "0                        0                        0                       0   \n",
       "1                        0                        0                       0   \n",
       "2                        0                        0                       0   \n",
       "3                        0                        0                       1   \n",
       "4                        0                        0                       0   \n",
       "...                    ...                      ...                     ...   \n",
       "1080                     0                        0                       0   \n",
       "1081                     0                        0                       0   \n",
       "1082                     0                        0                       0   \n",
       "1083                     0                        0                       0   \n",
       "1084                     0                        0                       1   \n",
       "\n",
       "      buildingStyle_MID-RISE  buildingStyle_OTHER  buildingStyle_ROW-END  \\\n",
       "0                          1                    0                      0   \n",
       "1                          0                    0                      0   \n",
       "2                          0                    0                      1   \n",
       "3                          0                    0                      0   \n",
       "4                          1                    0                      0   \n",
       "...                      ...                  ...                    ...   \n",
       "1080                       0                    0                      0   \n",
       "1081                       0                    0                      0   \n",
       "1082                       0                    0                      1   \n",
       "1083                       0                    0                      1   \n",
       "1084                       0                    0                      0   \n",
       "\n",
       "      buildingStyle_ROW-MIDDLE  \n",
       "0                            0  \n",
       "1                            0  \n",
       "2                            0  \n",
       "3                            0  \n",
       "4                            0  \n",
       "...                        ...  \n",
       "1080                         0  \n",
       "1081                         0  \n",
       "1082                         0  \n",
       "1083                         0  \n",
       "1084                         0  \n",
       "\n",
       "[1085 rows x 23 columns]"
      ]
     },
     "execution_count": 52,
     "metadata": {},
     "output_type": "execute_result"
    }
   ],
   "source": [
    "pd.get_dummies(data=br, columns=['buildingStyle'])"
   ]
  },
  {
   "attachments": {},
   "cell_type": "markdown",
   "metadata": {},
   "source": [
    "### March 28th"
   ]
  },
  {
   "cell_type": "code",
   "execution_count": 53,
   "metadata": {},
   "outputs": [
    {
     "data": {
      "text/html": [
       "<div>\n",
       "<style scoped>\n",
       "    .dataframe tbody tr th:only-of-type {\n",
       "        vertical-align: middle;\n",
       "    }\n",
       "\n",
       "    .dataframe tbody tr th {\n",
       "        vertical-align: top;\n",
       "    }\n",
       "\n",
       "    .dataframe thead th {\n",
       "        text-align: right;\n",
       "    }\n",
       "</style>\n",
       "<table border=\"1\" class=\"dataframe\">\n",
       "  <thead>\n",
       "    <tr style=\"text-align: right;\">\n",
       "      <th></th>\n",
       "      <th>price</th>\n",
       "      <th>stNumber</th>\n",
       "      <th>stName</th>\n",
       "      <th>size</th>\n",
       "      <th>beacon</th>\n",
       "      <th>baseFloor</th>\n",
       "      <th>buildingStyle</th>\n",
       "      <th>elevators</th>\n",
       "      <th>rooms</th>\n",
       "      <th>bedrooms</th>\n",
       "      <th>fullBathrooms</th>\n",
       "      <th>halfBathrooms</th>\n",
       "      <th>garage</th>\n",
       "      <th>chapel</th>\n",
       "    </tr>\n",
       "  </thead>\n",
       "  <tbody>\n",
       "    <tr>\n",
       "      <th>0</th>\n",
       "      <td>174000</td>\n",
       "      <td>150</td>\n",
       "      <td>PLEASANT ST</td>\n",
       "      <td>1060</td>\n",
       "      <td>0</td>\n",
       "      <td>4</td>\n",
       "      <td>MID-RISE</td>\n",
       "      <td>1</td>\n",
       "      <td>4</td>\n",
       "      <td>2</td>\n",
       "      <td>1</td>\n",
       "      <td>1</td>\n",
       "      <td>1.0</td>\n",
       "      <td>0</td>\n",
       "    </tr>\n",
       "    <tr>\n",
       "      <th>1</th>\n",
       "      <td>337000</td>\n",
       "      <td>7</td>\n",
       "      <td>LEVERETT ST</td>\n",
       "      <td>831</td>\n",
       "      <td>0</td>\n",
       "      <td>1</td>\n",
       "      <td>DECKER</td>\n",
       "      <td>0</td>\n",
       "      <td>4</td>\n",
       "      <td>2</td>\n",
       "      <td>1</td>\n",
       "      <td>0</td>\n",
       "      <td>0.0</td>\n",
       "      <td>0</td>\n",
       "    </tr>\n",
       "    <tr>\n",
       "      <th>2</th>\n",
       "      <td>850000</td>\n",
       "      <td>24</td>\n",
       "      <td>EUSTON ST</td>\n",
       "      <td>2246</td>\n",
       "      <td>0</td>\n",
       "      <td>1</td>\n",
       "      <td>ROW-END</td>\n",
       "      <td>0</td>\n",
       "      <td>10</td>\n",
       "      <td>6</td>\n",
       "      <td>3</td>\n",
       "      <td>0</td>\n",
       "      <td>0.0</td>\n",
       "      <td>0</td>\n",
       "    </tr>\n",
       "    <tr>\n",
       "      <th>3</th>\n",
       "      <td>516000</td>\n",
       "      <td>417</td>\n",
       "      <td>WASHINGTON ST</td>\n",
       "      <td>1574</td>\n",
       "      <td>0</td>\n",
       "      <td>2</td>\n",
       "      <td>LOW-RISE</td>\n",
       "      <td>0</td>\n",
       "      <td>6</td>\n",
       "      <td>3</td>\n",
       "      <td>2</td>\n",
       "      <td>0</td>\n",
       "      <td>0.0</td>\n",
       "      <td>0</td>\n",
       "    </tr>\n",
       "    <tr>\n",
       "      <th>4</th>\n",
       "      <td>145000</td>\n",
       "      <td>150</td>\n",
       "      <td>PLEASANT ST</td>\n",
       "      <td>669</td>\n",
       "      <td>0</td>\n",
       "      <td>4</td>\n",
       "      <td>MID-RISE</td>\n",
       "      <td>1</td>\n",
       "      <td>3</td>\n",
       "      <td>1</td>\n",
       "      <td>1</td>\n",
       "      <td>0</td>\n",
       "      <td>1.0</td>\n",
       "      <td>0</td>\n",
       "    </tr>\n",
       "  </tbody>\n",
       "</table>\n",
       "</div>"
      ],
      "text/plain": [
       "    price  stNumber         stName  size  beacon  baseFloor buildingStyle  \\\n",
       "0  174000       150    PLEASANT ST  1060       0          4      MID-RISE   \n",
       "1  337000         7    LEVERETT ST   831       0          1        DECKER   \n",
       "2  850000        24      EUSTON ST  2246       0          1       ROW-END   \n",
       "3  516000       417  WASHINGTON ST  1574       0          2      LOW-RISE   \n",
       "4  145000       150    PLEASANT ST   669       0          4      MID-RISE   \n",
       "\n",
       "   elevators  rooms  bedrooms  fullBathrooms  halfBathrooms  garage  chapel  \n",
       "0          1      4         2              1              1     1.0       0  \n",
       "1          0      4         2              1              0     0.0       0  \n",
       "2          0     10         6              3              0     0.0       0  \n",
       "3          0      6         3              2              0     0.0       0  \n",
       "4          1      3         1              1              0     1.0       0  "
      ]
     },
     "execution_count": 53,
     "metadata": {},
     "output_type": "execute_result"
    }
   ],
   "source": [
    "import pandas as pd\n",
    "import statsmodels.formula.api as smf\n",
    "from statsmodels.iolib.summary2 import summary_col\n",
    "\n",
    "br.head()"
   ]
  },
  {
   "cell_type": "code",
   "execution_count": 54,
   "metadata": {},
   "outputs": [
    {
     "data": {
      "text/html": [
       "<table class=\"simpletable\">\n",
       "<tr>\n",
       "         <td></td>          <th>price I</th>     <th>price II</th>     <th>price III</th>    <th>price IIII</th>    <th>price IIIII</th> \n",
       "</tr>\n",
       "<tr>\n",
       "  <th>Intercept</th>      <td>12934.1240</td>   <td>13972.7809</td>  <td>-24139.3101**</td> <td>-20938.1350*</td>  <td>-26272.2337**</td>\n",
       "</tr>\n",
       "<tr>\n",
       "  <th></th>               <td>(9705.7124)</td> <td>(10416.5637)</td> <td>(10596.1660)</td>  <td>(11084.4641)</td>  <td>(11545.8649)</td> \n",
       "</tr>\n",
       "<tr>\n",
       "  <th>size</th>           <td>407.4513***</td>  <td>409.7903***</td>  <td>354.1262***</td>   <td>361.6817***</td>   <td>360.9978***</td> \n",
       "</tr>\n",
       "<tr>\n",
       "  <th></th>                <td>(7.1667)</td>     <td>(11.1146)</td>    <td>(9.8065)</td>      <td>(12.4550)</td>     <td>(12.4524)</td>  \n",
       "</tr>\n",
       "<tr>\n",
       "  <th>bedrooms</th>            <td></td>        <td>-1894.3271</td>        <td></td>         <td>-6615.6182</td>    <td>-5410.1242</td>  \n",
       "</tr>\n",
       "<tr>\n",
       "  <th></th>                    <td></td>        <td>(6878.3780)</td>       <td></td>         <td>(6723.1363)</td>   <td>(6758.2251)</td> \n",
       "</tr>\n",
       "<tr>\n",
       "  <th>fullBathrooms</th>       <td></td>             <td></td>       <td>68645.7979***</td> <td>69434.8810***</td> <td>69485.4794***</td>\n",
       "</tr>\n",
       "<tr>\n",
       "  <th></th>                    <td></td>             <td></td>        <td>(8868.1258)</td>   <td>(8904.4381)</td>   <td>(8897.5964)</td> \n",
       "</tr>\n",
       "<tr>\n",
       "  <th>stNumber</th>            <td></td>             <td></td>             <td></td>              <td></td>           <td>13.8347</td>   \n",
       "</tr>\n",
       "<tr>\n",
       "  <th></th>                    <td></td>             <td></td>             <td></td>              <td></td>          <td>(8.4569)</td>   \n",
       "</tr>\n",
       "<tr>\n",
       "  <th>R-squared</th>        <td>0.7490</td>       <td>0.7491</td>       <td>0.7622</td>        <td>0.7624</td>        <td>0.7630</td>    \n",
       "</tr>\n",
       "<tr>\n",
       "  <th>R-squared Adj.</th>   <td>0.7488</td>       <td>0.7486</td>       <td>0.7618</td>        <td>0.7618</td>        <td>0.7621</td>    \n",
       "</tr>\n",
       "</table>"
      ],
      "text/plain": [
       "<class 'statsmodels.iolib.summary2.Summary'>\n",
       "\"\"\"\n",
       "\n",
       "=================================================================================\n",
       "                 price I     price II     price III     price IIII   price IIIII \n",
       "---------------------------------------------------------------------------------\n",
       "Intercept      12934.1240  13972.7809   -24139.3101** -20938.1350*  -26272.2337**\n",
       "               (9705.7124) (10416.5637) (10596.1660)  (11084.4641)  (11545.8649) \n",
       "size           407.4513*** 409.7903***  354.1262***   361.6817***   360.9978***  \n",
       "               (7.1667)    (11.1146)    (9.8065)      (12.4550)     (12.4524)    \n",
       "bedrooms                   -1894.3271                 -6615.6182    -5410.1242   \n",
       "                           (6878.3780)                (6723.1363)   (6758.2251)  \n",
       "fullBathrooms                           68645.7979*** 69434.8810*** 69485.4794***\n",
       "                                        (8868.1258)   (8904.4381)   (8897.5964)  \n",
       "stNumber                                                            13.8347      \n",
       "                                                                    (8.4569)     \n",
       "R-squared      0.7490      0.7491       0.7622        0.7624        0.7630       \n",
       "R-squared Adj. 0.7488      0.7486       0.7618        0.7618        0.7621       \n",
       "=================================================================================\n",
       "Standard errors in parentheses.\n",
       "* p<.1, ** p<.05, ***p<.01\n",
       "\"\"\""
      ]
     },
     "execution_count": 54,
     "metadata": {},
     "output_type": "execute_result"
    }
   ],
   "source": [
    "reg1 = smf.ols('price ~ size', data=br).fit()\n",
    "reg2 = smf.ols('price ~ size + bedrooms', data=br).fit()\n",
    "reg3 = smf.ols('price ~ size + fullBathrooms', data=br).fit()\n",
    "reg4 = smf.ols('price ~ size + bedrooms + fullBathrooms', data=br).fit()\n",
    "reg5 = smf.ols('price ~ size + bedrooms + fullBathrooms + stNumber', data=br).fit()\n",
    "\n",
    "regs = [reg1, reg2, reg3, reg4, reg5]\n",
    "summary_col(regs, stars=True, regressor_order = ['Intercept', 'size', 'bedrooms', 'fullBathrooms', 'stNumber'])\n",
    "\n",
    "# STARS\n",
    "## NO OR 1: CANNOT REJECT THAT THE BETA COEFFICIENT IS STAT. EQUAL TO ZERO\n",
    "## 2 OR 3: CAN REJECT THAT THE BETA COEFFICIENT IS STAT. EQUAL TO ZERO"
   ]
  },
  {
   "cell_type": "code",
   "execution_count": 55,
   "metadata": {},
   "outputs": [
    {
     "data": {
      "text/html": [
       "<table class=\"simpletable\">\n",
       "<tr>\n",
       "         <td></td>            <th>price I</th>      <th>price II</th>  \n",
       "</tr>\n",
       "<tr>\n",
       "  <th>Intercept</th>      <td>118134.7715***</td>  <td>13972.7809</td> \n",
       "</tr>\n",
       "<tr>\n",
       "  <th></th>                <td>(15053.4079)</td>  <td>(10416.5637)</td>\n",
       "</tr>\n",
       "<tr>\n",
       "  <th>size</th>                  <td></td>         <td>409.7903***</td>\n",
       "</tr>\n",
       "<tr>\n",
       "  <th></th>                      <td></td>          <td>(11.1146)</td> \n",
       "</tr>\n",
       "<tr>\n",
       "  <th>bedrooms</th>       <td>191888.8705***</td>  <td>-1894.3271</td> \n",
       "</tr>\n",
       "<tr>\n",
       "  <th></th>                 <td>(6661.8495)</td>   <td>(6878.3780)</td>\n",
       "</tr>\n",
       "<tr>\n",
       "  <th>R-squared</th>          <td>0.4338</td>        <td>0.7491</td>   \n",
       "</tr>\n",
       "<tr>\n",
       "  <th>R-squared Adj.</th>     <td>0.4333</td>        <td>0.7486</td>   \n",
       "</tr>\n",
       "</table>"
      ],
      "text/plain": [
       "<class 'statsmodels.iolib.summary2.Summary'>\n",
       "\"\"\"\n",
       "\n",
       "==========================================\n",
       "                  price I       price II  \n",
       "------------------------------------------\n",
       "Intercept      118134.7715*** 13972.7809  \n",
       "               (15053.4079)   (10416.5637)\n",
       "size                          409.7903*** \n",
       "                              (11.1146)   \n",
       "bedrooms       191888.8705*** -1894.3271  \n",
       "               (6661.8495)    (6878.3780) \n",
       "R-squared      0.4338         0.7491      \n",
       "R-squared Adj. 0.4333         0.7486      \n",
       "==========================================\n",
       "Standard errors in parentheses.\n",
       "* p<.1, ** p<.05, ***p<.01\n",
       "\"\"\""
      ]
     },
     "execution_count": 55,
     "metadata": {},
     "output_type": "execute_result"
    }
   ],
   "source": [
    "reg1 = smf.ols('price ~ bedrooms', data=br).fit()\n",
    "reg2 = smf.ols('price ~ bedrooms + size', data=br).fit()\n",
    "\n",
    "regs = [reg1, reg2]\n",
    "summary_col(regs, stars=True, regressor_order = ['Intercept', 'size', 'bedrooms'])"
   ]
  },
  {
   "attachments": {},
   "cell_type": "markdown",
   "metadata": {},
   "source": [
    "#### FORWARD SELECTION"
   ]
  },
  {
   "cell_type": "code",
   "execution_count": 56,
   "metadata": {},
   "outputs": [
    {
     "name": "stderr",
     "output_type": "stream",
     "text": [
      "/var/folders/h_/lxrkd3yx3w11tnfvg06j7l140000gn/T/ipykernel_46695/3230071993.py:2: FutureWarning: The default value of numeric_only in DataFrame.corr is deprecated. In a future version, it will default to False. Select only valid columns or specify the value of numeric_only to silence this warning.\n",
      "  br.corr()['price']\n"
     ]
    },
    {
     "data": {
      "text/plain": [
       "price            1.000000\n",
       "stNumber        -0.039374\n",
       "size             0.865468\n",
       "beacon          -0.055239\n",
       "baseFloor       -0.098550\n",
       "elevators       -0.123154\n",
       "rooms            0.665161\n",
       "bedrooms         0.658619\n",
       "fullBathrooms    0.689646\n",
       "halfBathrooms    0.444401\n",
       "garage           0.380783\n",
       "chapel          -0.014857\n",
       "Name: price, dtype: float64"
      ]
     },
     "execution_count": 56,
     "metadata": {},
     "output_type": "execute_result"
    }
   ],
   "source": [
    "# CORRELATION WITH RESPECT TO Y\n",
    "br.corr()['price']"
   ]
  },
  {
   "cell_type": "code",
   "execution_count": 57,
   "metadata": {},
   "outputs": [
    {
     "data": {
      "text/plain": [
       "0.7488035137772362"
      ]
     },
     "execution_count": 57,
     "metadata": {},
     "output_type": "execute_result"
    }
   ],
   "source": [
    "# ESTIMATING MODEL WITH SINGLE VARIABLE\n",
    "reg1 = smf.ols('price~size', data=br).fit().rsquared_adj\n",
    "reg1"
   ]
  },
  {
   "cell_type": "code",
   "execution_count": 58,
   "metadata": {},
   "outputs": [
    {
     "data": {
      "text/plain": [
       "[0.8007849433188462, 0.800772143574141, 0.8007380119599823]"
      ]
     },
     "execution_count": 58,
     "metadata": {},
     "output_type": "execute_result"
    }
   ],
   "source": [
    "# ESTIMATING OTHER MODELS AND COMPARING ADJ R-2\n",
    "\n",
    "br.columns\n",
    "\n",
    "# ['price', 'stNumber', 'stName', 'size', 'beacon', 'baseFloor',\n",
    "# 'buildingStyle', 'elevators', 'rooms', 'bedrooms', 'fullBathrooms',\n",
    "# 'halfBathrooms', 'garage', 'chapel']\n",
    "\n",
    "reg2 = smf.ols('price~size + garage + fullBathrooms + buildingStyle + halfBathrooms + beacon + elevators + baseFloor', data=br).fit().rsquared_adj\n",
    "reg3 = smf.ols('price~size + garage + fullBathrooms + buildingStyle + halfBathrooms + beacon + elevators + rooms', data=br).fit().rsquared_adj\n",
    "reg4 = smf.ols('price~size + garage + fullBathrooms + buildingStyle + halfBathrooms + beacon + elevators + bedrooms', data=br).fit().rsquared_adj\n",
    "\n",
    "[reg2, reg3, reg4]\n"
   ]
  },
  {
   "cell_type": "code",
   "execution_count": 59,
   "metadata": {},
   "outputs": [
    {
     "data": {
      "text/html": [
       "<table class=\"simpletable\">\n",
       "<caption>OLS Regression Results</caption>\n",
       "<tr>\n",
       "  <th>Dep. Variable:</th>          <td>price</td>      <th>  R-squared:         </th> <td>   0.804</td> \n",
       "</tr>\n",
       "<tr>\n",
       "  <th>Model:</th>                   <td>OLS</td>       <th>  Adj. R-squared:    </th> <td>   0.801</td> \n",
       "</tr>\n",
       "<tr>\n",
       "  <th>Method:</th>             <td>Least Squares</td>  <th>  F-statistic:       </th> <td>   273.3</td> \n",
       "</tr>\n",
       "<tr>\n",
       "  <th>Date:</th>             <td>Tue, 11 Apr 2023</td> <th>  Prob (F-statistic):</th>  <td>  0.00</td>  \n",
       "</tr>\n",
       "<tr>\n",
       "  <th>Time:</th>                 <td>14:15:08</td>     <th>  Log-Likelihood:    </th> <td> -14196.</td> \n",
       "</tr>\n",
       "<tr>\n",
       "  <th>No. Observations:</th>      <td>  1085</td>      <th>  AIC:               </th> <td>2.843e+04</td>\n",
       "</tr>\n",
       "<tr>\n",
       "  <th>Df Residuals:</th>          <td>  1068</td>      <th>  BIC:               </th> <td>2.851e+04</td>\n",
       "</tr>\n",
       "<tr>\n",
       "  <th>Df Model:</th>              <td>    16</td>      <th>                     </th>     <td> </td>    \n",
       "</tr>\n",
       "<tr>\n",
       "  <th>Covariance Type:</th>      <td>nonrobust</td>    <th>                     </th>     <td> </td>    \n",
       "</tr>\n",
       "</table>\n",
       "<table class=\"simpletable\">\n",
       "<tr>\n",
       "                  <td></td>                    <th>coef</th>     <th>std err</th>      <th>t</th>      <th>P>|t|</th>  <th>[0.025</th>    <th>0.975]</th>  \n",
       "</tr>\n",
       "<tr>\n",
       "  <th>Intercept</th>                        <td>-1.646e+05</td> <td>  2.9e+04</td> <td>   -5.667</td> <td> 0.000</td> <td>-2.22e+05</td> <td>-1.08e+05</td>\n",
       "</tr>\n",
       "<tr>\n",
       "  <th>buildingStyle[T.CONVERTED-HOUSE]</th> <td> 1.464e+05</td> <td> 3.13e+04</td> <td>    4.680</td> <td> 0.000</td> <td>  8.5e+04</td> <td> 2.08e+05</td>\n",
       "</tr>\n",
       "<tr>\n",
       "  <th>buildingStyle[T.DECKER]</th>          <td> 1.539e+05</td> <td> 2.72e+04</td> <td>    5.668</td> <td> 0.000</td> <td> 1.01e+05</td> <td> 2.07e+05</td>\n",
       "</tr>\n",
       "<tr>\n",
       "  <th>buildingStyle[T.DUPLEX]</th>          <td> 8.313e+04</td> <td> 3.38e+04</td> <td>    2.459</td> <td> 0.014</td> <td> 1.68e+04</td> <td> 1.49e+05</td>\n",
       "</tr>\n",
       "<tr>\n",
       "  <th>buildingStyle[T.HIGH-RISE]</th>       <td> 5952.8849</td> <td> 3.69e+04</td> <td>    0.161</td> <td> 0.872</td> <td>-6.65e+04</td> <td> 7.84e+04</td>\n",
       "</tr>\n",
       "<tr>\n",
       "  <th>buildingStyle[T.LOW-RISE]</th>        <td> 1.601e+05</td> <td> 2.64e+04</td> <td>    6.059</td> <td> 0.000</td> <td> 1.08e+05</td> <td> 2.12e+05</td>\n",
       "</tr>\n",
       "<tr>\n",
       "  <th>buildingStyle[T.MID-RISE]</th>        <td> 8.393e+04</td> <td> 3.04e+04</td> <td>    2.765</td> <td> 0.006</td> <td> 2.44e+04</td> <td> 1.43e+05</td>\n",
       "</tr>\n",
       "<tr>\n",
       "  <th>buildingStyle[T.OTHER]</th>           <td> 1.427e+05</td> <td> 4.85e+04</td> <td>    2.945</td> <td> 0.003</td> <td> 4.76e+04</td> <td> 2.38e+05</td>\n",
       "</tr>\n",
       "<tr>\n",
       "  <th>buildingStyle[T.ROW-END]</th>         <td> 1.628e+05</td> <td> 2.89e+04</td> <td>    5.636</td> <td> 0.000</td> <td> 1.06e+05</td> <td> 2.19e+05</td>\n",
       "</tr>\n",
       "<tr>\n",
       "  <th>buildingStyle[T.ROW-MIDDLE]</th>      <td> 1.524e+05</td> <td> 2.88e+04</td> <td>    5.288</td> <td> 0.000</td> <td> 9.59e+04</td> <td> 2.09e+05</td>\n",
       "</tr>\n",
       "<tr>\n",
       "  <th>size</th>                             <td>  312.8767</td> <td>   10.677</td> <td>   29.305</td> <td> 0.000</td> <td>  291.927</td> <td>  333.826</td>\n",
       "</tr>\n",
       "<tr>\n",
       "  <th>garage</th>                           <td> 3.741e+04</td> <td> 4740.430</td> <td>    7.891</td> <td> 0.000</td> <td> 2.81e+04</td> <td> 4.67e+04</td>\n",
       "</tr>\n",
       "<tr>\n",
       "  <th>fullBathrooms</th>                    <td> 7.192e+04</td> <td> 8722.460</td> <td>    8.245</td> <td> 0.000</td> <td> 5.48e+04</td> <td>  8.9e+04</td>\n",
       "</tr>\n",
       "<tr>\n",
       "  <th>halfBathrooms</th>                    <td>  8.88e+04</td> <td> 1.08e+04</td> <td>    8.225</td> <td> 0.000</td> <td> 6.76e+04</td> <td>  1.1e+05</td>\n",
       "</tr>\n",
       "<tr>\n",
       "  <th>beacon</th>                           <td> 6.268e+04</td> <td> 1.29e+04</td> <td>    4.870</td> <td> 0.000</td> <td> 3.74e+04</td> <td> 8.79e+04</td>\n",
       "</tr>\n",
       "<tr>\n",
       "  <th>elevators</th>                        <td> 2.103e+04</td> <td> 4755.477</td> <td>    4.423</td> <td> 0.000</td> <td> 1.17e+04</td> <td> 3.04e+04</td>\n",
       "</tr>\n",
       "<tr>\n",
       "  <th>baseFloor</th>                        <td> 1436.7972</td> <td> 2098.497</td> <td>    0.685</td> <td> 0.494</td> <td>-2680.849</td> <td> 5554.443</td>\n",
       "</tr>\n",
       "</table>\n",
       "<table class=\"simpletable\">\n",
       "<tr>\n",
       "  <th>Omnibus:</th>       <td>542.992</td> <th>  Durbin-Watson:     </th> <td>   2.058</td> \n",
       "</tr>\n",
       "<tr>\n",
       "  <th>Prob(Omnibus):</th> <td> 0.000</td>  <th>  Jarque-Bera (JB):  </th> <td>17897.346</td>\n",
       "</tr>\n",
       "<tr>\n",
       "  <th>Skew:</th>          <td> 1.670</td>  <th>  Prob(JB):          </th> <td>    0.00</td> \n",
       "</tr>\n",
       "<tr>\n",
       "  <th>Kurtosis:</th>      <td>22.615</td>  <th>  Cond. No.          </th> <td>3.14e+04</td> \n",
       "</tr>\n",
       "</table><br/><br/>Notes:<br/>[1] Standard Errors assume that the covariance matrix of the errors is correctly specified.<br/>[2] The condition number is large, 3.14e+04. This might indicate that there are<br/>strong multicollinearity or other numerical problems."
      ],
      "text/plain": [
       "<class 'statsmodels.iolib.summary.Summary'>\n",
       "\"\"\"\n",
       "                            OLS Regression Results                            \n",
       "==============================================================================\n",
       "Dep. Variable:                  price   R-squared:                       0.804\n",
       "Model:                            OLS   Adj. R-squared:                  0.801\n",
       "Method:                 Least Squares   F-statistic:                     273.3\n",
       "Date:                Tue, 11 Apr 2023   Prob (F-statistic):               0.00\n",
       "Time:                        14:15:08   Log-Likelihood:                -14196.\n",
       "No. Observations:                1085   AIC:                         2.843e+04\n",
       "Df Residuals:                    1068   BIC:                         2.851e+04\n",
       "Df Model:                          16                                         \n",
       "Covariance Type:            nonrobust                                         \n",
       "====================================================================================================\n",
       "                                       coef    std err          t      P>|t|      [0.025      0.975]\n",
       "----------------------------------------------------------------------------------------------------\n",
       "Intercept                        -1.646e+05    2.9e+04     -5.667      0.000   -2.22e+05   -1.08e+05\n",
       "buildingStyle[T.CONVERTED-HOUSE]  1.464e+05   3.13e+04      4.680      0.000     8.5e+04    2.08e+05\n",
       "buildingStyle[T.DECKER]           1.539e+05   2.72e+04      5.668      0.000    1.01e+05    2.07e+05\n",
       "buildingStyle[T.DUPLEX]           8.313e+04   3.38e+04      2.459      0.014    1.68e+04    1.49e+05\n",
       "buildingStyle[T.HIGH-RISE]        5952.8849   3.69e+04      0.161      0.872   -6.65e+04    7.84e+04\n",
       "buildingStyle[T.LOW-RISE]         1.601e+05   2.64e+04      6.059      0.000    1.08e+05    2.12e+05\n",
       "buildingStyle[T.MID-RISE]         8.393e+04   3.04e+04      2.765      0.006    2.44e+04    1.43e+05\n",
       "buildingStyle[T.OTHER]            1.427e+05   4.85e+04      2.945      0.003    4.76e+04    2.38e+05\n",
       "buildingStyle[T.ROW-END]          1.628e+05   2.89e+04      5.636      0.000    1.06e+05    2.19e+05\n",
       "buildingStyle[T.ROW-MIDDLE]       1.524e+05   2.88e+04      5.288      0.000    9.59e+04    2.09e+05\n",
       "size                               312.8767     10.677     29.305      0.000     291.927     333.826\n",
       "garage                            3.741e+04   4740.430      7.891      0.000    2.81e+04    4.67e+04\n",
       "fullBathrooms                     7.192e+04   8722.460      8.245      0.000    5.48e+04     8.9e+04\n",
       "halfBathrooms                      8.88e+04   1.08e+04      8.225      0.000    6.76e+04     1.1e+05\n",
       "beacon                            6.268e+04   1.29e+04      4.870      0.000    3.74e+04    8.79e+04\n",
       "elevators                         2.103e+04   4755.477      4.423      0.000    1.17e+04    3.04e+04\n",
       "baseFloor                         1436.7972   2098.497      0.685      0.494   -2680.849    5554.443\n",
       "==============================================================================\n",
       "Omnibus:                      542.992   Durbin-Watson:                   2.058\n",
       "Prob(Omnibus):                  0.000   Jarque-Bera (JB):            17897.346\n",
       "Skew:                           1.670   Prob(JB):                         0.00\n",
       "Kurtosis:                      22.615   Cond. No.                     3.14e+04\n",
       "==============================================================================\n",
       "\n",
       "Notes:\n",
       "[1] Standard Errors assume that the covariance matrix of the errors is correctly specified.\n",
       "[2] The condition number is large, 3.14e+04. This might indicate that there are\n",
       "strong multicollinearity or other numerical problems.\n",
       "\"\"\""
      ]
     },
     "execution_count": 59,
     "metadata": {},
     "output_type": "execute_result"
    }
   ],
   "source": [
    "regFinal = smf.ols('price~size + garage + fullBathrooms + buildingStyle + halfBathrooms + beacon + elevators + baseFloor', data=br).fit()\n",
    "regFinal.summary()"
   ]
  },
  {
   "attachments": {},
   "cell_type": "markdown",
   "metadata": {},
   "source": [
    "#### BACKWARD SELECTION"
   ]
  },
  {
   "cell_type": "code",
   "execution_count": 60,
   "metadata": {},
   "outputs": [
    {
     "data": {
      "text/html": [
       "<table class=\"simpletable\">\n",
       "<caption>OLS Regression Results</caption>\n",
       "<tr>\n",
       "  <th>Dep. Variable:</th>          <td>price</td>      <th>  R-squared:         </th> <td>   0.804</td> \n",
       "</tr>\n",
       "<tr>\n",
       "  <th>Model:</th>                   <td>OLS</td>       <th>  Adj. R-squared:    </th> <td>   0.801</td> \n",
       "</tr>\n",
       "<tr>\n",
       "  <th>Method:</th>             <td>Least Squares</td>  <th>  F-statistic:       </th> <td>   242.9</td> \n",
       "</tr>\n",
       "<tr>\n",
       "  <th>Date:</th>             <td>Tue, 11 Apr 2023</td> <th>  Prob (F-statistic):</th>  <td>  0.00</td>  \n",
       "</tr>\n",
       "<tr>\n",
       "  <th>Time:</th>                 <td>14:15:08</td>     <th>  Log-Likelihood:    </th> <td> -14195.</td> \n",
       "</tr>\n",
       "<tr>\n",
       "  <th>No. Observations:</th>      <td>  1085</td>      <th>  AIC:               </th> <td>2.843e+04</td>\n",
       "</tr>\n",
       "<tr>\n",
       "  <th>Df Residuals:</th>          <td>  1066</td>      <th>  BIC:               </th> <td>2.852e+04</td>\n",
       "</tr>\n",
       "<tr>\n",
       "  <th>Df Model:</th>              <td>    18</td>      <th>                     </th>     <td> </td>    \n",
       "</tr>\n",
       "<tr>\n",
       "  <th>Covariance Type:</th>      <td>nonrobust</td>    <th>                     </th>     <td> </td>    \n",
       "</tr>\n",
       "</table>\n",
       "<table class=\"simpletable\">\n",
       "<tr>\n",
       "                  <td></td>                    <th>coef</th>     <th>std err</th>      <th>t</th>      <th>P>|t|</th>  <th>[0.025</th>    <th>0.975]</th>  \n",
       "</tr>\n",
       "<tr>\n",
       "  <th>Intercept</th>                        <td>-1.782e+05</td> <td> 3.15e+04</td> <td>   -5.659</td> <td> 0.000</td> <td> -2.4e+05</td> <td>-1.16e+05</td>\n",
       "</tr>\n",
       "<tr>\n",
       "  <th>buildingStyle[T.CONVERTED-HOUSE]</th> <td> 1.515e+05</td> <td> 3.16e+04</td> <td>    4.799</td> <td> 0.000</td> <td> 8.96e+04</td> <td> 2.14e+05</td>\n",
       "</tr>\n",
       "<tr>\n",
       "  <th>buildingStyle[T.DECKER]</th>          <td> 1.587e+05</td> <td> 2.78e+04</td> <td>    5.701</td> <td> 0.000</td> <td> 1.04e+05</td> <td> 2.13e+05</td>\n",
       "</tr>\n",
       "<tr>\n",
       "  <th>buildingStyle[T.DUPLEX]</th>          <td> 9.014e+04</td> <td> 3.49e+04</td> <td>    2.584</td> <td> 0.010</td> <td> 2.17e+04</td> <td> 1.59e+05</td>\n",
       "</tr>\n",
       "<tr>\n",
       "  <th>buildingStyle[T.HIGH-RISE]</th>       <td> 9508.7714</td> <td> 3.71e+04</td> <td>    0.256</td> <td> 0.798</td> <td>-6.33e+04</td> <td> 8.23e+04</td>\n",
       "</tr>\n",
       "<tr>\n",
       "  <th>buildingStyle[T.LOW-RISE]</th>        <td> 1.655e+05</td> <td> 2.69e+04</td> <td>    6.163</td> <td> 0.000</td> <td> 1.13e+05</td> <td> 2.18e+05</td>\n",
       "</tr>\n",
       "<tr>\n",
       "  <th>buildingStyle[T.MID-RISE]</th>        <td> 9.008e+04</td> <td> 3.08e+04</td> <td>    2.926</td> <td> 0.004</td> <td> 2.97e+04</td> <td>  1.5e+05</td>\n",
       "</tr>\n",
       "<tr>\n",
       "  <th>buildingStyle[T.OTHER]</th>           <td> 1.486e+05</td> <td> 4.93e+04</td> <td>    3.016</td> <td> 0.003</td> <td> 5.19e+04</td> <td> 2.45e+05</td>\n",
       "</tr>\n",
       "<tr>\n",
       "  <th>buildingStyle[T.ROW-END]</th>         <td> 1.684e+05</td> <td> 2.94e+04</td> <td>    5.735</td> <td> 0.000</td> <td> 1.11e+05</td> <td> 2.26e+05</td>\n",
       "</tr>\n",
       "<tr>\n",
       "  <th>buildingStyle[T.ROW-MIDDLE]</th>      <td> 1.567e+05</td> <td> 2.91e+04</td> <td>    5.379</td> <td> 0.000</td> <td> 9.95e+04</td> <td> 2.14e+05</td>\n",
       "</tr>\n",
       "<tr>\n",
       "  <th>size</th>                             <td>  310.7314</td> <td>   13.965</td> <td>   22.250</td> <td> 0.000</td> <td>  283.328</td> <td>  338.134</td>\n",
       "</tr>\n",
       "<tr>\n",
       "  <th>garage</th>                           <td> 3.768e+04</td> <td> 4772.610</td> <td>    7.894</td> <td> 0.000</td> <td> 2.83e+04</td> <td>  4.7e+04</td>\n",
       "</tr>\n",
       "<tr>\n",
       "  <th>fullBathrooms</th>                    <td> 7.233e+04</td> <td> 8805.326</td> <td>    8.214</td> <td> 0.000</td> <td> 5.51e+04</td> <td> 8.96e+04</td>\n",
       "</tr>\n",
       "<tr>\n",
       "  <th>halfBathrooms</th>                    <td> 8.975e+04</td> <td> 1.08e+04</td> <td>    8.290</td> <td> 0.000</td> <td> 6.85e+04</td> <td> 1.11e+05</td>\n",
       "</tr>\n",
       "<tr>\n",
       "  <th>beacon</th>                           <td> 6.238e+04</td> <td> 1.29e+04</td> <td>    4.830</td> <td> 0.000</td> <td>  3.7e+04</td> <td> 8.77e+04</td>\n",
       "</tr>\n",
       "<tr>\n",
       "  <th>elevators</th>                        <td> 2.107e+04</td> <td> 4770.754</td> <td>    4.416</td> <td> 0.000</td> <td> 1.17e+04</td> <td> 3.04e+04</td>\n",
       "</tr>\n",
       "<tr>\n",
       "  <th>baseFloor</th>                        <td> 1672.2300</td> <td> 2109.276</td> <td>    0.793</td> <td> 0.428</td> <td>-2466.573</td> <td> 5811.033</td>\n",
       "</tr>\n",
       "<tr>\n",
       "  <th>rooms</th>                            <td> 5778.2964</td> <td> 5056.580</td> <td>    1.143</td> <td> 0.253</td> <td>-4143.684</td> <td> 1.57e+04</td>\n",
       "</tr>\n",
       "<tr>\n",
       "  <th>bedrooms</th>                         <td>-8537.5750</td> <td> 8362.512</td> <td>   -1.021</td> <td> 0.308</td> <td>-2.49e+04</td> <td> 7871.279</td>\n",
       "</tr>\n",
       "</table>\n",
       "<table class=\"simpletable\">\n",
       "<tr>\n",
       "  <th>Omnibus:</th>       <td>541.135</td> <th>  Durbin-Watson:     </th> <td>   2.058</td> \n",
       "</tr>\n",
       "<tr>\n",
       "  <th>Prob(Omnibus):</th> <td> 0.000</td>  <th>  Jarque-Bera (JB):  </th> <td>17551.166</td>\n",
       "</tr>\n",
       "<tr>\n",
       "  <th>Skew:</th>          <td> 1.666</td>  <th>  Prob(JB):          </th> <td>    0.00</td> \n",
       "</tr>\n",
       "<tr>\n",
       "  <th>Kurtosis:</th>      <td>22.420</td>  <th>  Cond. No.          </th> <td>3.19e+04</td> \n",
       "</tr>\n",
       "</table><br/><br/>Notes:<br/>[1] Standard Errors assume that the covariance matrix of the errors is correctly specified.<br/>[2] The condition number is large, 3.19e+04. This might indicate that there are<br/>strong multicollinearity or other numerical problems."
      ],
      "text/plain": [
       "<class 'statsmodels.iolib.summary.Summary'>\n",
       "\"\"\"\n",
       "                            OLS Regression Results                            \n",
       "==============================================================================\n",
       "Dep. Variable:                  price   R-squared:                       0.804\n",
       "Model:                            OLS   Adj. R-squared:                  0.801\n",
       "Method:                 Least Squares   F-statistic:                     242.9\n",
       "Date:                Tue, 11 Apr 2023   Prob (F-statistic):               0.00\n",
       "Time:                        14:15:08   Log-Likelihood:                -14195.\n",
       "No. Observations:                1085   AIC:                         2.843e+04\n",
       "Df Residuals:                    1066   BIC:                         2.852e+04\n",
       "Df Model:                          18                                         \n",
       "Covariance Type:            nonrobust                                         \n",
       "====================================================================================================\n",
       "                                       coef    std err          t      P>|t|      [0.025      0.975]\n",
       "----------------------------------------------------------------------------------------------------\n",
       "Intercept                        -1.782e+05   3.15e+04     -5.659      0.000    -2.4e+05   -1.16e+05\n",
       "buildingStyle[T.CONVERTED-HOUSE]  1.515e+05   3.16e+04      4.799      0.000    8.96e+04    2.14e+05\n",
       "buildingStyle[T.DECKER]           1.587e+05   2.78e+04      5.701      0.000    1.04e+05    2.13e+05\n",
       "buildingStyle[T.DUPLEX]           9.014e+04   3.49e+04      2.584      0.010    2.17e+04    1.59e+05\n",
       "buildingStyle[T.HIGH-RISE]        9508.7714   3.71e+04      0.256      0.798   -6.33e+04    8.23e+04\n",
       "buildingStyle[T.LOW-RISE]         1.655e+05   2.69e+04      6.163      0.000    1.13e+05    2.18e+05\n",
       "buildingStyle[T.MID-RISE]         9.008e+04   3.08e+04      2.926      0.004    2.97e+04     1.5e+05\n",
       "buildingStyle[T.OTHER]            1.486e+05   4.93e+04      3.016      0.003    5.19e+04    2.45e+05\n",
       "buildingStyle[T.ROW-END]          1.684e+05   2.94e+04      5.735      0.000    1.11e+05    2.26e+05\n",
       "buildingStyle[T.ROW-MIDDLE]       1.567e+05   2.91e+04      5.379      0.000    9.95e+04    2.14e+05\n",
       "size                               310.7314     13.965     22.250      0.000     283.328     338.134\n",
       "garage                            3.768e+04   4772.610      7.894      0.000    2.83e+04     4.7e+04\n",
       "fullBathrooms                     7.233e+04   8805.326      8.214      0.000    5.51e+04    8.96e+04\n",
       "halfBathrooms                     8.975e+04   1.08e+04      8.290      0.000    6.85e+04    1.11e+05\n",
       "beacon                            6.238e+04   1.29e+04      4.830      0.000     3.7e+04    8.77e+04\n",
       "elevators                         2.107e+04   4770.754      4.416      0.000    1.17e+04    3.04e+04\n",
       "baseFloor                         1672.2300   2109.276      0.793      0.428   -2466.573    5811.033\n",
       "rooms                             5778.2964   5056.580      1.143      0.253   -4143.684    1.57e+04\n",
       "bedrooms                         -8537.5750   8362.512     -1.021      0.308   -2.49e+04    7871.279\n",
       "==============================================================================\n",
       "Omnibus:                      541.135   Durbin-Watson:                   2.058\n",
       "Prob(Omnibus):                  0.000   Jarque-Bera (JB):            17551.166\n",
       "Skew:                           1.666   Prob(JB):                         0.00\n",
       "Kurtosis:                      22.420   Cond. No.                     3.19e+04\n",
       "==============================================================================\n",
       "\n",
       "Notes:\n",
       "[1] Standard Errors assume that the covariance matrix of the errors is correctly specified.\n",
       "[2] The condition number is large, 3.19e+04. This might indicate that there are\n",
       "strong multicollinearity or other numerical problems.\n",
       "\"\"\""
      ]
     },
     "execution_count": 60,
     "metadata": {},
     "output_type": "execute_result"
    }
   ],
   "source": [
    "reg2 = smf.ols('price~size + garage + fullBathrooms + buildingStyle + halfBathrooms + beacon + elevators + baseFloor + rooms + bedrooms', data=br).fit()\n",
    "reg2.summary()"
   ]
  },
  {
   "attachments": {},
   "cell_type": "markdown",
   "metadata": {},
   "source": [
    "### March 30th"
   ]
  },
  {
   "cell_type": "code",
   "execution_count": 61,
   "metadata": {},
   "outputs": [],
   "source": [
    "# avg y (x=1) - avg y (x=0) = beta one = slope\n",
    "# b1 = causal effect + effect of other variables (z)"
   ]
  },
  {
   "cell_type": "code",
   "execution_count": 62,
   "metadata": {},
   "outputs": [
    {
     "data": {
      "text/html": [
       "<div>\n",
       "<style scoped>\n",
       "    .dataframe tbody tr th:only-of-type {\n",
       "        vertical-align: middle;\n",
       "    }\n",
       "\n",
       "    .dataframe tbody tr th {\n",
       "        vertical-align: top;\n",
       "    }\n",
       "\n",
       "    .dataframe thead th {\n",
       "        text-align: right;\n",
       "    }\n",
       "</style>\n",
       "<table border=\"1\" class=\"dataframe\">\n",
       "  <thead>\n",
       "    <tr style=\"text-align: right;\">\n",
       "      <th></th>\n",
       "      <th>price</th>\n",
       "      <th>stNumber</th>\n",
       "      <th>stName</th>\n",
       "      <th>size</th>\n",
       "      <th>beacon</th>\n",
       "      <th>baseFloor</th>\n",
       "      <th>buildingStyle</th>\n",
       "      <th>elevators</th>\n",
       "      <th>rooms</th>\n",
       "      <th>bedrooms</th>\n",
       "      <th>fullBathrooms</th>\n",
       "      <th>halfBathrooms</th>\n",
       "      <th>garage</th>\n",
       "      <th>chapel</th>\n",
       "    </tr>\n",
       "  </thead>\n",
       "  <tbody>\n",
       "    <tr>\n",
       "      <th>0</th>\n",
       "      <td>174000</td>\n",
       "      <td>150</td>\n",
       "      <td>PLEASANT ST</td>\n",
       "      <td>1060</td>\n",
       "      <td>0</td>\n",
       "      <td>4</td>\n",
       "      <td>MID-RISE</td>\n",
       "      <td>1</td>\n",
       "      <td>4</td>\n",
       "      <td>2</td>\n",
       "      <td>1</td>\n",
       "      <td>1</td>\n",
       "      <td>1.0</td>\n",
       "      <td>0</td>\n",
       "    </tr>\n",
       "    <tr>\n",
       "      <th>1</th>\n",
       "      <td>337000</td>\n",
       "      <td>7</td>\n",
       "      <td>LEVERETT ST</td>\n",
       "      <td>831</td>\n",
       "      <td>0</td>\n",
       "      <td>1</td>\n",
       "      <td>DECKER</td>\n",
       "      <td>0</td>\n",
       "      <td>4</td>\n",
       "      <td>2</td>\n",
       "      <td>1</td>\n",
       "      <td>0</td>\n",
       "      <td>0.0</td>\n",
       "      <td>0</td>\n",
       "    </tr>\n",
       "    <tr>\n",
       "      <th>2</th>\n",
       "      <td>850000</td>\n",
       "      <td>24</td>\n",
       "      <td>EUSTON ST</td>\n",
       "      <td>2246</td>\n",
       "      <td>0</td>\n",
       "      <td>1</td>\n",
       "      <td>ROW-END</td>\n",
       "      <td>0</td>\n",
       "      <td>10</td>\n",
       "      <td>6</td>\n",
       "      <td>3</td>\n",
       "      <td>0</td>\n",
       "      <td>0.0</td>\n",
       "      <td>0</td>\n",
       "    </tr>\n",
       "    <tr>\n",
       "      <th>3</th>\n",
       "      <td>516000</td>\n",
       "      <td>417</td>\n",
       "      <td>WASHINGTON ST</td>\n",
       "      <td>1574</td>\n",
       "      <td>0</td>\n",
       "      <td>2</td>\n",
       "      <td>LOW-RISE</td>\n",
       "      <td>0</td>\n",
       "      <td>6</td>\n",
       "      <td>3</td>\n",
       "      <td>2</td>\n",
       "      <td>0</td>\n",
       "      <td>0.0</td>\n",
       "      <td>0</td>\n",
       "    </tr>\n",
       "    <tr>\n",
       "      <th>4</th>\n",
       "      <td>145000</td>\n",
       "      <td>150</td>\n",
       "      <td>PLEASANT ST</td>\n",
       "      <td>669</td>\n",
       "      <td>0</td>\n",
       "      <td>4</td>\n",
       "      <td>MID-RISE</td>\n",
       "      <td>1</td>\n",
       "      <td>3</td>\n",
       "      <td>1</td>\n",
       "      <td>1</td>\n",
       "      <td>0</td>\n",
       "      <td>1.0</td>\n",
       "      <td>0</td>\n",
       "    </tr>\n",
       "  </tbody>\n",
       "</table>\n",
       "</div>"
      ],
      "text/plain": [
       "    price  stNumber         stName  size  beacon  baseFloor buildingStyle  \\\n",
       "0  174000       150    PLEASANT ST  1060       0          4      MID-RISE   \n",
       "1  337000         7    LEVERETT ST   831       0          1        DECKER   \n",
       "2  850000        24      EUSTON ST  2246       0          1       ROW-END   \n",
       "3  516000       417  WASHINGTON ST  1574       0          2      LOW-RISE   \n",
       "4  145000       150    PLEASANT ST   669       0          4      MID-RISE   \n",
       "\n",
       "   elevators  rooms  bedrooms  fullBathrooms  halfBathrooms  garage  chapel  \n",
       "0          1      4         2              1              1     1.0       0  \n",
       "1          0      4         2              1              0     0.0       0  \n",
       "2          0     10         6              3              0     0.0       0  \n",
       "3          0      6         3              2              0     0.0       0  \n",
       "4          1      3         1              1              0     1.0       0  "
      ]
     },
     "execution_count": 62,
     "metadata": {},
     "output_type": "execute_result"
    }
   ],
   "source": [
    "br.head()"
   ]
  },
  {
   "cell_type": "code",
   "execution_count": 63,
   "metadata": {},
   "outputs": [
    {
     "data": {
      "text/plain": [
       "Intercept                          -129662.696643\n",
       "buildingStyle[T.CONVERTED-HOUSE]     96944.080360\n",
       "buildingStyle[T.DECKER]             104413.004343\n",
       "buildingStyle[T.DUPLEX]              47036.125753\n",
       "buildingStyle[T.HIGH-RISE]           82523.767539\n",
       "buildingStyle[T.LOW-RISE]           120511.817591\n",
       "buildingStyle[T.MID-RISE]            86447.269832\n",
       "buildingStyle[T.OTHER]              127282.933622\n",
       "buildingStyle[T.ROW-END]            104136.850789\n",
       "buildingStyle[T.ROW-MIDDLE]          91877.441945\n",
       "fullBathrooms                        75544.033958\n",
       "size                                   368.702535\n",
       "bedrooms                            -11003.709985\n",
       "dtype: float64"
      ]
     },
     "execution_count": 63,
     "metadata": {},
     "output_type": "execute_result"
    }
   ],
   "source": [
    "smf.ols('price ~ fullBathrooms + size + bedrooms + buildingStyle', data = br).fit().params"
   ]
  },
  {
   "cell_type": "code",
   "execution_count": 64,
   "metadata": {},
   "outputs": [],
   "source": [
    "# 1. Look for z variables that are related to y\n",
    "#    - correlation coefficient\n",
    "#    - statistical significance\n",
    "# 2. ''' related to x"
   ]
  },
  {
   "cell_type": "code",
   "execution_count": 65,
   "metadata": {},
   "outputs": [
    {
     "name": "stderr",
     "output_type": "stream",
     "text": [
      "/var/folders/h_/lxrkd3yx3w11tnfvg06j7l140000gn/T/ipykernel_46695/3326747595.py:1: FutureWarning: The default value of numeric_only in DataFrame.corr is deprecated. In a future version, it will default to False. Select only valid columns or specify the value of numeric_only to silence this warning.\n",
      "  br.corr()['price']\n"
     ]
    },
    {
     "data": {
      "text/plain": [
       "price            1.000000\n",
       "stNumber        -0.039374\n",
       "size             0.865468\n",
       "beacon          -0.055239\n",
       "baseFloor       -0.098550\n",
       "elevators       -0.123154\n",
       "rooms            0.665161\n",
       "bedrooms         0.658619\n",
       "fullBathrooms    0.689646\n",
       "halfBathrooms    0.444401\n",
       "garage           0.380783\n",
       "chapel          -0.014857\n",
       "Name: price, dtype: float64"
      ]
     },
     "execution_count": 65,
     "metadata": {},
     "output_type": "execute_result"
    }
   ],
   "source": [
    "br.corr()['price']"
   ]
  },
  {
   "cell_type": "code",
   "execution_count": 66,
   "metadata": {},
   "outputs": [
    {
     "data": {
      "text/html": [
       "<table class=\"simpletable\">\n",
       "<caption>OLS Regression Results</caption>\n",
       "<tr>\n",
       "  <th>Dep. Variable:</th>          <td>price</td>      <th>  R-squared:         </th> <td>   0.003</td> \n",
       "</tr>\n",
       "<tr>\n",
       "  <th>Model:</th>                   <td>OLS</td>       <th>  Adj. R-squared:    </th> <td>   0.002</td> \n",
       "</tr>\n",
       "<tr>\n",
       "  <th>Method:</th>             <td>Least Squares</td>  <th>  F-statistic:       </th> <td>   3.315</td> \n",
       "</tr>\n",
       "<tr>\n",
       "  <th>Date:</th>             <td>Tue, 11 Apr 2023</td> <th>  Prob (F-statistic):</th>  <td>0.0689</td>  \n",
       "</tr>\n",
       "<tr>\n",
       "  <th>Time:</th>                 <td>14:15:09</td>     <th>  Log-Likelihood:    </th> <td> -15078.</td> \n",
       "</tr>\n",
       "<tr>\n",
       "  <th>No. Observations:</th>      <td>  1085</td>      <th>  AIC:               </th> <td>3.016e+04</td>\n",
       "</tr>\n",
       "<tr>\n",
       "  <th>Df Residuals:</th>          <td>  1083</td>      <th>  BIC:               </th> <td>3.017e+04</td>\n",
       "</tr>\n",
       "<tr>\n",
       "  <th>Df Model:</th>              <td>     1</td>      <th>                     </th>     <td> </td>    \n",
       "</tr>\n",
       "<tr>\n",
       "  <th>Covariance Type:</th>      <td>nonrobust</td>    <th>                     </th>     <td> </td>    \n",
       "</tr>\n",
       "</table>\n",
       "<table class=\"simpletable\">\n",
       "<tr>\n",
       "      <td></td>         <th>coef</th>     <th>std err</th>      <th>t</th>      <th>P>|t|</th>  <th>[0.025</th>    <th>0.975]</th>  \n",
       "</tr>\n",
       "<tr>\n",
       "  <th>Intercept</th> <td> 5.207e+05</td> <td> 8435.427</td> <td>   61.731</td> <td> 0.000</td> <td> 5.04e+05</td> <td> 5.37e+05</td>\n",
       "</tr>\n",
       "<tr>\n",
       "  <th>beacon</th>    <td>-4.697e+04</td> <td> 2.58e+04</td> <td>   -1.821</td> <td> 0.069</td> <td>-9.76e+04</td> <td> 3651.345</td>\n",
       "</tr>\n",
       "</table>\n",
       "<table class=\"simpletable\">\n",
       "<tr>\n",
       "  <th>Omnibus:</th>       <td>405.085</td> <th>  Durbin-Watson:     </th> <td>   2.038</td>\n",
       "</tr>\n",
       "<tr>\n",
       "  <th>Prob(Omnibus):</th> <td> 0.000</td>  <th>  Jarque-Bera (JB):  </th> <td>1750.724</td>\n",
       "</tr>\n",
       "<tr>\n",
       "  <th>Skew:</th>          <td> 1.727</td>  <th>  Prob(JB):          </th> <td>    0.00</td>\n",
       "</tr>\n",
       "<tr>\n",
       "  <th>Kurtosis:</th>      <td> 8.177</td>  <th>  Cond. No.          </th> <td>    3.28</td>\n",
       "</tr>\n",
       "</table><br/><br/>Notes:<br/>[1] Standard Errors assume that the covariance matrix of the errors is correctly specified."
      ],
      "text/plain": [
       "<class 'statsmodels.iolib.summary.Summary'>\n",
       "\"\"\"\n",
       "                            OLS Regression Results                            \n",
       "==============================================================================\n",
       "Dep. Variable:                  price   R-squared:                       0.003\n",
       "Model:                            OLS   Adj. R-squared:                  0.002\n",
       "Method:                 Least Squares   F-statistic:                     3.315\n",
       "Date:                Tue, 11 Apr 2023   Prob (F-statistic):             0.0689\n",
       "Time:                        14:15:09   Log-Likelihood:                -15078.\n",
       "No. Observations:                1085   AIC:                         3.016e+04\n",
       "Df Residuals:                    1083   BIC:                         3.017e+04\n",
       "Df Model:                           1                                         \n",
       "Covariance Type:            nonrobust                                         \n",
       "==============================================================================\n",
       "                 coef    std err          t      P>|t|      [0.025      0.975]\n",
       "------------------------------------------------------------------------------\n",
       "Intercept   5.207e+05   8435.427     61.731      0.000    5.04e+05    5.37e+05\n",
       "beacon     -4.697e+04   2.58e+04     -1.821      0.069   -9.76e+04    3651.345\n",
       "==============================================================================\n",
       "Omnibus:                      405.085   Durbin-Watson:                   2.038\n",
       "Prob(Omnibus):                  0.000   Jarque-Bera (JB):             1750.724\n",
       "Skew:                           1.727   Prob(JB):                         0.00\n",
       "Kurtosis:                       8.177   Cond. No.                         3.28\n",
       "==============================================================================\n",
       "\n",
       "Notes:\n",
       "[1] Standard Errors assume that the covariance matrix of the errors is correctly specified.\n",
       "\"\"\""
      ]
     },
     "execution_count": 66,
     "metadata": {},
     "output_type": "execute_result"
    }
   ],
   "source": [
    "smf.ols('price ~ beacon', data=br).fit().summary()"
   ]
  },
  {
   "cell_type": "code",
   "execution_count": 67,
   "metadata": {},
   "outputs": [],
   "source": [
    "# Beacon is not causing a problem because hypothesis of 0 can not be rejected."
   ]
  },
  {
   "cell_type": "code",
   "execution_count": 68,
   "metadata": {},
   "outputs": [
    {
     "data": {
      "text/html": [
       "<table class=\"simpletable\">\n",
       "<caption>OLS Regression Results</caption>\n",
       "<tr>\n",
       "  <th>Dep. Variable:</th>          <td>price</td>      <th>  R-squared:         </th> <td>   0.155</td> \n",
       "</tr>\n",
       "<tr>\n",
       "  <th>Model:</th>                   <td>OLS</td>       <th>  Adj. R-squared:    </th> <td>   0.148</td> \n",
       "</tr>\n",
       "<tr>\n",
       "  <th>Method:</th>             <td>Least Squares</td>  <th>  F-statistic:       </th> <td>   21.90</td> \n",
       "</tr>\n",
       "<tr>\n",
       "  <th>Date:</th>             <td>Tue, 11 Apr 2023</td> <th>  Prob (F-statistic):</th> <td>2.40e-34</td> \n",
       "</tr>\n",
       "<tr>\n",
       "  <th>Time:</th>                 <td>14:15:09</td>     <th>  Log-Likelihood:    </th> <td> -14988.</td> \n",
       "</tr>\n",
       "<tr>\n",
       "  <th>No. Observations:</th>      <td>  1085</td>      <th>  AIC:               </th> <td>3.000e+04</td>\n",
       "</tr>\n",
       "<tr>\n",
       "  <th>Df Residuals:</th>          <td>  1075</td>      <th>  BIC:               </th> <td>3.005e+04</td>\n",
       "</tr>\n",
       "<tr>\n",
       "  <th>Df Model:</th>              <td>     9</td>      <th>                     </th>     <td> </td>    \n",
       "</tr>\n",
       "<tr>\n",
       "  <th>Covariance Type:</th>      <td>nonrobust</td>    <th>                     </th>     <td> </td>    \n",
       "</tr>\n",
       "</table>\n",
       "<table class=\"simpletable\">\n",
       "<tr>\n",
       "                  <td></td>                    <th>coef</th>     <th>std err</th>      <th>t</th>      <th>P>|t|</th>  <th>[0.025</th>    <th>0.975]</th>  \n",
       "</tr>\n",
       "<tr>\n",
       "  <th>Intercept</th>                        <td> 7.339e+05</td> <td> 4.95e+04</td> <td>   14.816</td> <td> 0.000</td> <td> 6.37e+05</td> <td> 8.31e+05</td>\n",
       "</tr>\n",
       "<tr>\n",
       "  <th>buildingStyle[T.CONVERTED-HOUSE]</th> <td>-4.588e+04</td> <td> 6.36e+04</td> <td>   -0.721</td> <td> 0.471</td> <td>-1.71e+05</td> <td> 7.89e+04</td>\n",
       "</tr>\n",
       "<tr>\n",
       "  <th>buildingStyle[T.DECKER]</th>          <td>-1.369e+05</td> <td> 5.42e+04</td> <td>   -2.525</td> <td> 0.012</td> <td>-2.43e+05</td> <td>-3.05e+04</td>\n",
       "</tr>\n",
       "<tr>\n",
       "  <th>buildingStyle[T.DUPLEX]</th>          <td> 7.381e+04</td> <td> 6.93e+04</td> <td>    1.064</td> <td> 0.287</td> <td>-6.23e+04</td> <td>  2.1e+05</td>\n",
       "</tr>\n",
       "<tr>\n",
       "  <th>buildingStyle[T.HIGH-RISE]</th>       <td>-3.211e+05</td> <td> 5.22e+04</td> <td>   -6.152</td> <td> 0.000</td> <td>-4.24e+05</td> <td>-2.19e+05</td>\n",
       "</tr>\n",
       "<tr>\n",
       "  <th>buildingStyle[T.LOW-RISE]</th>        <td>-2.327e+05</td> <td>  5.1e+04</td> <td>   -4.565</td> <td> 0.000</td> <td>-3.33e+05</td> <td>-1.33e+05</td>\n",
       "</tr>\n",
       "<tr>\n",
       "  <th>buildingStyle[T.MID-RISE]</th>        <td>-2.827e+05</td> <td> 5.64e+04</td> <td>   -5.012</td> <td> 0.000</td> <td>-3.93e+05</td> <td>-1.72e+05</td>\n",
       "</tr>\n",
       "<tr>\n",
       "  <th>buildingStyle[T.OTHER]</th>           <td> 4.581e+05</td> <td> 9.91e+04</td> <td>    4.624</td> <td> 0.000</td> <td> 2.64e+05</td> <td> 6.52e+05</td>\n",
       "</tr>\n",
       "<tr>\n",
       "  <th>buildingStyle[T.ROW-END]</th>         <td>  -2.4e+05</td> <td> 5.64e+04</td> <td>   -4.256</td> <td> 0.000</td> <td>-3.51e+05</td> <td>-1.29e+05</td>\n",
       "</tr>\n",
       "<tr>\n",
       "  <th>buildingStyle[T.ROW-MIDDLE]</th>      <td>-2.054e+05</td> <td> 5.61e+04</td> <td>   -3.663</td> <td> 0.000</td> <td>-3.15e+05</td> <td>-9.54e+04</td>\n",
       "</tr>\n",
       "</table>\n",
       "<table class=\"simpletable\">\n",
       "<tr>\n",
       "  <th>Omnibus:</th>       <td>453.144</td> <th>  Durbin-Watson:     </th> <td>   2.046</td>\n",
       "</tr>\n",
       "<tr>\n",
       "  <th>Prob(Omnibus):</th> <td> 0.000</td>  <th>  Jarque-Bera (JB):  </th> <td>2728.695</td>\n",
       "</tr>\n",
       "<tr>\n",
       "  <th>Skew:</th>          <td> 1.826</td>  <th>  Prob(JB):          </th> <td>    0.00</td>\n",
       "</tr>\n",
       "<tr>\n",
       "  <th>Kurtosis:</th>      <td> 9.858</td>  <th>  Cond. No.          </th> <td>    24.4</td>\n",
       "</tr>\n",
       "</table><br/><br/>Notes:<br/>[1] Standard Errors assume that the covariance matrix of the errors is correctly specified."
      ],
      "text/plain": [
       "<class 'statsmodels.iolib.summary.Summary'>\n",
       "\"\"\"\n",
       "                            OLS Regression Results                            \n",
       "==============================================================================\n",
       "Dep. Variable:                  price   R-squared:                       0.155\n",
       "Model:                            OLS   Adj. R-squared:                  0.148\n",
       "Method:                 Least Squares   F-statistic:                     21.90\n",
       "Date:                Tue, 11 Apr 2023   Prob (F-statistic):           2.40e-34\n",
       "Time:                        14:15:09   Log-Likelihood:                -14988.\n",
       "No. Observations:                1085   AIC:                         3.000e+04\n",
       "Df Residuals:                    1075   BIC:                         3.005e+04\n",
       "Df Model:                           9                                         \n",
       "Covariance Type:            nonrobust                                         \n",
       "====================================================================================================\n",
       "                                       coef    std err          t      P>|t|      [0.025      0.975]\n",
       "----------------------------------------------------------------------------------------------------\n",
       "Intercept                         7.339e+05   4.95e+04     14.816      0.000    6.37e+05    8.31e+05\n",
       "buildingStyle[T.CONVERTED-HOUSE] -4.588e+04   6.36e+04     -0.721      0.471   -1.71e+05    7.89e+04\n",
       "buildingStyle[T.DECKER]          -1.369e+05   5.42e+04     -2.525      0.012   -2.43e+05   -3.05e+04\n",
       "buildingStyle[T.DUPLEX]           7.381e+04   6.93e+04      1.064      0.287   -6.23e+04     2.1e+05\n",
       "buildingStyle[T.HIGH-RISE]       -3.211e+05   5.22e+04     -6.152      0.000   -4.24e+05   -2.19e+05\n",
       "buildingStyle[T.LOW-RISE]        -2.327e+05    5.1e+04     -4.565      0.000   -3.33e+05   -1.33e+05\n",
       "buildingStyle[T.MID-RISE]        -2.827e+05   5.64e+04     -5.012      0.000   -3.93e+05   -1.72e+05\n",
       "buildingStyle[T.OTHER]            4.581e+05   9.91e+04      4.624      0.000    2.64e+05    6.52e+05\n",
       "buildingStyle[T.ROW-END]           -2.4e+05   5.64e+04     -4.256      0.000   -3.51e+05   -1.29e+05\n",
       "buildingStyle[T.ROW-MIDDLE]      -2.054e+05   5.61e+04     -3.663      0.000   -3.15e+05   -9.54e+04\n",
       "==============================================================================\n",
       "Omnibus:                      453.144   Durbin-Watson:                   2.046\n",
       "Prob(Omnibus):                  0.000   Jarque-Bera (JB):             2728.695\n",
       "Skew:                           1.826   Prob(JB):                         0.00\n",
       "Kurtosis:                       9.858   Cond. No.                         24.4\n",
       "==============================================================================\n",
       "\n",
       "Notes:\n",
       "[1] Standard Errors assume that the covariance matrix of the errors is correctly specified.\n",
       "\"\"\""
      ]
     },
     "execution_count": 68,
     "metadata": {},
     "output_type": "execute_result"
    }
   ],
   "source": [
    "smf.ols('price ~ buildingStyle', data=br).fit().summary()"
   ]
  },
  {
   "cell_type": "code",
   "execution_count": 69,
   "metadata": {},
   "outputs": [
    {
     "data": {
      "text/html": [
       "<table class=\"simpletable\">\n",
       "<caption>OLS Regression Results</caption>\n",
       "<tr>\n",
       "  <th>Dep. Variable:</th>      <td>fullBathrooms</td>  <th>  R-squared:         </th> <td>   0.108</td>\n",
       "</tr>\n",
       "<tr>\n",
       "  <th>Model:</th>                   <td>OLS</td>       <th>  Adj. R-squared:    </th> <td>   0.100</td>\n",
       "</tr>\n",
       "<tr>\n",
       "  <th>Method:</th>             <td>Least Squares</td>  <th>  F-statistic:       </th> <td>   14.43</td>\n",
       "</tr>\n",
       "<tr>\n",
       "  <th>Date:</th>             <td>Tue, 11 Apr 2023</td> <th>  Prob (F-statistic):</th> <td>3.27e-22</td>\n",
       "</tr>\n",
       "<tr>\n",
       "  <th>Time:</th>                 <td>14:15:09</td>     <th>  Log-Likelihood:    </th> <td> -954.01</td>\n",
       "</tr>\n",
       "<tr>\n",
       "  <th>No. Observations:</th>      <td>  1085</td>      <th>  AIC:               </th> <td>   1928.</td>\n",
       "</tr>\n",
       "<tr>\n",
       "  <th>Df Residuals:</th>          <td>  1075</td>      <th>  BIC:               </th> <td>   1978.</td>\n",
       "</tr>\n",
       "<tr>\n",
       "  <th>Df Model:</th>              <td>     9</td>      <th>                     </th>     <td> </td>   \n",
       "</tr>\n",
       "<tr>\n",
       "  <th>Covariance Type:</th>      <td>nonrobust</td>    <th>                     </th>     <td> </td>   \n",
       "</tr>\n",
       "</table>\n",
       "<table class=\"simpletable\">\n",
       "<tr>\n",
       "                  <td></td>                    <th>coef</th>     <th>std err</th>      <th>t</th>      <th>P>|t|</th>  <th>[0.025</th>    <th>0.975]</th>  \n",
       "</tr>\n",
       "<tr>\n",
       "  <th>Intercept</th>                        <td>    2.1250</td> <td>    0.120</td> <td>   17.776</td> <td> 0.000</td> <td>    1.890</td> <td>    2.360</td>\n",
       "</tr>\n",
       "<tr>\n",
       "  <th>buildingStyle[T.CONVERTED-HOUSE]</th> <td>   -0.3682</td> <td>    0.153</td> <td>   -2.399</td> <td> 0.017</td> <td>   -0.669</td> <td>   -0.067</td>\n",
       "</tr>\n",
       "<tr>\n",
       "  <th>buildingStyle[T.DECKER]</th>          <td>   -0.5217</td> <td>    0.131</td> <td>   -3.987</td> <td> 0.000</td> <td>   -0.778</td> <td>   -0.265</td>\n",
       "</tr>\n",
       "<tr>\n",
       "  <th>buildingStyle[T.DUPLEX]</th>          <td>    0.2350</td> <td>    0.167</td> <td>    1.404</td> <td> 0.161</td> <td>   -0.093</td> <td>    0.563</td>\n",
       "</tr>\n",
       "<tr>\n",
       "  <th>buildingStyle[T.HIGH-RISE]</th>       <td>   -0.7241</td> <td>    0.126</td> <td>   -5.747</td> <td> 0.000</td> <td>   -0.971</td> <td>   -0.477</td>\n",
       "</tr>\n",
       "<tr>\n",
       "  <th>buildingStyle[T.LOW-RISE]</th>        <td>   -0.7137</td> <td>    0.123</td> <td>   -5.801</td> <td> 0.000</td> <td>   -0.955</td> <td>   -0.472</td>\n",
       "</tr>\n",
       "<tr>\n",
       "  <th>buildingStyle[T.MID-RISE]</th>        <td>   -0.5694</td> <td>    0.136</td> <td>   -4.184</td> <td> 0.000</td> <td>   -0.837</td> <td>   -0.302</td>\n",
       "</tr>\n",
       "<tr>\n",
       "  <th>buildingStyle[T.OTHER]</th>           <td>    0.2500</td> <td>    0.239</td> <td>    1.046</td> <td> 0.296</td> <td>   -0.219</td> <td>    0.719</td>\n",
       "</tr>\n",
       "<tr>\n",
       "  <th>buildingStyle[T.ROW-END]</th>         <td>   -0.7299</td> <td>    0.136</td> <td>   -5.363</td> <td> 0.000</td> <td>   -0.997</td> <td>   -0.463</td>\n",
       "</tr>\n",
       "<tr>\n",
       "  <th>buildingStyle[T.ROW-MIDDLE]</th>      <td>   -0.6897</td> <td>    0.135</td> <td>   -5.095</td> <td> 0.000</td> <td>   -0.955</td> <td>   -0.424</td>\n",
       "</tr>\n",
       "</table>\n",
       "<table class=\"simpletable\">\n",
       "<tr>\n",
       "  <th>Omnibus:</th>       <td>111.064</td> <th>  Durbin-Watson:     </th> <td>   2.113</td>\n",
       "</tr>\n",
       "<tr>\n",
       "  <th>Prob(Omnibus):</th> <td> 0.000</td>  <th>  Jarque-Bera (JB):  </th> <td> 144.722</td>\n",
       "</tr>\n",
       "<tr>\n",
       "  <th>Skew:</th>          <td> 0.842</td>  <th>  Prob(JB):          </th> <td>3.75e-32</td>\n",
       "</tr>\n",
       "<tr>\n",
       "  <th>Kurtosis:</th>      <td> 3.603</td>  <th>  Cond. No.          </th> <td>    24.4</td>\n",
       "</tr>\n",
       "</table><br/><br/>Notes:<br/>[1] Standard Errors assume that the covariance matrix of the errors is correctly specified."
      ],
      "text/plain": [
       "<class 'statsmodels.iolib.summary.Summary'>\n",
       "\"\"\"\n",
       "                            OLS Regression Results                            \n",
       "==============================================================================\n",
       "Dep. Variable:          fullBathrooms   R-squared:                       0.108\n",
       "Model:                            OLS   Adj. R-squared:                  0.100\n",
       "Method:                 Least Squares   F-statistic:                     14.43\n",
       "Date:                Tue, 11 Apr 2023   Prob (F-statistic):           3.27e-22\n",
       "Time:                        14:15:09   Log-Likelihood:                -954.01\n",
       "No. Observations:                1085   AIC:                             1928.\n",
       "Df Residuals:                    1075   BIC:                             1978.\n",
       "Df Model:                           9                                         \n",
       "Covariance Type:            nonrobust                                         \n",
       "====================================================================================================\n",
       "                                       coef    std err          t      P>|t|      [0.025      0.975]\n",
       "----------------------------------------------------------------------------------------------------\n",
       "Intercept                            2.1250      0.120     17.776      0.000       1.890       2.360\n",
       "buildingStyle[T.CONVERTED-HOUSE]    -0.3682      0.153     -2.399      0.017      -0.669      -0.067\n",
       "buildingStyle[T.DECKER]             -0.5217      0.131     -3.987      0.000      -0.778      -0.265\n",
       "buildingStyle[T.DUPLEX]              0.2350      0.167      1.404      0.161      -0.093       0.563\n",
       "buildingStyle[T.HIGH-RISE]          -0.7241      0.126     -5.747      0.000      -0.971      -0.477\n",
       "buildingStyle[T.LOW-RISE]           -0.7137      0.123     -5.801      0.000      -0.955      -0.472\n",
       "buildingStyle[T.MID-RISE]           -0.5694      0.136     -4.184      0.000      -0.837      -0.302\n",
       "buildingStyle[T.OTHER]               0.2500      0.239      1.046      0.296      -0.219       0.719\n",
       "buildingStyle[T.ROW-END]            -0.7299      0.136     -5.363      0.000      -0.997      -0.463\n",
       "buildingStyle[T.ROW-MIDDLE]         -0.6897      0.135     -5.095      0.000      -0.955      -0.424\n",
       "==============================================================================\n",
       "Omnibus:                      111.064   Durbin-Watson:                   2.113\n",
       "Prob(Omnibus):                  0.000   Jarque-Bera (JB):              144.722\n",
       "Skew:                           0.842   Prob(JB):                     3.75e-32\n",
       "Kurtosis:                       3.603   Cond. No.                         24.4\n",
       "==============================================================================\n",
       "\n",
       "Notes:\n",
       "[1] Standard Errors assume that the covariance matrix of the errors is correctly specified.\n",
       "\"\"\""
      ]
     },
     "execution_count": 69,
     "metadata": {},
     "output_type": "execute_result"
    }
   ],
   "source": [
    "smf.ols('fullBathrooms ~ buildingStyle', data=br).fit().summary()"
   ]
  },
  {
   "cell_type": "code",
   "execution_count": 70,
   "metadata": {},
   "outputs": [
    {
     "name": "stderr",
     "output_type": "stream",
     "text": [
      "/var/folders/h_/lxrkd3yx3w11tnfvg06j7l140000gn/T/ipykernel_46695/1847784907.py:1: FutureWarning: The default value of numeric_only in DataFrame.corr is deprecated. In a future version, it will default to False. Select only valid columns or specify the value of numeric_only to silence this warning.\n",
      "  br.corr()[['price','fullBathrooms']]\n"
     ]
    },
    {
     "data": {
      "text/html": [
       "<div>\n",
       "<style scoped>\n",
       "    .dataframe tbody tr th:only-of-type {\n",
       "        vertical-align: middle;\n",
       "    }\n",
       "\n",
       "    .dataframe tbody tr th {\n",
       "        vertical-align: top;\n",
       "    }\n",
       "\n",
       "    .dataframe thead th {\n",
       "        text-align: right;\n",
       "    }\n",
       "</style>\n",
       "<table border=\"1\" class=\"dataframe\">\n",
       "  <thead>\n",
       "    <tr style=\"text-align: right;\">\n",
       "      <th></th>\n",
       "      <th>price</th>\n",
       "      <th>fullBathrooms</th>\n",
       "    </tr>\n",
       "  </thead>\n",
       "  <tbody>\n",
       "    <tr>\n",
       "      <th>price</th>\n",
       "      <td>1.000000</td>\n",
       "      <td>0.689646</td>\n",
       "    </tr>\n",
       "    <tr>\n",
       "      <th>stNumber</th>\n",
       "      <td>-0.039374</td>\n",
       "      <td>-0.060966</td>\n",
       "    </tr>\n",
       "    <tr>\n",
       "      <th>size</th>\n",
       "      <td>0.865468</td>\n",
       "      <td>0.702481</td>\n",
       "    </tr>\n",
       "    <tr>\n",
       "      <th>beacon</th>\n",
       "      <td>-0.055239</td>\n",
       "      <td>-0.086219</td>\n",
       "    </tr>\n",
       "    <tr>\n",
       "      <th>baseFloor</th>\n",
       "      <td>-0.098550</td>\n",
       "      <td>-0.030554</td>\n",
       "    </tr>\n",
       "    <tr>\n",
       "      <th>elevators</th>\n",
       "      <td>-0.123154</td>\n",
       "      <td>0.008980</td>\n",
       "    </tr>\n",
       "    <tr>\n",
       "      <th>rooms</th>\n",
       "      <td>0.665161</td>\n",
       "      <td>0.567109</td>\n",
       "    </tr>\n",
       "    <tr>\n",
       "      <th>bedrooms</th>\n",
       "      <td>0.658619</td>\n",
       "      <td>0.578127</td>\n",
       "    </tr>\n",
       "    <tr>\n",
       "      <th>fullBathrooms</th>\n",
       "      <td>0.689646</td>\n",
       "      <td>1.000000</td>\n",
       "    </tr>\n",
       "    <tr>\n",
       "      <th>halfBathrooms</th>\n",
       "      <td>0.444401</td>\n",
       "      <td>0.182133</td>\n",
       "    </tr>\n",
       "    <tr>\n",
       "      <th>garage</th>\n",
       "      <td>0.380783</td>\n",
       "      <td>0.347250</td>\n",
       "    </tr>\n",
       "    <tr>\n",
       "      <th>chapel</th>\n",
       "      <td>-0.014857</td>\n",
       "      <td>0.039352</td>\n",
       "    </tr>\n",
       "  </tbody>\n",
       "</table>\n",
       "</div>"
      ],
      "text/plain": [
       "                  price  fullBathrooms\n",
       "price          1.000000       0.689646\n",
       "stNumber      -0.039374      -0.060966\n",
       "size           0.865468       0.702481\n",
       "beacon        -0.055239      -0.086219\n",
       "baseFloor     -0.098550      -0.030554\n",
       "elevators     -0.123154       0.008980\n",
       "rooms          0.665161       0.567109\n",
       "bedrooms       0.658619       0.578127\n",
       "fullBathrooms  0.689646       1.000000\n",
       "halfBathrooms  0.444401       0.182133\n",
       "garage         0.380783       0.347250\n",
       "chapel        -0.014857       0.039352"
      ]
     },
     "execution_count": 70,
     "metadata": {},
     "output_type": "execute_result"
    }
   ],
   "source": [
    "br.corr()[['price','fullBathrooms']]"
   ]
  },
  {
   "cell_type": "code",
   "execution_count": 71,
   "metadata": {},
   "outputs": [],
   "source": [
    "# Correlation Coefficient and Statistical Significance\n",
    "# Control variable"
   ]
  },
  {
   "attachments": {},
   "cell_type": "markdown",
   "metadata": {},
   "source": [
    "### APRIL 4"
   ]
  },
  {
   "cell_type": "code",
   "execution_count": 72,
   "metadata": {},
   "outputs": [
    {
     "data": {
      "text/html": [
       "<div>\n",
       "<style scoped>\n",
       "    .dataframe tbody tr th:only-of-type {\n",
       "        vertical-align: middle;\n",
       "    }\n",
       "\n",
       "    .dataframe tbody tr th {\n",
       "        vertical-align: top;\n",
       "    }\n",
       "\n",
       "    .dataframe thead th {\n",
       "        text-align: right;\n",
       "    }\n",
       "</style>\n",
       "<table border=\"1\" class=\"dataframe\">\n",
       "  <thead>\n",
       "    <tr style=\"text-align: right;\">\n",
       "      <th></th>\n",
       "      <th>country_name</th>\n",
       "      <th>growth</th>\n",
       "      <th>oil</th>\n",
       "      <th>rgdp60</th>\n",
       "      <th>tradeshare</th>\n",
       "      <th>yearsschool</th>\n",
       "      <th>rev_coups</th>\n",
       "      <th>assasinations</th>\n",
       "    </tr>\n",
       "  </thead>\n",
       "  <tbody>\n",
       "    <tr>\n",
       "      <th>0</th>\n",
       "      <td>India</td>\n",
       "      <td>1.915168</td>\n",
       "      <td>0</td>\n",
       "      <td>765.999817</td>\n",
       "      <td>0.140502</td>\n",
       "      <td>1.45</td>\n",
       "      <td>0.133333</td>\n",
       "      <td>0.866667</td>\n",
       "    </tr>\n",
       "    <tr>\n",
       "      <th>1</th>\n",
       "      <td>Argentina</td>\n",
       "      <td>0.617645</td>\n",
       "      <td>0</td>\n",
       "      <td>4462.001465</td>\n",
       "      <td>0.156623</td>\n",
       "      <td>4.99</td>\n",
       "      <td>0.933333</td>\n",
       "      <td>1.933333</td>\n",
       "    </tr>\n",
       "    <tr>\n",
       "      <th>2</th>\n",
       "      <td>Japan</td>\n",
       "      <td>4.304759</td>\n",
       "      <td>0</td>\n",
       "      <td>2953.999512</td>\n",
       "      <td>0.157703</td>\n",
       "      <td>6.71</td>\n",
       "      <td>0.000000</td>\n",
       "      <td>0.200000</td>\n",
       "    </tr>\n",
       "    <tr>\n",
       "      <th>3</th>\n",
       "      <td>Brazil</td>\n",
       "      <td>2.930097</td>\n",
       "      <td>0</td>\n",
       "      <td>1783.999878</td>\n",
       "      <td>0.160405</td>\n",
       "      <td>2.89</td>\n",
       "      <td>0.100000</td>\n",
       "      <td>0.100000</td>\n",
       "    </tr>\n",
       "    <tr>\n",
       "      <th>4</th>\n",
       "      <td>United States</td>\n",
       "      <td>1.712265</td>\n",
       "      <td>0</td>\n",
       "      <td>9895.003906</td>\n",
       "      <td>0.160815</td>\n",
       "      <td>8.66</td>\n",
       "      <td>0.000000</td>\n",
       "      <td>0.433333</td>\n",
       "    </tr>\n",
       "  </tbody>\n",
       "</table>\n",
       "</div>"
      ],
      "text/plain": [
       "    country_name    growth  oil       rgdp60  tradeshare  yearsschool  \\\n",
       "0          India  1.915168    0   765.999817    0.140502         1.45   \n",
       "1      Argentina  0.617645    0  4462.001465    0.156623         4.99   \n",
       "2          Japan  4.304759    0  2953.999512    0.157703         6.71   \n",
       "3         Brazil  2.930097    0  1783.999878    0.160405         2.89   \n",
       "4  United States  1.712265    0  9895.003906    0.160815         8.66   \n",
       "\n",
       "   rev_coups  assasinations  \n",
       "0   0.133333       0.866667  \n",
       "1   0.933333       1.933333  \n",
       "2   0.000000       0.200000  \n",
       "3   0.100000       0.100000  \n",
       "4   0.000000       0.433333  "
      ]
     },
     "execution_count": 72,
     "metadata": {},
     "output_type": "execute_result"
    }
   ],
   "source": [
    "gr = pd.read_csv(\"data/Growth.csv\")\n",
    "gr.head()"
   ]
  },
  {
   "cell_type": "code",
   "execution_count": 73,
   "metadata": {},
   "outputs": [
    {
     "data": {
      "text/plain": [
       "Intercept     0.640265\n",
       "tradeshare    2.306434\n",
       "dtype: float64"
      ]
     },
     "execution_count": 73,
     "metadata": {},
     "output_type": "execute_result"
    }
   ],
   "source": [
    "smf.ols('growth~tradeshare', data=gr).fit().params"
   ]
  },
  {
   "cell_type": "code",
   "execution_count": 74,
   "metadata": {},
   "outputs": [
    {
     "data": {
      "image/png": "[encoded data removed]",
      "text/plain": [
       "<Figure size 640x480 with 1 Axes>"
      ]
     },
     "metadata": {},
     "output_type": "display_data"
    }
   ],
   "source": [
    "sns.regplot(x=gr.tradeshare, y=gr.growth, ci=False)\n",
    "plt.show()"
   ]
  },
  {
   "cell_type": "code",
   "execution_count": 75,
   "metadata": {},
   "outputs": [
    {
     "data": {
      "image/png": "[encoded data removed]",
      "text/plain": [
       "<Figure size 640x480 with 1 Axes>"
      ]
     },
     "metadata": {},
     "output_type": "display_data"
    }
   ],
   "source": [
    "reg1 = smf.ols('growth~tradeshare', data=gr).fit()\n",
    "cd = reg1.get_influence().summary_frame().cooks_d\n",
    "cd.plot()\n",
    "plt.show()"
   ]
  },
  {
   "cell_type": "code",
   "execution_count": 76,
   "metadata": {},
   "outputs": [
    {
     "data": {
      "text/plain": [
       "2                  Japan\n",
       "14                 Zaire\n",
       "27    Korea, Republic of\n",
       "53         Taiwan, China\n",
       "64                 Malta\n",
       "Name: country_name, dtype: object"
      ]
     },
     "execution_count": 76,
     "metadata": {},
     "output_type": "execute_result"
    }
   ],
   "source": [
    "gr.country_name[cd >= 4/len(gr)]"
   ]
  },
  {
   "cell_type": "code",
   "execution_count": 77,
   "metadata": {},
   "outputs": [
    {
     "data": {
      "text/html": [
       "<div>\n",
       "<style scoped>\n",
       "    .dataframe tbody tr th:only-of-type {\n",
       "        vertical-align: middle;\n",
       "    }\n",
       "\n",
       "    .dataframe tbody tr th {\n",
       "        vertical-align: top;\n",
       "    }\n",
       "\n",
       "    .dataframe thead th {\n",
       "        text-align: right;\n",
       "    }\n",
       "</style>\n",
       "<table border=\"1\" class=\"dataframe\">\n",
       "  <thead>\n",
       "    <tr style=\"text-align: right;\">\n",
       "      <th></th>\n",
       "      <th>Unnamed: 0</th>\n",
       "      <th>carat</th>\n",
       "      <th>cut</th>\n",
       "      <th>color</th>\n",
       "      <th>clarity</th>\n",
       "      <th>depth</th>\n",
       "      <th>table</th>\n",
       "      <th>price</th>\n",
       "      <th>x</th>\n",
       "      <th>y</th>\n",
       "      <th>z</th>\n",
       "    </tr>\n",
       "  </thead>\n",
       "  <tbody>\n",
       "    <tr>\n",
       "      <th>0</th>\n",
       "      <td>1</td>\n",
       "      <td>0.23</td>\n",
       "      <td>Ideal</td>\n",
       "      <td>E</td>\n",
       "      <td>SI2</td>\n",
       "      <td>61.5</td>\n",
       "      <td>55.0</td>\n",
       "      <td>326</td>\n",
       "      <td>3.95</td>\n",
       "      <td>3.98</td>\n",
       "      <td>2.43</td>\n",
       "    </tr>\n",
       "    <tr>\n",
       "      <th>1</th>\n",
       "      <td>2</td>\n",
       "      <td>0.21</td>\n",
       "      <td>Premium</td>\n",
       "      <td>E</td>\n",
       "      <td>SI1</td>\n",
       "      <td>59.8</td>\n",
       "      <td>61.0</td>\n",
       "      <td>326</td>\n",
       "      <td>3.89</td>\n",
       "      <td>3.84</td>\n",
       "      <td>2.31</td>\n",
       "    </tr>\n",
       "    <tr>\n",
       "      <th>2</th>\n",
       "      <td>3</td>\n",
       "      <td>0.23</td>\n",
       "      <td>Good</td>\n",
       "      <td>E</td>\n",
       "      <td>VS1</td>\n",
       "      <td>56.9</td>\n",
       "      <td>65.0</td>\n",
       "      <td>327</td>\n",
       "      <td>4.05</td>\n",
       "      <td>4.07</td>\n",
       "      <td>2.31</td>\n",
       "    </tr>\n",
       "    <tr>\n",
       "      <th>3</th>\n",
       "      <td>4</td>\n",
       "      <td>0.29</td>\n",
       "      <td>Premium</td>\n",
       "      <td>I</td>\n",
       "      <td>VS2</td>\n",
       "      <td>62.4</td>\n",
       "      <td>58.0</td>\n",
       "      <td>334</td>\n",
       "      <td>4.20</td>\n",
       "      <td>4.23</td>\n",
       "      <td>2.63</td>\n",
       "    </tr>\n",
       "    <tr>\n",
       "      <th>4</th>\n",
       "      <td>5</td>\n",
       "      <td>0.31</td>\n",
       "      <td>Good</td>\n",
       "      <td>J</td>\n",
       "      <td>SI2</td>\n",
       "      <td>63.3</td>\n",
       "      <td>58.0</td>\n",
       "      <td>335</td>\n",
       "      <td>4.34</td>\n",
       "      <td>4.35</td>\n",
       "      <td>2.75</td>\n",
       "    </tr>\n",
       "  </tbody>\n",
       "</table>\n",
       "</div>"
      ],
      "text/plain": [
       "   Unnamed: 0  carat      cut color clarity  depth  table  price     x     y  \\\n",
       "0           1   0.23    Ideal     E     SI2   61.5   55.0    326  3.95  3.98   \n",
       "1           2   0.21  Premium     E     SI1   59.8   61.0    326  3.89  3.84   \n",
       "2           3   0.23     Good     E     VS1   56.9   65.0    327  4.05  4.07   \n",
       "3           4   0.29  Premium     I     VS2   62.4   58.0    334  4.20  4.23   \n",
       "4           5   0.31     Good     J     SI2   63.3   58.0    335  4.34  4.35   \n",
       "\n",
       "      z  \n",
       "0  2.43  \n",
       "1  2.31  \n",
       "2  2.31  \n",
       "3  2.63  \n",
       "4  2.75  "
      ]
     },
     "execution_count": 77,
     "metadata": {},
     "output_type": "execute_result"
    }
   ],
   "source": [
    "di = pd.read_csv('data/diamonds.csv')\n",
    "di.head()"
   ]
  },
  {
   "cell_type": "code",
   "execution_count": 78,
   "metadata": {},
   "outputs": [
    {
     "name": "stderr",
     "output_type": "stream",
     "text": [
      "/var/folders/h_/lxrkd3yx3w11tnfvg06j7l140000gn/T/ipykernel_46695/3011832155.py:1: FutureWarning: The default value of numeric_only in DataFrame.corr is deprecated. In a future version, it will default to False. Select only valid columns or specify the value of numeric_only to silence this warning.\n",
      "  di.corr()\n"
     ]
    },
    {
     "data": {
      "text/html": [
       "<div>\n",
       "<style scoped>\n",
       "    .dataframe tbody tr th:only-of-type {\n",
       "        vertical-align: middle;\n",
       "    }\n",
       "\n",
       "    .dataframe tbody tr th {\n",
       "        vertical-align: top;\n",
       "    }\n",
       "\n",
       "    .dataframe thead th {\n",
       "        text-align: right;\n",
       "    }\n",
       "</style>\n",
       "<table border=\"1\" class=\"dataframe\">\n",
       "  <thead>\n",
       "    <tr style=\"text-align: right;\">\n",
       "      <th></th>\n",
       "      <th>Unnamed: 0</th>\n",
       "      <th>carat</th>\n",
       "      <th>depth</th>\n",
       "      <th>table</th>\n",
       "      <th>price</th>\n",
       "      <th>x</th>\n",
       "      <th>y</th>\n",
       "      <th>z</th>\n",
       "    </tr>\n",
       "  </thead>\n",
       "  <tbody>\n",
       "    <tr>\n",
       "      <th>Unnamed: 0</th>\n",
       "      <td>1.000000</td>\n",
       "      <td>-0.377983</td>\n",
       "      <td>-0.034800</td>\n",
       "      <td>-0.100830</td>\n",
       "      <td>-0.306873</td>\n",
       "      <td>-0.405440</td>\n",
       "      <td>-0.395843</td>\n",
       "      <td>-0.399208</td>\n",
       "    </tr>\n",
       "    <tr>\n",
       "      <th>carat</th>\n",
       "      <td>-0.377983</td>\n",
       "      <td>1.000000</td>\n",
       "      <td>0.028224</td>\n",
       "      <td>0.181618</td>\n",
       "      <td>0.921591</td>\n",
       "      <td>0.975094</td>\n",
       "      <td>0.951722</td>\n",
       "      <td>0.953387</td>\n",
       "    </tr>\n",
       "    <tr>\n",
       "      <th>depth</th>\n",
       "      <td>-0.034800</td>\n",
       "      <td>0.028224</td>\n",
       "      <td>1.000000</td>\n",
       "      <td>-0.295779</td>\n",
       "      <td>-0.010647</td>\n",
       "      <td>-0.025289</td>\n",
       "      <td>-0.029341</td>\n",
       "      <td>0.094924</td>\n",
       "    </tr>\n",
       "    <tr>\n",
       "      <th>table</th>\n",
       "      <td>-0.100830</td>\n",
       "      <td>0.181618</td>\n",
       "      <td>-0.295779</td>\n",
       "      <td>1.000000</td>\n",
       "      <td>0.127134</td>\n",
       "      <td>0.195344</td>\n",
       "      <td>0.183760</td>\n",
       "      <td>0.150929</td>\n",
       "    </tr>\n",
       "    <tr>\n",
       "      <th>price</th>\n",
       "      <td>-0.306873</td>\n",
       "      <td>0.921591</td>\n",
       "      <td>-0.010647</td>\n",
       "      <td>0.127134</td>\n",
       "      <td>1.000000</td>\n",
       "      <td>0.884435</td>\n",
       "      <td>0.865421</td>\n",
       "      <td>0.861249</td>\n",
       "    </tr>\n",
       "    <tr>\n",
       "      <th>x</th>\n",
       "      <td>-0.405440</td>\n",
       "      <td>0.975094</td>\n",
       "      <td>-0.025289</td>\n",
       "      <td>0.195344</td>\n",
       "      <td>0.884435</td>\n",
       "      <td>1.000000</td>\n",
       "      <td>0.974701</td>\n",
       "      <td>0.970772</td>\n",
       "    </tr>\n",
       "    <tr>\n",
       "      <th>y</th>\n",
       "      <td>-0.395843</td>\n",
       "      <td>0.951722</td>\n",
       "      <td>-0.029341</td>\n",
       "      <td>0.183760</td>\n",
       "      <td>0.865421</td>\n",
       "      <td>0.974701</td>\n",
       "      <td>1.000000</td>\n",
       "      <td>0.952006</td>\n",
       "    </tr>\n",
       "    <tr>\n",
       "      <th>z</th>\n",
       "      <td>-0.399208</td>\n",
       "      <td>0.953387</td>\n",
       "      <td>0.094924</td>\n",
       "      <td>0.150929</td>\n",
       "      <td>0.861249</td>\n",
       "      <td>0.970772</td>\n",
       "      <td>0.952006</td>\n",
       "      <td>1.000000</td>\n",
       "    </tr>\n",
       "  </tbody>\n",
       "</table>\n",
       "</div>"
      ],
      "text/plain": [
       "            Unnamed: 0     carat     depth     table     price         x  \\\n",
       "Unnamed: 0    1.000000 -0.377983 -0.034800 -0.100830 -0.306873 -0.405440   \n",
       "carat        -0.377983  1.000000  0.028224  0.181618  0.921591  0.975094   \n",
       "depth        -0.034800  0.028224  1.000000 -0.295779 -0.010647 -0.025289   \n",
       "table        -0.100830  0.181618 -0.295779  1.000000  0.127134  0.195344   \n",
       "price        -0.306873  0.921591 -0.010647  0.127134  1.000000  0.884435   \n",
       "x            -0.405440  0.975094 -0.025289  0.195344  0.884435  1.000000   \n",
       "y            -0.395843  0.951722 -0.029341  0.183760  0.865421  0.974701   \n",
       "z            -0.399208  0.953387  0.094924  0.150929  0.861249  0.970772   \n",
       "\n",
       "                   y         z  \n",
       "Unnamed: 0 -0.395843 -0.399208  \n",
       "carat       0.951722  0.953387  \n",
       "depth      -0.029341  0.094924  \n",
       "table       0.183760  0.150929  \n",
       "price       0.865421  0.861249  \n",
       "x           0.974701  0.970772  \n",
       "y           1.000000  0.952006  \n",
       "z           0.952006  1.000000  "
      ]
     },
     "execution_count": 78,
     "metadata": {},
     "output_type": "execute_result"
    }
   ],
   "source": [
    "di.corr()"
   ]
  },
  {
   "cell_type": "code",
   "execution_count": 79,
   "metadata": {},
   "outputs": [
    {
     "data": {
      "text/html": [
       "<table class=\"simpletable\">\n",
       "<caption>OLS Regression Results</caption>\n",
       "<tr>\n",
       "  <th>Dep. Variable:</th>          <td>price</td>      <th>  R-squared:         </th>  <td>   0.782</td>  \n",
       "</tr>\n",
       "<tr>\n",
       "  <th>Model:</th>                   <td>OLS</td>       <th>  Adj. R-squared:    </th>  <td>   0.782</td>  \n",
       "</tr>\n",
       "<tr>\n",
       "  <th>Method:</th>             <td>Least Squares</td>  <th>  F-statistic:       </th>  <td>9.700e+04</td> \n",
       "</tr>\n",
       "<tr>\n",
       "  <th>Date:</th>             <td>Tue, 11 Apr 2023</td> <th>  Prob (F-statistic):</th>   <td>  0.00</td>   \n",
       "</tr>\n",
       "<tr>\n",
       "  <th>Time:</th>                 <td>14:15:09</td>     <th>  Log-Likelihood:    </th> <td>-4.8264e+05</td>\n",
       "</tr>\n",
       "<tr>\n",
       "  <th>No. Observations:</th>      <td> 53940</td>      <th>  AIC:               </th>  <td>9.653e+05</td> \n",
       "</tr>\n",
       "<tr>\n",
       "  <th>Df Residuals:</th>          <td> 53937</td>      <th>  BIC:               </th>  <td>9.653e+05</td> \n",
       "</tr>\n",
       "<tr>\n",
       "  <th>Df Model:</th>              <td>     2</td>      <th>                     </th>      <td> </td>     \n",
       "</tr>\n",
       "<tr>\n",
       "  <th>Covariance Type:</th>      <td>nonrobust</td>    <th>                     </th>      <td> </td>     \n",
       "</tr>\n",
       "</table>\n",
       "<table class=\"simpletable\">\n",
       "<tr>\n",
       "      <td></td>         <th>coef</th>     <th>std err</th>      <th>t</th>      <th>P>|t|</th>  <th>[0.025</th>    <th>0.975]</th>  \n",
       "</tr>\n",
       "<tr>\n",
       "  <th>Intercept</th> <td>-1.411e+04</td> <td>   41.737</td> <td> -337.951</td> <td> 0.000</td> <td>-1.42e+04</td> <td> -1.4e+04</td>\n",
       "</tr>\n",
       "<tr>\n",
       "  <th>x</th>         <td> 2912.2238</td> <td>   31.956</td> <td>   91.133</td> <td> 0.000</td> <td> 2849.590</td> <td> 2974.857</td>\n",
       "</tr>\n",
       "<tr>\n",
       "  <th>y</th>         <td>  234.9740</td> <td>   31.386</td> <td>    7.487</td> <td> 0.000</td> <td>  173.458</td> <td>  296.490</td>\n",
       "</tr>\n",
       "</table>\n",
       "<table class=\"simpletable\">\n",
       "<tr>\n",
       "  <th>Omnibus:</th>       <td>18854.275</td> <th>  Durbin-Watson:     </th>  <td>   0.440</td> \n",
       "</tr>\n",
       "<tr>\n",
       "  <th>Prob(Omnibus):</th>  <td> 0.000</td>   <th>  Jarque-Bera (JB):  </th> <td>144118.452</td>\n",
       "</tr>\n",
       "<tr>\n",
       "  <th>Skew:</th>           <td> 1.479</td>   <th>  Prob(JB):          </th>  <td>    0.00</td> \n",
       "</tr>\n",
       "<tr>\n",
       "  <th>Kurtosis:</th>       <td>10.442</td>   <th>  Cond. No.          </th>  <td>    47.0</td> \n",
       "</tr>\n",
       "</table><br/><br/>Notes:<br/>[1] Standard Errors assume that the covariance matrix of the errors is correctly specified."
      ],
      "text/plain": [
       "<class 'statsmodels.iolib.summary.Summary'>\n",
       "\"\"\"\n",
       "                            OLS Regression Results                            \n",
       "==============================================================================\n",
       "Dep. Variable:                  price   R-squared:                       0.782\n",
       "Model:                            OLS   Adj. R-squared:                  0.782\n",
       "Method:                 Least Squares   F-statistic:                 9.700e+04\n",
       "Date:                Tue, 11 Apr 2023   Prob (F-statistic):               0.00\n",
       "Time:                        14:15:09   Log-Likelihood:            -4.8264e+05\n",
       "No. Observations:               53940   AIC:                         9.653e+05\n",
       "Df Residuals:                   53937   BIC:                         9.653e+05\n",
       "Df Model:                           2                                         \n",
       "Covariance Type:            nonrobust                                         \n",
       "==============================================================================\n",
       "                 coef    std err          t      P>|t|      [0.025      0.975]\n",
       "------------------------------------------------------------------------------\n",
       "Intercept  -1.411e+04     41.737   -337.951      0.000   -1.42e+04    -1.4e+04\n",
       "x           2912.2238     31.956     91.133      0.000    2849.590    2974.857\n",
       "y            234.9740     31.386      7.487      0.000     173.458     296.490\n",
       "==============================================================================\n",
       "Omnibus:                    18854.275   Durbin-Watson:                   0.440\n",
       "Prob(Omnibus):                  0.000   Jarque-Bera (JB):           144118.452\n",
       "Skew:                           1.479   Prob(JB):                         0.00\n",
       "Kurtosis:                      10.442   Cond. No.                         47.0\n",
       "==============================================================================\n",
       "\n",
       "Notes:\n",
       "[1] Standard Errors assume that the covariance matrix of the errors is correctly specified.\n",
       "\"\"\""
      ]
     },
     "execution_count": 79,
     "metadata": {},
     "output_type": "execute_result"
    }
   ],
   "source": [
    "smf.ols('price ~ x+y', data=di).fit().summary()"
   ]
  },
  {
   "cell_type": "code",
   "execution_count": 80,
   "metadata": {},
   "outputs": [
    {
     "data": {
      "text/html": [
       "<table class=\"simpletable\">\n",
       "<caption>OLS Regression Results</caption>\n",
       "<tr>\n",
       "  <th>Dep. Variable:</th>            <td>x</td>        <th>  R-squared:         </th> <td>   0.950</td> \n",
       "</tr>\n",
       "<tr>\n",
       "  <th>Model:</th>                   <td>OLS</td>       <th>  Adj. R-squared:    </th> <td>   0.950</td> \n",
       "</tr>\n",
       "<tr>\n",
       "  <th>Method:</th>             <td>Least Squares</td>  <th>  F-statistic:       </th> <td>1.026e+06</td>\n",
       "</tr>\n",
       "<tr>\n",
       "  <th>Date:</th>             <td>Tue, 11 Apr 2023</td> <th>  Prob (F-statistic):</th>  <td>  0.00</td>  \n",
       "</tr>\n",
       "<tr>\n",
       "  <th>Time:</th>                 <td>14:15:09</td>     <th>  Log-Likelihood:    </th> <td> -1916.6</td> \n",
       "</tr>\n",
       "<tr>\n",
       "  <th>No. Observations:</th>      <td> 53940</td>      <th>  AIC:               </th> <td>   3837.</td> \n",
       "</tr>\n",
       "<tr>\n",
       "  <th>Df Residuals:</th>          <td> 53938</td>      <th>  BIC:               </th> <td>   3855.</td> \n",
       "</tr>\n",
       "<tr>\n",
       "  <th>Df Model:</th>              <td>     1</td>      <th>                     </th>     <td> </td>    \n",
       "</tr>\n",
       "<tr>\n",
       "  <th>Covariance Type:</th>      <td>nonrobust</td>    <th>                     </th>     <td> </td>    \n",
       "</tr>\n",
       "</table>\n",
       "<table class=\"simpletable\">\n",
       "<tr>\n",
       "      <td></td>         <th>coef</th>     <th>std err</th>      <th>t</th>      <th>P>|t|</th>  <th>[0.025</th>    <th>0.975]</th>  \n",
       "</tr>\n",
       "<tr>\n",
       "  <th>Intercept</th> <td>    0.2414</td> <td>    0.006</td> <td>   43.680</td> <td> 0.000</td> <td>    0.231</td> <td>    0.252</td>\n",
       "</tr>\n",
       "<tr>\n",
       "  <th>y</th>         <td>    0.9573</td> <td>    0.001</td> <td> 1012.793</td> <td> 0.000</td> <td>    0.955</td> <td>    0.959</td>\n",
       "</tr>\n",
       "</table>\n",
       "<table class=\"simpletable\">\n",
       "<tr>\n",
       "  <th>Omnibus:</th>       <td>244690.794</td> <th>  Durbin-Watson:     </th>     <td>   1.895</td>     \n",
       "</tr>\n",
       "<tr>\n",
       "  <th>Prob(Omnibus):</th>   <td> 0.000</td>   <th>  Jarque-Bera (JB):  </th> <td>1767166921686.468</td>\n",
       "</tr>\n",
       "<tr>\n",
       "  <th>Skew:</th>           <td>-154.327</td>  <th>  Prob(JB):          </th>     <td>    0.00</td>     \n",
       "</tr>\n",
       "<tr>\n",
       "  <th>Kurtosis:</th>       <td>28042.007</td> <th>  Cond. No.          </th>     <td>    30.8</td>     \n",
       "</tr>\n",
       "</table><br/><br/>Notes:<br/>[1] Standard Errors assume that the covariance matrix of the errors is correctly specified."
      ],
      "text/plain": [
       "<class 'statsmodels.iolib.summary.Summary'>\n",
       "\"\"\"\n",
       "                            OLS Regression Results                            \n",
       "==============================================================================\n",
       "Dep. Variable:                      x   R-squared:                       0.950\n",
       "Model:                            OLS   Adj. R-squared:                  0.950\n",
       "Method:                 Least Squares   F-statistic:                 1.026e+06\n",
       "Date:                Tue, 11 Apr 2023   Prob (F-statistic):               0.00\n",
       "Time:                        14:15:09   Log-Likelihood:                -1916.6\n",
       "No. Observations:               53940   AIC:                             3837.\n",
       "Df Residuals:                   53938   BIC:                             3855.\n",
       "Df Model:                           1                                         \n",
       "Covariance Type:            nonrobust                                         \n",
       "==============================================================================\n",
       "                 coef    std err          t      P>|t|      [0.025      0.975]\n",
       "------------------------------------------------------------------------------\n",
       "Intercept      0.2414      0.006     43.680      0.000       0.231       0.252\n",
       "y              0.9573      0.001   1012.793      0.000       0.955       0.959\n",
       "==============================================================================\n",
       "Omnibus:                   244690.794   Durbin-Watson:                   1.895\n",
       "Prob(Omnibus):                  0.000   Jarque-Bera (JB):    1767166921686.468\n",
       "Skew:                        -154.327   Prob(JB):                         0.00\n",
       "Kurtosis:                   28042.007   Cond. No.                         30.8\n",
       "==============================================================================\n",
       "\n",
       "Notes:\n",
       "[1] Standard Errors assume that the covariance matrix of the errors is correctly specified.\n",
       "\"\"\""
      ]
     },
     "execution_count": 80,
     "metadata": {},
     "output_type": "execute_result"
    }
   ],
   "source": [
    "smf.ols('x ~ y', data=di).fit().summary()"
   ]
  },
  {
   "cell_type": "code",
   "execution_count": 81,
   "metadata": {},
   "outputs": [
    {
     "data": {
      "text/plain": [
       "19.999999999999982"
      ]
     },
     "execution_count": 81,
     "metadata": {},
     "output_type": "execute_result"
    }
   ],
   "source": [
    "1/(1-0.95)"
   ]
  },
  {
   "cell_type": "code",
   "execution_count": 82,
   "metadata": {},
   "outputs": [],
   "source": [
    "# Interpretation of beta coefficients\n",
    "# (intercept, slope, univariate, multivariate, using dummies)\n",
    "\n",
    "# Statistical Significance\n",
    "# (t-statistic, p-value, confidence interval)\n",
    "\n",
    "# Goodness of fit\n",
    "# (R-Squared, Adjusted R-Squared)\n",
    "\n",
    "# Fitted Values and Residuals\n",
    "# (Computed fitted values and residuals, interpretation)\n",
    "\n",
    "# Specifying Models for Forecasting\n",
    "# (Forward Selection, Backward Selection)\n",
    "\n",
    "# Specifying Models for Policy Making\n",
    "# (Identifying confounding variables;\n",
    "#  numerical and categorical;\n",
    "#  Reducing Omitted Variable Bias)"
   ]
  },
  {
   "cell_type": "code",
   "execution_count": 83,
   "metadata": {},
   "outputs": [
    {
     "data": {
      "text/html": [
       "<div>\n",
       "<style scoped>\n",
       "    .dataframe tbody tr th:only-of-type {\n",
       "        vertical-align: middle;\n",
       "    }\n",
       "\n",
       "    .dataframe tbody tr th {\n",
       "        vertical-align: top;\n",
       "    }\n",
       "\n",
       "    .dataframe thead th {\n",
       "        text-align: right;\n",
       "    }\n",
       "</style>\n",
       "<table border=\"1\" class=\"dataframe\">\n",
       "  <thead>\n",
       "    <tr style=\"text-align: right;\">\n",
       "      <th></th>\n",
       "      <th>id</th>\n",
       "      <th>zipCode</th>\n",
       "      <th>yearBuilt</th>\n",
       "      <th>price</th>\n",
       "      <th>livingSpace</th>\n",
       "      <th>lotSpace</th>\n",
       "      <th>bedrooms</th>\n",
       "      <th>bathrooms</th>\n",
       "      <th>noFloors</th>\n",
       "      <th>basement</th>\n",
       "      <th>waterfront</th>\n",
       "    </tr>\n",
       "  </thead>\n",
       "  <tbody>\n",
       "    <tr>\n",
       "      <th>0</th>\n",
       "      <td>439</td>\n",
       "      <td>98115</td>\n",
       "      <td>2000</td>\n",
       "      <td>438000</td>\n",
       "      <td>1270</td>\n",
       "      <td>1372</td>\n",
       "      <td>2</td>\n",
       "      <td>2</td>\n",
       "      <td>3</td>\n",
       "      <td>No</td>\n",
       "      <td>Yes</td>\n",
       "    </tr>\n",
       "    <tr>\n",
       "      <th>1</th>\n",
       "      <td>607</td>\n",
       "      <td>98103</td>\n",
       "      <td>2000</td>\n",
       "      <td>531000</td>\n",
       "      <td>1270</td>\n",
       "      <td>1175</td>\n",
       "      <td>2</td>\n",
       "      <td>3</td>\n",
       "      <td>2</td>\n",
       "      <td>Yes</td>\n",
       "      <td>Yes</td>\n",
       "    </tr>\n",
       "    <tr>\n",
       "      <th>2</th>\n",
       "      <td>2462</td>\n",
       "      <td>98040</td>\n",
       "      <td>2000</td>\n",
       "      <td>1700000</td>\n",
       "      <td>4930</td>\n",
       "      <td>14649</td>\n",
       "      <td>5</td>\n",
       "      <td>5</td>\n",
       "      <td>2</td>\n",
       "      <td>Yes</td>\n",
       "      <td>Yes</td>\n",
       "    </tr>\n",
       "    <tr>\n",
       "      <th>3</th>\n",
       "      <td>2748</td>\n",
       "      <td>98075</td>\n",
       "      <td>2000</td>\n",
       "      <td>726000</td>\n",
       "      <td>2970</td>\n",
       "      <td>10335</td>\n",
       "      <td>5</td>\n",
       "      <td>3</td>\n",
       "      <td>2</td>\n",
       "      <td>No</td>\n",
       "      <td>Yes</td>\n",
       "    </tr>\n",
       "    <tr>\n",
       "      <th>4</th>\n",
       "      <td>2856</td>\n",
       "      <td>98122</td>\n",
       "      <td>2000</td>\n",
       "      <td>582000</td>\n",
       "      <td>1670</td>\n",
       "      <td>1189</td>\n",
       "      <td>4</td>\n",
       "      <td>3</td>\n",
       "      <td>3</td>\n",
       "      <td>Yes</td>\n",
       "      <td>Yes</td>\n",
       "    </tr>\n",
       "  </tbody>\n",
       "</table>\n",
       "</div>"
      ],
      "text/plain": [
       "     id  zipCode  yearBuilt    price  livingSpace  lotSpace  bedrooms  \\\n",
       "0   439    98115       2000   438000         1270      1372         2   \n",
       "1   607    98103       2000   531000         1270      1175         2   \n",
       "2  2462    98040       2000  1700000         4930     14649         5   \n",
       "3  2748    98075       2000   726000         2970     10335         5   \n",
       "4  2856    98122       2000   582000         1670      1189         4   \n",
       "\n",
       "   bathrooms  noFloors basement waterfront  \n",
       "0          2         3       No        Yes  \n",
       "1          3         2      Yes        Yes  \n",
       "2          5         2      Yes        Yes  \n",
       "3          3         2       No        Yes  \n",
       "4          3         3      Yes        Yes  "
      ]
     },
     "execution_count": 83,
     "metadata": {},
     "output_type": "execute_result"
    }
   ],
   "source": [
    "he = pd.read_csv('data/housingEdited.csv')\n",
    "he.head()"
   ]
  },
  {
   "cell_type": "code",
   "execution_count": 89,
   "metadata": {},
   "outputs": [
    {
     "data": {
      "text/plain": [
       "Intercept     90699.898381\n",
       "bedrooms     162521.328288\n",
       "dtype: float64"
      ]
     },
     "execution_count": 89,
     "metadata": {},
     "output_type": "execute_result"
    }
   ],
   "source": [
    "# 1. Price = b0 + b1(Bedroooms) + Error\n",
    "\n",
    "reg1 = smf.ols('price ~ bedrooms', data=he).fit()\n",
    "reg1.params"
   ]
  },
  {
   "cell_type": "code",
   "execution_count": 93,
   "metadata": {},
   "outputs": [
    {
     "data": {
      "text/plain": [
       "415742.5549568966"
      ]
     },
     "execution_count": 93,
     "metadata": {},
     "output_type": "execute_result"
    }
   ],
   "source": [
    "reg1.params['Intercept'] + reg1.params['bedrooms'] * 2"
   ]
  },
  {
   "cell_type": "code",
   "execution_count": 94,
   "metadata": {},
   "outputs": [
    {
     "data": {
      "text/plain": [
       "Intercept          592483.809942\n",
       "basement[T.Yes]    125430.301823\n",
       "dtype: float64"
      ]
     },
     "execution_count": 94,
     "metadata": {},
     "output_type": "execute_result"
    }
   ],
   "source": [
    "# 2.\n",
    "\n",
    "reg2 = smf.ols('price ~ basement', data=he).fit()\n",
    "reg2.params"
   ]
  },
  {
   "cell_type": "code",
   "execution_count": 95,
   "metadata": {},
   "outputs": [
    {
     "data": {
      "text/plain": [
       "Intercept            653827.614786\n",
       "waterfront[T.Yes]    -39548.536355\n",
       "dtype: float64"
      ]
     },
     "execution_count": 95,
     "metadata": {},
     "output_type": "execute_result"
    }
   ],
   "source": [
    "# 3.\n",
    "\n",
    "reg3 = smf.ols('price ~ waterfront', data=he).fit()\n",
    "reg3.params"
   ]
  },
  {
   "cell_type": "code",
   "execution_count": 96,
   "metadata": {},
   "outputs": [
    {
     "data": {
      "text/plain": [
       "(0.11008418053893898, 0.010193941365298054, -0.0005987146066970261)"
      ]
     },
     "execution_count": 96,
     "metadata": {},
     "output_type": "execute_result"
    }
   ],
   "source": [
    "# 4. \n",
    "reg1.rsquared_adj, reg2.rsquared_adj, reg3.rsquared_adj"
   ]
  },
  {
   "cell_type": "code",
   "execution_count": 97,
   "metadata": {},
   "outputs": [
    {
     "data": {
      "text/plain": [
       "Intercept     84476.714191\n",
       "lotSpace          0.710279\n",
       "bedrooms     161113.991416\n",
       "dtype: float64"
      ]
     },
     "execution_count": 97,
     "metadata": {},
     "output_type": "execute_result"
    }
   ],
   "source": [
    "reg4 = smf.ols('price ~ lotSpace + bedrooms', data=he).fit()\n",
    "reg4.params"
   ]
  },
  {
   "cell_type": "code",
   "execution_count": 100,
   "metadata": {},
   "outputs": [
    {
     "data": {
      "text/plain": [
       "Intercept   -293933.941597\n",
       "lotSpace          0.338549\n",
       "bathrooms    349225.370486\n",
       "dtype: float64"
      ]
     },
     "execution_count": 100,
     "metadata": {},
     "output_type": "execute_result"
    }
   ],
   "source": [
    "reg5 = smf.ols('price ~ lotSpace + bathrooms', data=he).fit()\n",
    "reg5.params"
   ]
  },
  {
   "cell_type": "markdown",
   "metadata": {},
   "source": []
  },
  {
   "cell_type": "code",
   "execution_count": 101,
   "metadata": {},
   "outputs": [
    {
     "data": {
      "text/html": [
       "<table class=\"simpletable\">\n",
       "<caption>OLS Regression Results</caption>\n",
       "<tr>\n",
       "  <th>Dep. Variable:</th>          <td>price</td>      <th>  R-squared:         </th> <td>   0.317</td> \n",
       "</tr>\n",
       "<tr>\n",
       "  <th>Model:</th>                   <td>OLS</td>       <th>  Adj. R-squared:    </th> <td>   0.315</td> \n",
       "</tr>\n",
       "<tr>\n",
       "  <th>Method:</th>             <td>Least Squares</td>  <th>  F-statistic:       </th> <td>   118.4</td> \n",
       "</tr>\n",
       "<tr>\n",
       "  <th>Date:</th>             <td>Tue, 11 Apr 2023</td> <th>  Prob (F-statistic):</th> <td>6.05e-43</td> \n",
       "</tr>\n",
       "<tr>\n",
       "  <th>Time:</th>                 <td>14:45:54</td>     <th>  Log-Likelihood:    </th> <td> -7383.3</td> \n",
       "</tr>\n",
       "<tr>\n",
       "  <th>No. Observations:</th>      <td>   512</td>      <th>  AIC:               </th> <td>1.477e+04</td>\n",
       "</tr>\n",
       "<tr>\n",
       "  <th>Df Residuals:</th>          <td>   509</td>      <th>  BIC:               </th> <td>1.479e+04</td>\n",
       "</tr>\n",
       "<tr>\n",
       "  <th>Df Model:</th>              <td>     2</td>      <th>                     </th>     <td> </td>    \n",
       "</tr>\n",
       "<tr>\n",
       "  <th>Covariance Type:</th>      <td>nonrobust</td>    <th>                     </th>     <td> </td>    \n",
       "</tr>\n",
       "</table>\n",
       "<table class=\"simpletable\">\n",
       "<tr>\n",
       "      <td></td>         <th>coef</th>     <th>std err</th>      <th>t</th>      <th>P>|t|</th>  <th>[0.025</th>    <th>0.975]</th>  \n",
       "</tr>\n",
       "<tr>\n",
       "  <th>Intercept</th> <td>-2.939e+05</td> <td> 6.37e+04</td> <td>   -4.613</td> <td> 0.000</td> <td>-4.19e+05</td> <td>-1.69e+05</td>\n",
       "</tr>\n",
       "<tr>\n",
       "  <th>lotSpace</th>  <td>    0.3385</td> <td>    0.299</td> <td>    1.130</td> <td> 0.259</td> <td>   -0.250</td> <td>    0.927</td>\n",
       "</tr>\n",
       "<tr>\n",
       "  <th>bathrooms</th> <td> 3.492e+05</td> <td>  2.3e+04</td> <td>   15.151</td> <td> 0.000</td> <td> 3.04e+05</td> <td> 3.95e+05</td>\n",
       "</tr>\n",
       "</table>\n",
       "<table class=\"simpletable\">\n",
       "<tr>\n",
       "  <th>Omnibus:</th>       <td>445.283</td> <th>  Durbin-Watson:     </th> <td>   1.963</td> \n",
       "</tr>\n",
       "<tr>\n",
       "  <th>Prob(Omnibus):</th> <td> 0.000</td>  <th>  Jarque-Bera (JB):  </th> <td>13356.150</td>\n",
       "</tr>\n",
       "<tr>\n",
       "  <th>Skew:</th>          <td> 3.671</td>  <th>  Prob(JB):          </th> <td>    0.00</td> \n",
       "</tr>\n",
       "<tr>\n",
       "  <th>Kurtosis:</th>      <td>26.920</td>  <th>  Cond. No.          </th> <td>2.32e+05</td> \n",
       "</tr>\n",
       "</table><br/><br/>Notes:<br/>[1] Standard Errors assume that the covariance matrix of the errors is correctly specified.<br/>[2] The condition number is large, 2.32e+05. This might indicate that there are<br/>strong multicollinearity or other numerical problems."
      ],
      "text/plain": [
       "<class 'statsmodels.iolib.summary.Summary'>\n",
       "\"\"\"\n",
       "                            OLS Regression Results                            \n",
       "==============================================================================\n",
       "Dep. Variable:                  price   R-squared:                       0.317\n",
       "Model:                            OLS   Adj. R-squared:                  0.315\n",
       "Method:                 Least Squares   F-statistic:                     118.4\n",
       "Date:                Tue, 11 Apr 2023   Prob (F-statistic):           6.05e-43\n",
       "Time:                        14:45:54   Log-Likelihood:                -7383.3\n",
       "No. Observations:                 512   AIC:                         1.477e+04\n",
       "Df Residuals:                     509   BIC:                         1.479e+04\n",
       "Df Model:                           2                                         \n",
       "Covariance Type:            nonrobust                                         \n",
       "==============================================================================\n",
       "                 coef    std err          t      P>|t|      [0.025      0.975]\n",
       "------------------------------------------------------------------------------\n",
       "Intercept  -2.939e+05   6.37e+04     -4.613      0.000   -4.19e+05   -1.69e+05\n",
       "lotSpace       0.3385      0.299      1.130      0.259      -0.250       0.927\n",
       "bathrooms   3.492e+05    2.3e+04     15.151      0.000    3.04e+05    3.95e+05\n",
       "==============================================================================\n",
       "Omnibus:                      445.283   Durbin-Watson:                   1.963\n",
       "Prob(Omnibus):                  0.000   Jarque-Bera (JB):            13356.150\n",
       "Skew:                           3.671   Prob(JB):                         0.00\n",
       "Kurtosis:                      26.920   Cond. No.                     2.32e+05\n",
       "==============================================================================\n",
       "\n",
       "Notes:\n",
       "[1] Standard Errors assume that the covariance matrix of the errors is correctly specified.\n",
       "[2] The condition number is large, 2.32e+05. This might indicate that there are\n",
       "strong multicollinearity or other numerical problems.\n",
       "\"\"\""
      ]
     },
     "execution_count": 101,
     "metadata": {},
     "output_type": "execute_result"
    }
   ],
   "source": [
    "reg5.summary()"
   ]
  },
  {
   "cell_type": "code",
   "execution_count": 102,
   "metadata": {},
   "outputs": [
    {
     "data": {
      "text/plain": [
       "0.3148040964826513"
      ]
     },
     "execution_count": 102,
     "metadata": {},
     "output_type": "execute_result"
    }
   ],
   "source": [
    "reg5.rsquared_adj"
   ]
  },
  {
   "cell_type": "code",
   "execution_count": 107,
   "metadata": {},
   "outputs": [
    {
     "data": {
      "text/plain": [
       "-8.230927051045001e-10"
      ]
     },
     "execution_count": 107,
     "metadata": {},
     "output_type": "execute_result"
    }
   ],
   "source": [
    "reg5.resid.mean()"
   ]
  },
  {
   "cell_type": "code",
   "execution_count": 106,
   "metadata": {},
   "outputs": [
    {
     "data": {
      "text/plain": [
       "-53107.31322805444"
      ]
     },
     "execution_count": 106,
     "metadata": {},
     "output_type": "execute_result"
    }
   ],
   "source": [
    "reg5.resid.median()"
   ]
  },
  {
   "cell_type": "code",
   "execution_count": 110,
   "metadata": {},
   "outputs": [
    {
     "data": {
      "text/plain": [
       "634130.5898437508"
      ]
     },
     "execution_count": 110,
     "metadata": {},
     "output_type": "execute_result"
    }
   ],
   "source": [
    "reg5.fittedvalues.mean()"
   ]
  },
  {
   "cell_type": "code",
   "execution_count": null,
   "metadata": {},
   "outputs": [],
   "source": []
  }
 ],
 "metadata": {
  "kernelspec": {
   "display_name": "base",
   "language": "python",
   "name": "python3"
  },
  "language_info": {
   "codemirror_mode": {
    "name": "ipython",
    "version": 3
   },
   "file_extension": ".py",
   "mimetype": "text/x-python",
   "name": "python",
   "nbconvert_exporter": "python",
   "pygments_lexer": "ipython3",
   "version": "3.9.15"
  },
  "orig_nbformat": 4,
  "vscode": {
   "interpreter": {
    "hash": "8f807fda92f20a86fe0cf9a7fb20f5cc46478756bf29c3db068708b68d71bcd3"
   }
  }
 },
 "nbformat": 4,
 "nbformat_minor": 2
}
